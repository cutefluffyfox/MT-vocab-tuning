{
 "cells": [
  {
   "cell_type": "code",
   "execution_count": 1,
   "id": "bf2378f5",
   "metadata": {},
   "outputs": [],
   "source": [
    "import os\n",
    "import sys\n",
    "\n",
    "# change to upper dir to use all custom libs (won't be needed if run from main scripts)\n",
    "sys.path.insert(1, os.path.join(sys.path[0], '..'))"
   ]
  },
  {
   "cell_type": "code",
   "execution_count": 2,
   "id": "dd7037db",
   "metadata": {},
   "outputs": [],
   "source": [
    "from scripts.helpers import dataset_manager"
   ]
  },
  {
   "cell_type": "markdown",
   "id": "fdbcdaec",
   "metadata": {},
   "source": [
    "### Aigizk - Tatar parallel corpus\n",
    "\n",
    "> Size: 162_000 \\\n",
    "> Direction: tt-ru \\\n",
    "> Link: https://huggingface.co/datasets/AigizK/tatar-russian-parallel-corpora\n"
   ]
  },
  {
   "cell_type": "code",
   "execution_count": 3,
   "id": "0c7cc989",
   "metadata": {},
   "outputs": [],
   "source": [
    "ds = dataset_manager.HFDataset('tt-ru', 'tatar-parallel-162k')\n",
    "ds.download_parquet(\"hf://datasets/AigizK/tatar-russian-parallel-corpora/data/train-00000-of-00001.parquet\")"
   ]
  },
  {
   "cell_type": "markdown",
   "id": "c0e9a40c",
   "metadata": {},
   "source": [
    "### IPSAN - Tatar translation dataset (v1)\n",
    "\n",
    "> Size: 400_000 \\\n",
    "> Direction: tt-ru \\\n",
    "> Link: https://huggingface.co/datasets/IPSAN/tatar_translation_dataset\n"
   ]
  },
  {
   "cell_type": "code",
   "execution_count": 4,
   "id": "aebb0542",
   "metadata": {},
   "outputs": [],
   "source": [
    "ds = dataset_manager.HFDataset('tt-ru', 'ipsan.tatar-parallel-400k')\n",
    "ds.download_json(\"hf://datasets/IPSAN/tatar_translation_dataset/train.json\")"
   ]
  },
  {
   "cell_type": "markdown",
   "id": "5f355c79",
   "metadata": {},
   "source": [
    "### IPSAN - Tatar translation dataset (v2)\n",
    "\n",
    "> Size: 1_000_000 \\\n",
    "> Direction: tt-ru \\\n",
    "> Link: https://huggingface.co/datasets/IPSAN/tatar_translation_dataset_1m\n",
    "\n",
    "**<span style=\"color:red\">This dataset is NON-PUBLIC. Authorize via `huggingface-cli login` first</span>**."
   ]
  },
  {
   "cell_type": "code",
   "execution_count": 5,
   "id": "169dde79",
   "metadata": {},
   "outputs": [],
   "source": [
    "# =========================================\n",
    "#         TODO: wait for approval\n",
    "# ========================================="
   ]
  },
  {
   "cell_type": "markdown",
   "id": "e12ebf95",
   "metadata": {},
   "source": [
    "### Flores+ (dev)\n",
    "\n",
    "> Size: 997 \\\n",
    "> Direction: ru-tt \\\n",
    "> Link: https://github.com/openlanguagedata/flores\n"
   ]
  },
  {
   "cell_type": "code",
   "execution_count": 6,
   "id": "1fc1ee9a",
   "metadata": {},
   "outputs": [],
   "source": [
    "ds = dataset_manager.FloresDataset('tt-ru', 'flores-dev')\n",
    "ds.download_from_github('dev', ['tat_Cyrl', 'rus_Cyrl'])"
   ]
  },
  {
   "cell_type": "markdown",
   "id": "927c734f",
   "metadata": {},
   "source": [
    "### Flores+ (devtest)\n",
    "\n",
    "> Size: 1012 \\\n",
    "> Direction: ru-tt \\\n",
    "> Link: https://github.com/openlanguagedata/flores\n"
   ]
  },
  {
   "cell_type": "code",
   "execution_count": 7,
   "id": "54e97720",
   "metadata": {},
   "outputs": [],
   "source": [
    "ds = dataset_manager.FloresDataset('tt-ru', 'flores-devtest')\n",
    "ds.download_from_github('devtest', ['tat_Cyrl', 'rus_Cyrl'])"
   ]
  },
  {
   "cell_type": "markdown",
   "id": "27bbed11",
   "metadata": {},
   "source": [
    "### neurotatarlar - tt-ru language corpus\n",
    "\n",
    "> Size: 105 \\\n",
    "> Direction: tt-ru \\\n",
    "> Link: https://huggingface.co/datasets/neurotatarlar/tt-ru-language-corpus\n"
   ]
  },
  {
   "cell_type": "code",
   "execution_count": 8,
   "id": "17dffa35",
   "metadata": {},
   "outputs": [],
   "source": [
    "ds = dataset_manager.HFDataset('tt-ru', 'tatar-language-corpus-105')\n",
    "ds.download_parquet(\"hf://datasets/neurotatarlar/tt-ru-language-corpus/train/2dt/2dt-noisy.parquet\")"
   ]
  },
  {
   "cell_type": "code",
   "execution_count": null,
   "id": "9f4540a3",
   "metadata": {},
   "outputs": [],
   "source": []
  },
  {
   "cell_type": "code",
   "execution_count": null,
   "id": "4a3f604e",
   "metadata": {},
   "outputs": [],
   "source": []
  },
  {
   "cell_type": "code",
   "execution_count": null,
   "id": "d1f21d6a",
   "metadata": {},
   "outputs": [],
   "source": []
  },
  {
   "cell_type": "code",
   "execution_count": null,
   "id": "89283224",
   "metadata": {},
   "outputs": [],
   "source": []
  }
 ],
 "metadata": {
  "kernelspec": {
   "display_name": "Python 3 (ipykernel)",
   "language": "python",
   "name": "python3"
  },
  "language_info": {
   "codemirror_mode": {
    "name": "ipython",
    "version": 3
   },
   "file_extension": ".py",
   "mimetype": "text/x-python",
   "name": "python",
   "nbconvert_exporter": "python",
   "pygments_lexer": "ipython3",
   "version": "3.9.6"
  }
 },
 "nbformat": 4,
 "nbformat_minor": 5
}
