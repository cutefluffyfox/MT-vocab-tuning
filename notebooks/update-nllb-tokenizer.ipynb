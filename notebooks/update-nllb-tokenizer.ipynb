{
 "cells": [
  {
   "cell_type": "code",
   "execution_count": 1,
   "id": "1aa51157",
   "metadata": {},
   "outputs": [],
   "source": [
    "import os\n",
    "import sys\n",
    "\n",
    "# change to upper dir to use all custom libs (won't be needed if run from main scripts)\n",
    "sys.path.insert(1, os.path.join(sys.path[0], '..'))"
   ]
  },
  {
   "cell_type": "code",
   "execution_count": 2,
   "id": "8460ec70",
   "metadata": {},
   "outputs": [],
   "source": [
    "from scripts.helpers.dataset_manager import HFDataset\n",
    "import pandas as pd\n",
    "\n",
    "# tt_ru = HFDataset('tat-ru', 'tatar-parallel-162k').get_df()\n",
    "mhr_ru = HFDataset('mhr-ru', 'mari-parallel-413k').get_df()"
   ]
  },
  {
   "cell_type": "code",
   "execution_count": 3,
   "id": "b9a116fe",
   "metadata": {},
   "outputs": [
    {
     "name": "stderr",
     "output_type": "stream",
     "text": [
      "100%|███████████████████████████████████████████████████████████████████████| 401446/401446 [00:26<00:00, 15374.40it/s]\n"
     ]
    },
    {
     "name": "stdout",
     "output_type": "stream",
     "text": [
      "Old tokenizer length: 256204\n",
      "New tokenizer length: 270614\n",
      "Code of `mhr_Cyrl`: 270530\n",
      "Code of `<mask>`: 270411\n",
      "Decoded `mhr_Cyrl` and `<mask>`: ['mhr_Cyrl', '<mask>']\n"
     ]
    }
   ],
   "source": [
    "from scripts.helpers.tokenizer_manager import add_new_full_language\n",
    "\n",
    "tokenizer = add_new_full_language(model_name='facebook/nllb-200-distilled-1.3B', data=mhr_ru, lang='mhr')"
   ]
  },
  {
   "cell_type": "code",
   "execution_count": 4,
   "id": "e5e45723",
   "metadata": {},
   "outputs": [
    {
     "name": "stderr",
     "output_type": "stream",
     "text": [
      "C:\\Users\\cutefluffyfox\\AppData\\Local\\Programs\\Python\\Python39\\lib\\site-packages\\torch\\_utils.py:831: UserWarning: TypedStorage is deprecated. It will be removed in the future and UntypedStorage will be the only storage class. This should only matter to you if you are using storages directly.  To access UntypedStorage directly, use tensor.untyped_storage() instead of tensor.storage()\n",
      "  return self.fget.__get__(instance, owner)()\n"
     ]
    },
    {
     "data": {
      "application/vnd.jupyter.widget-view+json": {
       "model_id": "ad516519c4da482aa895bad8d1e20351",
       "version_major": 2,
       "version_minor": 0
      },
      "text/plain": [
       "model.safetensors:  85%|########5 | 4.68G/5.48G [00:00<?, ?B/s]"
      ]
     },
     "metadata": {},
     "output_type": "display_data"
    }
   ],
   "source": [
    "from scripts.helpers.model_manager import NLLB200Model\n",
    "\n",
    "nllb = NLLB200Model()"
   ]
  },
  {
   "cell_type": "code",
   "execution_count": null,
   "id": "fcecd9d3",
   "metadata": {},
   "outputs": [],
   "source": []
  },
  {
   "cell_type": "code",
   "execution_count": null,
   "id": "5a12dba1",
   "metadata": {},
   "outputs": [],
   "source": []
  },
  {
   "cell_type": "code",
   "execution_count": null,
   "id": "46f3f156",
   "metadata": {},
   "outputs": [],
   "source": []
  },
  {
   "cell_type": "code",
   "execution_count": null,
   "id": "8f06149e",
   "metadata": {},
   "outputs": [],
   "source": []
  },
  {
   "cell_type": "code",
   "execution_count": null,
   "id": "945324c4",
   "metadata": {},
   "outputs": [],
   "source": []
  },
  {
   "cell_type": "code",
   "execution_count": null,
   "id": "0c837ea8",
   "metadata": {},
   "outputs": [],
   "source": []
  },
  {
   "cell_type": "code",
   "execution_count": null,
   "id": "ef358074",
   "metadata": {},
   "outputs": [],
   "source": []
  },
  {
   "cell_type": "code",
   "execution_count": null,
   "id": "73e1b92d",
   "metadata": {},
   "outputs": [],
   "source": []
  },
  {
   "cell_type": "code",
   "execution_count": null,
   "id": "7ebad43b",
   "metadata": {},
   "outputs": [],
   "source": []
  },
  {
   "cell_type": "code",
   "execution_count": null,
   "id": "d7ae649d",
   "metadata": {},
   "outputs": [],
   "source": []
  },
  {
   "cell_type": "code",
   "execution_count": null,
   "id": "6e47e956",
   "metadata": {},
   "outputs": [],
   "source": []
  }
 ],
 "metadata": {
  "kernelspec": {
   "display_name": "Python 3 (ipykernel)",
   "language": "python",
   "name": "python3"
  },
  "language_info": {
   "codemirror_mode": {
    "name": "ipython",
    "version": 3
   },
   "file_extension": ".py",
   "mimetype": "text/x-python",
   "name": "python",
   "nbconvert_exporter": "python",
   "pygments_lexer": "ipython3",
   "version": "3.9.6"
  }
 },
 "nbformat": 4,
 "nbformat_minor": 5
}
