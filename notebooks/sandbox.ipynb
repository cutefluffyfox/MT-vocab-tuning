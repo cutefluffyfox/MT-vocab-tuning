{
 "cells": [
  {
   "cell_type": "code",
   "execution_count": 1,
   "id": "9a28d2f6",
   "metadata": {},
   "outputs": [],
   "source": [
    "import os\n",
    "import sys\n",
    "\n",
    "# change to upper dir to use all custom libs (won't be needed if run from main scripts)\n",
    "sys.path.insert(1, os.path.join(sys.path[0], '..'))"
   ]
  },
  {
   "cell_type": "code",
   "execution_count": 9,
   "id": "ce710756",
   "metadata": {},
   "outputs": [
    {
     "name": "stderr",
     "output_type": "stream",
     "text": [
      "Using the latest cached version of the module from C:\\Users\\cutefluffyfox\\.cache\\huggingface\\modules\\evaluate_modules\\metrics\\evaluate-metric--bleu\\9e0985c1200e367cce45605ce0ecb5ede079894e0f24f54613fca08eeb8aff76 (last modified on Tue Nov  5 05:51:14 2024) since it couldn't be found locally at evaluate-metric--bleu, or remotely on the Hugging Face Hub.\n"
     ]
    },
    {
     "ename": "TypeError",
     "evalue": "<lambda>() takes 1 positional argument but 5 were given",
     "output_type": "error",
     "traceback": [
      "\u001b[1;31m---------------------------------------------------------------------------\u001b[0m",
      "\u001b[1;31mTypeError\u001b[0m                                 Traceback (most recent call last)",
      "Cell \u001b[1;32mIn[9], line 11\u001b[0m\n\u001b[0;32m      6\u001b[0m translations \u001b[38;5;241m=\u001b[39m [\u001b[38;5;124m'\u001b[39m\u001b[38;5;124mу меня депрессия, я очень очень устала\u001b[39m\u001b[38;5;124m'\u001b[39m] \u001b[38;5;241m*\u001b[39m \u001b[38;5;241m5\u001b[39m\n\u001b[0;32m      8\u001b[0m \u001b[38;5;66;03m# help(metric.compute)  # \u001b[39;00m\n\u001b[0;32m      9\u001b[0m \u001b[38;5;66;03m# metric.compute(predictions=targets, references=translations)\u001b[39;00m\n\u001b[1;32m---> 11\u001b[0m \u001b[43mbootstrap\u001b[49m\u001b[43m(\u001b[49m\u001b[38;5;28;43mlist\u001b[39;49m\u001b[43m(\u001b[49m\u001b[38;5;28;43mzip\u001b[39;49m\u001b[43m(\u001b[49m\u001b[43mtargets\u001b[49m\u001b[43m,\u001b[49m\u001b[43m \u001b[49m\u001b[43mtranslations\u001b[49m\u001b[43m)\u001b[49m\u001b[43m)\u001b[49m\u001b[43m,\u001b[49m\u001b[43m \u001b[49m\u001b[38;5;28;43;01mlambda\u001b[39;49;00m\u001b[43m \u001b[49m\u001b[43ma\u001b[49m\u001b[43m:\u001b[49m\u001b[43m \u001b[49m\u001b[38;5;28;43mlen\u001b[39;49m\u001b[43m(\u001b[49m\u001b[43ma\u001b[49m\u001b[43m)\u001b[49m\u001b[43m)\u001b[49m\n",
      "File \u001b[1;32m~\\AppData\\Local\\Programs\\Python\\Python39\\lib\\site-packages\\scipy\\stats\\_resampling.py:630\u001b[0m, in \u001b[0;36mbootstrap\u001b[1;34m(data, statistic, n_resamples, batch, vectorized, paired, axis, confidence_level, alternative, method, bootstrap_result, random_state)\u001b[0m\n\u001b[0;32m    627\u001b[0m         resampled_data\u001b[38;5;241m.\u001b[39mappend(resample)\n\u001b[0;32m    629\u001b[0m     \u001b[38;5;66;03m# Compute bootstrap distribution of statistic\u001b[39;00m\n\u001b[1;32m--> 630\u001b[0m     theta_hat_b\u001b[38;5;241m.\u001b[39mappend(\u001b[43mstatistic\u001b[49m\u001b[43m(\u001b[49m\u001b[38;5;241;43m*\u001b[39;49m\u001b[43mresampled_data\u001b[49m\u001b[43m,\u001b[49m\u001b[43m \u001b[49m\u001b[43maxis\u001b[49m\u001b[38;5;241;43m=\u001b[39;49m\u001b[38;5;241;43m-\u001b[39;49m\u001b[38;5;241;43m1\u001b[39;49m\u001b[43m)\u001b[49m)\n\u001b[0;32m    631\u001b[0m theta_hat_b \u001b[38;5;241m=\u001b[39m np\u001b[38;5;241m.\u001b[39mconcatenate(theta_hat_b, axis\u001b[38;5;241m=\u001b[39m\u001b[38;5;241m-\u001b[39m\u001b[38;5;241m1\u001b[39m)\n\u001b[0;32m    633\u001b[0m \u001b[38;5;66;03m# Calculate percentile interval\u001b[39;00m\n",
      "File \u001b[1;32m~\\AppData\\Local\\Programs\\Python\\Python39\\lib\\site-packages\\scipy\\stats\\_resampling.py:38\u001b[0m, in \u001b[0;36m_vectorize_statistic.<locals>.stat_nd\u001b[1;34m(axis, *data)\u001b[0m\n\u001b[0;32m     35\u001b[0m     data \u001b[38;5;241m=\u001b[39m np\u001b[38;5;241m.\u001b[39msplit(z, split_indices)\n\u001b[0;32m     36\u001b[0m     \u001b[38;5;28;01mreturn\u001b[39;00m statistic(\u001b[38;5;241m*\u001b[39mdata)\n\u001b[1;32m---> 38\u001b[0m \u001b[38;5;28;01mreturn\u001b[39;00m \u001b[43mnp\u001b[49m\u001b[38;5;241;43m.\u001b[39;49m\u001b[43mapply_along_axis\u001b[49m\u001b[43m(\u001b[49m\u001b[43mstat_1d\u001b[49m\u001b[43m,\u001b[49m\u001b[43m \u001b[49m\u001b[38;5;241;43m0\u001b[39;49m\u001b[43m,\u001b[49m\u001b[43m \u001b[49m\u001b[43mz\u001b[49m\u001b[43m)\u001b[49m[()]\n",
      "File \u001b[1;32m<__array_function__ internals>:180\u001b[0m, in \u001b[0;36mapply_along_axis\u001b[1;34m(*args, **kwargs)\u001b[0m\n",
      "File \u001b[1;32m~\\AppData\\Local\\Programs\\Python\\Python39\\lib\\site-packages\\numpy\\lib\\shape_base.py:379\u001b[0m, in \u001b[0;36mapply_along_axis\u001b[1;34m(func1d, axis, arr, *args, **kwargs)\u001b[0m\n\u001b[0;32m    375\u001b[0m \u001b[38;5;28;01mexcept\u001b[39;00m \u001b[38;5;167;01mStopIteration\u001b[39;00m \u001b[38;5;28;01mas\u001b[39;00m e:\n\u001b[0;32m    376\u001b[0m     \u001b[38;5;28;01mraise\u001b[39;00m \u001b[38;5;167;01mValueError\u001b[39;00m(\n\u001b[0;32m    377\u001b[0m         \u001b[38;5;124m'\u001b[39m\u001b[38;5;124mCannot apply_along_axis when any iteration dimensions are 0\u001b[39m\u001b[38;5;124m'\u001b[39m\n\u001b[0;32m    378\u001b[0m     ) \u001b[38;5;28;01mfrom\u001b[39;00m \u001b[38;5;28mNone\u001b[39m\n\u001b[1;32m--> 379\u001b[0m res \u001b[38;5;241m=\u001b[39m asanyarray(func1d(inarr_view[ind0], \u001b[38;5;241m*\u001b[39margs, \u001b[38;5;241m*\u001b[39m\u001b[38;5;241m*\u001b[39mkwargs))\n\u001b[0;32m    381\u001b[0m \u001b[38;5;66;03m# build a buffer for storing evaluations of func1d.\u001b[39;00m\n\u001b[0;32m    382\u001b[0m \u001b[38;5;66;03m# remove the requested axis, and add the new ones on the end.\u001b[39;00m\n\u001b[0;32m    383\u001b[0m \u001b[38;5;66;03m# laid out so that each write is contiguous.\u001b[39;00m\n\u001b[0;32m    384\u001b[0m \u001b[38;5;66;03m# for a tuple index inds, buff[inds] = func1d(inarr_view[inds])\u001b[39;00m\n\u001b[0;32m    385\u001b[0m buff \u001b[38;5;241m=\u001b[39m zeros(inarr_view\u001b[38;5;241m.\u001b[39mshape[:\u001b[38;5;241m-\u001b[39m\u001b[38;5;241m1\u001b[39m] \u001b[38;5;241m+\u001b[39m res\u001b[38;5;241m.\u001b[39mshape, res\u001b[38;5;241m.\u001b[39mdtype)\n",
      "File \u001b[1;32m~\\AppData\\Local\\Programs\\Python\\Python39\\lib\\site-packages\\scipy\\stats\\_resampling.py:36\u001b[0m, in \u001b[0;36m_vectorize_statistic.<locals>.stat_nd.<locals>.stat_1d\u001b[1;34m(z)\u001b[0m\n\u001b[0;32m     34\u001b[0m \u001b[38;5;28;01mdef\u001b[39;00m \u001b[38;5;21mstat_1d\u001b[39m(z):\n\u001b[0;32m     35\u001b[0m     data \u001b[38;5;241m=\u001b[39m np\u001b[38;5;241m.\u001b[39msplit(z, split_indices)\n\u001b[1;32m---> 36\u001b[0m     \u001b[38;5;28;01mreturn\u001b[39;00m \u001b[43mstatistic\u001b[49m\u001b[43m(\u001b[49m\u001b[38;5;241;43m*\u001b[39;49m\u001b[43mdata\u001b[49m\u001b[43m)\u001b[49m\n",
      "\u001b[1;31mTypeError\u001b[0m: <lambda>() takes 1 positional argument but 5 were given"
     ]
    }
   ],
   "source": [
    "import evaluate\n",
    "from scipy.stats import bootstrap\n",
    "metric = evaluate.load('bleu')\n",
    "\n",
    "targets = ['у меня депрессия, я очень сильно устала'] * 5\n",
    "translations = ['у меня депрессия, я очень очень устала'] * 5\n",
    "\n",
    "# help(metric.compute)  # \n",
    "# metric.compute(predictions=targets, references=translations)\n",
    "\n",
    "bootstrap(list(zip(targets, translations)), lambda a: len(a))"
   ]
  },
  {
   "cell_type": "code",
   "execution_count": 18,
   "id": "a07af640",
   "metadata": {},
   "outputs": [
    {
     "name": "stderr",
     "output_type": "stream",
     "text": [
      "C:\\Users\\cutefluffyfox\\AppData\\Local\\Programs\\Python\\Python39\\lib\\site-packages\\urllib3\\connectionpool.py:1045: InsecureRequestWarning: Unverified HTTPS request is being made to host 'tugantel.tatar'. Adding certificate verification is strongly advised. See: https://urllib3.readthedocs.io/en/1.26.x/advanced-usage.html#ssl-warnings\n",
      "  warnings.warn(\n"
     ]
    },
    {
     "data": {
      "text/plain": [
       "<Response [200]>"
      ]
     },
     "execution_count": 18,
     "metadata": {},
     "output_type": "execute_result"
    }
   ],
   "source": [
    "import requests\n",
    "\n",
    "res = requests.post('https://tugantel.tatar/new2022/morph', data={'text': 'кайчандыр'},  verify=False)\n",
    "res"
   ]
  },
  {
   "cell_type": "code",
   "execution_count": 24,
   "id": "199c6684",
   "metadata": {},
   "outputs": [],
   "source": [
    "with open('sandbox.html', 'wb') as file:\n",
    "    file.write(res.content)"
   ]
  },
  {
   "cell_type": "code",
   "execution_count": 27,
   "id": "d999f4ca",
   "metadata": {},
   "outputs": [
    {
     "data": {
      "text/plain": [
       "(0.9199126193417432, 2.280087380658257)"
      ]
     },
     "execution_count": 27,
     "metadata": {},
     "output_type": "execute_result"
    }
   ],
   "source": [
    "a = [1, 2, 2, 2, 1]\n",
    "\n",
    "st.t.interval(0.95, len(a)-1, loc=np.mean(a), scale=st.sem(a))"
   ]
  },
  {
   "cell_type": "code",
   "execution_count": 13,
   "id": "a234c257",
   "metadata": {},
   "outputs": [
    {
     "name": "stderr",
     "output_type": "stream",
     "text": [
      "Device set to use cuda:0\n"
     ]
    },
    {
     "data": {
      "text/plain": [
       "[{'label': 'LABEL_1', 'score': 0.9966636300086975},\n",
       " {'label': 'LABEL_1', 'score': 0.9844619035720825},\n",
       " {'label': 'LABEL_1', 'score': 0.9966636300086975},\n",
       " {'label': 'LABEL_1', 'score': 0.9844619035720825},\n",
       " {'label': 'LABEL_1', 'score': 0.9966636300086975},\n",
       " {'label': 'LABEL_1', 'score': 0.9844619035720825},\n",
       " {'label': 'LABEL_1', 'score': 0.9966636300086975},\n",
       " {'label': 'LABEL_1', 'score': 0.9844619035720825},\n",
       " {'label': 'LABEL_1', 'score': 0.9966636300086975},\n",
       " {'label': 'LABEL_1', 'score': 0.9844619035720825},\n",
       " {'label': 'LABEL_1', 'score': 0.9966636300086975},\n",
       " {'label': 'LABEL_1', 'score': 0.9844619035720825},\n",
       " {'label': 'LABEL_1', 'score': 0.9966636300086975},\n",
       " {'label': 'LABEL_1', 'score': 0.9844619035720825},\n",
       " {'label': 'LABEL_1', 'score': 0.9966636300086975},\n",
       " {'label': 'LABEL_1', 'score': 0.9844619035720825},\n",
       " {'label': 'LABEL_1', 'score': 0.9966636300086975},\n",
       " {'label': 'LABEL_1', 'score': 0.9844619035720825},\n",
       " {'label': 'LABEL_1', 'score': 0.9966636300086975},\n",
       " {'label': 'LABEL_1', 'score': 0.9844619035720825},\n",
       " {'label': 'LABEL_1', 'score': 0.9966636300086975},\n",
       " {'label': 'LABEL_1', 'score': 0.9844619035720825},\n",
       " {'label': 'LABEL_1', 'score': 0.9966636300086975},\n",
       " {'label': 'LABEL_1', 'score': 0.9844619035720825},\n",
       " {'label': 'LABEL_1', 'score': 0.9966636300086975},\n",
       " {'label': 'LABEL_1', 'score': 0.9844619035720825},\n",
       " {'label': 'LABEL_1', 'score': 0.9966636300086975},\n",
       " {'label': 'LABEL_1', 'score': 0.9844619035720825},\n",
       " {'label': 'LABEL_1', 'score': 0.9966636300086975},\n",
       " {'label': 'LABEL_1', 'score': 0.9844619035720825},\n",
       " {'label': 'LABEL_1', 'score': 0.9966636300086975},\n",
       " {'label': 'LABEL_1', 'score': 0.9844619035720825},\n",
       " {'label': 'LABEL_1', 'score': 0.9966636300086975},\n",
       " {'label': 'LABEL_1', 'score': 0.9844619035720825},\n",
       " {'label': 'LABEL_1', 'score': 0.9966636300086975},\n",
       " {'label': 'LABEL_1', 'score': 0.9844619035720825},\n",
       " {'label': 'LABEL_1', 'score': 0.9966636300086975},\n",
       " {'label': 'LABEL_1', 'score': 0.9844619035720825},\n",
       " {'label': 'LABEL_1', 'score': 0.9966636300086975},\n",
       " {'label': 'LABEL_1', 'score': 0.9844619035720825},\n",
       " {'label': 'LABEL_1', 'score': 0.9966636300086975},\n",
       " {'label': 'LABEL_1', 'score': 0.9844619035720825},\n",
       " {'label': 'LABEL_1', 'score': 0.9966636300086975},\n",
       " {'label': 'LABEL_1', 'score': 0.9844619035720825},\n",
       " {'label': 'LABEL_1', 'score': 0.9966636300086975},\n",
       " {'label': 'LABEL_1', 'score': 0.9844619035720825},\n",
       " {'label': 'LABEL_1', 'score': 0.9966636300086975},\n",
       " {'label': 'LABEL_1', 'score': 0.9844619035720825},\n",
       " {'label': 'LABEL_1', 'score': 0.9966636300086975},\n",
       " {'label': 'LABEL_1', 'score': 0.9844619035720825},\n",
       " {'label': 'LABEL_1', 'score': 0.9966636300086975},\n",
       " {'label': 'LABEL_1', 'score': 0.9844619035720825},\n",
       " {'label': 'LABEL_1', 'score': 0.9966636300086975},\n",
       " {'label': 'LABEL_1', 'score': 0.9844619035720825},\n",
       " {'label': 'LABEL_1', 'score': 0.9966636300086975},\n",
       " {'label': 'LABEL_1', 'score': 0.9844619035720825},\n",
       " {'label': 'LABEL_1', 'score': 0.9966636300086975},\n",
       " {'label': 'LABEL_1', 'score': 0.9844619035720825},\n",
       " {'label': 'LABEL_1', 'score': 0.9966636300086975},\n",
       " {'label': 'LABEL_1', 'score': 0.9844619035720825},\n",
       " {'label': 'LABEL_1', 'score': 0.9966636300086975},\n",
       " {'label': 'LABEL_1', 'score': 0.9844619035720825},\n",
       " {'label': 'LABEL_1', 'score': 0.9966636300086975},\n",
       " {'label': 'LABEL_1', 'score': 0.9844619035720825},\n",
       " {'label': 'LABEL_1', 'score': 0.9966636300086975},\n",
       " {'label': 'LABEL_1', 'score': 0.9844619035720825},\n",
       " {'label': 'LABEL_1', 'score': 0.9966636300086975},\n",
       " {'label': 'LABEL_1', 'score': 0.9844619035720825},\n",
       " {'label': 'LABEL_1', 'score': 0.9966636300086975},\n",
       " {'label': 'LABEL_1', 'score': 0.9844619035720825},\n",
       " {'label': 'LABEL_1', 'score': 0.9966636300086975},\n",
       " {'label': 'LABEL_1', 'score': 0.9844619035720825},\n",
       " {'label': 'LABEL_1', 'score': 0.9966636300086975},\n",
       " {'label': 'LABEL_1', 'score': 0.9844619035720825},\n",
       " {'label': 'LABEL_1', 'score': 0.9966636300086975},\n",
       " {'label': 'LABEL_1', 'score': 0.9844619035720825},\n",
       " {'label': 'LABEL_1', 'score': 0.9966636300086975},\n",
       " {'label': 'LABEL_1', 'score': 0.9844619035720825},\n",
       " {'label': 'LABEL_1', 'score': 0.9966636300086975},\n",
       " {'label': 'LABEL_1', 'score': 0.9844619035720825},\n",
       " {'label': 'LABEL_1', 'score': 0.9966636300086975},\n",
       " {'label': 'LABEL_1', 'score': 0.9844619035720825},\n",
       " {'label': 'LABEL_1', 'score': 0.9966636300086975},\n",
       " {'label': 'LABEL_1', 'score': 0.9844619035720825},\n",
       " {'label': 'LABEL_1', 'score': 0.9966636300086975},\n",
       " {'label': 'LABEL_1', 'score': 0.9844619035720825},\n",
       " {'label': 'LABEL_1', 'score': 0.9966636300086975},\n",
       " {'label': 'LABEL_1', 'score': 0.9844619035720825},\n",
       " {'label': 'LABEL_1', 'score': 0.9966636300086975},\n",
       " {'label': 'LABEL_1', 'score': 0.9844619035720825},\n",
       " {'label': 'LABEL_1', 'score': 0.9966636300086975},\n",
       " {'label': 'LABEL_1', 'score': 0.9844619035720825},\n",
       " {'label': 'LABEL_1', 'score': 0.9966636300086975},\n",
       " {'label': 'LABEL_1', 'score': 0.9844619035720825},\n",
       " {'label': 'LABEL_1', 'score': 0.9966636300086975},\n",
       " {'label': 'LABEL_1', 'score': 0.9844619035720825},\n",
       " {'label': 'LABEL_1', 'score': 0.9966636300086975},\n",
       " {'label': 'LABEL_1', 'score': 0.9844619035720825},\n",
       " {'label': 'LABEL_1', 'score': 0.9966636300086975},\n",
       " {'label': 'LABEL_1', 'score': 0.9844619035720825},\n",
       " {'label': 'LABEL_1', 'score': 0.9966636300086975},\n",
       " {'label': 'LABEL_1', 'score': 0.9844619035720825},\n",
       " {'label': 'LABEL_1', 'score': 0.9966636300086975},\n",
       " {'label': 'LABEL_1', 'score': 0.9844619035720825},\n",
       " {'label': 'LABEL_1', 'score': 0.9966636300086975},\n",
       " {'label': 'LABEL_1', 'score': 0.9844619035720825},\n",
       " {'label': 'LABEL_1', 'score': 0.9966636300086975},\n",
       " {'label': 'LABEL_1', 'score': 0.9844619035720825},\n",
       " {'label': 'LABEL_1', 'score': 0.9966636300086975},\n",
       " {'label': 'LABEL_1', 'score': 0.9844619035720825},\n",
       " {'label': 'LABEL_1', 'score': 0.9966636300086975},\n",
       " {'label': 'LABEL_1', 'score': 0.9844619035720825},\n",
       " {'label': 'LABEL_1', 'score': 0.9966636300086975},\n",
       " {'label': 'LABEL_1', 'score': 0.9844619035720825},\n",
       " {'label': 'LABEL_1', 'score': 0.9966636300086975},\n",
       " {'label': 'LABEL_1', 'score': 0.9844619035720825},\n",
       " {'label': 'LABEL_1', 'score': 0.9966636300086975},\n",
       " {'label': 'LABEL_1', 'score': 0.9844619035720825},\n",
       " {'label': 'LABEL_1', 'score': 0.9966636300086975},\n",
       " {'label': 'LABEL_1', 'score': 0.9844619035720825},\n",
       " {'label': 'LABEL_1', 'score': 0.9966636300086975},\n",
       " {'label': 'LABEL_1', 'score': 0.9844619035720825},\n",
       " {'label': 'LABEL_1', 'score': 0.9966636300086975},\n",
       " {'label': 'LABEL_1', 'score': 0.9844619035720825},\n",
       " {'label': 'LABEL_1', 'score': 0.9966636300086975},\n",
       " {'label': 'LABEL_1', 'score': 0.9844619035720825},\n",
       " {'label': 'LABEL_1', 'score': 0.9966636300086975},\n",
       " {'label': 'LABEL_1', 'score': 0.9844619035720825},\n",
       " {'label': 'LABEL_1', 'score': 0.9966636300086975},\n",
       " {'label': 'LABEL_1', 'score': 0.9844619035720825},\n",
       " {'label': 'LABEL_1', 'score': 0.9966636300086975},\n",
       " {'label': 'LABEL_1', 'score': 0.9844619035720825},\n",
       " {'label': 'LABEL_1', 'score': 0.9966636300086975},\n",
       " {'label': 'LABEL_1', 'score': 0.9844619035720825},\n",
       " {'label': 'LABEL_1', 'score': 0.9966636300086975},\n",
       " {'label': 'LABEL_1', 'score': 0.9844619035720825},\n",
       " {'label': 'LABEL_1', 'score': 0.9966636300086975},\n",
       " {'label': 'LABEL_1', 'score': 0.9844619035720825},\n",
       " {'label': 'LABEL_1', 'score': 0.9966636300086975},\n",
       " {'label': 'LABEL_1', 'score': 0.9844619035720825},\n",
       " {'label': 'LABEL_1', 'score': 0.9966636300086975},\n",
       " {'label': 'LABEL_1', 'score': 0.9844619035720825},\n",
       " {'label': 'LABEL_1', 'score': 0.9966636300086975},\n",
       " {'label': 'LABEL_1', 'score': 0.9844619035720825},\n",
       " {'label': 'LABEL_1', 'score': 0.9966636300086975},\n",
       " {'label': 'LABEL_1', 'score': 0.9844619035720825},\n",
       " {'label': 'LABEL_1', 'score': 0.9966636300086975},\n",
       " {'label': 'LABEL_1', 'score': 0.9844619035720825},\n",
       " {'label': 'LABEL_1', 'score': 0.9966636300086975},\n",
       " {'label': 'LABEL_1', 'score': 0.9844619035720825},\n",
       " {'label': 'LABEL_1', 'score': 0.9966636300086975},\n",
       " {'label': 'LABEL_1', 'score': 0.9844619035720825},\n",
       " {'label': 'LABEL_1', 'score': 0.9966636300086975},\n",
       " {'label': 'LABEL_1', 'score': 0.9844619035720825},\n",
       " {'label': 'LABEL_1', 'score': 0.9966636300086975},\n",
       " {'label': 'LABEL_1', 'score': 0.9844619035720825},\n",
       " {'label': 'LABEL_1', 'score': 0.9966636300086975},\n",
       " {'label': 'LABEL_1', 'score': 0.9844619035720825},\n",
       " {'label': 'LABEL_1', 'score': 0.9966636300086975},\n",
       " {'label': 'LABEL_1', 'score': 0.9844619035720825},\n",
       " {'label': 'LABEL_1', 'score': 0.9966636300086975},\n",
       " {'label': 'LABEL_1', 'score': 0.9844619035720825},\n",
       " {'label': 'LABEL_1', 'score': 0.9966636300086975},\n",
       " {'label': 'LABEL_1', 'score': 0.9844619035720825},\n",
       " {'label': 'LABEL_1', 'score': 0.9966636300086975},\n",
       " {'label': 'LABEL_1', 'score': 0.9844619035720825},\n",
       " {'label': 'LABEL_1', 'score': 0.9966636300086975},\n",
       " {'label': 'LABEL_1', 'score': 0.9844619035720825},\n",
       " {'label': 'LABEL_1', 'score': 0.9966636300086975},\n",
       " {'label': 'LABEL_1', 'score': 0.9844619035720825},\n",
       " {'label': 'LABEL_1', 'score': 0.9966636300086975},\n",
       " {'label': 'LABEL_1', 'score': 0.9844619035720825},\n",
       " {'label': 'LABEL_1', 'score': 0.9966636300086975},\n",
       " {'label': 'LABEL_1', 'score': 0.9844619035720825},\n",
       " {'label': 'LABEL_1', 'score': 0.9966636300086975},\n",
       " {'label': 'LABEL_1', 'score': 0.9844619035720825},\n",
       " {'label': 'LABEL_1', 'score': 0.9966636300086975},\n",
       " {'label': 'LABEL_1', 'score': 0.9844619035720825},\n",
       " {'label': 'LABEL_1', 'score': 0.9966636300086975},\n",
       " {'label': 'LABEL_1', 'score': 0.9844619035720825},\n",
       " {'label': 'LABEL_1', 'score': 0.9966636300086975},\n",
       " {'label': 'LABEL_1', 'score': 0.9844619035720825},\n",
       " {'label': 'LABEL_1', 'score': 0.9966636300086975},\n",
       " {'label': 'LABEL_1', 'score': 0.9844619035720825},\n",
       " {'label': 'LABEL_1', 'score': 0.9966636300086975},\n",
       " {'label': 'LABEL_1', 'score': 0.9844619035720825},\n",
       " {'label': 'LABEL_1', 'score': 0.9966636300086975},\n",
       " {'label': 'LABEL_1', 'score': 0.9844619035720825},\n",
       " {'label': 'LABEL_1', 'score': 0.9966636300086975},\n",
       " {'label': 'LABEL_1', 'score': 0.9844619035720825},\n",
       " {'label': 'LABEL_1', 'score': 0.9966636300086975},\n",
       " {'label': 'LABEL_1', 'score': 0.9844619035720825},\n",
       " {'label': 'LABEL_1', 'score': 0.9966636300086975},\n",
       " {'label': 'LABEL_1', 'score': 0.9844619035720825},\n",
       " {'label': 'LABEL_1', 'score': 0.9966636300086975},\n",
       " {'label': 'LABEL_1', 'score': 0.9844619035720825},\n",
       " {'label': 'LABEL_1', 'score': 0.9966636300086975},\n",
       " {'label': 'LABEL_1', 'score': 0.9844619035720825},\n",
       " {'label': 'LABEL_1', 'score': 0.9966636300086975},\n",
       " {'label': 'LABEL_1', 'score': 0.9844619035720825}]"
      ]
     },
     "execution_count": 13,
     "metadata": {},
     "output_type": "execute_result"
    }
   ],
   "source": [
    "# Use a pipeline as a high-level helper\n",
    "from transformers import pipeline\n",
    "\n",
    "pipe = pipeline(\"text-classification\", model=\"RussianNLP/ruRoBERTa-large-rucola\")\n",
    "\n",
    "pipe([\"Привет мой дорогой друг\", \"что ты делаешь в маём гараже???????\"] * 100)"
   ]
  },
  {
   "cell_type": "code",
   "execution_count": 14,
   "id": "7fdc1620",
   "metadata": {},
   "outputs": [
    {
     "name": "stdout",
     "output_type": "stream",
     "text": [
      "Sat Mar 15 16:26:43 2025       \n",
      "+-----------------------------------------------------------------------------------------+\n",
      "| NVIDIA-SMI 572.16                 Driver Version: 572.16         CUDA Version: 12.8     |\n",
      "|-----------------------------------------+------------------------+----------------------+\n",
      "| GPU  Name                  Driver-Model | Bus-Id          Disp.A | Volatile Uncorr. ECC |\n",
      "| Fan  Temp   Perf          Pwr:Usage/Cap |           Memory-Usage | GPU-Util  Compute M. |\n",
      "|                                         |                        |               MIG M. |\n",
      "|=========================================+========================+======================|\n",
      "|   0  NVIDIA GeForce RTX 2070 ...  WDDM  |   00000000:01:00.0 Off |                  N/A |\n",
      "| N/A   68C    P8             10W /  115W |    2866MiB /   8192MiB |      0%      Default |\n",
      "|                                         |                        |                  N/A |\n",
      "+-----------------------------------------+------------------------+----------------------+\n",
      "                                                                                         \n",
      "+-----------------------------------------------------------------------------------------+\n",
      "| Processes:                                                                              |\n",
      "|  GPU   GI   CI              PID   Type   Process name                        GPU Memory |\n",
      "|        ID   ID                                                               Usage      |\n",
      "|=========================================================================================|\n",
      "|    0   N/A  N/A           24468      C   ...ms\\Python\\Python39\\python.exe      N/A      |\n",
      "+-----------------------------------------------------------------------------------------+\n"
     ]
    }
   ],
   "source": [
    "!nvidia-smi"
   ]
  },
  {
   "cell_type": "code",
   "execution_count": 1,
   "id": "2f7f376f",
   "metadata": {},
   "outputs": [],
   "source": [
    "# from transformers import AutoTokenizer, AutoModelForSeq2SeqLM\n",
    "# tokenizer = AutoTokenizer.from_pretrained(\"facebook/nllb-200-distilled-1.3B\")\n",
    "# model = AutoModelForSeq2SeqLM.from_pretrained(\"facebook/nllb-200-distilled-1.3B\")"
   ]
  },
  {
   "cell_type": "code",
   "execution_count": 13,
   "id": "f2c81584",
   "metadata": {},
   "outputs": [],
   "source": [
    "# article = \"UN Chief says there is no military solution in Syria\"\n",
    "# article = \"лисички прыгают раз два три\"\n",
    "# inputs = tokenizer(article, return_tensors=\"pt\")"
   ]
  },
  {
   "cell_type": "code",
   "execution_count": 16,
   "id": "299f14e0",
   "metadata": {},
   "outputs": [],
   "source": [
    "# translated_tokens = model.generate(\n",
    "#     **inputs, forced_bos_token_id=tokenizer.convert_tokens_to_ids(\"eng_Latn\"), max_length=30\n",
    "# )"
   ]
  },
  {
   "cell_type": "code",
   "execution_count": 2,
   "id": "eb60757b",
   "metadata": {},
   "outputs": [],
   "source": [
    "# tokenizer.batch_decode(translated_tokens, skip_special_tokens=True)[0]"
   ]
  },
  {
   "cell_type": "code",
   "execution_count": null,
   "id": "54bf0e03",
   "metadata": {},
   "outputs": [],
   "source": []
  },
  {
   "cell_type": "code",
   "execution_count": null,
   "id": "9d4f91b0",
   "metadata": {},
   "outputs": [],
   "source": []
  },
  {
   "cell_type": "code",
   "execution_count": null,
   "id": "9e1dd2e4",
   "metadata": {},
   "outputs": [],
   "source": []
  },
  {
   "cell_type": "code",
   "execution_count": null,
   "id": "efa12bc6",
   "metadata": {},
   "outputs": [],
   "source": []
  },
  {
   "cell_type": "code",
   "execution_count": 3,
   "id": "e02f29fd",
   "metadata": {},
   "outputs": [],
   "source": [
    "# from scripts.helpers.model_manager import Madlad400Model\n",
    "\n",
    "# model = Madlad400Model(device='cuda', convert_to_float16=True)  # we can ignore T5ForConditionalGeneration warning as it's not used"
   ]
  },
  {
   "cell_type": "code",
   "execution_count": 4,
   "id": "dc938eac",
   "metadata": {},
   "outputs": [],
   "source": [
    "from scripts.helpers.model_manager import NLLB200Model\n",
    "\n",
    "model = NLLB200Model(device='cuda')"
   ]
  },
  {
   "cell_type": "code",
   "execution_count": 7,
   "id": "1f0a6ca6",
   "metadata": {},
   "outputs": [
    {
     "data": {
      "text/plain": [
       "['Қуанышты түлкілер!']"
      ]
     },
     "execution_count": 7,
     "metadata": {},
     "output_type": "execute_result"
    }
   ],
   "source": [
    "model.translate_batch(['Happy happy foxes!'], 'en', 'kaz')"
   ]
  },
  {
   "cell_type": "code",
   "execution_count": null,
   "id": "3769fa47",
   "metadata": {},
   "outputs": [],
   "source": []
  },
  {
   "cell_type": "code",
   "execution_count": null,
   "id": "2ac217be",
   "metadata": {},
   "outputs": [],
   "source": []
  },
  {
   "cell_type": "code",
   "execution_count": 6,
   "id": "c163dced",
   "metadata": {},
   "outputs": [
    {
     "data": {
      "text/plain": [
       "['Happy foxes jump jump jump', 'Once, twice, three times!']"
      ]
     },
     "execution_count": 6,
     "metadata": {},
     "output_type": "execute_result"
    }
   ],
   "source": [
    "model.translate_batch(['Счастливые лисички прыгают прыг скок', 'раз два три!'], 'ru', 'en')"
   ]
  },
  {
   "cell_type": "code",
   "execution_count": 3,
   "id": "a9c285f2",
   "metadata": {},
   "outputs": [],
   "source": [
    "from scripts.benchmark.flores_dev import benchmark"
   ]
  },
  {
   "cell_type": "code",
   "execution_count": 4,
   "id": "0a101dd7",
   "metadata": {},
   "outputs": [
    {
     "name": "stderr",
     "output_type": "stream",
     "text": [
      "100%|██████████████████████████████████████████████████████████████████████████████████████████████████████████████████████████████████████████████████████████████████████████████████████████████| 125/125 [3:01:43<00:00, 87.23s/it]\n"
     ]
    }
   ],
   "source": [
    "benchmark(model, 'mhr-ru')"
   ]
  },
  {
   "cell_type": "code",
   "execution_count": 4,
   "id": "06bfd569",
   "metadata": {},
   "outputs": [
    {
     "name": "stderr",
     "output_type": "stream",
     "text": [
      "100%|████████████████████████████████████████████████████████████████████████████████████████████████████████████████████████████████████████████████████████████████████████████████████████████████| 125/125 [11:28<00:00,  5.50s/it]\n"
     ]
    }
   ],
   "source": [
    "benchmark(model, 'kaz-ru')"
   ]
  },
  {
   "cell_type": "code",
   "execution_count": 5,
   "id": "c06b182e",
   "metadata": {},
   "outputs": [
    {
     "name": "stderr",
     "output_type": "stream",
     "text": [
      "100%|████████████████████████████████████████████████████████████████████████████████████████████████████████████████████████████████████████████████████████████████████████████████████████████████| 125/125 [11:16<00:00,  5.41s/it]\n"
     ]
    }
   ],
   "source": [
    "benchmark(model, 'tat-ru')"
   ]
  },
  {
   "cell_type": "code",
   "execution_count": null,
   "id": "88f7fb28",
   "metadata": {},
   "outputs": [],
   "source": []
  },
  {
   "cell_type": "code",
   "execution_count": null,
   "id": "2f343eb1",
   "metadata": {},
   "outputs": [],
   "source": []
  },
  {
   "cell_type": "code",
   "execution_count": null,
   "id": "bc566efc",
   "metadata": {},
   "outputs": [],
   "source": []
  },
  {
   "cell_type": "code",
   "execution_count": 3,
   "id": "2e595849",
   "metadata": {},
   "outputs": [],
   "source": [
    "from scripts.helpers import dataset_manager\n",
    "df = dataset_manager.FloresDataset('mhr-ru', 'flores-dev').get_df()[['mhr', 'rus']]"
   ]
  },
  {
   "cell_type": "code",
   "execution_count": 4,
   "id": "493ed9d2",
   "metadata": {},
   "outputs": [],
   "source": [
    "# map for translation columns\n",
    "df['text'] = df['mhr']\n",
    "df['src_lang'] = 'chm'\n",
    "df['dst_lang'] = 'ru'"
   ]
  },
  {
   "cell_type": "code",
   "execution_count": 5,
   "id": "1f94d6f9",
   "metadata": {},
   "outputs": [
    {
     "name": "stderr",
     "output_type": "stream",
     "text": [
      "1it [00:50, 50.77s/it]"
     ]
    },
    {
     "name": "stdout",
     "output_type": "stream",
     "text": [
      "['Сотрудники Медицинской школы Стэнфордского университета сообщили о создании диагностического инструмента, который может отличать клетки по их типу; это маленький чип, который можно напечатать на принтере, используя стандартный белый цвет, стоящий около 1 цента США.', 'Исследователи утверждают, что это может помочь в раннем обнаружении рака, туберкулёза, ВИЧ и простуды у пациентов в странах с низким уровнем дохода, в то время как смертность от рака молочной железы в странах с высоким уровнем дохода может снизиться вдвое.', 'В 9:30 по верхнелужицкому времени (02:30 UTC) JAS 39C Gripen совершил посадку на взлётно-посадочную полосу и начал взлёт.', 'Было установлено, что погибшим пилотом был командир эскадрильи Дилокрит Паттави.']\n"
     ]
    },
    {
     "name": "stderr",
     "output_type": "stream",
     "text": [
      "\r",
      "2it [01:30, 44.15s/it]"
     ]
    },
    {
     "name": "stdout",
     "output_type": "stream",
     "text": [
      "['В 1999 году в аэропорту произошёл пожар, в результате которого погиб пассажир, находившийся в машине.', '28-летний Алеш Видь за пять туров до окончания сезона вернулся в «Барселону» из «Севильи».', 'В составе «Кристал Пэлас» провёл 49 матчей.', 'В 11:00 по местному времени (UTC+1) по времени Уайтхолла начался марш на Даунинг-стрит, официальную резиденцию премьер-министра, перед входом в здание.']\n"
     ]
    },
    {
     "name": "stderr",
     "output_type": "stream",
     "text": [
      "\r",
      "3it [02:28, 50.69s/it]"
     ]
    },
    {
     "name": "stdout",
     "output_type": "stream",
     "text": [
      "['В 11:00 утра 11 августа 1941 года в районе села Уайтхолл вблизи южного моста был закрыт для движения транспорт.', 'В 11:20 полиция потребовала от участников митинга вернуться на тротуары, заявив о необходимости соблюдения согласованности между правом на сопротивление и передвижением по дороге.', 'В 11:29 протестующие прошли по улице Уайтхолл, Трафальгарской площади, Стрэнд-стрит, Олдвич-стрит и улице Кингсуэй, где собрались жители Холборнского района, где Консервативная партия провела свой шестой форум в Grand Connaught Rooms.', 'В финале он обыграл канадца Джона Уильямса со счётом 7-6(2).']\n"
     ]
    },
    {
     "name": "stderr",
     "output_type": "stream",
     "text": [
      "\r",
      "4it [03:01, 43.63s/it]"
     ]
    },
    {
     "name": "stdout",
     "output_type": "stream",
     "text": [
      "['В итоге он выиграл турнир в Брисбене.', 'В матче Надал набрал 88\\xa0% от всех очков, в первом раунде одержав победу 76 очками.', '«Король грунта» после матча сказал: «Я очень рад, что вернулся в финальный раунд важнейших соревнований. Я здесь, чтобы усердствовать».', '«Панамские документы»\\xa0— название серии документов, которые были опубликованы в 2016 году панамской юридической фирмой Mossack Fonseca.']\n"
     ]
    },
    {
     "name": "stderr",
     "output_type": "stream",
     "text": [
      "\r",
      "5it [03:47, 44.46s/it]"
     ]
    },
    {
     "name": "stdout",
     "output_type": "stream",
     "text": [
      "['Документы показали, что латиноамериканские банки перечисляли клиентам миллиарды долларов США, чтобы избежать уплаты налогов и других нормативных требований.', 'Британская газета The Guardian сообщила, что пятая часть из 1200 компаний, используемых для этой работы, была проверена Deutsche Bank.', 'В результате чего в стране началась гражданская война, в которой участвовали как боевики, так и силы безопасности, а также были убиты несколько боевиков, в том числе и глава правительства страны, премьер-министр Пакистана.', 'Ма родился в Гонконге, учился в Нью-Йоркском университете и Гарвардской школе права.']\n"
     ]
    },
    {
     "name": "stderr",
     "output_type": "stream",
     "text": [
      "\r",
      "6it [04:30, 43.83s/it]"
     ]
    },
    {
     "name": "stdout",
     "output_type": "stream",
     "text": [
      "['В итоге, всё это приводит к тому, что вскоре в городе начинается кризис.', 'В итоге, он понимает, что ему нужно найти способ найти ключ к ключу, а не просто найти ключ к ключу.', 'В итоге, всё это привело к тому, что китайцы стали стремиться к более тесным связям с материковым Китаем.', 'В настоящее время главным тренером команды является Алекс Овечкин из «Вашингтон Кэпиталз».']\n"
     ]
    },
    {
     "name": "stderr",
     "output_type": "stream",
     "text": [
      "\r",
      "7it [05:31, 49.71s/it]"
     ]
    },
    {
     "name": "stdout",
     "output_type": "stream",
     "text": [
      "['В матче против «Вашингтон Футбол Клуб» он забил 2 гола и принял участие в 2-х, в этом матче «Вашингтон» проиграл со счётом 5-3.', 'В первой половине матча Овечкин забил победный гол для команды, который забил молодой защитник Гиклас Бекстрём.', 'Этот гол стал его 60-м в сезоне, и он стал первым игроком с сезона 1995/96, когда Джаромир Джагр и Марио Лемьо совместно достигли этого успеха, который забил 60 или более голов.', 'В 2008 году Баттен занял 190-е место в списке 400 богатейших американцев, его состояние оценивалось в 2,3 миллиарда долларов США.']\n"
     ]
    },
    {
     "name": "stderr",
     "output_type": "stream",
     "text": [
      "\r",
      "8it [06:28, 51.99s/it]"
     ]
    },
    {
     "name": "stdout",
     "output_type": "stream",
     "text": [
      "['В 1950 году окончил факультет прикладной и естественных наук Виргинского университета, став важным спонсором этого учреждения.', 'В тюрьме Абу-Грейб в Ираке произошёл взрыв.', 'В тюрьме американские военные устроили скандал, после чего началась массовая расправа над заключёнными.', 'В 2008 году на Гран-при Сингапура Фернандо Алонсо после длительных пит-стопов вынужден был отключить двигатель, после чего вместо него была запущена машина безопасности.']\n"
     ]
    },
    {
     "name": "stderr",
     "output_type": "stream",
     "text": [
      "\r",
      "9it [07:14, 50.08s/it]"
     ]
    },
    {
     "name": "stdout",
     "output_type": "stream",
     "text": [
      "['В гонке по ходу гонки Алонсо двигался быстрее, чем его конкуренты, и, чтобы улучшить свои результаты, он взобрался на верхние места.', 'В 2009 году впервые в истории чемпионата мира по фристайлу не было проведено соревнований по фристайлу.', 'В 08:46 весь город был опустошён, поэтому почти сразу после того, как первый самолёт пересёк цель, он был закрыт.', 'В верхнем течении река пересыхает, в нижнем течении её русло пересыхает.']\n"
     ]
    },
    {
     "name": "stderr",
     "output_type": "stream",
     "text": [
      "\r",
      "10it [08:03, 49.60s/it]"
     ]
    },
    {
     "name": "stdout",
     "output_type": "stream",
     "text": [
      "['В селе расположены станции метро «Пушкинская» и «Парк Победы» и вокзал «Пушкинская».', 'Этот сериал PBS имеет более двух дюжин наград «Эмми», и по количеству номинаций он уступает только «Улице Сезам» и «Вершина дома мистера Роджерса».', 'В каждом эпизоде сериала рассказывается о событиях, происходящих в жизни персонажей, и в каждом эпизоде рассказывается о том, как они пережили эту историю.', 'В каждом из них описывается история, связанная с одним из персонажей, который в детстве читал в библиотеке книги.']\n"
     ]
    },
    {
     "name": "stderr",
     "output_type": "stream",
     "text": [
      "\r",
      "11it [08:42, 46.57s/it]"
     ]
    },
    {
     "name": "stdout",
     "output_type": "stream",
     "text": [
      "['Джон Грант с канала WNED Buffalo (который часто показывает Reading Rainbow) сказал: «Шоу Reading Rainbow показало, что книги нужны детям… чтобы побудить их читать\\xa0— [вместо этого] чтобы дать детям книгу и распространить вкус к чтению».', 'В 2006 году Джон Грант, режиссёр сериала «Случайные случаи», снял клип на песню «There’s a Place for Everyone», в котором он исполнил роль школьного учителя.', 'Синоптики предполагают, что шторм, который пошёл вниз примерно в 645 миль (1040 км) от побережья Кабо-Верде, возможно, умер до того, как стал опасен для какой-либо части суши.', 'Скорость ветра в настоящее время составляет 105 миль в час (165 км/ч), и он идет с юго-запада на северо-восток.']\n"
     ]
    },
    {
     "name": "stderr",
     "output_type": "stream",
     "text": [
      "\r",
      "12it [09:37, 48.87s/it]"
     ]
    },
    {
     "name": "stdout",
     "output_type": "stream",
     "text": [
      "['С момента создания спутниковых снимков Фред считается самым сильным тропическим циклоном, когда-либо наблюдавшимся в Атлантическом океане в северо-западном и северо-восточном направлениях, а также самым сильным за всё время наблюдений тропическим циклоном, который двигался в направлении от 35° северной широты.', \"24 сентября 1759 года Артур Гиннесс подал иск о возврате пивоварне St James' Gate Brewery в Дублине, Ирландия, на 9000 лет.\", 'Спустя 250 лет «Гиннесс» превратился в глобальную компанию, оборот которой превышает 10 миллиардов евро (14,7 миллиардов долларов США).', 'В 1980 году в составе команды «Атланта Хокс» в составе 48-летнего Джонни Рида, который в то время был капитаном команды A1GP, он выиграл чемпионат мира по шоссейному велоспорту.']\n"
     ]
    },
    {
     "name": "stderr",
     "output_type": "stream",
     "text": [
      "\r",
      "13it [10:35, 51.75s/it]"
     ]
    },
    {
     "name": "stdout",
     "output_type": "stream",
     "text": [
      "['Мистер Рид на автомобиле Black Beauty, который он приобрел в Новой Зеландии во время Гран-при «А1», смог проехать по дороге со скоростью 160 км/ч в течение 10 секунд.', 'В 1990 году, когда в мире началась эпидемия лихорадки Эбола, в одной из своих книг, «Страшный суд над человечество» (англ.\\xa0The Cruel Judgement of Mankind), автор описывает, как в 1990 году, когда в США началась эпидемия лихорадки Эбола, он увидел, что в 199', 'В течение первых 3 месяцев более 80 арестованных были официально выведены из центров первого приема.', 'В апреле этого года судья Глинн, который после попадания в тюрьму был в заключении более 24 часов и не слушал дел заключённых с судебным уполномоченным, вынес решение суда по этому учреждению, требуя их освобождения.']\n"
     ]
    },
    {
     "name": "stderr",
     "output_type": "stream",
     "text": [
      "\r",
      "14it [11:14, 47.95s/it]"
     ]
    },
    {
     "name": "stdout",
     "output_type": "stream",
     "text": [
      "['Комиссар полиции устанавливает залог (при внесении залога) и учитывает отчет офицера, исполняющего арест. Затем отчет о работе лица, переданного в залог, вводится в компьютерную систему водного штата.', 'В итоге, судебный процесс был прекращён, и вместо него был вынесен приговор, согласно которому ему пришлось нести наказание в виде тюремного заключения.', 'Питер Костелло, казначей Австралии и, возможно, преемник премьер-министра Джона Хардина на посту лидера Либеральной партии, выразил поддержку атомной энергетике Австралии.', 'Г-н Костелло сказал: пока ядерная энергетика является мощным экономическим фактором, Австралия должна стремиться к её использованию в будущем.']\n"
     ]
    },
    {
     "name": "stderr",
     "output_type": "stream",
     "text": [
      "\r",
      "15it [12:02, 48.03s/it]"
     ]
    },
    {
     "name": "stdout",
     "output_type": "stream",
     "text": [
      "['\"Если коммерческий интерес будет этим движущим фактором, то он должен быть нашим. Ведь, скажем, никакой принципиальной борьбы против атомной энергетики нет\", - сказал г-н Костелло.', 'По словам представителя АНБ, «в ходе расследования было установлено, что в ходе убийства убийцы пользовались оружием, которое, по мнению правоохранительных органов, могло быть использовано для совершения преступления».', 'Полиция заявила: «Ло Пикколо был под руководством, потому что он был одним из самых богатых людей в Палермо, и его опытные боссы, которые стремились к тому, чтобы Прованс был менее известен, и в то же время укреплять свою власть, распространяли среди него большие суммы денег».', 'Провенцано провоцировался на убийства боссов мафии, когда он положил конец кампании Рианны против государства; в результате в 1992 году были убиты крестоносцы мафии Джованни Фальконе и Паоло Борселлино.']\n"
     ]
    },
    {
     "name": "stderr",
     "output_type": "stream",
     "text": [
      "\r",
      "16it [12:41, 45.25s/it]"
     ]
    },
    {
     "name": "stdout",
     "output_type": "stream",
     "text": [
      "['Стив Джобс, генеральный директор компании Apple, во время презентации iPhone вышел на сцену и вытащил его из кармана джинсов.', 'В своем первом двухчасовом выступлении он сказал: «Теперь Apple хочет переосмыслить свой телефон.', 'В 1990 году в Риме был открыт первый в мире католический храм, построенный по образцу Римско-католической церкви, в котором собраны все богослужения в стране.', 'В 1996 году в Бразилии был принят закон, согласно которому граждане могут голосовать только в штате Риу-Гранди-ду-Сул.']\n"
     ]
    },
    {
     "name": "stderr",
     "output_type": "stream",
     "text": [
      "\r",
      "17it [13:22, 43.82s/it]"
     ]
    },
    {
     "name": "stdout",
     "output_type": "stream",
     "text": [
      "['В 1999 году в Сан-Паулу был принят законопроект о запрете на продажу алкоголя в общественных местах, который был подготовлен бывшим мэром города Мартой Суплиси.', 'В ноябре 2015 года в ходе акции «Перехватываем 1,2 миллиона» в Петербурге было собрано 1,2 миллиона подписей.', 'Для того, чтобы помочь семьям, которые в настоящее время сталкиваются с жилищными спорами, 20 марта в Юридическом центре мэра Ист-Бея была организована встреча, на которой они могли высказать свое желание получить юридическую помощь, чтобы избежать похищения.', 'Когда слушатели начали рассказывать о том, что с ними произошло, многие из присутствующих вскоре поняли: Кэролайн Уилсон из ОНА пересмотрела их гарантийные выплаты и выгнала их из города.']\n"
     ]
    },
    {
     "name": "stderr",
     "output_type": "stream",
     "text": [
      "\r",
      "18it [14:15, 46.69s/it]"
     ]
    },
    {
     "name": "stdout",
     "output_type": "stream",
     "text": [
      "['Жители Локвуд Гарденс считают, что, возможно, ещё 40 или более семей могут быть затронуты покинутыми домами, но только они узнали: полиция жилищной администрации Окленда также расследует другие объекты в Окленде, которые подпадают под действие закона о жилищном строительстве, касающемся недвижимости.', 'Группа обратилась к Мауи с просьбой отменить выступления на мемориальном стадионе Сарзе, вмещающем 9000 человек, и не допускать в него фанатских толп.', 'В начале 20 сентября работающая с группой компания HK Management Inc. не дала никаких объяснений, а на следующий день объявила: из-за логистических проблем выступление не состоится.', 'Известные греческие юристы Сакис Кечагиоглоу и Георг Николакопулос были отправлены в тюрьму Коридаллос в Афинах, где они были обвинены в взяточничестве и коррупции.']\n"
     ]
    },
    {
     "name": "stderr",
     "output_type": "stream",
     "text": [
      "\r",
      "19it [15:10, 49.32s/it]"
     ]
    },
    {
     "name": "stdout",
     "output_type": "stream",
     "text": [
      "['В 1990-х годах в Греции были введены новые правила, согласно которым судьи, адвокаты, солиситоры и другие юристы, работающие в судах, должны были иметь высшее юридическое образование.', 'Несколько недель назад, после того как журналист Макис Триантафилопулос выпустил на канале Alpha TV ТВ-шоу Zoungla, в котором он показывал, как его мать купалась в песке, член парламента и юрист Петрос Мантувалос был отстранён от должности, поскольку сотрудники его аппарата были обвинены в взяточничестве и коррупции.', 'В 1999 году в связи с обвинениями в коррупции и мошенничестве в тюрьме находился главный судья Евангелос Калусис.', 'Робертс считает, что когда речь идет о том, что мы можем жить, это является важным вопросом при рассмотрении этических проблем; он настаивает, что было бы целесообразно высказаться о специфике того, что может произойти в подобных случаях.']\n"
     ]
    },
    {
     "name": "stderr",
     "output_type": "stream",
     "text": [
      "\r",
      "20it [16:03, 50.45s/it]"
     ]
    },
    {
     "name": "stdout",
     "output_type": "stream",
     "text": [
      "['В 1998 году он был обвинён в «незаконном использовании имущества, полученного в результате преступной деятельности, в целях получения выгоды» и «незаконном использовании имущества, полученного в результате преступной деятельности, в целях получения выгоды» в суде в Лос-Анджелесе.', 'В итоге, он понимает, что его мать, которая давно уже не помнит, что случилось с ней, и понимает, что она была влюблена в Рона, и что Рон действительно любит её.', 'В конце концов, Маручидор пришёл в финиш первым, опередив на несколько очков второго Нусуму.', 'В финале «Нуса» уступила «Спортингу» со счётом 11:11, но в итоге выиграла 11:10.']\n"
     ]
    },
    {
     "name": "stderr",
     "output_type": "stream",
     "text": [
      "\r",
      "21it [16:31, 43.66s/it]"
     ]
    },
    {
     "name": "stdout",
     "output_type": "stream",
     "text": [
      "['В финале Маручидор Каблер вышел быстрее.', 'Hesperonychus elizabethae\\xa0— вид динозавров из семейства Dromaeosauridae, относящийся к роду велоцирапторов.', 'В верхнем течении протекает по болотистой местности, в нижнем течении по крутым склонам, по берегам реки образует овраги.', 'В итоге, он был вынужден вернуться в «Спарту», где его стали называть «Космосом», так как он был «невероятно крепким».']\n"
     ]
    },
    {
     "name": "stderr",
     "output_type": "stream",
     "text": [
      "\r",
      "22it [17:32, 48.64s/it]"
     ]
    },
    {
     "name": "stdout",
     "output_type": "stream",
     "text": [
      "['В итоге, вместо обычной операции по удалению зубного камня, хирурги предложили провести операцию по удалению зубного камня.', 'В итоге, в итоге, в итоге, в итоге, в итоге, в итоге, в итоге, в итоге, в итоге, в итоге, в итоге, в итоге, в итоге, в итоге, в итоге, в итоге, в итоге, в итоге, в итоге, в итоге,', 'По мнению Питмана, длинные и густые паковый манме года являются наиболее благоприятными для охотников на тюленей за последние 15 лет.', 'В 1990 году вместе с братом и сестрой покинул родной город и переехал в город Кемерово, где 21 марта 1991 года окончил среднюю школу №\\xa011 им. М.\\xa0В.\\xa0Ломоносова.']\n"
     ]
    },
    {
     "name": "stderr",
     "output_type": "stream",
     "text": [
      "\r",
      "23it [18:08, 44.99s/it]"
     ]
    },
    {
     "name": "stdout",
     "output_type": "stream",
     "text": [
      "['В итоге, вместо того, чтобы дать ему возможность вернуться в тюрьму, он был арестован.', 'Однако, кто-то, узнавший о происшедшем, сообщил миннеаполисской газете Star-Tribune: это был Луи Жюрден, 16-летний сын председателя племени Ред-Лейк Флойда Жюрдена.', 'В итоге, несмотря на то, что в суде не было доказательств, что он был виновным в убийстве, суд признал его виновным в убийстве, но в итоге суд вынес решение, что он не совершил убийства.', 'Лодин также заявил, что, чтобы не допустить повторения выборов, власти должны были устранить нарушения во втором туре, чтобы не вызвать беспорядков и не создать дополнительной угрозы для афганцев.']\n"
     ]
    },
    {
     "name": "stderr",
     "output_type": "stream",
     "text": [
      "\r",
      "24it [18:34, 39.30s/it]"
     ]
    },
    {
     "name": "stdout",
     "output_type": "stream",
     "text": [
      "['По просьбе дипломатов, в конституции Афганистана было исключено неконкретное положение, которое, по их мнению, распространяет необходимость второго тура.', 'Это противоречит предыдущему заявлению, что проведение второго тура выборов может привести к изменению конституции.', 'Самолёт вылетел из Иркутска и был под командованием боевого подразделения.', 'Смерть ему неизбежна.']\n"
     ]
    },
    {
     "name": "stderr",
     "output_type": "stream",
     "text": [
      "\r",
      "25it [19:16, 40.19s/it]"
     ]
    },
    {
     "name": "stdout",
     "output_type": "stream",
     "text": [
      "['В 1970-е годы в России и СССР стали появляться первые тяжёлые истребители Ил-76, которые в 1976 году были приняты на вооружение ВВС СССР.', '7 октября при посадке отключился двигатель, пострадавших не было.', 'После выброса нескольких тысяч баррелей сжиженной нефти к северу от Фэрбанкс (штат Аляска) группа людей замечает 800-мильный участок нефтяной скважины в Трансаляске.', 'После плановой подготовки пожарной системы, возникший в электроснабжении перебои в работе предохранительного клапана и попадание сжатой нефти вблизи заправочной станции №\\xa09 в Форт-Гриллиште были ликвидированы.']\n"
     ]
    },
    {
     "name": "stderr",
     "output_type": "stream",
     "text": [
      "\r",
      "26it [19:54, 39.51s/it]"
     ]
    },
    {
     "name": "stdout",
     "output_type": "stream",
     "text": [
      "['В системе открывания клапанов было достигнуто понижение давления, и он был введен в резервуар, способный перекачивать на нефтяной площадке 55000 баррелей (2,3 миллиона галлонов).', 'В южных рожках северного резервуара\\xa0— вероятно, из-за теплового скачка в резервуаре\\xa0— заражение было ещё сильнее.', 'В 104500 баррелей, которые помогают в выработке нефти, не используются полностью.', 'Впервые в истории Ирана высокопоставленные чиновники высказались в прямом эфире по поводу того, какую пользу принесли санкции.']\n"
     ]
    },
    {
     "name": "stderr",
     "output_type": "stream",
     "text": [
      "\r",
      "27it [20:34, 39.69s/it]"
     ]
    },
    {
     "name": "stdout",
     "output_type": "stream",
     "text": [
      "['В 2014 году в результате экономического кризиса в Иране и снижения цен на нефть, иранская экономика потеряла 80\\xa0% своего экспорта.', 'В недавнем ежемесячном отчете ОПЕК объявила, что экспорт сжиженной нефти опустился до самого низкого уровня за последние два года\\xa0— 2,8 миллиона баррелей в день.', 'Высший лидер страны аятолла Али Хаменеи заявил, что нефтяные проблемы в Иране возникли ещё до Исламской революции 1979 года, и что они «поглощают» страну.', 'В 1950-х годах, когда в США началась массовая миграция населения из восточных штатов в западные, в частности, в Калифорнию, Орегон, Невада и Юту, в селе появились первые здания, построенные из дерева.']\n"
     ]
    },
    {
     "name": "stderr",
     "output_type": "stream",
     "text": [
      "\r",
      "28it [21:13, 39.23s/it]"
     ]
    },
    {
     "name": "stdout",
     "output_type": "stream",
     "text": [
      "['Капсула должна была нести метеорный материал.', 'Капсула будет двигаться со скоростью 12,8 км/с или 8 миль/с, что позволит проехать из Сан-Франциско в Лос-Анджелес за 1 минуту.', 'Stardust установил мировой рекорд, и стал первым кораблём, вернувшимся на Землю после того, как модуль команды Аполлона-10 в мае 1969 года побил предыдущий рекорд.', '«Вот южнее Калифорнии касвелл сер льётся вниз, центральный Орегон и Калифорнийский льётся вниз, а далее через Невада и Айдахо в Юти»,\\xa0— говорит Том Даксбери, менеджер проекта «Стардаст».']\n"
     ]
    },
    {
     "name": "stderr",
     "output_type": "stream",
     "text": [
      "\r",
      "29it [22:02, 42.32s/it]"
     ]
    },
    {
     "name": "stdout",
     "output_type": "stream",
     "text": [
      "['В 1997 году, после того как США подписали Киотский протокол по изменению климата, он стал единственной развивающейся страной, которая не ратифицировала этот документ.', 'В 2014 году в Австралии был проведен эксперимент, в ходе которого 1000 человек, которые не имели доступа к сети Интернет, были опрошены по вопросу о том, как они воспринимают работу с данными, полученными с помощью сети Интернет, и как они реагируют на изменения в сети Интернет.', 'Этот эпизод стал самым успешным в истории «Эмми».', 'Компания надеется увеличить источники дохода и укрепить репутацию в регионах, где Skype занимает прочную позицию, таких как Китай, Эрвел Европа и Бразилия.']\n"
     ]
    },
    {
     "name": "stderr",
     "output_type": "stream",
     "text": [
      "\r",
      "30it [22:38, 40.39s/it]"
     ]
    },
    {
     "name": "stdout",
     "output_type": "stream",
     "text": [
      "['В геологической истории геологических пород геологическая история геологических пород геологическая история геологических пород геологическая история геологических пород геологическая история геологических пород геологическая история геологических пород', 'Энцелад\\xa0— самый яркий объект в Солнечной системе, его блеск составляет 90\\xa0% от дневного.', 'В одной из японских газет Konami заявила, что они не будут выпускать игру Six Days in Fallujah.', 'В 1991 году в ходе операции «Второй взгляд» американские войска в Ираке уничтожили 1000 иракских боевиков, в том числе 1000 боевиков из «Исламского государства».']\n"
     ]
    },
    {
     "name": "stderr",
     "output_type": "stream",
     "text": [
      "\r",
      "31it [23:20, 40.76s/it]"
     ]
    },
    {
     "name": "stdout",
     "output_type": "stream",
     "text": [
      "['Австралийский язык и СМИ также узнали: хотя видео транслировалось в интернете, закон о цензуре в онлайн-контенте «Кугу изан» не был применён, и этот мультимедийный материал не был распространён на сайте «Кугу изан».', 'В отличие от других сервисов, которые используют сети Интернет, для просмотра видео в Интернете требуется подключение к серверу, а не к компьютеру.', 'Посольство США в Найроби (Кения) заранее предупредило о том, что «экстремисты из Сомали» занимаются подстрекательством террористов в Кении и Эфиопии.', 'В США, Эфиопии и Кении подтверждают, что получали информацию об использовании террористов-смертников из неназванных источников для создания «командно-штабных верлам».']\n"
     ]
    },
    {
     "name": "stderr",
     "output_type": "stream",
     "text": [
      "\r",
      "32it [24:20, 46.62s/it]"
     ]
    },
    {
     "name": "stdout",
     "output_type": "stream",
     "text": [
      "['Задолго до The Daily Show и The Colbert Report, когда Хэк и Джонсон были студентами Висконсинского университета в Мэдисоне в 1988 году, они пришли к идее пародировать новости и репортажи для печатных изданий.', 'The Onion, включая родной веб-сайт, печатную версию, сайт, который в октябре достиг 5 000 000 пользователей, службу объявлений персонала, круглосуточную рассылку новостей, подкасты и недавно созданный атлас «Мой мир» (англ.\\xa0My World), стал настоящей пародийной империей для новостей.', 'Эл Гор и генерал Томми Фрэнкс легко составили список своих любимых сексуальных партнеров (Гор был одним из них, когда во время предвыборной кампании 2000 года вместе с The Onion Tipper заявил, что у него был лучший секс в их жизни после его отстранения от власти).', 'Многие из его авторов оказали большое влияние на последующие пародии Джона Стюарта и Стивена Кольбера.']\n"
     ]
    },
    {
     "name": "stderr",
     "output_type": "stream",
     "text": [
      "\r",
      "33it [24:58, 44.14s/it]"
     ]
    },
    {
     "name": "stdout",
     "output_type": "stream",
     "text": [
      "['Это культурное событие также является частью кампании мэрии Бухареста по превращению столицы Румынии в красивый творческий мегаполис.', 'Город станет первым городом в Северо-Восточной Европе, где пройдет CowParade\\xa0— крупнейшее мировое мероприятие по охране дикой природы, которое будет проходить с июня по август этого года.', 'В марте 2011 года в ходе акции протеста против строительства станции в центре города, в которой планировалось разместить троллейбус, был убит водитель троллейбуса.', 'В 1930-х годах на станции было установлено 1300 вагонов, а в 1940-х годах было установлено 1300 вагонов, что позволило увеличить пассажиропоток до 3000 человек в час.']\n"
     ]
    },
    {
     "name": "stderr",
     "output_type": "stream",
     "text": [
      "\r",
      "34it [25:40, 43.39s/it]"
     ]
    },
    {
     "name": "stdout",
     "output_type": "stream",
     "text": [
      "['Кристофер Гарсиа, представитель департамента полиции Лос-Анджелеса, сказал: мужчина, совершивший вандализм по поводу плохой работы, не является преступником, а, скорее, находится в следственном изоляторе за нарушение закона, связанное с хулиганством.', 'Физически знак не был сложен; его модифицировали, чтобы буква «О» следовала за «е» вместо «о», используя брезентовые подушки с глобусом и сердцем знака.', 'В 1995 году в результате взрыва в одной из скважин вблизи города Калькутта, Индия, погибло 15 человек, в том числе 13 детей.', 'Природные факторы могут также способствовать распространению: частое наводнение в водохранилищах создает благоприятные условия для роста.']\n"
     ]
    },
    {
     "name": "stderr",
     "output_type": "stream",
     "text": [
      "\r",
      "35it [26:14, 40.72s/it]"
     ]
    },
    {
     "name": "stdout",
     "output_type": "stream",
     "text": [
      "['В данном случае токсины, вызывающие токсическое поражение нервной системы, попадают в кровь и вызывают нейротоксическое действие.', 'В верхнем течении река пересыхает, в нижнем течении пересыхает.', 'В южной части, вдоль берегов реки, расположены посёлки и посёлки городского типа Спасское и Спасское.', 'Тропический циклон Гону, название которого на мальдивском языке означает «сумка из пальмовых веток», при наибольшей силе дул со скоростью 240 километров в час (149 миль в час).']\n"
     ]
    },
    {
     "name": "stderr",
     "output_type": "stream",
     "text": [
      "\r",
      "36it [26:50, 39.20s/it]"
     ]
    },
    {
     "name": "stdout",
     "output_type": "stream",
     "text": [
      "['В 1983 году в 100\\xa0км от устья реки в месте впадения в неё реки в верховьях была построена плотина, которая позволила увеличить её длину до 11\\xa0км.', 'В США Национальная баскетбольная ассоциация (НБА) приостановила свою профессиональную деятельность из-за угрозы COVID-19.', 'Решение НБА было принято после того, как игрок «Юта Джаз» дал положительный результат на вирус COVID-19.', 'В итоге, всё, что было написано, было описано в виде хроники, и, если бы не знание, которое он получил от своих учеников, он бы не смог найти ничего.']\n"
     ]
    },
    {
     "name": "stderr",
     "output_type": "stream",
     "text": [
      "\r",
      "37it [27:26, 38.30s/it]"
     ]
    },
    {
     "name": "stdout",
     "output_type": "stream",
     "text": [
      "['«Все это показывает, что всё снова стало мрачным»,\\xa0— сказала старший сотрудник службы по очистке рифов в Эфиопии и соавтор исследования Берхане Асфон.', 'К тому времени AOL уже могла развиваться своими собственными темпами, благодаря своему преимуществу на рынке услуг одновременной передачи данных в США.', 'В итоге, ему удаётся убедить Дэн в том, что он должен вернуться.', 'В 2007 году Yahoo! и Microsoft объявили о совместном проекте по созданию сервиса электронной почты, который будет конкурировать с AOL.']\n"
     ]
    },
    {
     "name": "stderr",
     "output_type": "stream",
     "text": [
      "\r",
      "38it [27:55, 35.55s/it]"
     ]
    },
    {
     "name": "stdout",
     "output_type": "stream",
     "text": [
      "['В 2008 году банк был национализирован, чтобы компания могла воспользоваться чрезвычайной помощью правительства Великобритании.', 'В 2007 году британский банк Northern Rock во время ипотечного кризиса потерял субстандартные ипотечные кредиты и нуждался в финансовой помощи.', 'Предложение о создании конгломерата Virgin Group сэра Ричарда Брэнсона было отклонено до национализации банка.', 'В 2010 году в ходе национализации от «банка-мошенника» Northern Rock (Asset management) отделился ныне действующий банк Northern Rock Plc.']\n"
     ]
    },
    {
     "name": "stderr",
     "output_type": "stream",
     "text": [
      "\r",
      "39it [28:32, 35.89s/it]"
     ]
    },
    {
     "name": "stdout",
     "output_type": "stream",
     "text": [
      "['Virgin конгломерат не приобрел компанию по продаже активов, а Northern Rock приобрел «хороший банк».', 'В 1980-х годах в связи с экономическим кризисом в стране, в котором оказалась страна, в которой существовала система экономической диктатуры, в стране началась массовая миграция населения из сельских районов в города.', 'Из более чем 24 000 известных метеоритов, только 34, как считается, были с Марса.', 'В июле 2011 года в результате падения метеорита на острова в Атлантическом океане погибло 11 человек.']\n"
     ]
    },
    {
     "name": "stderr",
     "output_type": "stream",
     "text": [
      "\r",
      "40it [29:15, 37.88s/it]"
     ]
    },
    {
     "name": "stdout",
     "output_type": "stream",
     "text": [
      "['В Мьянме встречающиеся в природе южные жемчужины продаются по ценам от 11 000 до 22 500 долларов США за унцию, что примерно на 10 пачек меньше золота.', 'По итогам гонки Кезеловски, набрав 2250 очков, остаётся лучшим гонщиком в чемпионате.', 'В итоге, Джонсон занял второе место с результатом 2243 очка.', '3-е место\\xa0— кругом по очкам следующий Хэмлин, но на шесть очков опережает Бойера. Кейн и Трукс-израски, соответственно 2220 и 2207 очками опережают, 5-е и 6-е места занимают.']\n"
     ]
    },
    {
     "name": "stderr",
     "output_type": "stream",
     "text": [
      "\r",
      "41it [29:44, 35.21s/it]"
     ]
    },
    {
     "name": "stdout",
     "output_type": "stream",
     "text": [
      "['Стюарт, Гордон, Кенсет и Харвик завершили список лучших позиций в своих зачётах, в гонке осталось ещё 4 круга.', 'В ВМС США заявили, что инцидент находится на стадии расследования.', 'В Йодмаше они также заявили: «Команда специалистов в настоящее время работает над внедрением средств, необходимых для скорейшего и безопасного вывода корабля».', '«Авенджер» класса минный тральщик, судно Палаван отплыло из Пуэрто-Принсес.']\n"
     ]
    },
    {
     "name": "stderr",
     "output_type": "stream",
     "text": [
      "\r",
      "42it [30:30, 38.53s/it]"
     ]
    },
    {
     "name": "stdout",
     "output_type": "stream",
     "text": [
      "['В 1942 году был переведён в состав 7-го флота США и закреплён в Сасебо, префектура Нагасаки, Япония.', '26 ноября 2008 года террористы-смертники, прибывшие в Мумбаи в ночное время, сбросили гранаты из автоматических винтовок и обстреляли несколько целей, в том числе многолюдный вокзал Чхатрапати-Шиваджи и знаменитый Тадж-Махал.', 'Разведчик и информационный агент Дэвид Хедлин помог провести операцию по ликвидации 10 боевиков из пакистанской группировки «Лашкар-э-Тайба».', 'В результате конфликта между Индией и Пакистаном в 1971 году, Пакистан получил контроль над Кашмиром.']\n"
     ]
    },
    {
     "name": "stderr",
     "output_type": "stream",
     "text": [
      "\r",
      "43it [31:03, 37.01s/it]"
     ]
    },
    {
     "name": "stdout",
     "output_type": "stream",
     "text": [
      "['В 1990-х годах в связи с ростом числа учащихся в школе, в здании стали размещаться учебные кабинеты, в которых обучались дети с ограниченными возможностями здоровья.', 'В частности, он писал: «Всегда хочу, чтобы в моей жизни было место для чего-то более приятного, чем простое существование».', 'Губернатор также сказал: «Также мы узнали: школьник из Южной Кореи с пациентом сосредоточенно разговаривает по телефону».', 'Он продолжал: «Тогда случай серьёзный. Уверяйте, что наша система работает как надо, как надо, как надо».']\n"
     ]
    },
    {
     "name": "stderr",
     "output_type": "stream",
     "text": [
      "\r",
      "44it [32:03, 43.73s/it]"
     ]
    },
    {
     "name": "stdout",
     "output_type": "stream",
     "text": [
      "['В итоге, он был вынужден покинуть город, чтобы найти убежище у Муссы.', 'В итоге, вместо обычного взрыва, в пространстве над кораблём появляется взрывное устройство, которое взрывает корабль.', 'В 1999 году, когда в мире началась война, он был одним из первых, кто увидел, что боевые действия на Ближнем Востоке стали одним из главных источников дохода для правительства США, и вместе с другими военными деятелями, в том числе с генералом Джорджем Бушем, он сыграл важную роль в создании и поддержании ', 'В 1991 году в селе была открыта школа, в которой обучались дети из села, а также из других населённых пунктов.']\n"
     ]
    },
    {
     "name": "stderr",
     "output_type": "stream",
     "text": [
      "\r",
      "45it [32:36, 40.70s/it]"
     ]
    },
    {
     "name": "stdout",
     "output_type": "stream",
     "text": [
      "['В 2009 году получил звание мастера спорта по лёгкой атлетике.', 'В 1991 году в честь 100-летия со дня рождения А.\\xa0А.\\xa0Скрябина в школе была открыта мемориальная доска.', 'В 1999 году в журнале «The Atlantic Monthly» был опубликован очерк о жизни и деятельности писателя.', 'В отчёте отмечается: результаты по контрольным работам были очень плохо оценены, и отмечается: школа выявила свои внутренние недостатки, но ни на что не ответила.']\n"
     ]
    },
    {
     "name": "stderr",
     "output_type": "stream",
     "text": [
      "\r",
      "46it [33:11, 38.76s/it]"
     ]
    },
    {
     "name": "stdout",
     "output_type": "stream",
     "text": [
      "['В 2013 году в связи с выявлением поддельных документов Холли была арестована вместе с 34 другими чиновниками системы образования.', 'В Ирландии, где существовала система парламентской демократии, парламенты избирались по пропорциональной системе.', '«Всегда хочу, чтобы в судах были справедливые суды, чтобы в судах были справедливые судьи, чтобы в судах были справедливые судьи»,\\xa0— сказала она.', 'Министр здравоохранения выразил обеспокоенность по поводу благополучия лиц, которые могут потреблять наркотические вещества, и отменил приговоры, связанные с наркотиками, после вступления в силу неконституционных поправок.']\n"
     ]
    },
    {
     "name": "stderr",
     "output_type": "stream",
     "text": [
      "\r",
      "47it [33:51, 39.19s/it]"
     ]
    },
    {
     "name": "stdout",
     "output_type": "stream",
     "text": [
      "['В 2009 году он был включен в заявку на матч против «Бенфики», но вскоре был отправлен в аренду в «Порту», где провёл всего один матч, после чего был отправлен в аренду в «Бенфику».', 'В матче против «Бордо» он дебютировал в основном составе команды.', 'Автобус едет в Six Flags St. Louis в Миссури, где музыканты должны выступить перед большой аудиторией.', 'В 15:15, когда автобус уже был в пути, он увидел, что впереди его машины, и решил ехать в сторону.']\n"
     ]
    },
    {
     "name": "stderr",
     "output_type": "stream",
     "text": [
      "\r",
      "48it [34:25, 37.66s/it]"
     ]
    },
    {
     "name": "stdout",
     "output_type": "stream",
     "text": [
      "['9 августа 2013 года в результате мощного взрыва в здании вокзала в городе Усть-Каменогорске погиб 19-летний житель города.', 'В Китае, в частности, в восточной части провинции Хэнань, блюдо блюдо из рыбы с рисом.', 'В 1990-х годах, когда в мире стали появляться двигатели с 90-градусным крутящим моментом, двигатель с 90-градусным крутящим моментом стал довольно распространённым.', 'Начальник пожарной команды Скотт Коунс сказал: «Также в Санта-Кларе был жаркий день, около 90 градусов».']\n"
     ]
    },
    {
     "name": "stderr",
     "output_type": "stream",
     "text": [
      "\r",
      "49it [34:58, 36.28s/it]"
     ]
    },
    {
     "name": "stdout",
     "output_type": "stream",
     "text": [
      "['В итоге, всё, что было сделано в ходе американского штурма, было не очень хорошо, и вывести из вагона первого человека заняло не менее часа.', 'В 2006 году, чтобы стать семикратным чемпионом «Формулы-1», завершающему карьеру Шумахеру пришлось сменить болезненного Фелипе Массу.', 'В 2009 году в гонке Гран-при Венгрии он потерпел аварию, в результате которой получил травму головы.', 'В 2009 году вместе с командой «Кайрат» выиграл Кубок Азербайджана.']\n"
     ]
    },
    {
     "name": "stderr",
     "output_type": "stream",
     "text": [
      "\r",
      "50it [35:19, 31.86s/it]"
     ]
    },
    {
     "name": "stdout",
     "output_type": "stream",
     "text": [
      "['Премьер-министр Родриго Ариас заявил, что тест Ариаса на легкой форме вируса показал положительный результат.', 'Он уверен, что президента можно убить, но вместо этого он решает устроить ему большой пир.', 'Несмотря на жару и дождь, я чувствую себя хорошо и могу делать свою работу дистанционно.', '«Я хочу, чтобы ты вернулся к своей работе»,\\xa0— сказала она.']\n"
     ]
    },
    {
     "name": "stderr",
     "output_type": "stream",
     "text": [
      "\r",
      "51it [35:59, 34.21s/it]"
     ]
    },
    {
     "name": "stdout",
     "output_type": "stream",
     "text": [
      "['В 1999 году в результате взрыва в одной из шахт в районе города Свердловска погиб 4-летний мальчик, который был спасён спасателями из-под снега, но вскоре скончался.', 'В итоге, несмотря на то, что ему не удалось ни разу найти воду, ни найти воду, ни найти воду, он не смог найти воду, и в итоге погиб.', 'По осадкомету Оаху осадки в 6,34 дюйма были определены как «осадки».', 'Вместе с ним в воду впадает и приток\\xa0— река Волга.']\n"
     ]
    },
    {
     "name": "stderr",
     "output_type": "stream",
     "text": [
      "\r",
      "52it [36:41, 36.39s/it]"
     ]
    },
    {
     "name": "stdout",
     "output_type": "stream",
     "text": [
      "['Ранее Twin Otter пытался найти в Кокоде рейс Airlines PNG CG4684, но не смог завершить свои попытки.', 'За 10 минут до назначенного времени взгляда он умер после второй попытки взглянуть.', 'В 1992 году в селе была установлена мемориальная доска, посвящённая жертвам войны, а в 2000 году в селе была установлена мемориальная доска, посвящённая жертвам войны, в честь которых назван переулок в селе.', 'В итоге, ему удалось сохранить равновесие и всё же выиграть у хозяев.']\n"
     ]
    },
    {
     "name": "stderr",
     "output_type": "stream",
     "text": [
      "\r",
      "53it [37:25, 38.72s/it]"
     ]
    },
    {
     "name": "stdout",
     "output_type": "stream",
     "text": [
      "['В 1999 году в селе была построена котельная на газотурбинном двигателе.', 'В итоге, вместо того, чтобы дать ему возможность вернуться в строй, компания решила построить газопровод.', 'В селе расположена часовня, посвящённая Преображению Господню.', 'Несмотря на то, что в клинической практике не было обнаружено никаких признаков заражения, в ходе исследований было установлено, что при лечении данного заболевания, в частности, при лечении хронического бронхита, снижается вероятность развития осложнений.']\n"
     ]
    },
    {
     "name": "stderr",
     "output_type": "stream",
     "text": [
      "\r",
      "54it [38:12, 41.14s/it]"
     ]
    },
    {
     "name": "stdout",
     "output_type": "stream",
     "text": [
      "['В итоге не вышел в полуфинал.', 'В результате пожара из города было эвакуировано около 100 человек.', 'В олимпийскую программу вновь вошёл гольф.', 'В 1996 году в Берлине на заседании исполнительного комитета Международного олимпийского комитета было принято решение включить в программу Олимпийских игр девять видов спорта: регби, регби-юнион и гольф, а также шесть других видов спорта, которые были выбраны для включения в программу Олимпийских игр.']\n"
     ]
    },
    {
     "name": "stderr",
     "output_type": "stream",
     "text": [
      "\r",
      "55it [38:47, 39.59s/it]"
     ]
    },
    {
     "name": "stdout",
     "output_type": "stream",
     "text": [
      "['По его мнению, из Олимпийского спорта в 2005 году следовало исключить сквош, карате и катание на роликовых коньках, а также бейсбол и софтбол.', 'В октябре 2011 года в ходе заседания Совета Федерации РФ был принят закон о внесении изменений в Конституцию РФ.', 'В данном случае слово «слепой» не имеет значения.', 'Медалист Олимпийских игр 2004 года Амир Хан сказал: «Внутри я считаю, что женщины не могут быть уверены.']\n"
     ]
    },
    {
     "name": "stderr",
     "output_type": "stream",
     "text": [
      "\r",
      "56it [39:38, 42.91s/it]"
     ]
    },
    {
     "name": "stdout",
     "output_type": "stream",
     "text": [
      "['В 2012 году он был включён в заявку сборной на Олимпийские игры в Лондоне.', 'Процесс коронного суда в Бирмингеме завершился 3 августа.', 'В 1999 году в ходе расследования было установлено, что в месте происшествия находились взрывчатые вещества, которые, по предположениям, были использованы для взрыва бомбы, а также взрывчатые вещества, которые могли быть использованы для взрыва бомбы.', 'Блейк уверен, что его мать должна быть казнена.']\n"
     ]
    },
    {
     "name": "stderr",
     "output_type": "stream",
     "text": [
      "\r",
      "57it [40:36, 47.38s/it]"
     ]
    },
    {
     "name": "stdout",
     "output_type": "stream",
     "text": [
      "['Судья Блейк сказал: «Это немыслимо», и его отправили в тюрьму.', 'В данном случае, мощность двигателя должна быть выше, чем мощность двигателя, работающего на жидком топливе.', 'Вместо этого он полагает, что ему помогает его мать.', 'В одной из них, в месте, где обычно кладут воду, обнаруживается гигантский гигантский гигантский гигантский гигантский гигантский гигантский гигантский гигантский гигантский гигантский гигантский гигантский гигантский гигантский гигантский гигантский гигантский гигантский']\n"
     ]
    },
    {
     "name": "stderr",
     "output_type": "stream",
     "text": [
      "\r",
      "58it [41:21, 46.75s/it]"
     ]
    },
    {
     "name": "stdout",
     "output_type": "stream",
     "text": [
      "['В итоге, взгляды на геологию Земли, в том числе и на геологию Солнца, стали столь сильно отличаться, что даже те, кто не был знаком с геологией, стали полагать, что Земля не имеет геологической истории.', 'Эта теория противоречит предположению, что геологическая активность в Тильзее была полностью отсутствующей.', 'В 1999 году в результате взрыва в одной из станций, в которой работали взрывчатые вещества, погибло 10 человек.', 'Вскоре после этого он был арестован за попытку похищения мальчика.']\n"
     ]
    },
    {
     "name": "stderr",
     "output_type": "stream",
     "text": [
      "\r",
      "59it [41:54, 42.48s/it]"
     ]
    },
    {
     "name": "stdout",
     "output_type": "stream",
     "text": [
      "['Возможно, что он был одним из последних правителей, которые не стали пользоваться властью, а его власть была ограничена только одним из его сыновей, Аменхотепом.', '17 сентября 2007 года в роддоме города Алейск, Россия, родилась Надя, вес которой составил 17 граммов и одну унцию.', '«Я хочу, чтобы ты был счастлив»,\\xa0— говорит он.', 'В ответ на это он сказал: «Я не могу сказать, что он был слишком осторожен, но он был слишком осторожен, чтобы говорить правду».']\n"
     ]
    },
    {
     "name": "stderr",
     "output_type": "stream",
     "text": [
      "\r",
      "60it [42:44, 44.86s/it]"
     ]
    },
    {
     "name": "stdout",
     "output_type": "stream",
     "text": [
      "['Нуно должно мыть своих детей водой, а они должны мыться чистой водой.', 'Ведь, если бы вы сидели рядом с ним, вы бы могли видеть, как он спит, как он мокрит или как он дышит.', '«Мы знаем, что есть только одна планета, которая демонстрирует более высокую плотность, чем Титан, и она называется Мланде»,\\xa0— добавляет Стофан.', 'В 1999 году, в связи с началом 1-го этапа, в связи с тем, что в 1998 году в связи с экономическим кризисом в стране были отменены все льготы, введены льготы для пенсионеров, а также для пенсионеров, не имеющих постоянного места жительства.']\n"
     ]
    },
    {
     "name": "stderr",
     "output_type": "stream",
     "text": [
      "\r",
      "61it [43:38, 47.59s/it]"
     ]
    },
    {
     "name": "stdout",
     "output_type": "stream",
     "text": [
      "['Узнав о том, что ранее в этот день было отправлено более 600 почтовых документов, предназначенных для находящихся в пути, в том числе 429 открыток, почтовые отделения принесли извинения гражданам и СМИ.', 'Пилотируемый с лунной орбиты аппарат «Чандраян-1» вывел на орбиту лунный ударный зонд (MIP), пролетевший с скоростью 1,5 км/с (3000 миль/ч) вблизи лунного полюса, и северный полюс Луны стал слишком быстро двигаться в сторону Луны.', 'В отличие от других боевых искусств, в боевом искусстве аниме, в аниме-сериале, в каждом эпизоде показывается только один персонаж, который является персонажем аниме.', '«Я хочу, чтобы все, кто смотрит на меня, смотрели на меня»,\\xa0— сказала она в интервью журналу «Время».']\n"
     ]
    },
    {
     "name": "stderr",
     "output_type": "stream",
     "text": [
      "\r",
      "62it [44:15, 44.49s/it]"
     ]
    },
    {
     "name": "stdout",
     "output_type": "stream",
     "text": [
      "['Всё это ему не нравится, но он понимает, что это не так.', 'Я хочу, чтобы ты помнил, что я хочу тебя, и я хочу, чтобы ты помнил меня.', 'В 1947 году, после получения Пакистаном независимости от Великобритании, президент Пакистана назначил «политических агентов» для управления территориями этих племён под федеральным управлением, которое полностью самоуправлялось над их землями.', 'В настоящее время агенты, согласно статье 247 Конституции Пакистана, обязаны предоставлять правительству и судам услуги.']\n"
     ]
    },
    {
     "name": "stderr",
     "output_type": "stream",
     "text": [
      "\r",
      "63it [44:42, 39.22s/it]"
     ]
    },
    {
     "name": "stdout",
     "output_type": "stream",
     "text": [
      "['В 10 часов утра в Мекке, сердце ислама, был сожжён хостел.', 'В Оралте несколько паломников пришли увидеть святого оллама Кастена, проходящего хадж.', 'В 1991 году в городе был основан городской совет, который возглавил бывший мэр города Абу-Даби.', 'В 15 лет он попал в труппу театра «Симфония», где играл в спектаклях «Симфония» и «Пятьдесят оттенков серого».']\n"
     ]
    },
    {
     "name": "stderr",
     "output_type": "stream",
     "text": [
      "\r",
      "64it [45:08, 35.23s/it]"
     ]
    },
    {
     "name": "stdout",
     "output_type": "stream",
     "text": [
      "['Леонов, также известный как «11-й №-й космонавт», был первым среди советских космонавтов.', '18 марта 1965 года он первым из людей вошёл в космический корабль и провел в космосе более 12 минут.', 'За боевые заслуги был награждён орденом Героя Советского Союза\\xa0— высшей наградой Советского Союза.', 'Вскоре после этого он возглавил советскую часть миссии Союз-Аполлон, что символизировало завершение переговоров в тайном ящике.']\n"
     ]
    },
    {
     "name": "stderr",
     "output_type": "stream",
     "text": [
      "\r",
      "65it [45:41, 34.50s/it]"
     ]
    },
    {
     "name": "stdout",
     "output_type": "stream",
     "text": [
      "['Он сказал: «В меньшее время должен быть ходатайство, и нет никакой разведданной, распространяющей это.', 'Но взгляд на высокий уровень безопасности не означает, что он не существует».', 'Несмотря на то, что правительственные органы не уверены в том, что опасность действительно существует, транспортное управление штата Мэриленд по приказу ФБР закрыло туннель.', 'В ходе боевых действий в районе города были уничтожены 80 танков противника, 80 танков противника были уничтожены в ходе боевых действий.']\n"
     ]
    },
    {
     "name": "stderr",
     "output_type": "stream",
     "text": [
      "\r",
      "66it [46:15, 34.28s/it]"
     ]
    },
    {
     "name": "stdout",
     "output_type": "stream",
     "text": [
      "['В итоге, вместо того, чтобы дать ему возможность вернуться в строй, ему пришлось дать ему временный временный паспорт, который не был действителен.', 'В 1990-х годах в связи с экономическим кризисом в Нигерии, в стране началась массовая эмиграция населения в страны Африки.', 'Комиссар Африканского союза по торговле и промышленности Альберт Мучанга объявил, что Бенин будет принимать у себя саммит.', 'Уполномоченный сказал: «Мы уже договорились о правилах увеличения продаж и снижения тарифов, но у нас есть основной интерес к началу торговли с 1 июля 2020 года».']\n"
     ]
    },
    {
     "name": "stderr",
     "output_type": "stream",
     "text": [
      "\r",
      "67it [46:44, 32.68s/it]"
     ]
    },
    {
     "name": "stdout",
     "output_type": "stream",
     "text": [
      "['В начале миссии лунной станции был выключен гироскоп, но в дождь станция начала снижать своё положение до того, как она достигла лунной поверхности.', 'Чиао и Шарипов находятся в безопасном удалении от двигателей ориентационной системы.', 'В верхнем течении протекает по равнинной местности, в нижнем течении переходит в равнину.', 'Работа началась в Вирджинии, так как там располагается главный офис AOL, крупнейшего интернет-провайдера, занимающегося продажей лицензий.']\n"
     ]
    },
    {
     "name": "stderr",
     "output_type": "stream",
     "text": [
      "\r",
      "68it [47:23, 34.68s/it]"
     ]
    },
    {
     "name": "stdout",
     "output_type": "stream",
     "text": [
      "['Также спам-брокеры, которые намеренно посылают электронные сообщения пользователям без их согласия, были впервые осуждены в 2003 году в соответствии с законом.', '21-летний Иисус перешёл в «Манчестер Сити» в январе 2017 года из бразильского клуба «Палмейрас» за, по сообщениям, 27 миллионов фунтов стерлингов.', 'В составе клуба из города Сан-Паулу провёл 53 матча и забил 24 гола.', 'Доктор Ли также выразил обеспокоенность по поводу сообщений о том, что в настоящее время в Турции дети заражаются вирусом судового гриппа A(H5N1) и не имеют симптомов болезни.']\n"
     ]
    },
    {
     "name": "stderr",
     "output_type": "stream",
     "text": [
      "\r",
      "69it [48:01, 35.54s/it]"
     ]
    },
    {
     "name": "stdout",
     "output_type": "stream",
     "text": [
      "['Он отметил, что, согласно некоторым оценкам, снижение уровня воды в море может снизить вероятность эпидемии.', 'Существует опасение, что, хотя симптомы гриппа могут быть менее выраженными, пациенты могут заразить больше людей, чем они могут делать в школе.', 'По мнению члена Komen Foundation Лесли Она (Leslie Aun), организация выпустила правило, согласно которому организации, прошедшие судебное разбирательство, не могут получать гранты или субсидии.', 'В своей политической речи Комен отменил свою поддержку Planned Parenthood из-за проведения конгрессменом Клиффом Стирном расследования о том, как Planned Parenthood расходует свои деньги и отчитывается о них.']\n"
     ]
    },
    {
     "name": "stderr",
     "output_type": "stream",
     "text": [
      "\r",
      "70it [48:40, 36.75s/it]"
     ]
    },
    {
     "name": "stdout",
     "output_type": "stream",
     "text": [
      "['В качестве председателя подкомитета по вопросам предупреждения и борьбы с преступностью Комитета по энергетике и торговле Конгресса Стирнс подверг критике налоги на аборты, введенные Planned Parenthood.', 'Бывший губернатор Массачусетса Митт Ромни, набравший более 46\\xa0% голосов, уступил Республиканской партии во Флориде в прошедшем президентском праймериз.', 'Бывший спикер Палаты представителей Ньют Гингрич занял второе место с 32\\xa0%.', 'В качестве штата, где «победитель получает всё», Флорида, выдвинувшая Ромни в качестве лидера в переговорах с кандидатом от Республиканской партии, получила 50 из 60 делегатов.']\n"
     ]
    },
    {
     "name": "stderr",
     "output_type": "stream",
     "text": [
      "\r",
      "71it [49:19, 37.31s/it]"
     ]
    },
    {
     "name": "stdout",
     "output_type": "stream",
     "text": [
      "['Организаторы акции заявили, что в Берлине, Кёльне, Гамбурге и Ганновере собралось более 100 000 человек.', 'В Берлине полиция обнаружила 6500 столкновений.', 'Встречи также прошли в Париже, Софии (Болгария), Вильнюсе (Литва), Валлетте (Мальта), Таллине (Эстония), Эдинбурге (Шотландия) и Глазго (Шотландия).', 'В 1996 году в Лондоне в здании здания, где располагается офис компании, состоялось собрание 200 человек.']\n"
     ]
    },
    {
     "name": "stderr",
     "output_type": "stream",
     "text": [
      "\r",
      "72it [49:59, 38.11s/it]"
     ]
    },
    {
     "name": "stdout",
     "output_type": "stream",
     "text": [
      "['В следующем месяце, когда страна подписала договор АСТА, в Польше произошла большая дискуссия, в ходе которой правительство Польши заявило, что пока не ратифицирует этот документ.', 'В 1990 году в Латвии и Словакии был запущен процесс вступления в Организацию по борьбе с контрафакцией (АСТА).', 'Организация «Борьба с волками» и Королевское общество по защите уязвимых животных (RSPCA) призвали к установке видеонаблюдения во всех местах, где в Австралии встречаются волки.', 'Дэвид О’Шаннесси, главный инспектор RSPCA в Уэст-Кейсвалве, Уэльс, заявил АВС, что инспекция и проверка мест гнездования волков в Австралии должна быть простой работой.']\n"
     ]
    },
    {
     "name": "stderr",
     "output_type": "stream",
     "text": [
      "\r",
      "73it [50:33, 36.99s/it]"
     ]
    },
    {
     "name": "stdout",
     "output_type": "stream",
     "text": [
      "['«Система видеонаблюдения, безусловно, является важнейшим выбором для военных, так как она будет служить сигналом для всех, кто работает с вооружёнными силами».', 'В 1990-х годах в связи с экономическим кризисом в стране, а также в связи с неспособностью правительства удовлетворить потребности населения в жилье, в городе началась реконструкция.', 'В 1988 году в результате взрыва в метеорологическом центре в городе Гётеборг в Норвегии погибло 48 человек.', 'Большая сейсмическая активность, вызвавшая извержения в фазе, была 10 марта в юго-западной части верхнего кратера вулкана.']\n"
     ]
    },
    {
     "name": "stderr",
     "output_type": "stream",
     "text": [
      "\r",
      "74it [51:08, 36.45s/it]"
     ]
    },
    {
     "name": "stdout",
     "output_type": "stream",
     "text": [
      "['Вулканический дым, связанный с взрывом, был замечен рядом с куриным гнездом.', 'В итоге, ему удалось сохранить равновесие, но всё же не смог выиграть бой.', 'В момент столкновения двигателя «Луно» с волнами мощного шторма и волнорезом, в нём находилось 120—160 кубических метров топлива.', 'Экипаж вертолёта был спасён, но вскоре после этого экипаж вертолёта был сбит взрывом.']\n"
     ]
    },
    {
     "name": "stderr",
     "output_type": "stream",
     "text": [
      "\r",
      "75it [51:47, 37.20s/it]"
     ]
    },
    {
     "name": "stdout",
     "output_type": "stream",
     "text": [
      "['Для того, чтобы перевезти свой груз, как обычно, на лодке был сделан ров в несколько метров, и бывшие пассажиры боялись, что он может перенести груз.', 'В 2011 году в селе была открыта часовня.', 'В 1996 году в результате выборов в Палату представителей, в которой демократы получили большинство мест, и в Сенат, в котором демократы получили меньшинство мест, был создан новый состав Палаты представителей.', 'В итоге, всё это привело к тому, что в 1992 году в стране произошёл государственный переворот, в результате которого власть перешла к демократам.']\n"
     ]
    },
    {
     "name": "stderr",
     "output_type": "stream",
     "text": [
      "\r",
      "76it [52:30, 38.84s/it]"
     ]
    },
    {
     "name": "stdout",
     "output_type": "stream",
     "text": [
      "['В соответствии с процедурой, резолюции, принятые совместно обеими палатами, рассматриваются другими законодателями, избранными в 2015 или 2016 году для продолжения процесса.', 'В 1973 году, после того как в стране была введена цензура, он стал одним из лидеров движения против цензуры.', 'В 1975 году в селе была построена церковь, в которой в 1977 году был освящён камень, на котором в 1979 году была установлена часовня, а в 1985 году\\xa0— деревянная часовня.', 'В 1998 году вышел сборник «Сказки о снегу».']\n"
     ]
    },
    {
     "name": "stderr",
     "output_type": "stream",
     "text": [
      "\r",
      "77it [52:55, 34.69s/it]"
     ]
    },
    {
     "name": "stdout",
     "output_type": "stream",
     "text": [
      "['В 1960-х годах, чтобы преподавать кинорежиссуру, вернулся в лишь недавно обретший свободу Алжир.', 'Двумя золотыми олимпийскими медалями обладает японский дзюдоист Хитоси Сайто 54-летний.', 'В итоге, вместо обычного взрыва, произошёл взрыв, вызванный взрывом в шахте.', 'Впадает в Оку у посёлка Кюдзю.']\n"
     ]
    },
    {
     "name": "stderr",
     "output_type": "stream",
     "text": [
      "\r",
      "78it [53:30, 34.81s/it]"
     ]
    },
    {
     "name": "stdout",
     "output_type": "stream",
     "text": [
      "['В 1990 году, в возрасте 17 лет, он стал чемпионом мира по дзюдо, а также чемпионом Азии по дзюдо, став первым японским спортсменом, выигравшим олимпийскую медаль в тяжёлой весовой категории.', 'В 1999 году впервые в истории сборной страны был забит гол, который не был забитым в ворота соперника.', 'В итоге, стало ясно, что боевые действия на востоке страны будут вестись в условиях усиления боевых действий на западе.', 'Вскоре после этого в Техасе началась массовая миграция населения из восточных штатов в западные, в том числе в Буффало.']\n"
     ]
    },
    {
     "name": "stderr",
     "output_type": "stream",
     "text": [
      "\r",
      "79it [54:14, 37.54s/it]"
     ]
    },
    {
     "name": "stdout",
     "output_type": "stream",
     "text": [
      "['В 1930-х годах в селе была построена деревянная церковь, но она не сохранилась.', 'Карно считается одним из лучших преподавателей английского языка по переговорам. Он преподавал в учебных заведениях «Интересное обучение» и «Королевский престиж» и сказал, что на уровне его карьеры было 9000 учеников.', 'В своих школьных выступлениях он использовал слово «тугай», которое считалось южными родителями торжественным, и, как утверждается, в занятиях он использовал нецензурный лексикон.', 'В 1999 году компания Modern Education Company обвинила его в том, что он без разрешения размещал рекламные объявления на автобусах и что он считал себя главным учителем английского языка.']\n"
     ]
    },
    {
     "name": "stderr",
     "output_type": "stream",
     "text": [
      "\r",
      "80it [54:57, 39.20s/it]"
     ]
    },
    {
     "name": "stdout",
     "output_type": "stream",
     "text": [
      "['В итоге, он был вынужден отказаться от права на титулы, но не отказался от права на титул.', 'В начале 1990-х годов, когда в университете начали вестись дискуссии о необходимости «сохранения существовавшего в то время в университете существа, которое было бы равноценно существу, которое было бы существом, которое было бы существом».', 'В 1989 году в стране была введена рыночная экономика, а в 1990 году в стране была создана рыночная экономика.', 'В 1982 году в стране началась экономическая реформа под руководством Дэн Сяопина.']\n"
     ]
    },
    {
     "name": "stderr",
     "output_type": "stream",
     "text": [
      "\r",
      "81it [55:35, 38.77s/it]"
     ]
    },
    {
     "name": "stdout",
     "output_type": "stream",
     "text": [
      "['В 1989 году в селе проживало 90 человек.', 'В следующем году Китай экспортировал больше автомобилей, чем Германия, и обогнал США как крупнейший рынок в этой отрасли.', 'В 2014 году ВВП Китая превысил ВВП США на 10\\xa0%.', 'Тропический шторм «Даниэлла»\\xa0— четвёртый тропический шторм, названный в Атлантике во время тропического шторма 2010 года, возникший в западной части Атлантического океана.']\n"
     ]
    },
    {
     "name": "stderr",
     "output_type": "stream",
     "text": [
      "\r",
      "82it [56:14, 38.94s/it]"
     ]
    },
    {
     "name": "stdout",
     "output_type": "stream",
     "text": [
      "['В штате Флорида, в 3000 милях от Майами, самый сильный шторм, который может изменить направление, имеет скорость 40 миль в час (64 км/ч).', 'В 1997 году в селе появился памятник «Страна моя» в честь героя Великой Отечественной войны, Героя Советского Союза, Героя Социалистического Труда, Героя Социалистического Труда.', 'В отличие от шторма или урагана, его воздействие на страны Карибского бассейна и США в настоящее время трудно оправдать.', 'В 1991 году, после окончания карьеры футболиста, Бобан перешёл в белградский футбольный клуб «Партизан».']\n"
     ]
    },
    {
     "name": "stderr",
     "output_type": "stream",
     "text": [
      "\r",
      "83it [56:42, 35.70s/it]"
     ]
    },
    {
     "name": "stdout",
     "output_type": "stream",
     "text": [
      "['В 1945 году он был переведён в 1-й гвардейский стрелковый полк, а в 1948 году\\xa0— в 5-й гвардейский стрелковый полк.', 'За время выступлений за команду он забил 403 гола в 468 матчах.', 'В матче против «Блэкберн Роверс» он не сыграл ни минуты, а «Блэкберн» не смог забить ни одного гола.', 'В 1995 году он был признан лучшим игроком за всю историю «Партизана».']\n"
     ]
    },
    {
     "name": "stderr",
     "output_type": "stream",
     "text": [
      "\r",
      "84it [57:09, 33.00s/it]"
     ]
    },
    {
     "name": "stdout",
     "output_type": "stream",
     "text": [
      "['В 1996 году он был приглашён в Cirque du Soleil, где работал в качестве ведущего шоу.', 'За ним последовали Стамбульский Королевский Симфонический оркестр, ансамбль «Янчар», а также музыканты Фатих Эркоч и Мюслюм Гюрсес.', 'Вскоре на сцену вышли обнажённые дервиши.', 'Турецкая примадонна Сезен Акссу выступала вместе с итальянским тенором Алессандро Сафиной и греческим муризом Харисом Алексиу.']\n"
     ]
    },
    {
     "name": "stderr",
     "output_type": "stream",
     "text": [
      "\r",
      "85it [57:39, 31.94s/it]"
     ]
    },
    {
     "name": "stdout",
     "output_type": "stream",
     "text": [
      "['В качестве вступительного трека был использован турецкий дуэт Fire of Anatolia, исполнивший композицию «Троя».', 'Питер Ленц, 13-летний мотогонщик, на «Индианаполис Мотор Спидвей» погиб в автокатастрофе.', 'Во время выступления Ленц скатился с мотоцикла, вскоре после чего его в суде остановил коллега Ксавьер Заят.', 'В 1999 году в лечебнице была открыта первая в мире клиника по лечению хронических заболеваний, в которой работают врачи-психиатры, а также терапевты.']\n"
     ]
    },
    {
     "name": "stderr",
     "output_type": "stream",
     "text": [
      "\r",
      "86it [58:18, 34.28s/it]"
     ]
    },
    {
     "name": "stdout",
     "output_type": "stream",
     "text": [
      "['Не пострадал в аварии.', 'В связи с глобальной финансовой ситуацией Сапатеро продолжал утверждать, что «финансовая система является частью экономики, важной частью экономики».', '«Мне кажется, финансовый кризис длится уже год, а последние два месяца были более трудными, и я думаю, что сейчас финансовые рынки начинают вновь расти».', 'В 1999 году в эфир вышел сериал «Случайные случаи», в котором главные герои, являясь обычным ребёнком, пытаются разгадать загадку, связанную с существованием гигантских существ, которые обитают в мире.']\n"
     ]
    },
    {
     "name": "stderr",
     "output_type": "stream",
     "text": [
      "\r",
      "87it [58:51, 33.92s/it]"
     ]
    },
    {
     "name": "stdout",
     "output_type": "stream",
     "text": [
      "['Глобальная организация в настоящее время говорит на английском и японском, а также распространяет ТВ-передачи, передачи в Интернете и на мобильных устройствах на испанском, итальянском и корейском языках.', '«Пиалешем, я не был приятен, но я видел смешную сцену, когда люди пытались выбить окна, чтобы вылезти.', 'Они пытались взорвать окна, но окна были неразрушимы.', '«Встреча была устроена так, что в одном из окон было устроено взрывное устройство, и они начали вылезать из окна»,\\xa0— рассказал житель Францишек Ковал.']\n"
     ]
    },
    {
     "name": "stderr",
     "output_type": "stream",
     "text": [
      "\r",
      "88it [59:26, 34.04s/it]"
     ]
    },
    {
     "name": "stdout",
     "output_type": "stream",
     "text": [
      "['Взрывы являются источником огромного количества тепла, которое может быть использовано для образования более тяжёлых элементов, например, водорода, в результате слияния атомов водорода.', 'В итоге, взрывы в реакторах стали причиной катастрофы.', 'В то же время, это важная проблема, и её необходимо решить.', 'В верхнем течении протекает по болотистой местности.']\n"
     ]
    },
    {
     "name": "stderr",
     "output_type": "stream",
     "text": [
      "\r",
      "89it [1:00:00, 34.23s/it]"
     ]
    },
    {
     "name": "stdout",
     "output_type": "stream",
     "text": [
      "['В результате молекулы воды, находящиеся в верхней части воды, имеют большее сцепление друг с другом, чем молекулы воды, находящиеся в нижней части воды.', 'В верхнем течении река протекает по болотистой местности, в нижнем течении протекает по болотистой местности, в нижнем течении реки\\xa0— по болотистой местности.', 'В верхнем течении река протекает по болотистой местности, в нижнем течении\\xa0— по болотистой местности, в нижнем течении реки\\xa0— по болотистой местности.', 'В верхнем течении река протекает по болотистой местности, в нижнем течении по оврагу, в котором впадает в реку Пышма.']\n"
     ]
    },
    {
     "name": "stderr",
     "output_type": "stream",
     "text": [
      "\r",
      "90it [1:00:35, 34.36s/it]"
     ]
    },
    {
     "name": "stdout",
     "output_type": "stream",
     "text": [
      "['Если коньки двигаются вниз, то конь становится вниз, а если коньки двигаются вверх, то конь становится вверх.', 'В случае, если ему удастся найти ключи, он сможет вернуть себе ключи, которые он потерял в битве с Волшебником.', 'В этот день в селе проводится обычай пускать в воду рыбу.', 'Верующие называют этот процесс «индуцированным переносом напряжения», поскольку атомы индуцируются постоянным напряжением, когда фотон переносится, и это напряжение является одним из видов волнового поля.']\n"
     ]
    },
    {
     "name": "stderr",
     "output_type": "stream",
     "text": [
      "\r",
      "91it [1:01:01, 31.79s/it]"
     ]
    },
    {
     "name": "stdout",
     "output_type": "stream",
     "text": [
      "['На рисунке показаны атомы, которые отдают фотоны. Конечно, на самом деле фотоны гораздо меньше, чем показано на рисунке.', 'Всё это делает атомы более тяжёлыми, чем атомы водорода.', 'В лампах накаливания лампы накаливания расположены в лампах накаливания, а лампы накаливания расположены в лампах накаливания.', 'В итоге, взгляды на эту тему разделились, и лампы накаливания стали использоваться реже.']\n"
     ]
    },
    {
     "name": "stderr",
     "output_type": "stream",
     "text": [
      "\r",
      "92it [1:01:40, 34.02s/it]"
     ]
    },
    {
     "name": "stdout",
     "output_type": "stream",
     "text": [
      "['Вместо этого, они стали использовать обычные кабели, а не кабели с фиксированным током.', 'Это происходит потому, что электричество, поступающее в патрон от лампы, вращающейся вокруг своей оси, при контакте с внутренней частью патрона или с лампой, находящейся в патроне, может вызвать электрический разряд.', 'В верхнем течении протекает по оврагу, образуя овраг.', 'В верхнем течении река протекает по болотистой местности, в нижнем течении\\xa0— по болотистой местности, в нижнем течении реки\\xa0— по болотистой местности.']\n"
     ]
    },
    {
     "name": "stderr",
     "output_type": "stream",
     "text": [
      "\r",
      "93it [1:02:06, 31.65s/it]"
     ]
    },
    {
     "name": "stdout",
     "output_type": "stream",
     "text": [
      "['В итоге, не только не удалось найти трупы, но и обнаружить только фрагменты скелета.', 'В верхнем течении протекает по болотистой местности, в нижнем течении\\xa0— по болотистой местности.', 'В верхнем течении протекает по болотистой местности, в нижнем течении по крутым склонам.', 'Возможно, что трицератопс использовал силу своего хвоста для того, чтобы схватить добычу, прежде чем она могла бы взлететь.']\n"
     ]
    },
    {
     "name": "stderr",
     "output_type": "stream",
     "text": [
      "\r",
      "94it [1:03:04, 39.39s/it]"
     ]
    },
    {
     "name": "stdout",
     "output_type": "stream",
     "text": [
      "['В одной из них говорится, что в этот день нельзя есть ничего, кроме рыбы, а в другой\\xa0— что в этот день нельзя есть ничего, кроме рыбы, и что в этот день нельзя есть ничего, кроме рыбы, и что в этот день нельзя есть ничего, кроме рыбы, и что в этот день нельзя есть ничего, кроме рыбы', 'Как же гравитационное поле Ио меня потрясает? Если бы было поле Ио, то вы были бы менее тяжелыми, чем Мланде.', 'В Мландре 200 крема (90 кг) нельзя переносить, а в 36 крема (16 кг) можно переносить.', 'В верхнем течении протекает по болотистым, заболоченным местностям, в нижнем течении\\xa0— по болотистым, заболоченным местностям.']\n"
     ]
    },
    {
     "name": "stderr",
     "output_type": "stream",
     "text": [
      "\r",
      "95it [1:04:04, 45.66s/it]"
     ]
    },
    {
     "name": "stdout",
     "output_type": "stream",
     "text": [
      "['В верхнем течении протекает по болотистому ландшафту.', 'В 1996 году, когда в мире началась волна скандала, связанного с «Скандалом в «Скайриме», стало известно, что «Скайрим» будет переименован в «Скайрим-2».', 'В 1610 году итальянский астроном Галилео Галилей, используя телескоп, обнаружил, что Солнце имеет фазы, как и Луна.', 'В 1600 году впервые был обнаружен метеорит, который был назван в честь Венеры, и в 1601 году был обнаружен метеорит, который был назван в честь Венеры, и в 1602 году метеорит, который был назван в честь Венеры, и в 1603 году метеорит, который был назван в честь Венеры']\n"
     ]
    },
    {
     "name": "stderr",
     "output_type": "stream",
     "text": [
      "\r",
      "96it [1:04:37, 41.99s/it]"
     ]
    },
    {
     "name": "stdout",
     "output_type": "stream",
     "text": [
      "['Английский астроном Джеремайя Хоррокс (Jeremiah Horrocks) заметил прохождение Солнечной системы через несколько лет (и только в 1639 году).', 'В Англии ему удалось добиться снижения налогов на недвижимость.', 'В 1949 году в составе 1-й гвардейской танковой дивизии участвовал в боях за освобождение Крыма, в 1950 году\\xa0— в боях за освобождение Крыма.', 'Этот флот возглавлял Олав Трюгвасон, норвежец, который хотел вернуть свою землю датскому господству.']\n"
     ]
    },
    {
     "name": "stderr",
     "output_type": "stream",
     "text": [
      "\r",
      "97it [1:05:11, 39.48s/it]"
     ]
    },
    {
     "name": "stdout",
     "output_type": "stream",
     "text": [
      "['После того, как Этельред вступил в переговоры с Олавом о заключении мира, тот вернулся в Норвегию, чтобы изменить своё королевство и восстановить порядок.', 'Хангыль\\xa0— это алфавит, который используется ежедневно, и был изобретён в 1444 году под руководством Ван Сэчжона (1418—1450).', 'Король Седжон был четвёртым королём из династии Чосон и одним из самых влиятельных.', 'В итоге он назвал хангыльский алфавит «Хунмин Чоном», что означает «недостаток истинных манер для обучения мужчин».']\n"
     ]
    },
    {
     "name": "stderr",
     "output_type": "stream",
     "text": [
      "\r",
      "98it [1:05:44, 37.61s/it]"
     ]
    },
    {
     "name": "stdout",
     "output_type": "stream",
     "text": [
      "['Существует несколько теорий о происхождении санскрита. Согласно одной из них, арийцы, прибывшие в Индию из Каспия, принесли с собой свой язык.', 'Санскрит\\xa0— это аккреционный язык, и его можно сравнить с латинским языком, на котором говорят в Европе.', 'В 1996 году в одной из книг, посвящённых священному письму, он писал: «Все, что я знаю о санскрите, я узнал из книг, которые я читал в детстве.', 'Санскрит\\xa0— очень сложный и деликатный язык, который лежит в основе многих современных индийских языков, так же как латинский язык лежит в основе европейских языков, таких как французский и испанский.']\n"
     ]
    },
    {
     "name": "stderr",
     "output_type": "stream",
     "text": [
      "98it [1:06:32, 40.74s/it]\n"
     ]
    },
    {
     "data": {
      "text/html": [
       "<pre style=\"white-space:pre;overflow-x:auto;line-height:normal;font-family:Menlo,'DejaVu Sans Mono',consolas,'Courier New',monospace\"><span style=\"color: #800000; text-decoration-color: #800000\">╭─────────────────────────────── </span><span style=\"color: #800000; text-decoration-color: #800000; font-weight: bold\">Traceback </span><span style=\"color: #bf7f7f; text-decoration-color: #bf7f7f; font-weight: bold\">(most recent call last)</span><span style=\"color: #800000; text-decoration-color: #800000\"> ────────────────────────────────╮</span>\n",
       "<span style=\"color: #800000; text-decoration-color: #800000\">│</span> in <span style=\"color: #00ff00; text-decoration-color: #00ff00\">&lt;module&gt;</span>:<span style=\"color: #0000ff; text-decoration-color: #0000ff\">7</span>                                                                                    <span style=\"color: #800000; text-decoration-color: #800000\">│</span>\n",
       "<span style=\"color: #800000; text-decoration-color: #800000\">│</span>                                                                                                  <span style=\"color: #800000; text-decoration-color: #800000\">│</span>\n",
       "<span style=\"color: #800000; text-decoration-color: #800000\">│</span>   <span style=\"color: #7f7f7f; text-decoration-color: #7f7f7f\">4 </span><span style=\"color: #0000ff; text-decoration-color: #0000ff\">for</span> batch <span style=\"color: #ff00ff; text-decoration-color: #ff00ff\">in</span> tqdm(batch_split(df, batch_size=<span style=\"color: #0000ff; text-decoration-color: #0000ff\">4</span>)):                                            <span style=\"color: #800000; text-decoration-color: #800000\">│</span>\n",
       "<span style=\"color: #800000; text-decoration-color: #800000\">│</span>   <span style=\"color: #7f7f7f; text-decoration-color: #7f7f7f\">5 </span><span style=\"color: #7f7f7f; text-decoration-color: #7f7f7f\">│   </span>results = model.translate_batch(batch)                                                   <span style=\"color: #800000; text-decoration-color: #800000\">│</span>\n",
       "<span style=\"color: #800000; text-decoration-color: #800000\">│</span>   <span style=\"color: #7f7f7f; text-decoration-color: #7f7f7f\">6 </span><span style=\"color: #7f7f7f; text-decoration-color: #7f7f7f\">│   </span><span style=\"color: #0000ff; text-decoration-color: #0000ff\">with</span> <span style=\"color: #00ffff; text-decoration-color: #00ffff\">open</span>(<span style=\"color: #808000; text-decoration-color: #808000\">'results-mhr.txt'</span>, <span style=\"color: #808000; text-decoration-color: #808000\">'a'</span>) <span style=\"color: #0000ff; text-decoration-color: #0000ff\">as</span> file:                                               <span style=\"color: #800000; text-decoration-color: #800000\">│</span>\n",
       "<span style=\"color: #800000; text-decoration-color: #800000\">│</span> <span style=\"color: #800000; text-decoration-color: #800000\">❱ </span>7 <span style=\"color: #7f7f7f; text-decoration-color: #7f7f7f\">│   │   </span><span style=\"color: #00ffff; text-decoration-color: #00ffff\">print</span>(*results, sep=<span style=\"color: #808000; text-decoration-color: #808000\">'\\n'</span>, file=file)                                                 <span style=\"color: #800000; text-decoration-color: #800000\">│</span>\n",
       "<span style=\"color: #800000; text-decoration-color: #800000\">│</span>   <span style=\"color: #7f7f7f; text-decoration-color: #7f7f7f\">8 </span><span style=\"color: #7f7f7f; text-decoration-color: #7f7f7f\">│   </span><span style=\"color: #00ffff; text-decoration-color: #00ffff\">print</span>(results)                                                                           <span style=\"color: #800000; text-decoration-color: #800000\">│</span>\n",
       "<span style=\"color: #800000; text-decoration-color: #800000\">│</span>   <span style=\"color: #7f7f7f; text-decoration-color: #7f7f7f\">9 </span>                                                                                             <span style=\"color: #800000; text-decoration-color: #800000\">│</span>\n",
       "<span style=\"color: #800000; text-decoration-color: #800000\">│</span>                                                                                                  <span style=\"color: #800000; text-decoration-color: #800000\">│</span>\n",
       "<span style=\"color: #800000; text-decoration-color: #800000\">│</span> <span style=\"color: #808000; text-decoration-color: #808000\">C:\\Users\\cutefluffyfox\\AppData\\Local\\Programs\\Python\\Python39\\lib\\encodings\\cp1251.py</span>:<span style=\"color: #0000ff; text-decoration-color: #0000ff\">19</span> in      <span style=\"color: #800000; text-decoration-color: #800000\">│</span>\n",
       "<span style=\"color: #800000; text-decoration-color: #800000\">│</span> <span style=\"color: #00ff00; text-decoration-color: #00ff00\">encode</span>                                                                                           <span style=\"color: #800000; text-decoration-color: #800000\">│</span>\n",
       "<span style=\"color: #800000; text-decoration-color: #800000\">│</span>                                                                                                  <span style=\"color: #800000; text-decoration-color: #800000\">│</span>\n",
       "<span style=\"color: #800000; text-decoration-color: #800000\">│</span>   <span style=\"color: #7f7f7f; text-decoration-color: #7f7f7f\"> 16 </span>                                                                                           <span style=\"color: #800000; text-decoration-color: #800000\">│</span>\n",
       "<span style=\"color: #800000; text-decoration-color: #800000\">│</span>   <span style=\"color: #7f7f7f; text-decoration-color: #7f7f7f\"> 17 </span><span style=\"color: #0000ff; text-decoration-color: #0000ff\">class</span> <span style=\"color: #00ff00; text-decoration-color: #00ff00; text-decoration: underline\">IncrementalEncoder</span>(codecs.IncrementalEncoder):                                       <span style=\"color: #800000; text-decoration-color: #800000\">│</span>\n",
       "<span style=\"color: #800000; text-decoration-color: #800000\">│</span>   <span style=\"color: #7f7f7f; text-decoration-color: #7f7f7f\"> 18 </span><span style=\"color: #7f7f7f; text-decoration-color: #7f7f7f\">│   </span><span style=\"color: #0000ff; text-decoration-color: #0000ff\">def</span> <span style=\"color: #00ff00; text-decoration-color: #00ff00\">encode</span>(<span style=\"color: #00ffff; text-decoration-color: #00ffff\">self</span>, <span style=\"color: #00ffff; text-decoration-color: #00ffff\">input</span>, final=<span style=\"color: #0000ff; text-decoration-color: #0000ff\">False</span>):                                                  <span style=\"color: #800000; text-decoration-color: #800000\">│</span>\n",
       "<span style=\"color: #800000; text-decoration-color: #800000\">│</span> <span style=\"color: #800000; text-decoration-color: #800000\">❱ </span> 19 <span style=\"color: #7f7f7f; text-decoration-color: #7f7f7f\">│   │   </span><span style=\"color: #0000ff; text-decoration-color: #0000ff\">return</span> codecs.charmap_encode(<span style=\"color: #00ffff; text-decoration-color: #00ffff\">input</span>,<span style=\"color: #00ffff; text-decoration-color: #00ffff\">self</span>.errors,encoding_table)[<span style=\"color: #0000ff; text-decoration-color: #0000ff\">0</span>]                  <span style=\"color: #800000; text-decoration-color: #800000\">│</span>\n",
       "<span style=\"color: #800000; text-decoration-color: #800000\">│</span>   <span style=\"color: #7f7f7f; text-decoration-color: #7f7f7f\"> 20 </span>                                                                                           <span style=\"color: #800000; text-decoration-color: #800000\">│</span>\n",
       "<span style=\"color: #800000; text-decoration-color: #800000\">│</span>   <span style=\"color: #7f7f7f; text-decoration-color: #7f7f7f\"> 21 </span><span style=\"color: #0000ff; text-decoration-color: #0000ff\">class</span> <span style=\"color: #00ff00; text-decoration-color: #00ff00; text-decoration: underline\">IncrementalDecoder</span>(codecs.IncrementalDecoder):                                       <span style=\"color: #800000; text-decoration-color: #800000\">│</span>\n",
       "<span style=\"color: #800000; text-decoration-color: #800000\">│</span>   <span style=\"color: #7f7f7f; text-decoration-color: #7f7f7f\"> 22 </span><span style=\"color: #7f7f7f; text-decoration-color: #7f7f7f\">│   </span><span style=\"color: #0000ff; text-decoration-color: #0000ff\">def</span> <span style=\"color: #00ff00; text-decoration-color: #00ff00\">decode</span>(<span style=\"color: #00ffff; text-decoration-color: #00ffff\">self</span>, <span style=\"color: #00ffff; text-decoration-color: #00ffff\">input</span>, final=<span style=\"color: #0000ff; text-decoration-color: #0000ff\">False</span>):                                                  <span style=\"color: #800000; text-decoration-color: #800000\">│</span>\n",
       "<span style=\"color: #800000; text-decoration-color: #800000\">╰──────────────────────────────────────────────────────────────────────────────────────────────────╯</span>\n",
       "<span style=\"color: #ff0000; text-decoration-color: #ff0000; font-weight: bold\">UnicodeEncodeError: </span><span style=\"color: #008000; text-decoration-color: #008000\">'charmap'</span> codec can't encode character <span style=\"color: #008000; text-decoration-color: #008000\">'\\xf6'</span> in position <span style=\"color: #008080; text-decoration-color: #008080; font-weight: bold\">90</span>: character maps to <span style=\"font-weight: bold\">&lt;</span><span style=\"color: #ff00ff; text-decoration-color: #ff00ff; font-weight: bold\">undefined</span><span style=\"font-weight: bold\">&gt;</span>\n",
       "</pre>\n"
      ],
      "text/plain": [
       "\u001b[31m╭─\u001b[0m\u001b[31m──────────────────────────────\u001b[0m\u001b[31m \u001b[0m\u001b[1;31mTraceback \u001b[0m\u001b[1;2;31m(most recent call last)\u001b[0m\u001b[31m \u001b[0m\u001b[31m───────────────────────────────\u001b[0m\u001b[31m─╮\u001b[0m\n",
       "\u001b[31m│\u001b[0m in \u001b[92m<module>\u001b[0m:\u001b[94m7\u001b[0m                                                                                    \u001b[31m│\u001b[0m\n",
       "\u001b[31m│\u001b[0m                                                                                                  \u001b[31m│\u001b[0m\n",
       "\u001b[31m│\u001b[0m   \u001b[2m4 \u001b[0m\u001b[94mfor\u001b[0m batch \u001b[95min\u001b[0m tqdm(batch_split(df, batch_size=\u001b[94m4\u001b[0m)):                                            \u001b[31m│\u001b[0m\n",
       "\u001b[31m│\u001b[0m   \u001b[2m5 \u001b[0m\u001b[2m│   \u001b[0mresults = model.translate_batch(batch)                                                   \u001b[31m│\u001b[0m\n",
       "\u001b[31m│\u001b[0m   \u001b[2m6 \u001b[0m\u001b[2m│   \u001b[0m\u001b[94mwith\u001b[0m \u001b[96mopen\u001b[0m(\u001b[33m'\u001b[0m\u001b[33mresults-mhr.txt\u001b[0m\u001b[33m'\u001b[0m, \u001b[33m'\u001b[0m\u001b[33ma\u001b[0m\u001b[33m'\u001b[0m) \u001b[94mas\u001b[0m file:                                               \u001b[31m│\u001b[0m\n",
       "\u001b[31m│\u001b[0m \u001b[31m❱ \u001b[0m7 \u001b[2m│   │   \u001b[0m\u001b[96mprint\u001b[0m(*results, sep=\u001b[33m'\u001b[0m\u001b[33m\\n\u001b[0m\u001b[33m'\u001b[0m, file=file)                                                 \u001b[31m│\u001b[0m\n",
       "\u001b[31m│\u001b[0m   \u001b[2m8 \u001b[0m\u001b[2m│   \u001b[0m\u001b[96mprint\u001b[0m(results)                                                                           \u001b[31m│\u001b[0m\n",
       "\u001b[31m│\u001b[0m   \u001b[2m9 \u001b[0m                                                                                             \u001b[31m│\u001b[0m\n",
       "\u001b[31m│\u001b[0m                                                                                                  \u001b[31m│\u001b[0m\n",
       "\u001b[31m│\u001b[0m \u001b[33mC:\\Users\\cutefluffyfox\\AppData\\Local\\Programs\\Python\\Python39\\lib\\encodings\\cp1251.py\u001b[0m:\u001b[94m19\u001b[0m in      \u001b[31m│\u001b[0m\n",
       "\u001b[31m│\u001b[0m \u001b[92mencode\u001b[0m                                                                                           \u001b[31m│\u001b[0m\n",
       "\u001b[31m│\u001b[0m                                                                                                  \u001b[31m│\u001b[0m\n",
       "\u001b[31m│\u001b[0m   \u001b[2m 16 \u001b[0m                                                                                           \u001b[31m│\u001b[0m\n",
       "\u001b[31m│\u001b[0m   \u001b[2m 17 \u001b[0m\u001b[94mclass\u001b[0m \u001b[4;92mIncrementalEncoder\u001b[0m(codecs.IncrementalEncoder):                                       \u001b[31m│\u001b[0m\n",
       "\u001b[31m│\u001b[0m   \u001b[2m 18 \u001b[0m\u001b[2m│   \u001b[0m\u001b[94mdef\u001b[0m \u001b[92mencode\u001b[0m(\u001b[96mself\u001b[0m, \u001b[96minput\u001b[0m, final=\u001b[94mFalse\u001b[0m):                                                  \u001b[31m│\u001b[0m\n",
       "\u001b[31m│\u001b[0m \u001b[31m❱ \u001b[0m 19 \u001b[2m│   │   \u001b[0m\u001b[94mreturn\u001b[0m codecs.charmap_encode(\u001b[96minput\u001b[0m,\u001b[96mself\u001b[0m.errors,encoding_table)[\u001b[94m0\u001b[0m]                  \u001b[31m│\u001b[0m\n",
       "\u001b[31m│\u001b[0m   \u001b[2m 20 \u001b[0m                                                                                           \u001b[31m│\u001b[0m\n",
       "\u001b[31m│\u001b[0m   \u001b[2m 21 \u001b[0m\u001b[94mclass\u001b[0m \u001b[4;92mIncrementalDecoder\u001b[0m(codecs.IncrementalDecoder):                                       \u001b[31m│\u001b[0m\n",
       "\u001b[31m│\u001b[0m   \u001b[2m 22 \u001b[0m\u001b[2m│   \u001b[0m\u001b[94mdef\u001b[0m \u001b[92mdecode\u001b[0m(\u001b[96mself\u001b[0m, \u001b[96minput\u001b[0m, final=\u001b[94mFalse\u001b[0m):                                                  \u001b[31m│\u001b[0m\n",
       "\u001b[31m╰──────────────────────────────────────────────────────────────────────────────────────────────────╯\u001b[0m\n",
       "\u001b[1;91mUnicodeEncodeError: \u001b[0m\u001b[32m'charmap'\u001b[0m codec can't encode character \u001b[32m'\\xf6'\u001b[0m in position \u001b[1;36m90\u001b[0m: character maps to \u001b[1m<\u001b[0m\u001b[1;95mundefined\u001b[0m\u001b[1m>\u001b[0m\n"
      ]
     },
     "metadata": {},
     "output_type": "display_data"
    }
   ],
   "source": [
    "from tqdm import tqdm\n",
    "from scripts.helpers.batch_processor import batch_split\n",
    "\n",
    "for i, batch in enumerate(tqdm(batch_split(df, batch_size=4))):\n",
    "    if i < 98:\n",
    "        continue\n",
    "    results = model.translate_batch(batch)\n",
    "    print(results)\n",
    "    try:\n",
    "        with open('results-mhr.txt', 'a') as file:\n",
    "            print(*results, sep='\\n', file=file)\n",
    "    except Exception as ex:\n",
    "        print(ex)\n",
    "    "
   ]
  },
  {
   "cell_type": "code",
   "execution_count": null,
   "id": "62849d4c",
   "metadata": {},
   "outputs": [],
   "source": []
  },
  {
   "cell_type": "code",
   "execution_count": 3,
   "id": "9975d928",
   "metadata": {},
   "outputs": [],
   "source": [
    "from scripts.helpers import dataset_manager\n",
    "df = dataset_manager.FloresDataset('kaz-ru', 'flores-dev').get_df()[['kaz', 'rus']]"
   ]
  },
  {
   "cell_type": "code",
   "execution_count": 4,
   "id": "058d5ad2",
   "metadata": {},
   "outputs": [],
   "source": [
    "# map for translation columns\n",
    "df['text'] = df['kaz']\n",
    "df['src_lang'] = 'kk'\n",
    "df['dst_lang'] = 'ru'"
   ]
  },
  {
   "cell_type": "code",
   "execution_count": 5,
   "id": "27d237ba",
   "metadata": {},
   "outputs": [
    {
     "name": "stderr",
     "output_type": "stream",
     "text": [
      "1it [01:40, 100.73s/it]"
     ]
    },
    {
     "name": "stdout",
     "output_type": "stream",
     "text": [
      "['В четверг, ученые из медицинского факультета Стэнфордского университета объявили о создании нового диагностического инструмента, который может сортировать клетки по типу: это очень маленький печатаемый чип, который можно изготовить примерно за один цент США каждый, используя стандартные струйные принтеры.', 'По мнению ведущих исследователей, это может привести к ранней появлению рака, туберкулёза, ВИЧ и лихорадки у пациентов в бедных странах, где показатели выздоровления от таких заболеваний, как рак молочной железы, в два раза ниже, чем в развитых странах.', 'Самолёт JAS 39C Gripen разбился и взорвался на взлетно-посадочной полосе около 9:30 по местному времени (0230 UTC).', 'Вскоре в составе эскадрильи был сформирован эскадрон «Паттайя».', 'В итоге, всё, что осталось от здания, было разрушено, а его жители вынуждены были бежать.', '28-летний Видаль перешёл в «Барсу» из «Севильи» за три сезона до этого.', 'В 49-м туре «Крылья Советов» встретились с клубом «Динамо».', 'Протесты начались в Уайтхолле, напротив входа полицейского охранника на Даунинг-стрит, официальной резиденции премьер-министра, около 11:00 по местному времени (UTC+1).']\n"
     ]
    },
    {
     "name": "stderr",
     "output_type": "stream",
     "text": [
      "\r",
      "2it [03:32, 107.37s/it]"
     ]
    },
    {
     "name": "stdout",
     "output_type": "stream",
     "text": [
      "['В 11:00 утра 11 августа 1944 года в районе села Усть-Ката в районе села Усть-Ката произошло столкновение с немецкими войсками.', 'В 11:20 полиция, ссылаясь на право на протест и необходимость уравновешивать скопление транспортных средств на дороге, потребовала от протестующих вернуться на пешеходные дорожки.', 'Примерно в 11:29 забастовщики переместились от Уайтхолла вверх по Трафальгарской площади, вдоль Стрэнд-стрит, через Олдвич-стрит и Кингсвей в сторону Холборна, где Консервативная партия проводила свой весенний форум в отеле Grand Connaught Rooms.', 'Рекорд по количеству побед в одиночном разряде\\xa0— 7.', 'На турнире в Брисбене он проиграл в первом раунде.', 'В 1988 году в селе проживало 88 человек, из них 76 мужчин и 76 женщин.', 'После матча Рафаэль Надаль сказал: «Я рад вернуться в последние раунды самых важных событий.', '«Панамское досье» – это общий термин, используемый для обозначения примерно десяти миллионов документов панамской юридической фирмы Mossack Fonseca, которые были опубликованы весной 2018 года.']\n"
     ]
    },
    {
     "name": "stderr",
     "output_type": "stream",
     "text": [
      "\r",
      "3it [04:15, 78.02s/it] "
     ]
    },
    {
     "name": "stdout",
     "output_type": "stream",
     "text": [
      "['Документы показывают, что 14 банков помогали богатым клиентам скрывать миллиарды долларов, чтобы избежать налогов и других регулирующих мер.', 'Британская газета The Guardian предположила, что для этого Deutsche Bank управлял примерно одной третьей из 1200 поддельных компаний.', 'Протесты прошли по всему миру, было несколько уголовных преследований, и главы правительств Исландии и Пакистана подали в отставку.', 'Ма, родившийся в Гонконге, учился в Нью-Йоркском университете и Гарвардской школе бизнеса и в своё время получил «грин-карту» постоянного жителя США.', 'Во время выборов Ма предположил, что во время кризиса он может бежать из страны.', 'Ведь, если бы ты был уверен, что ты не увидел бы этого, ты бы не увидел этого.', 'Несмотря на эти обвинения, Ма легко одержал победу на платформе, которая поддерживает тесные связи Китая с материком.', 'Игроком дня стал Алекс Овечкин из «Вашингтон Кэпиталз».']\n"
     ]
    },
    {
     "name": "stderr",
     "output_type": "stream",
     "text": [
      "\r",
      "4it [05:37, 79.35s/it]"
     ]
    },
    {
     "name": "stdout",
     "output_type": "stream",
     "text": [
      "['В победном матче над «Атланта Трешерс» со счётом 5:3 он забил 2 гола и сделал 2 передачи.', 'В матче забил победный гол Никлас Бэкстром, отдав первый результативный пас Овечкина;', 'Второй гол Вечера стал его 60-м голом в сезоне, он стал первым игроком, который достиг этого результата после того, как в сезоне 1995/96 Жаромир Ягр и Марио Лемие забили по 60 и более голов каждый.', 'В 2008 году Баттен, с состоянием в 2,3 миллиарда долларов, занял 190 место в списке 400 богатейших американцев.', 'В 1950 году окончил колледж искусств и наук Виргинского университета, став важным донором этого учреждения.', 'В Ираке тюрьма Абу-Грейб была сожжена во время беспорядков.', 'Тюрьма приобрела дурную репутацию после того, как стало известно о жестоком обращении с заключенными после захвата власти американскими войсками.', 'На Гран-при Сингапура 2008 года Пике-младший попал в аварию сразу после ранней остановки на пит-стопе Фернандо Алонсо, после чего пришла машина безопасности.']\n"
     ]
    },
    {
     "name": "stderr",
     "output_type": "stream",
     "text": [
      "\r",
      "5it [06:14, 64.10s/it]"
     ]
    },
    {
     "name": "stdout",
     "output_type": "stream",
     "text": [
      "['Когда следующие машины заправлялись за машиной безопасности, он увеличил скорость, чтобы одержать победу.', 'В 2009 году в венгерском городе Кюстендил был открыт памятник венгерскому писателю.', 'В 08:46 утра во всём городе воцарился мир, и было объявлено время, когда первый реактивный самолёт взорвался.', 'Два раза в день они ходили в церковь, чтобы молиться.', 'В итоге, я решил, что я должен ехать в ближайший город, чтобы посмотреть, как там живут люди.', 'Шоу PBS получило более двадцати четырёх премий «Эмми», что ниже только «Улицы Сезам» и «Соседства мистера Роджера».', 'В итоге, вся тяжесть тяжести лежала на плечах, и вместо того, чтобы двигаться вперёд, они стали двигаться назад.', 'В итоге, вместо того, чтобы дать детям возможность поиграть, они стали делать это для них.']\n"
     ]
    },
    {
     "name": "stderr",
     "output_type": "stream",
     "text": [
      "\r",
      "6it [07:54, 76.47s/it]"
     ]
    },
    {
     "name": "stdout",
     "output_type": "stream",
     "text": [
      "['Джон Грант из WNED Buffalo (Reading Rainbow Home Station) сказал: «Reading Rainbow научил детей, почему они должны читать… любить читать\\xa0— [шоу] побудило детей взять книгу и читать».', 'Некоторые, в том числе Джон Грант, считают, что финансовый кризис и изменение философии образовательных телевизионных программ также способствовали завершению истории.', 'Находящийся примерно в 645 милях (1040 км) к западу от островов Кабо-Верде шторм, по мнению синоптиков, скорее всего, рассеется, не угрожая материковым районам.', 'В настоящее время шторм Фред дует со скоростью 105 миль в час (165 км/ч) и движется на северо-запад.', 'Это самый сильный тропический циклон, зарегистрированный в Атлантическом океане на самом удалённом от севера и юга месте с тех пор, как Фред начал снимать со спутника, а также третий по силе шторм, зарегистрированный к востоку от 35°W.', '24 сентября 1759 года Артур Гиннесс подписал договор аренды на 9000 лет для пивоварни St James’ Gate Brewery в Дублине, Ирландия.', 'Спустя 250 лет Гиннесс вырос до глобального бизнеса с годовым оборотом более 10 миллиардов евро (14,7 миллиардов долларов США).', 'Джонни Рейд, второй пилот новозеландской команды A1GP, вступил сегодня в историю, проехав на самой высокой скорости по 48-летнему мосту в районе Окленда в Новой Зеландии.']\n"
     ]
    },
    {
     "name": "stderr",
     "output_type": "stream",
     "text": [
      "\r",
      "7it [08:59, 72.76s/it]"
     ]
    },
    {
     "name": "stdout",
     "output_type": "stream",
     "text": [
      "['Г-н Рейд на новозеландском автомобиле A1GP Black Beauty семь раз проехал через мост со скоростью более 160 км/ч.', 'Из-за низкой высоты автомобиля Black Beauty новозеландской полиции было трудно использовать полицейские радары, чтобы понять, насколько быстро двигается мистер Рейд, который замедлился до 160 км/ч.', 'За последние три месяца более 80 заключённых были выпущены из изолятора без предъявления официальных обвинений.', 'В апреле этого года судья Глинн издал приказ, временно запрещающий возможность освобождения лиц, которые содержатся под стражей более 24 часов после их поступления в суд, если они не были заслушаны представителем суда после их передачи в суд.', 'Комиссар устанавливает сумму залога (если он предоставляется), а арестовавший офицер оформляет обвинение, которое затем вводится в компьютерную систему государства, в котором ведется дело.', 'В то же время, в ходе слушания дела, подозреваемый имеет право на скорейшее рассмотрение дела.', 'Питер Костелло, австралийский министр финансов, который, скорее всего, станет лидером Либеральной партии после премьер-министра Джона Говарда, заявил, что поддерживает ядерную энергетику Австралии.', 'Костелло утверждает, что Австралия должна использовать атомную энергию, когда она будет экономически выгодна.']\n"
     ]
    },
    {
     "name": "stderr",
     "output_type": "stream",
     "text": [
      "\r",
      "8it [11:00, 88.04s/it]"
     ]
    },
    {
     "name": "stdout",
     "output_type": "stream",
     "text": [
      "['«Критерием для этого может быть то, что у нас это становится коммерческим сектором, то есть, нет большого сопротивления использованию ядерной энергии», – говорит Костелло.', 'По словам вооружённого негосударственного субъекта, «полиция была обеспокоена несколькими нападениями высокопоставленных лиц, которые, как предполагалось, могли спровоцировать полномасштабную войну за наследство.', 'Полиция утверждает, что Ло Пикколо был преобладающим, потому что он был правой рукой Провенцано в Палермо, и его богатый опыт вызвал уважение у предыдущего поколения боссов, которые проводили политику сохранения как можно меньше Провенцано, укрепляя свою сеть.', 'Когда в 1992 году закончилась война с государством, возглавляемым Рииной, которая унесла жизни мафиози Джованни Фальконе и Паоло Борселлино, Провензано взял этих боссов под свой контроль.', 'Стив Джобс, генеральный директор компании Apple, вышел на сцену, вытащил смартфон iPhone из кармана джинсов и показал устройство.', 'В своем двухчасовом выступлении он сказал: «Сегодня Apple собирается переосмыслить телефон.', 'Бразилия является крупнейшей в мире римско-католической страной, и римско-католическая церковь всегда выступала против легализации однополых браков в стране.', 'Национальный конгресс Бразилии уже 10 лет ведет дебаты по вопросу легализации, и такие гражданские браки в настоящее время являются законными только в городе Риу-Гранди-ду-Сул.']\n"
     ]
    },
    {
     "name": "stderr",
     "output_type": "stream",
     "text": [
      "\r",
      "9it [12:36, 90.58s/it]"
     ]
    },
    {
     "name": "stdout",
     "output_type": "stream",
     "text": [
      "['Первоначальный законопроект был подготовлен бывшим мэром Сан-Паулу Мартой Суплики, а теперь, после внесения изменений, в руках Роберто Джефферсона находится законопроект, который он предложил.', 'Протестующие надеются собрать 1,2 миллиона подписей под петицией, которую они намерены представить Национальному конгрессу в ноябре.', 'После того как стало известно, что многодетные семьи обращаются за юридической помощью в борьбе с выселениями, 20 марта в Юридическом центре East Coast Community для жертв жилищного мошенничества состоялась встреча.', 'Когда арендаторы начали рассказывать о том, что с ними произошло, многие из пострадавших семей вдруг поняли, что Каролин Уилсон из OHA украла их залоговые вклады и сбежала из города.', 'Жители Локвуд-Гарденс полагают, что, возможно, будут выселены ещё 40 или более семей, так как они узнали, что полиция OHA проводит расследование по другим объектам общественного жилья в Окленде, которые также могут быть арестованы за мошенничество с жильём.', 'Музыкальная группа отказалась от шоу на стадионе Мауи, где планировалось присутствие 9000 человек, и принесла извинения своим поклонникам.', 'Управляющая компания группы, HK Management Inc., отказалась от участия в конкурсе 20 сентября, не назвав первоначальных причин, но на следующий день обвинила в этом логистику.', 'Известные греческие юристы Сакис Кечагиоглоу и Джордж Николакопоулос были заключены в тюрьму Коридаллус в Афинах по обвинению в незаконном получении доходов и коррупции.']\n"
     ]
    },
    {
     "name": "stderr",
     "output_type": "stream",
     "text": [
      "\r",
      "10it [14:02, 89.10s/it]"
     ]
    },
    {
     "name": "stdout",
     "output_type": "stream",
     "text": [
      "['В результате, в греческом юридическом сообществе разгорелся большой скандал, связанный с выявлением нарушений, совершенных судами, юристами, адвокатами и прокурорами в предыдущие годы.', 'Несколько лет назад, после того как журналист Макис Триантафилопоулос опубликовал информацию в своем популярном шоу «Зоунгла» на канале Alpha TV, Петрос Мантоувалос подал в отставку, потому что его агентство занималось незаконным получением доходов и коррупцией.', 'Кроме того, главный судья Евангелос Калоусис был арестован по обвинению в коррупции и неправомерном поведении.', 'Робертс категорически отказался говорить о том, что он думает о том, когда начинается жизнь, что является важным вопросом для этики абортов, и заявил, что неэтично объяснять особенности возможных ситуаций.', 'Тем не менее, он повторил свое предыдущее заявление о том, что решение по делу Роу против Уэйд является «установленным законом страны», и подчеркнул важность того, чтобы решения Верховного суда были последовательными.', 'Он также подтвердил свою веру в полное право Ро на личную свободу, от решения которой зависит его жизнь.', 'В итоге Маручидор занял второе место в турнире, набрав на шесть очков больше, чем Ноза.', 'В итоге, в 11-м раунде, в котором оба раза проигрывал, он вышел в финал.']\n"
     ]
    },
    {
     "name": "stderr",
     "output_type": "stream",
     "text": [
      "\r",
      "11it [15:11, 82.78s/it]"
     ]
    },
    {
     "name": "stdout",
     "output_type": "stream",
     "text": [
      "['В конце концов, Маручидор победил Кабултуру в финале.', 'Hesperonychus elizabethae\\xa0— вид динозавров из группы дромеозаврид, родственный велоцираптору.', 'В итоге, вместо двух длинных, крепких и мощных стволов, которые были у рода рода, появились два коротких, но крепких ствола, которые могли держать в руках.', 'Вскоре после этого он обнаружил, что его мать, которая была «невероятно красивой и нежной», начала делать ему «невероятно тяжёлые» предложения.', 'В дополнение к взрывам льда, экстремальные погодные условия затрудняют спасательные операции.', 'Питтман предсказал, что ситуация не улучшится до конца следующей недели.', 'По словам Питтмана, количество и толщина многолетнего льда оказались худшими для рыболовов, занимающихся ловлей щуки, за последние 15 лет.', 'В то время как Джефф Уэйз и трое из девяти жертв были похоронены, в городе Ред-Лейк, штат Калифорния, сегодня появилась новость о том, что в связи со школьным перестрелкой 21 марта был арестован ещё один студент.']\n"
     ]
    },
    {
     "name": "stderr",
     "output_type": "stream",
     "text": [
      "\r",
      "12it [16:01, 73.00s/it]"
     ]
    },
    {
     "name": "stdout",
     "output_type": "stream",
     "text": [
      "['Власти официально мало что сказали, кроме того, что подтвердили сегодняшний арест.', 'Однако источник, знакомый с расследованием, сообщил газете Minneapolis Star-Tribune, что это был Лейк Джурдайн, 16-летний сын Флойда Джурдайна, председателя Red Lake Tribal.', 'Пока неизвестно, какие обвинения будут выдвинуты, или кто доставил органы ребенку, но судебный процесс над подростком начался в федеральном суде.', 'Лодин также заявил, что второй тур выборов был отменен, чтобы афганцы не были вынуждены проводить ещё один тур выборов и чтобы не создавать угрозу безопасности.', 'Дипломаты заявили, что они нашли два общих элемента в афганской конституции, которые позволяют сделать вывод о том, что проведение выборов не является необходимым.', 'Это противоречит предыдущим докладам, в которых отмена второго тура была названа неконституционной.', 'В Иркутске, где он жил, ему было запрещено ходить в церковь.', 'Встречается в тропических лесах.']\n"
     ]
    },
    {
     "name": "stderr",
     "output_type": "stream",
     "text": [
      "\r",
      "13it [16:54, 66.83s/it]"
     ]
    },
    {
     "name": "stdout",
     "output_type": "stream",
     "text": [
      "['Ил-76 является одним из основных компонентов российских и советских вооружённых сил с 1970-х годов, и в прошлом месяце он потерпел серьёзную аварию в России.', 'В результате аварии, произошедшей 7 октября, при первом взлёте отключился двигатель, но никто не пострадал.', 'В 1999 году в результате разлива тысяч баррелей сырой нефти к югу от Фэйрбанкса, Аляска, была закрыта 800-милльная часть Транс-Аляскианской трубопроводной системы.', 'После регулярного тестирования системы пожарной команды отключение электроэнергии привело к открытию обратных клапанов и разливу сырой нефти вблизи насосной станции Форт Грили 9.', 'Открытие клапанов позволило снять давление в системе и масло втекло в контейнер, вмещающий до 55 000 баррелей (2,3 миллиона галлонов) в слое.', 'В субботу вечером жидкость все еще протекала из клапанов контейнера, что, возможно, было вызвано тепловым расширением внутри контейнера.', 'Ещё одно дополнительное хранилище, которое может вместить 104 500 баррелей под контейнерами, пока не заполнено полностью.', 'Впервые в истории, когда ключевые иранские источники признали, что санкции оказывают какое-то влияние, это было отмечено в прямом эфире по телевидению.']\n"
     ]
    },
    {
     "name": "stderr",
     "output_type": "stream",
     "text": [
      "\r",
      "14it [18:13, 70.59s/it]"
     ]
    },
    {
     "name": "stdout",
     "output_type": "stream",
     "text": [
      "['Они включают в себя финансовые ограничения и запрет на экспорт сырой нефти, от которой иранская экономика получает 80% своих иностранных доходов.', 'ОПЕК сообщила, что в последнем ежемесячном отчете экспорт сырья упал до самого низкого уровня за последние два десятилетия, достигнув 2,8 миллиона баррелей в день.', 'Верховный лидер страны аятолла Али Хаменеи описывает зависимость от нефти как «ловушку», из которой Ирану нужно выбраться сразу же после Исламской революции 1979 года.', 'Ожидается, что во время приземления капсулы на Землю и её возвращения в атмосферу, примерно в 5 часов утра (по восточному времени), жители Северной Калифорнии, Орегона, Невады и Юты увидят яркие световые шоу.', 'В капсуле находится жидкость, которая должна быть взвешена.', 'Капсула движется со скоростью 12,8 км/с или 8 миль в секунду, что достаточно для того, чтобы добраться из Сан-Франциско в Лос-Анджелес за одну минуту.', 'Stardust установил новый рекорд самого быстрого возвращения космического корабля на Землю, побив предыдущий рекорд, установленный командным модулем «Аполлона-10» во время его возвращения в мае 1969 года.', '«Он будет двигаться над западным побережьем северной Калифорнии и освещать небо от Калифорнии до центральных штатов Орегон, Невада и Айдахо и Юта»,\\xa0— сказал менеджер проекта Stardust Том Даксбери.']\n"
     ]
    },
    {
     "name": "stderr",
     "output_type": "stream",
     "text": [
      "\r",
      "15it [19:25, 71.03s/it]"
     ]
    },
    {
     "name": "stdout",
     "output_type": "stream",
     "text": [
      "['Решение Радда подписать Киотский протокол по изменению климата изолирует США, единственную развитую страну, которая не ратифицировала его.', 'Бывшее консервативное правительство Австралии отказалось ратифицировать Киотский протокол, который наносит ущерб экономике страны из-за её сильной зависимости от экспорта угля, в то время как такие страны, как Индия и Китай, не были ограничены в выбросах.', 'Это была самая крупная покупка в истории eBay.', 'Компания надеется диверсифицировать свои источники дохода и завоевать популярность в регионах, где она уже имеет сильные позиции, таких как Китай, Восточная Европа и Бразилия.', 'В геологической истории Сатурна существовали и другие геологические явления, которые не были связаны с геологическими процессами на Сатурне.', 'В итоге, 90-летний полковник, несмотря на тяжёлые ранения, сумел выжить и вернулся в родной город.', 'В 2003 году в журнале «Спорт-Экспресс» опубликовал статью «Шесть дней в Фаллудже».', 'В игре рассказывается о жестоком сражении между американскими и иракскими войсками, известном как «Второе сражение при Фаллудже».']\n"
     ]
    },
    {
     "name": "stderr",
     "output_type": "stream",
     "text": [
      "\r",
      "16it [21:57, 95.45s/it]"
     ]
    },
    {
     "name": "stdout",
     "output_type": "stream",
     "text": [
      "['Кроме того, АСМА установила, что, несмотря на то, что видео было распространено в Интернете, «Большой брат» не нарушил законы об онлайн-цензуре, поскольку материалы не хранились на сайте «Большой брат».', 'В сети Интернет существует множество сайтов, которые предлагают пользователям возможность найти информацию о данном оружии, но в большинстве случаев они не имеют доступа к официальному сайту.', 'Посольство США в Найроби, Кения, предупредило, что «экстремисты в Сомали» планируют взрывы смертников в Кении и Эфиопии.', 'США заявили, что получили информацию из нераскрытых источников, в которых конкретно упоминаются террористы-смертники, которые планировали взорвать «привлекательные места» в Эфиопии и Кении.', 'До The Daily Show и The Colbert Report Хэк и Джонсон придумали издание, пародирующее новости и репортажи, в 1988 году, когда были студентами Висконсинского университета.', 'С момента своего основания The Onion превратился в настоящую империю пародий на новости, с печатным изданием, веб-сайтом, который в октябре посетили 5 миллионов уникальных посетителей, персональными рекламными объявлениями, круглосуточной новостной сетью, подкастами и недавно выпущенным глобальным атласом под названием «Наш мрачный мир».', 'Аль Гор и генерал Томми Фрэнк случайно говорят о своих любимых темах (газета The Onion сообщила, что Гор и Типпер вступили в половую связь после поражения в избирательной кампании 2000 года).', 'Многие из их сценаристов оказали большое влияние на пародийные новостные шоу Джона Стюарта и Стивена Колберта.']\n"
     ]
    },
    {
     "name": "stderr",
     "output_type": "stream",
     "text": [
      "\r",
      "17it [22:51, 82.84s/it]"
     ]
    },
    {
     "name": "stdout",
     "output_type": "stream",
     "text": [
      "['Это художественное мероприятие также является частью кампании, проводимой муниципалитетом Бухареста, целью которой является создание имиджа столицы Румынии как творческого и разнообразного мегаполиса.', 'Это будет первый город в Юго-Восточной Европе, где в июне-августе этого года пройдёт крупнейшее в мире общественное мероприятие под названием «CowParade».', 'Сегодняшнее заявление также расширило обязательства правительства по финансированию дополнительных вагонов в марте этого года.', 'В 1930 году в селе было 1300 дворов, в которых проживало 3000 человек.', 'Представитель департамента полиции Лос-Анджелеса Кристофер Гарсия заявил, что подозреваемый преступник расследуется не за вандализм, а за незаконное вторжение.', 'Знак не был физически повреждён; модификация была выполнена с использованием чёрного брезента, украшенного символами мира и сердца, для изменения буквы «O» на строчную «e».', 'В итоге, вместо того, чтобы дать ему возможность вернуться в строй, ему пришлось дать ему возможность вернуться в строй.', 'Возможно, что природные факторы вступают в конфликт друг с другом, создавая идеальные условия для быстрого роста водорослей.']\n"
     ]
    },
    {
     "name": "stderr",
     "output_type": "stream",
     "text": [
      "\r",
      "18it [24:11, 82.10s/it]"
     ]
    },
    {
     "name": "stdout",
     "output_type": "stream",
     "text": [
      "['В результате чего у него возникают боли в спине и нервные срывы.', 'В верховьях реки обитают рыбы, которые питаются токсичными веществами.', 'Вдыхание загрязнённой воды, распространяемой ветрами и волнами, может нанести вред здоровью людей.', 'Тропический циклон Гону, названный в честь сумки пальмовых листьев на мальдивском языке, в период своего наибольшего усиления имел устойчивые ветры со скоростью 240 км/ч (149 миль/ч).', 'В начале сегодняшнего дня ветры двигались со скоростью около 83 км/ч и, как ожидается, будут ослабевать.', 'В субботу Национальная баскетбольная ассоциация США (НБА) временно приостановила профессиональный баскетбольный сезон из-за угрозы COVID-19.', 'Решение НБА было принято после того, как у игрока «Юты Джаз» был обнаружен положительный результат теста на COVID-19.', 'В итоге, вместо того, чтобы дать ему возможность вернуться в строй, он был вынужден вернуться в строй.']\n"
     ]
    },
    {
     "name": "stderr",
     "output_type": "stream",
     "text": [
      "\r",
      "19it [25:01, 72.52s/it]"
     ]
    },
    {
     "name": "stdout",
     "output_type": "stream",
     "text": [
      "['«Все должно быть вновь поставлено на свои места», – говорит Берхан Асфо, исследователь из эфиопской службы исследования рифтовых хребтов и соавтор исследования.', 'В США, где данная технология широко распространена, в настоящее время всё большее распространение получает использование сети Интернет.', 'В этом случае, возможно, наступит конец этой свободы.', 'Yahoo! и Microsoft вместе взятые конкурируют с AOL по количеству пользователей.', 'В 2008 году, после того как North Rock Bank узнал, что получил экстренную поддержку от правительства Великобритании, компания стала государственной.', 'Northern Rock обратилась за поддержкой в связи с последствиями кризиса субстандартных ипотечных кредитов 2007 года.', 'Перед национализацией банка предложение компании Virgin Group сэра Ричарда Брэнсона о его приобретении было отклонено.', 'В 2010 году, после национализации, текущий коммерческий банк ОАО Northern Rock был выделен из «проблемного банка», Northern Rock (управление активами).']\n"
     ]
    },
    {
     "name": "stderr",
     "output_type": "stream",
     "text": [
      "\r",
      "20it [26:07, 70.46s/it]"
     ]
    },
    {
     "name": "stdout",
     "output_type": "stream",
     "text": [
      "['Virgin приобрела не компанию по управлению акциями, а «хороший банк» в составе Northern Rock.', 'Это будет пятый случай в истории, когда люди наблюдали, как марсианский материал, упавший на землю, превращается в то, что было доказано химическим путём.', 'Из примерно 24 000 известных метеоритов, упавших на Землю, только 34 метеорита были подтверждены как марсианские.', 'В результате этого он потерял возможность вести боевые действия в метеорологических условиях.', 'Некоторые из самых редких камней на Земле продаются по ценам от $11 000 до $22 500 за унцию, что в десять раз выше, чем цена золота.', 'В итоге, по итогам гонки Кеселовский с 2250 очками остался лидером чемпионата.', 'На 7 очков отстаёт, Джонсон на втором месте с 2243 очками.', 'На третьем месте Гамлин отстает на 20 очков, но опережает Бойера на пять. Кане и Труекс-младший занимают пятое и шестое места с 2220 и 2207 очками соответственно.']\n"
     ]
    },
    {
     "name": "stderr",
     "output_type": "stream",
     "text": [
      "\r",
      "21it [28:33, 93.02s/it]"
     ]
    },
    {
     "name": "stdout",
     "output_type": "stream",
     "text": [
      "['Стюарт, Гордон, Кенсет и Гарвик составили десятку лучших пилотов чемпионата, состоящего из четырёх оставшихся гонок сезона.', 'Вскоре после этого в городе произошёл инцидент, который вызвал волну протестов.', 'В заявлении также говорится: «В настоящее время экипаж работает над определением наиболее эффективного способа безопасного вывода судна».', 'В 1999 году в честь 100-летия со дня рождения поэта в его честь был назван проспект в городе Приморске.', 'Он был приписан к Седьмому флоту ВМС США и базировался в Японии, в Нагасаки и Сасебо.', 'Террористы в Мумбаи прибыли на лодке 26 ноября 2008 года, привезя с собой гранаты и автоматическое оружие, и нанесли удары по нескольким целям, включая переполненный железнодорожный вокзал Чатрапати Шиваджи Терминус и знаменитый отель Тадж-Махал.', 'Разведка и сбор информации Дэвида Хэдли помогли 10 вооружённым формированиям пакистанской группировки «Ласхар-и-Тайба» провести операцию.', 'Я чувствую, что я слишком сильно чувствую себя в этом месте.']\n"
     ]
    },
    {
     "name": "stderr",
     "output_type": "stream",
     "text": [
      "\r",
      "22it [29:19, 79.15s/it]"
     ]
    },
    {
     "name": "stdout",
     "output_type": "stream",
     "text": [
      "['Вместе с этими чиновниками он заверил жителей Техаса в том, что будут приняты меры по обеспечению общественной безопасности.', 'В частности, Пэрри сказал: «В мире есть очень мало стран, которые лучше оснащены для борьбы с угрозой, которую представляет собой эта ситуация».', 'В то же время губернатор заявил: «Сегодня мы обнаружили, что некоторые дети школьного возраста были в контакте с пациентом».', '«Это очень серьезная ситуация, и вы можете быть уверены, что наша система работает так, как она должна работать», – сказал он.', 'В случае подтверждения, это откровение положит конец восьмилетним поискам Алленом Мусаши.', 'В результате обнаружения обломков корабля, потерпевшего крушение, были проведены работы по картированию морского дна с помощью дистанционно управляемого подводного аппарата.', 'Один из богатейших людей в мире, Аллен, потратил большую часть своего состояния на морские исследования, и его пожизненный интерес к войне заставил его искать Мусаси.', 'В 1997 году он был награждён орденом Белого орла за вклад в развитие белорусского искусства.']\n"
     ]
    },
    {
     "name": "stderr",
     "output_type": "stream",
     "text": [
      "\r",
      "23it [31:14, 89.85s/it]"
     ]
    },
    {
     "name": "stdout",
     "output_type": "stream",
     "text": [
      "['В 2009 году впервые в карьере вышел в финал Кубка Дэвиса.', 'В ходе церемонии вручения наград было отмечено значительное улучшение оценок в школах Атланты.', 'Вскоре после этого The Atlanta Journal-Constitution опубликовал доклад, в котором были отмечены проблемы с результатами тестов.', 'В докладе говорится, что результаты тестов росли слишком быстро, и предполагается, что дети обнаруживали проблемы в школе, но не принимали никаких мер по их устранению.', 'Позднее доказательства показали, что Холл подделал документы экзамена, и в 2013 году обвинения были предъявлены ещё 34 работникам системы образования.', 'Ирландское правительство заявило, что оно не будет откладывать принятие парламентского законодательства, чтобы исправить ситуацию.', '«В настоящее время важно, чтобы закон вступил в силу как можно скорее, как с точки зрения общественного здравоохранения, так и с точки зрения уголовного правосудия», – сказал представитель правительства.', 'Министр здравоохранения выразил обеспокоенность по поводу благополучия тех, кто воспользовался преимуществами временной легализации рассматриваемых веществ, а также по поводу количества обвинительных приговоров за наркотики, вынесенных после вступления в силу неконституционных изменений.']\n"
     ]
    },
    {
     "name": "stderr",
     "output_type": "stream",
     "text": [
      "\r",
      "24it [32:10, 79.74s/it]"
     ]
    },
    {
     "name": "stdout",
     "output_type": "stream",
     "text": [
      "['Ранее в тот же день Харке тренировался в Коверчано, Италия, на предсезонной тренировке, и он остановился в гостинице команды перед матчем против «Болоньи», запланированным на воскресенье.', 'В итоге, в матче против «Болоньи» он был заменён на поле.', 'Автобус направлялся в парк Six Flags St. Louis в штате Миссури, чтобы музыкальная группа сыграла перед аудиторией, приобретшей все билеты.', 'В 13:15 в субботу, по словам очевидцев, автобус проехал на зелёный свет, когда он поворачивал вперед.', 'В ночь на 9 августа источник циклона Моракот находился примерно в семи километрах от китайской провинции Фуцзянь.', 'В итоге, тайфун прошёл через территорию Китая со скоростью около 1 км/ч.', 'В 90-х годах в селе была построена водопроводная сеть.', 'Капитан пожарной службы Скотт Коунс: «В тот день в Санта-Кларе был жаркий день, температура достигала 90 градусов.']\n"
     ]
    },
    {
     "name": "stderr",
     "output_type": "stream",
     "text": [
      "\r",
      "25it [32:55, 69.30s/it]"
     ]
    },
    {
     "name": "stdout",
     "output_type": "stream",
     "text": [
      "['Время, проведенное на аттракционах, было очень неприятным, и на то, чтобы снять первого человека, ушло не менее часа».', 'После семи побед в чемпионате Формулы-1 Шумахер, который ушёл в отставку в 2006 году, должен был заменить травмированного Фелипе Массу.', 'В 2009 году в составе сборной Бразилии принял участие в Кубке африканских наций 2009 года.', 'В 2009 году в селе была построена часовня.', 'По словам министра по делам президента Родриго Ариаса, у Ариаса был положительный вирусный тест на легкую форму заболевания.', 'В итоге президент был вынужден уйти в отставку, а его правительство вскоре распалось.', 'Я чувствую себя лучше, чтобы управлять своей работой удаленно, не говоря уже о лихорадке и пищевых отравлениях.', '«Я хочу, чтобы вы вернулись к моим обязанностям в четверг»,\\xa0— сказал Ариас в своем заявлении.']\n"
     ]
    },
    {
     "name": "stderr",
     "output_type": "stream",
     "text": [
      "\r",
      "26it [33:52, 65.51s/it]"
     ]
    },
    {
     "name": "stdout",
     "output_type": "stream",
     "text": [
      "['В четверг «Фелиция», которая когда-то была штормом 4-й категории по шкале Саффира-Симпсона, ослабла до тропического шторма, прежде чем рассеяться.', 'Ведь они, как и все, стремились к тому, чтобы жить в мире, но не могли этого сделать из-за нехватки средств.', 'В 1964 году в селе было 34 двора, проживало 634 человека.', 'В итоге, всё шло наперекосяк, и всё больше и больше людей погибало.', 'Самолёт Twin Otter пытался приземлиться вчера в Кокоде как рейс CG4684 авиакомпании PNG, но ранее был отклонён.', 'В последний момент, когда ему ещё оставалось жить, он потерял сознание.', 'Место катастрофы было определено только сегодня, и, поскольку оно было настолько недоступным, двое полицейских отправились на место происшествия пешком, чтобы найти выживших.', 'В итоге, ему пришлось найти место, где можно было бы устроить стоянку.']\n"
     ]
    },
    {
     "name": "stderr",
     "output_type": "stream",
     "text": [
      "\r",
      "27it [35:24, 73.48s/it]"
     ]
    },
    {
     "name": "stdout",
     "output_type": "stream",
     "text": [
      "['Вскоре после этого в доме Макбета произошёл пожар.', 'После того как сосед позвонил и сообщил о повышении цен на газ, чиновник газовой компании дал интервью репортёру.', 'Когда-то, когда шла война, я был в беде.', 'Не было сообщений о серьёзных травмах, но по крайней мере один человек, находившийся на месте взрыва, получил травмы, которые вызвали шок.', 'В селе нет ни одного дома.', 'В итоге 100 человек были эвакуированы из города.', 'В гонке на 10000 метров на Олимпийских играх в Рио-де-Жанейро.', 'На своем эксклюзивном заседании в Берлине Международный олимпийский комитет проголосовал за включение спорта. Регби, а именно, регбийная федерация и гольф, были выбраны из пяти других видов спорта для рассмотрения на предмет участия в Олимпийских играх.']\n"
     ]
    },
    {
     "name": "stderr",
     "output_type": "stream",
     "text": [
      "\r",
      "28it [36:27, 70.41s/it]"
     ]
    },
    {
     "name": "stdout",
     "output_type": "stream",
     "text": [
      "['Были предприняты попытки включить в олимпийскую программу сквош, каратэ и катание на роликовых коньках, а также исключены из олимпийской программы в 2005 году бейсбол и софтбол.', 'Этот голос все еще должен быть ратифицирован всеми членами МОК на октябрьской сессии в Копенгагене.', 'В итоге, ему не удалось завоевать ни одного титула.', 'Серебряный призёр Олимпийских игр 2004 года Амир Хан сказал: «Я считаю, что женщины не должны драться.', 'Несмотря на свои высказывания, он заявил, что будет поддерживать британских соперников на Олимпийских играх 2012 года в Лондоне.', 'Судебный процесс проходил в Королевском суде Бирмингема. Он завершился 3 августа.', 'Арестованный на сцене докладчик отрицал, что совершил нападение, и заявил, что использовал палку для защиты от бутылок, которые в него бросали до 30 человек.', 'Блейк также был осуждён за попытку фальсификации судебного процесса.']\n"
     ]
    },
    {
     "name": "stderr",
     "output_type": "stream",
     "text": [
      "\r",
      "29it [52:28, 337.60s/it]"
     ]
    },
    {
     "name": "stdout",
     "output_type": "stream",
     "text": [
      "['Суд сказал Блейку, что его отправка в тюрьму «неизбежна».', 'Всё это приводит к тому, что энергетическая система становится неэффективной.', 'Его существование объясняется только тем, что оно способствует расширению планеты.', 'На каждой из этих поверхностей учёные обнаружили так называемые «фрагментарные рифты», которые, возможно, образовались в результате очень медленного сжатия Луны.', 'В итоге, всё это стало причиной того, что в мире стали появляться новые существа, которые стали существами, способными двигаться в пространстве, и в то же время существа, которые могли бы двигаться в пространстве, но не могли двигаться в пространстве.', 'В геологической теории геологическая активность является одним из основных понятий.', 'Ведь земля, на которой они жили, была пустотой, и они не могли найти себе места в ней.', 'В результате взрыва в здании здания погибло 10 человек, а 15 получили ранения.']\n"
     ]
    },
    {
     "name": "stderr",
     "output_type": "stream",
     "text": [
      "\r",
      "30it [53:23, 252.73s/it]"
     ]
    },
    {
     "name": "stdout",
     "output_type": "stream",
     "text": [
      "['Его имя власти до сих пор не знают, но они полагают, что он принадлежит к уйгурской этнической группе.', 'Надя родилась 17 сентября 2007 года в родильном доме в Алейске, Россия, кесаревым сечением, весом 17 фунтов 1 унция.', '«Я хочу, чтобы ты был счастлив»,\\xa0— говорит мать.', 'Когда отец спросил, что он сказал, он ответил: «Он ничего не сказал\\xa0— он просто моргнул».', '\"Это как вода.', 'Если бы вы стояли на берегу, вы бы увидели, как на дне лежат целые шлюзовые камни или грязь.', 'Насколько нам известно, есть только одна планета, которая более динамична, чем Титан, и это Земля»,\\xa0— добавил Стофан.', 'Проблема началась 1 января, когда несколько местных жителей пожаловались в почтовое отделение Обаназава, что они не получают традиционные и регулярные новогодние открытки.']\n"
     ]
    },
    {
     "name": "stderr",
     "output_type": "stream",
     "text": [
      "\r",
      "31it [55:12, 209.54s/it]"
     ]
    },
    {
     "name": "stdout",
     "output_type": "stream",
     "text": [
      "['Вчера почтовая служба принесла извинения гражданам и СМИ, обнаружив, что мальчик спрятал более 600 почтовых документов, которые не были доставлены получателям, включая 429 новогодних открыток.', 'Беспилотный лунный орбитальный аппарат Chandrayaan-1 выпустил лунный ударный зонд (MIP), ударившийся о поверхность Луны со скоростью 1,5 км/с (3000 миль/ч) и успешно совершивший аварийную посадку вблизи южного полюса Луны.', 'В дополнение к трём важным научным инструментам, лунный зонд также принес изображение национального флага Индии, расположенного на его поверхности.', 'На пресс-конференции Сирипорн сказала: «Спасибо всем, кто, как я, поддержал обвиняемого».', 'Некоторые могут с этим не согласиться, но мне все равно.', 'Я рад, что есть люди, которые меня поддерживают.', 'С тех пор как Пакистан получил независимость от Великобритании в 1947 году, президент Пакистана назначал «политических агентов» для управления FATA, которые управляли этими областями практически полностью автономно.', 'Эти агенты отвечают за обеспечение государственных и судебных услуг в соответствии со статьей 247 конституции Пакистана.']\n"
     ]
    },
    {
     "name": "stderr",
     "output_type": "stream",
     "text": [
      "\r",
      "32it [56:18, 166.60s/it]"
     ]
    },
    {
     "name": "stdout",
     "output_type": "stream",
     "text": [
      "['В 10 часов утра по местному времени в мечети в Мекке разрушился небольшой дом.', 'Вскоре после этого в селе появились первые крестьяне, которые стали заниматься земледелием.', 'В числе его учеников были известные арабские поэты.', 'Погибло по меньшей мере 15 человек, но, по прогнозам, их число может возрасти.', 'В 11-й серии «Вызов» вместе с другими ребятами из «Союза» вступает в бой с «Любой ценой».', '18 мая 1965 года он совершил первый управляемый выход в открытый космос (EVA), или «космический выход», проведя в одиночестве чуть более 20 минут за пределами космического корабля.', 'В советское время в селе была открыта «Служба спасения пожилых людей».', 'Десять лет спустя он возглавил советскую часть миссии Аполлон-Союз, ставшей символом окончания космической гонки.']\n"
     ]
    },
    {
     "name": "stderr",
     "output_type": "stream",
     "text": [
      "\r",
      "33it [57:23, 135.88s/it]"
     ]
    },
    {
     "name": "stdout",
     "output_type": "stream",
     "text": [
      "['Он сказал: «Неразумно делать предположения о том, что атака не произойдет».', '«Ведь,\\xa0— говорит он,\\xa0— если бы не вся эта всячина, то я бы не смог найти ничего, что бы стало для меня столь же приятным, как и вся эта всячина».', 'Хотя власти не были уверены в реальности этой угрозы, транспортное агентство штата Мэриленд закрыло свой офис после убеждения ФБР.', 'Для блокирования входов в трубопроводы были использованы самосвалы, а 80 полицейских помогали водителям выезжать на объездные дороги.', 'Вместо этого они стали жить в тесном пространстве, где не было никаких препятствий.', 'Ранее, за неделю до саммита, Нигерия объявила о планах вступить в АфКЗСТ.', 'Специальный представитель Африканского союза по торговле и промышленности Альберт Мучанга объявил, что Бенин готов присоединиться к этой инициативе.', '«Мы пока не согласовали правила определения страны происхождения и тарифные льготы, но концепция, которую мы имеем, достаточна для начала торговли 1 июля 2020 года»,\\xa0— сказал комиссар.']\n"
     ]
    },
    {
     "name": "stderr",
     "output_type": "stream",
     "text": [
      "\r",
      "34it [58:41, 118.55s/it]"
     ]
    },
    {
     "name": "stdout",
     "output_type": "stream",
     "text": [
      "['В конце концов, после того, как ему удалось найти ключи от здания, он вместе с другими охранниками покидает здание.', 'Чао и Шарипов сообщили, что находятся на безопасном расстоянии от двигателей, регулирующих положение.', 'После того, как двигатель был отключен, станцию стали обслуживать на станции.', 'Дело рассматривалось в Виргинии, поскольку там расположена компания AOL, ведущий интернет-провайдер, на которую были наложены штрафы.', 'Это было первое обвинение, выдвинутое на основании закона, принятого в 2003 году, чтобы остановить нежелательное распространение массовых электронных сообщений, известных как «спам», в почтовые ящики пользователей.', '21-летний Жезус перешёл в «Манчестер Сити» в январе 2017 года из бразильского клуба «Палмейрас» за 27 миллионов фунтов стерлингов.', 'С тех пор сыграл за бразильский клуб во всех турнирах 53 матча, забил 24 гола.', 'Доктор Ли также выразил обеспокоенность тем, что дети в Турции могут заразиться птичьим гриппом A(H5N1) без проявления симптомов.']\n"
     ]
    },
    {
     "name": "stderr",
     "output_type": "stream",
     "text": [
      "\r",
      "35it [59:43, 101.60s/it]"
     ]
    },
    {
     "name": "stdout",
     "output_type": "stream",
     "text": [
      "['Он предупредил, что некоторые исследования предполагают, что болезнь должна стать менее смертельной, прежде чем она приведет к глобальной эпидемии.', 'Существует опасение, что если симптомы гриппа останутся легкими, пациенты могут продолжать заразлять других в повседневной жизни.', 'По словам Лесли Аун, представителя Фонда Коменского, организация приняла новое правило, которое запрещает предоставлять гранты и финансирование организациям, в отношении которых ведется судебное расследование.', 'Политика Коменского привела к прекращению планирования семьи, поскольку Клифф Стернс был подвергнут расследованию за то, как он тратил свои деньги и отчитывался о них.', 'В качестве председателя внутреннего комитета по мониторингу и расследованиям в комитете по энергетике и торговле Стернс расследует случаи использования налогов для финансирования абортов через «планирование родительства».', 'Бывший губернатор Массачусетса Митт Ромни победил в четверг на президентских выборах Республиканской партии во Флориде, набрав более 46% голосов.', 'Бывший спикер Палаты представителей США Ньют Гингрич занял второе место с 32% голосов.', 'Флорида, как победный штат, передала Ромни всех 50 делегатов, что сделало его главным кандидатом в кандидаты от Республиканской партии.']\n"
     ]
    },
    {
     "name": "stderr",
     "output_type": "stream",
     "text": [
      "\r",
      "36it [1:00:47, 90.42s/it]"
     ]
    },
    {
     "name": "stdout",
     "output_type": "stream",
     "text": [
      "['Организаторы протеста сообщили, что в таких городах Германии, как Берлин, Кёльн, Гамбург и Ганновер, собралось около 100 тысяч человек.', 'В Берлине, по оценкам полиции, было около 6500 протестующих.', 'Протесты также прошли в Париже, Софии в Болгарии, Вильнюсе в Литве, Валлетте на Мальте, Таллине в Эстонии и Эдинбурге и Глазго в Шотландии.', 'В Лондоне около 200 человек протестовали против офисов некоторых крупных правообладателей.', 'В прошлом месяце, когда Польша подписала ACTA, в городе начались массовые протесты, которые привели к решению польского правительства пока не ратифицировать соглашение.', 'Латвия и Словакия отложили процесс присоединения к ACTA (Торговому соглашению по борьбе с контрафакцией).', 'Организации Animal Liberation и Royal Society for the Prevention of Cruelty to Animals (RSPCA) вновь призывают к обязательной установке камер видеонаблюдения на австралийских скотобойнях.', 'Главный инспектор RSPCA в Новом Южном Уэльсе Дэвид О’Шаннесси заявил телеканалу ABC, что мониторинг и проверка мест убоя животных должны быть нормой в Австралии.']\n"
     ]
    },
    {
     "name": "stderr",
     "output_type": "stream",
     "text": [
      "\r",
      "37it [1:01:47, 81.26s/it]"
     ]
    },
    {
     "name": "stdout",
     "output_type": "stream",
     "text": [
      "['Камера наблюдения должна послать мощный сигнал тем, кто работает с животными, что их безопасность является высшим приоритетом.', 'Международная сейсмическая карта Геологической службы США показала, что в Исландии не было землетрясений за неделю до этого.', 'Исландское метеорологическое управление сообщило, что за последние 48 часов в районе Гекта не было сейсмической активности.', 'В 10-ти километровой зоне, расположенной на северо-востоке летней кальдеры вулкана, произошло значительное изменение фазы из-за существенной сейсмической активности, которая произошла 10 марта.', 'Вулканическая активность на горных склонах не имеет отношения к темным облакам в Хабаровске.', 'В результате, всё большее количество людей стало полагать, что они были убиты.', 'В результате разрушения и сильнейших ветров и волн, которые толкнули его в волну, на танкере Luno было 120—160 кубических метров топлива.', 'В итоге, два человека были убиты, а один получил тяжёлые ранения.']\n"
     ]
    },
    {
     "name": "stderr",
     "output_type": "stream",
     "text": [
      "\r",
      "38it [1:02:33, 70.73s/it]"
     ]
    },
    {
     "name": "stdout",
     "output_type": "stream",
     "text": [
      "['Стометровое судно должно было доставить обычные удобрения, и сначала власти опасались, что судно может выгрузить груз.', 'В 2011 году в здании размещались две конференц-залы.', 'Второе предложение было сначала отклонено Палатой представителей на этой законодательной сессии, а затем изменено, когда в четверг оно было принято аналогичным образом Сенатом.', 'Если второе предложение, которое предполагает запрет однополых гражданских союзов, не будет выполнено, это может открыть путь для гражданских союзов в будущем.', 'После этого процесса, следующий избранный законодательный орган пересмотрит HJR-3 в 2015 или 2016 году, чтобы остаться в процессе.', 'Внережиссёрские достижения Ваутьера включали голодовку 1973 года против того, что он считал политической цензурой.', 'Закон во Франции изменился. Его активная деятельность началась в 15 лет, когда он присоединился к французскому сопротивлению во время Второй мировой войны.', 'В 1998 году в селе был построен водопровод.']\n"
     ]
    },
    {
     "name": "stderr",
     "output_type": "stream",
     "text": [
      "\r",
      "39it [1:03:17, 62.75s/it]"
     ]
    },
    {
     "name": "stdout",
     "output_type": "stream",
     "text": [
      "['В 1960 году вновь вернулся в Алжир, чтобы обучать режиссёрскому мастерству.', 'В 1954 году в возрасте 54 лет погиб двукратный олимпийский чемпион по дзюдо Хитоши Сайто.', 'Вскоре после этого в городе началась волна беспорядков, вызванных убийством в Багдаде.', 'Вскоре после этого он вернулся в Одессу.', 'В 2000 году, после смерти бывшего олимпийского чемпиона и чемпиона мира Сайто, он стал председателем тренировочного комитета Всеяпонской федерации дзюдо.', 'В 100-летний юбилей свадьбы в праздничном мероприятии приняли участие не менее 100 человек.', 'Вскоре после этого мать начала вести активную пропагандистскую работу среди местного населения.', 'Супруги поженились в Техасе год назад и приехали в Буффало, чтобы отпраздновать это событие с друзьями и родственниками.']\n"
     ]
    },
    {
     "name": "stderr",
     "output_type": "stream",
     "text": [
      "\r",
      "40it [1:04:24, 64.10s/it]"
     ]
    },
    {
     "name": "stdout",
     "output_type": "stream",
     "text": [
      "['В 1930-х годах в селе было 2 двора, в которых проживали 30 человек, но вскоре они были расселены.', 'Карно\\xa0— известный, но спорный преподаватель, преподававший в Modern Education и King’s Glory, утверждавший, что на пике своей карьеры имел 9000 учеников.', 'В своих записях он использовал слова, которые некоторые родители считали грубыми, и, по сообщениям, в классе использовал ненормативный лексикон.', 'Современные белые обвинили его в том, что он несанкционированно и без всяких на то оснований клеветал на учителей английского языка в автобусах и печатал огромные рекламные объявления.', 'Вскоре после этого он был арестован по обвинению в убийстве, но не был приговорён к смертной казни.', 'Бывший студент рассказал, что он был «обычным другом студентов, который использовал сленг в классе, обучал навыкам, которые можно использовать на собраниях».', 'В течение последних трех десятилетий Китай, несмотря на то, что он был коммунистической страной, развивал рыночную экономику.', 'В экономической сфере реформы были проведены под руководством Дэн Сяопина.']\n"
     ]
    },
    {
     "name": "stderr",
     "output_type": "stream",
     "text": [
      "\r",
      "41it [1:05:30, 64.50s/it]"
     ]
    },
    {
     "name": "stdout",
     "output_type": "stream",
     "text": [
      "['С тех пор экономика Китая выросла в 90 раз.', 'Впервые за последний год Китай экспортировал больше автомобилей, чем Германия, и обогнал США в качестве крупнейшего рынка в этой отрасли.', 'ВВП Китая может превысить ВВП США в течение двух десятилетий.', 'Тропический шторм «Даниэль»\\xa0— четвёртый по счёту тропический шторм сезона 2010 года, который образовался в восточной части Атлантического океана.', 'На расстоянии около 3000 миль от Майами, штат Флорида, шторм развивал максимальную устойчивую скорость 40 миль в час (64 км/ч).', 'В итоге, вместо того, чтобы дать ему шанс, Даниэль дает ему шанс на жизнь.', 'Этот шторм находится далеко от берега, поэтому его возможные последствия для Соединенных Штатов или Карибского бассейна трудно предсказать.', 'В 1991 году в Загребе, в хорватском городе Белграде, в здании бывшего здания хорватского парламента был открыт мемориальный комплекс «Партизан».']\n"
     ]
    },
    {
     "name": "stderr",
     "output_type": "stream",
     "text": [
      "\r",
      "42it [1:06:07, 56.40s/it]"
     ]
    },
    {
     "name": "stdout",
     "output_type": "stream",
     "text": [
      "['В 1945 году был демобилизован, в 1958 году вернулся в строй.', 'В составе команды он забил 403 гола в 468 матчах.', 'В клубе не хватает игроков, которые могли бы занять место в основе.', 'В 1995 году в составе сборной был участником Кубка конфедераций 1995 года в Бразилии.', 'Праздничные мероприятия начались со специального шоу всемирно известного цирка «Cirque Du Soleil».', 'Затем выступили Государственный симфонический оркестр Стамбула, группа Janissary и певцы Фатих Эркоч и Муслум Гурсес.', 'Вскоре после этого Кэнсиро погибает.', 'Турецкая дива Сезен Аксу исполнила песню вместе с итальянским тенором Алессандро Сафиной и греческим певцом Харисом Алексиоу.']\n"
     ]
    },
    {
     "name": "stderr",
     "output_type": "stream",
     "text": [
      "\r",
      "43it [1:06:55, 53.91s/it]"
     ]
    },
    {
     "name": "stdout",
     "output_type": "stream",
     "text": [
      "['В итоге, турецкая танцевальная группа «Анатолийский огонь» исполнила шоу «Троя».', 'Питер Ленц, 13-летний мотоциклист, погиб после аварии на гоночном треке в Индианаполисе.', 'В ходе нагревательного цикла Ленц упал с велосипеда и был сбит своим коллегой Хавьером Зайатом.', 'Вскоре приехала скорая помощь, которая доставила его в местную больницу, где он скончался.', 'Нельзя было делать ставки на ворота.', 'Говоря о глобальной финансовой ситуации, Сапатеро добавил: «Финансовая система – это часть экономики, основная часть экономики.', 'Мы пережили год финансового кризиса, который достиг своего апогея в последние два месяца, и я думаю, что финансовые рынки сейчас восстанавливаются».', 'На прошлой неделе Naked News объявила, что в течение трех новых выпусков она значительно расширит свой международный языковой арсенал в новостных репортажах.']\n"
     ]
    },
    {
     "name": "stderr",
     "output_type": "stream",
     "text": [
      "\r",
      "44it [1:07:45, 52.48s/it]"
     ]
    },
    {
     "name": "stdout",
     "output_type": "stream",
     "text": [
      "['Глобальная организация, вещающая на английском и японском языках, запускает программы на испанском, итальянском и корейском языках для телевидения, Интернета и мобильных устройств.', 'К счастью, я не пострадал, но я видел печальный снимок людей, которые разбивали окна, чтобы выбраться.', 'В итоге, ребята стали жить вместе, но всё же разошлись.', '«В конце концов, одно из стекловых окон разбилось, и они начали выпадать из окна»,\\xa0— рассказал выживший Франсишек Коваль.', 'В верхнем течении река сильно извилистая, в нижнем течении её русло сильно извилистое, в верхнем течении сильно извилистое.', 'Ученые работают над созданием реактора, который будет получать энергию точно таким же образом.', 'Но это очень сложная проблема, и пройдет много лет, прежде чем мы увидим полезные термоядерные реакторы.', 'В итоге, всё-таки, ему удалось удержать Керри в воротах.']\n"
     ]
    },
    {
     "name": "stderr",
     "output_type": "stream",
     "text": [
      "\r",
      "45it [1:08:46, 55.03s/it]"
     ]
    },
    {
     "name": "stdout",
     "output_type": "stream",
     "text": [
      "['В верховьях реки в верховьях образуются овраги, в нижнем течении\\xa0— заболоченные луга, в нижнем течении\\xa0— болота.', 'Молекулы воды образуют невидимый слой на поверхности воды, который позволяет таким объектам, как иглы, плавать на поверхности.', 'Современные коньки имеют две стороны, между которыми находится вдвое более глубокая полость, что позволяет лучше сцепиться со льдом даже при наклоне.', 'В итоге, вместо того, чтобы держать нож в руке, он хватает его за ножницу и кладет в рот, а затем хватает за рот.', 'Это приводит к тому, что конь поворачивается. Если коньки наклонены вправо, конь поворачивается вправо, если коньки наклонены влево, конь поворачивается влево.', 'Для того, чтобы вернуться к прежнему энергетическому уровню, им нужно избавиться от дополнительной энергии, полученной от света.', 'Вместо этого они используют «фотон», то есть маленькую частицу света.', 'Ученые называют этот процесс «стимулированным выходом излучения», так как атомы сильно стимулируются светом, что приводит к выходу фотона света, а свет является видом излучения.']\n"
     ]
    },
    {
     "name": "stderr",
     "output_type": "stream",
     "text": [
      "\r",
      "46it [1:11:06, 80.67s/it]"
     ]
    },
    {
     "name": "stdout",
     "output_type": "stream",
     "text": [
      "['На следующем рисунке показаны атомы, из которых исходят фотоны. Конечно, на самом деле фотоны намного меньше, чем на рисунке.', 'Фотоны меньше, чем то, что составляет атомы!', 'В 1990-х годах в связи с ростом цен на электроэнергию, вместо обычных ламп, которые потребляют много электроэнергии, стали использоваться светодиодные лампы.', 'После этого лампу необходимо заменить. При замене лампы следует проявлять осторожность.', 'Вместо этого, он провёл работу над монтажом кабеля.', 'В случае, если в гнездо попадает рыба, то она должна быть тщательно очищена от личинок, а если рыба попадает в гнездо, то должна быть тщательно очищена от личинок.', 'В итоге, всё, что осталось от них,\\xa0— это пустые пустые пустые пустые пустые пустые пустые пустые пустые пустые пустые пустые пустые пустые пустые пустые пустые пустые пустые пустые пустые пустые пустые пустые пустые пустые пустые пуст', 'Кровь выходит из сердца через большие сосуды, называемые артериями, и возвращается в сердце через сосуды, называемые венами.']\n"
     ]
    },
    {
     "name": "stderr",
     "output_type": "stream",
     "text": [
      "\r",
      "47it [1:12:50, 87.68s/it]"
     ]
    },
    {
     "name": "stdout",
     "output_type": "stream",
     "text": [
      "['Ведь я не хочу, чтобы кто-то из вас был в беде, и я не хочу, чтобы кто-то из вас был в беде.', 'В итоге, вместо того, чтобы дать ему возможность вернуться в строй, он приказал ему вернуться в строй.', 'Они стали жить вместе, и они стали жить вместе, и они стали жить вместе.', 'В итоге, вместо того, чтобы дать ему возможность вернуться в строй, он приказал ему вернуться в строй.', 'Другие учёные утверждают, что эти растения являются очень ядовитыми, поэтому их вряд ли съели динозавры, хотя другие животные, такие как ленивцы и ленивцы (потомки динозавров), могут поедать ядовитые листья или плоды.', 'Как бы гравитационное воздействие Ио повлияло на меня? Если бы я стоял на его поверхности, я бы весил меньше, чем на Земле.', 'Человек весом 90 кг на Земле весит в Йо около 16 кг, поэтому, конечно, гравитация будет вас тянуть меньше.', 'Солнце не имеет оболочки, в которой вы могли бы жить, как на Земле. Солнце состоит полностью из газов, огня и плазмы.']\n"
     ]
    },
    {
     "name": "stderr",
     "output_type": "stream",
     "text": [
      "\r",
      "48it [1:13:47, 78.30s/it]"
     ]
    },
    {
     "name": "stdout",
     "output_type": "stream",
     "text": [
      "['В итоге, всё, что осталось от воды, превращается в газ.', 'Внешняя часть, которую мы видим, когда смотрим на Солнце, называется фотосферой, что означает «световой шар».', 'Примерно три тысячи лет спустя, в 1610 году, итальянский астроном Галилео Галилей, используя телескоп, наблюдал, что Венера имеет фазы, подобные лунным.', 'Фазы возникают, когда только одна сторона Венеры (или Луны) обращена к Солнцу. Фазы Венеры поддерживали теорию Коперника о том, что планеты обращаются вокруг Солнца.', 'Затем, несколько лет спустя, в 1639 году английский астроном Иеремия Хоррокс наблюдал прохождение Скорпиона через солнечный диск.', 'Вскоре после этого англичане снова начали наступление на Данелав.', 'Однако в 991 году Этельред встретил флот викингов, более крупный, чем Гутрум столетие ранее.', 'В 1230 году норвежский король Олаф Тригвассон, стремившийся вернуть себе датское господство, отправил в поход флот.']\n"
     ]
    },
    {
     "name": "stderr",
     "output_type": "stream",
     "text": [
      "\r",
      "49it [1:14:44, 72.10s/it]"
     ]
    },
    {
     "name": "stdout",
     "output_type": "stream",
     "text": [
      "['После первоначальных военных неудач Этельреду удалось договориться с Олавом, который вернулся в Норвегию, чтобы завоевать королевство (с переменчивыми успехами и неудачами).', 'Хангыль является единственным широко используемым, целенаправленно созданным алфавитом, который был изобретён в 1444 году, во время правления короля Седжон (1418—1450).', 'Король Седжон был четвёртым королём из династии Чосон и самым уважаемым.', 'Вначале он назвал алфавит Хангыля Хунмин Чоным, что означает «правильные звуки для обучения людей».', 'Существует множество теорий о том, как возник санскрит, одна из которых утверждает, что арийцы, мигрировавшие в Индию с запада, принесли с собой язык.', 'В 1999 году в селе появился иноязычный детский сад, в котором дети из разных стран Европы учатся на латинском языке.', 'В 1999 году в селе была открыта часовня Святого Николая, в которой вместо часов сохранились часы с иконами святых.', 'Санскрит\\xa0— очень сложный и богатый язык, латинский язык послужил источником многих современных индийских языков для европейских языков, таких как французский и испанский.']\n"
     ]
    },
    {
     "name": "stderr",
     "output_type": "stream",
     "text": [
      "\r",
      "50it [1:16:04, 74.57s/it]"
     ]
    },
    {
     "name": "stdout",
     "output_type": "stream",
     "text": [
      "['После окончания битвы за Францию Германия начала подготовку к вторжению на Британские острова.', 'Немцы дали этому наступлению кодовое название «Операция «Смерть», поскольку большая часть тяжелого вооружения и оборудования британских войск была потеряна во время эвакуации из Дюнкерка, что значительно ослабило их.', 'Но Королевский военно-морской флот был намного сильнее немецкого флота («Кригсмарин») и мог уничтожить любой наступательный флот, направленный через Ла-Манш.', 'Однако лишь небольшое количество кораблей Королевского флота находилось вблизи возможных маршрутов вторжения, поскольку адмиралы опасались, что немецкие воздушные удары могут их потопить.', 'Начнём с объяснения планов Италии, которая была, по сути, «младшим братом» Германии и Японии.', 'Вскоре после этого он был отправлен в крепость, где его ожидали тяжёлые бои с флотом.', 'Основными целями Италии были африканские страны, которые требовали военных плацдармов для завоевания, чтобы войска могли переплыть Средиземное море и завоевать Африку.', 'Для этого им пришлось уничтожить британские базы и корабли в Египте, и, кроме этого, итальянские военные корабли не должны были делать ничего другого.']\n"
     ]
    },
    {
     "name": "stderr",
     "output_type": "stream",
     "text": [
      "\r",
      "51it [1:17:02, 69.32s/it]"
     ]
    },
    {
     "name": "stdout",
     "output_type": "stream",
     "text": [
      "['Переходя к Японии, она была островной страной, подобно Великобритании.', 'В верхнем течении река сильно заболочена, в нижнем течении\\xa0— сильно заболочена.', 'Подводные лодки использовались в Первой и Второй мировых войнах, когда они были очень тяжелыми и имели ограниченный радиус действия.', 'В начале войны они в основном плавали на поверхности, но по мере развития и повышения точности радаров подводные лодки были вынуждены погружаться, чтобы не быть замеченными.', 'Немецкие подводные лодки назывались «U-Boots» (подводные лодки типа «U»), и немцы были очень хороши в их навигации и управлении.', 'В зависимости от доходов от подводных лодок, никто не верит, что после войны у немцев было больше подводных лодок.', 'Да, король Тутанхамон (иногда называемый «Царем-тутом» или «Царем-ребёнком») является одним из самых известных современных древних египетских царей.', 'В итоге, всё это привело к тому, что вскоре в селе появились недовольные жители, которые стали громко кричать, что в селе нет ничего хорошего.']\n"
     ]
    },
    {
     "name": "stderr",
     "output_type": "stream",
     "text": [
      "\r",
      "52it [1:18:36, 76.90s/it]"
     ]
    },
    {
     "name": "stdout",
     "output_type": "stream",
     "text": [
      "['Но обнаружение его могилы в 1922 году сделало его знаменитым, и, хотя многие из его могил были разграблены, его могила осталась почти нетронутой.', 'Большинство предметов, захороненных вместе с Тутанхамоном, хорошо сохранились, включая тысячи артефактов из драгоценных металлов и редких камней.', 'В итоге, ассирийцы, несмотря на то, что были сильнее, были вынуждены отступить, и ассирийцы, несмотря на то, что были сильнее, были вынуждены отступить.', 'Их смертоносные палки могли пробиваться сквозь рукава противника, а около тысячи лет назад ассирийцы впервые ввели в строй конную армию.', 'Ведь в то время, когда ассирийцы воевали на лошадях, не имевших верховой опоры, они воевали на лошадях, не имевших верховой опоры.', 'Мы знаем многих греческих политиков, учёных и артистов, но, возможно, наиболее известным представителем этой культуры является Гомер, легендарный слепой поэт, автор двух шедевров греческой литературы – «Илиады» и «Одиссеи».', 'В 1996 году вместе с Софоклом и Аристофаном стал автором пьесы «Софокл и Аристофан», ставшей одной из самых известных в истории мировой литературы.', 'Ещё один известный грек\\xa0— математик Пифагор. Он известен прежде всего своей теоремой об отношениях сторон правильных треугольников.']\n"
     ]
    },
    {
     "name": "stderr",
     "output_type": "stream",
     "text": [
      "\r",
      "53it [1:19:30, 69.93s/it]"
     ]
    },
    {
     "name": "stdout",
     "output_type": "stream",
     "text": [
      "['Оценки численности говорящих на хинди разнятся, но, по некоторым оценкам, он занимает место между вторым и четвертым по распространённости устными языками в мире.', 'В данном случае слово «слепой» означает человека, который не может говорить, не умеет читать и не может говорить на родном языке.', 'По оценкам, на нём говорят от 340 до 500 миллионов человек, а понимают его 800 миллионов человек.', 'Хинди и урду имеют схожие словарные запасы, но отличаются в письменности, и в повседневной речи люди, говорящие на этих двух языках, обычно понимают друг друга.', 'В 15-м веке в северной Эстонии сильно проявилось немецкое культурное влияние.', 'Некоторые немецкие монахи хотели приблизить Бога к местному населению, поэтому они изобрели эстонский язык буквально.', 'В итоге он был вынужден вернуться в «Спарту» и вскоре был отдан в аренду «Атлетику».', 'Со временем многие слова из немецкого языка были введены в английский язык, что стало началом эпохи Просвещения.']\n"
     ]
    },
    {
     "name": "stderr",
     "output_type": "stream",
     "text": [
      "\r",
      "54it [1:22:50, 108.94s/it]"
     ]
    },
    {
     "name": "stdout",
     "output_type": "stream",
     "text": [
      "['Вскоре после этого, вместе с другими бандитами, он отправляется в путь.', 'Однако Чарльз поступил в университет Тринити-колледжа в Кембридже, где изучал антропологию и археологию, а позже историю, получив степень 2:2 (низшая степень второго уровня).', 'Чарльз стал первым членом британской королевской семьи, получившим титул.', 'Европейская часть Турции (восточная Фракия или Румелия на Балканском полуострове) занимает 3\\xa0% территории страны.', 'Территория Турции имеет прямоугольную форму длиной более 1600\\xa0км (1000 миль) и шириной более 800\\xa0км (500 миль).', 'Территория Турции, включая озёра, занимает 783 562 квадратных километра (300 948 квадратных миль), из которых 755 688 квадратных километров (291 773 квадратных миль) расположены в Юго-Западной Азии и 23 764 квадратных километра (9174 квадратных миль) рас', 'В 1937 году в селе было 27 дворов, в которых проживало 277 человек, в том числе 277 мужчин и 277 женщин, в основном крестьяне, которые занимались земледелием и скотоводством.', 'В итоге они стали жить вместе, и вскоре они познакомились с одним из них, который был одним из самых богатых людей в городе.']\n"
     ]
    },
    {
     "name": "stderr",
     "output_type": "stream",
     "text": [
      "\r",
      "55it [1:23:38, 90.82s/it] "
     ]
    },
    {
     "name": "stdout",
     "output_type": "stream",
     "text": [
      "['В 1839 году в Люксембурге произошёл переворот, который привел к его независимости.', 'Современные части Бельгии ранее были частью Люксембурга, но стали бельгийскими после Бельгийской революции 1830 года.', 'В 1945 году Люксембург был оккупирован Германией, и в течение двух лет существования страны являлся нейтральным.', 'В 1957 году Люксембург стал одним из основателей организации, которая сегодня известна как Европейский союз.', 'Друкгиал является разрушенной крепостью и буддистским храмом в верхней части района Дзонг Паро (в деревне Фондей).', 'В 1649 году Шабдрунг Нгаванг Намгьял, как утверждается, построил осаду в честь своей победы над тибетско-монгольскими силами.', 'Из-за пожара 1951 года сохранились лишь некоторые памятники Друкгиал Дзонг, такие как картина Шабдрунг Нгаванг Намгьял.', 'Вскоре после этого он был убит, а его тело было развеянным по улицам, как дым от взрыва бомбы.']\n"
     ]
    },
    {
     "name": "stderr",
     "output_type": "stream",
     "text": [
      "\r",
      "56it [1:24:32, 79.58s/it]"
     ]
    },
    {
     "name": "stdout",
     "output_type": "stream",
     "text": [
      "['В 18 веке Камбоджа оказалась втянутой в войну между двумя могущественными соседями\\xa0— Таиландом и Вьетнамом.', 'Тайцы несколько раз захватывали Камбоджу в XVIII веке, а в 1772 году разрушили Пномпень.', 'В 18 веке вьетнамцы захватили Камбоджу.', 'Восемнадцать процентов венесуэльцев являются безработными, а большинство из тех, кто работает, заняты в неформальной экономике.', 'Две трети работающих венесуэльцев заняты в сфере услуг, почти четверть – в промышленности, а пятая часть – в сельском хозяйстве.', 'Важным сектором для венесуэльцев является нефтяная промышленность, которая, хотя и является чистым экспортёром сырья, обеспечивает работой лишь один процент населения.', 'В первые годы независимости Сингапура благодаря профессионализму сингапурского ботанического сада остров превратился в тропический городской сад.', 'В 1981 году орхидея Ванда Мисс Жоаким была выбрана национальным цветком.']\n"
     ]
    },
    {
     "name": "stderr",
     "output_type": "stream",
     "text": [
      "\r",
      "57it [1:28:20, 124.33s/it]"
     ]
    },
    {
     "name": "stdout",
     "output_type": "stream",
     "text": [
      "['В 1995 году в селе было 1,5 тысячи жителей, в основном, евреев, которые жили в 10-ти домах, в 1-м и 2-м домах, в 1-м и 2-м домах.', 'После этого он вернулся в крепость, но вскоре вернулся в крепость, где был убит.', 'Регион Серенгети включает национальный парк Серенгети, заповедник Нгоронгоро и заповедник Масва в Танзании и национальный парк Масаи-Мара в Кении.', 'Учиться создавать интерактивные мультимедийные материалы требует знакомых и привычных навыков, а также инструментов, изученных на интерактивных уроках (доски рассказов, редактирование аудио и видео, рассказывание истории и\\xa0т.\\xa0д.).', 'Интерактивный дизайн требует переоценки ваших предположений о создании медиа и обучения нелинейному мышлению.', 'В отличие от других родов рода, рода рода рода рода рода рода рода рода рода рода рода рода рода рода рода рода рода рода рода рода рода рода рода рода рода рода рода рода рода рода рода рода рода рода рода рода рода рода рода рода рода рода рода рода рода', 'Недостатком масштабируемых объективов является их фокусная сложность и количество объективных элементов, необходимых для достижения диапазона фокусных расстояний, гораздо больше, чем для основных объективов.', 'В итоге, всё это приводит к тому, что вместо обычного взрыва, в гнезде появляется взрывчатка.']\n"
     ]
    },
    {
     "name": "stderr",
     "output_type": "stream",
     "text": [
      "\r",
      "58it [1:29:08, 101.22s/it]"
     ]
    },
    {
     "name": "stdout",
     "output_type": "stream",
     "text": [
      "['В верхнем течении река пересыхает, в нижнем течении впадает в Большую Оку.', 'В верхнем течении река сильно извилистая, в нижнем течении\\xa0— извилистая, в нижнем течении\\xa0— извилистая.', 'В верхнем течении река сильно заболочена, в нижнем течении сильно заболочена.', 'В фильме показано, как в одной из комнат, где снимались сцены с участием Дюма, он обнаруживает мертвого человека.', 'В телепередаче «Смотри, как дрожит».', 'В итоге, вместо того, чтобы вести репортаж, они смотрели на телевизор, где шли бои.', 'Это сделано для того, чтобы изображение занимало весь экран. Это называется пересканированием.', 'К сожалению, при создании DVD его границы могут быть также вырезаны, а если субтитры видео находятся слишком близко к нижней части, они не будут отображаться полностью.']\n"
     ]
    },
    {
     "name": "stderr",
     "output_type": "stream",
     "text": [
      "\r",
      "59it [1:30:30, 95.63s/it] "
     ]
    },
    {
     "name": "stdout",
     "output_type": "stream",
     "text": [
      "['Традиционный средневековый дворец давно вдохновляет воображение, создавая образы древних сражений, банкетов и певцов эпохи Артура.', 'Даже стоя среди тысячелетних развалин, легко представить звуки и запахи прошлых сражений, приблизиться к звуку клинков в каменных воротах и почувствовать ужас, который исходит из ямы подземного замка.', 'Но основано ли наше воображение на реальности? Почему дворцы строились? Как они проектировались и строились?', 'В итоге, вместо того, чтобы дать ему возможность вернуться в мир живых, он похитил его и убил.', 'Его большие глянцевые окна и тонкие стены не могли бы долго выдержать мощную атаку.', 'В 1480-х годах, когда лорд Гастингс начал его строительство, страна была относительно спокойной и оборона была необходима только против небольших банд случайных грабителей.', 'Баланс сил был системой, в которой европейские страны стремились сохранить суверенитет всех европейских стран.', 'В соответствии с этой концепцией, все европейские государства должны были не допускать доминирования какой-либо одной нации, поэтому правительства часто меняли свои союзы, чтобы сохранить баланс.']\n"
     ]
    },
    {
     "name": "stderr",
     "output_type": "stream",
     "text": [
      "\r",
      "60it [1:31:36, 86.67s/it]"
     ]
    },
    {
     "name": "stdout",
     "output_type": "stream",
     "text": [
      "['В годы Великой Отечественной войны в селе располагалась боевая часть Красной Армии.', 'Это стало началом важного изменения, поскольку религиозные войны в крупных европейских государствах больше не имели оправдания, и Тридцатилетняя война стала последней войной, которая была названа религиозной.', 'Храм Артемиды в Эфесе был сожжён Геростратом 21 июля 356 года до\\xa0н.\\xa0э.', 'Согласно легенде, его обещанием было достичь славы любой ценой, и разгневанные эфесты объявили, что имя Герострата никогда не войдет в историю.', 'Греческий историк Страбон позже упомянул о храме, который мы знаем по сей день и который был разрушен в ночь рождения Александра Македонского.', 'Когда Александр был королём, он предложил оплатить восстановление храма, но его предложение было отклонено. Позже, после смерти Александра, храм был восстановлен в 323 году до н. э.', 'Убедитесь, что вы не перегружаете руку, пока вы нажимаете на все ноты, и не передвигайте пальцы слишком сильно.', 'Это позволит вам не уставать. Помните, что вам не нужно нажимать слишком сильно, чтобы получить дополнительный звук, как на пианино.']\n"
     ]
    },
    {
     "name": "stderr",
     "output_type": "stream",
     "text": [
      "\r",
      "61it [1:32:55, 84.31s/it]"
     ]
    },
    {
     "name": "stdout",
     "output_type": "stream",
     "text": [
      "['В итоге, вместо того, чтобы дать ему возможность вернуться в строй, он пошёл на уступки.', 'Ведь они, как и мы, стремятся к совершенству, к совершенству, к совершенству, к совершенству, к совершенству, к совершенству, к совершенству.', 'Ведь они не могли найти ничего, кроме того, что они могли найти, и они не могли найти ничего, кроме того, что они могли найти.', 'Вскоре после этого в селе появились боевики, которые устроили засаду на станцию.', 'Мистика отличается от религиозных верований и культов тем, что она сосредоточена на состоянии сознания, особенно на непосредственном личном опыте состояний мира, понимания, счастья и даже экстаза.', 'Сикхизм\\xa0— религия, возникшая на индийском субконтиненте. Она возникла в районе Пенджаба в XV веке в результате раскола индуистской традиции на секты.', 'В итоге, ему удалось убедить дядю, что он не должен делать ничего, кроме как жить, и он снова стал жить вместе с дядей.', 'Сикхы называют свою религию «Гурмат», что на пенджабском языке означает «путь гуру». Гуру – это центральный аспект всех индийских религий, но в сикхизме он настолько важен, что является основой сикхских верований.']\n"
     ]
    },
    {
     "name": "stderr",
     "output_type": "stream",
     "text": [
      "\r",
      "62it [1:35:41, 108.72s/it]"
     ]
    },
    {
     "name": "stdout",
     "output_type": "stream",
     "text": [
      "['Основателем этой религии был Гуру Нанак (1469—1539) в XV веке. За ним последовали ещё 9 гуру.', 'Но в июне 1956 года обещания Хрущева прошли испытание, когда массовые беспорядки в Польше, в ходе которых рабочие протестовали против нехватки продовольствия и сокращения заработной платы, переросли в общенациональный антикоммунистический протест.', 'Однако в конце концов Хрущев послал танки для восстановления порядка, выполнил ряд экономических требований и согласился назначить известного Владислава Гомулку новым премьер-министром.', 'В верхнем течении река протекает по равнинной местности, в нижнем течении по крутым склонам, в нижнем течении по крутым склонам, в нижнем течении по крутым склонам, в нижнем течении по крутым склонам.', 'В итоге, вместо того, чтобы плыть вниз по течению, он пошёл вниз по течению.', 'Некоторые учёные предполагают, что цивилизация существовала также в бассейне реки Сарасвати, которая сейчас пересохла, но вместо этого они называют её Индо-Сарасвати, а некоторые называют её Хараппской цивилизацией, в честь Хараппы, первого города, раскопки которого были проведены в 1920-х годах.', 'В Римской империи римские солдаты могли быть награждены орденом за храбрость.', 'В 199 году до\\xa0н.\\xa0э. император Август назначил его настоятелем монастыря, где он и скончался вскоре после возвращения из Рима.']\n"
     ]
    },
    {
     "name": "stderr",
     "output_type": "stream",
     "text": [
      "\r",
      "63it [1:36:50, 96.91s/it] "
     ]
    },
    {
     "name": "stdout",
     "output_type": "stream",
     "text": [
      "['В лечебных целях применяют в виде раствора, который вводят в рот, при лечении острого и хронического гастрита, а также при лечении язвенной болезни желудка.', 'Они были опытными в применении турникетов и артериальных скобок для ампутации, остановки кровообращения и спасения пациентов от гангрены.', 'В течение нескольких столетий Римская империя добилась огромных успехов в медицине, и на их основе была создана большая часть знаний, которые мы знаем сегодня.', 'Чистое оригами - это оригами, в котором в любой момент времени можно выполнить только один склад. Более сложные склады, такие как обратные склады, не допускаются, и все склады должны быть вертикальными.', 'В 1970 году Джон Смит разработал его для оказания помощи людям с ограниченными физическими возможностями.', 'Дети начинают понимать расу и расовые стереотипы в значительно более раннем возрасте, и эти расовые стереотипы влияют на их поведение.', 'Например, дети, которые идентифицируют себя как стереотипное расовое меньшинство, не успевающее в школе, с большей вероятностью будут плохо учиться в школе, если узнают о стереотипах, связанных с их расой.', 'MySpace\\xa0— самый популярный веб-сайт в США, на третьем месте с 54 миллионами профилей.']\n"
     ]
    },
    {
     "name": "stderr",
     "output_type": "stream",
     "text": [
      "\r",
      "64it [1:38:40, 100.79s/it]"
     ]
    },
    {
     "name": "stdout",
     "output_type": "stream",
     "text": [
      "['В итоге, всё это было перенесено на сайт, где белые стали делать ставки.', 'Существуют положительные аспекты этих веб-сайтов, которые включают в себя легкую настройку страницы класса, которая может содержать блоги, видео, фотографии и другие функции.', 'Этот сайт легко просматривать, указывая только один веб-сайт, что делает его легким для запоминания и легким для набора для учащихся, которые испытывают трудности с использованием клавиатуры или печатанием.', 'Он понимает, что это не так, и решает помочь ему, но вскоре понимает, что это не так.', 'Дефицит внимания является «неврологическим синдромом, классическое определение которого включает три симптома: апатия, тревога и гиперактивность или избыток энергии».', 'Это не дислексия, а болезнь изучения, которая «затрагивала 3-5% всех детей, а возможно, и 2 миллиона американских детей».', 'Дети с синдромом НСА не могут сосредоточиться на таких вещах, как выполнение школьных заданий, но могут сосредоточиться на таких вещах, как игра в игры, просмотр любимых мультфильмов или написание предложений без пунктуации, которые они любят делать.', 'Эти дети чаще подвергаются негативным ситуациям, поскольку они «совершают опасные действия, ссорятся и нападают на старших, чтобы активизировать свое мышление», поскольку их невозможно заставить думать обычным способом.']\n"
     ]
    },
    {
     "name": "stderr",
     "output_type": "stream",
     "text": [
      "\r",
      "65it [1:39:54, 92.69s/it] "
     ]
    },
    {
     "name": "stdout",
     "output_type": "stream",
     "text": [
      "['НСА влияет на отношения с другими молодыми людьми, потому что другие дети не могут понять, почему они поступают так, как они поступают, или почему они пишут так, как они пишут, или почему их уровень взросления отличается.', 'Возможность получать и усваивать знания изменилась, как уже упоминалось выше, и стандартная скорость получения белого цвета изменилась.', 'Способы получения информации изменились, и акцент сместился с индивидуального воспоминания на способность запоминать текст.', 'В целом, эпоха Возрождения принесла значительные изменения в сфере предоставления и распределения белого золота.', 'В итоге, вместо того, чтобы дать ему возможность вернуться в родной дом, он устроил в нём убийства, грабежи и разбой.', 'Я хочу, чтобы ты, как и я, был в восторге от того, что я делаю, и чтобы ты был в восторге от того, что я делаю.', 'Люди стали ходить в трусах, а дети\\xa0— в купальниках.', 'В 2000 году в результате взрыва в здании, в котором находились 2000 человек, погибло 2 человека, а 1000 человек получили ранения.']\n"
     ]
    },
    {
     "name": "stderr",
     "output_type": "stream",
     "text": [
      "\r",
      "66it [1:41:30, 93.71s/it]"
     ]
    },
    {
     "name": "stdout",
     "output_type": "stream",
     "text": [
      "['В итоге, всё, что осталось от крепости, было разрушено, а её жители вынуждены были бежать.', 'В итоге, всё это приводит к тому, что вместо обычного взгляда на мир, в котором мы живём, мы видим взгляд на пустоту.', 'Если вы спите меньше, чем обычно, то вы действительно спите меньше, чем обычно, и частота восстановления вашего тела становится проблемой.', 'Это было так же утомительно, как просыпаться каждые 20-30 минут и смотреть телевизор.', 'Этот эффект зависит от того, насколько сильно ваш мозг пытается сознательно видеть цвета ночью.', 'Итальянские дела в Северной Африке изначально шли не очень хорошо. В течение недели после объявления Италией войны 10 июня 1940 года британский 11-й гусарский полк захватил форт Капуццо в Ливии.', 'В ходе штурма, состоявшегося к востоку от Бардии, британцы захватили главного инженера итальянской десятой армии генерала Ластуччи.', '28 июня генерал-губернатор Ливии и явный наследник Муссолини маршал Итало Балбо был убит дружественным огнём при высадке в Тобруке.']\n"
     ]
    },
    {
     "name": "stderr",
     "output_type": "stream",
     "text": [
      "\r",
      "67it [1:42:17, 79.92s/it]"
     ]
    },
    {
     "name": "stdout",
     "output_type": "stream",
     "text": [
      "['В 1999 году в университете был открыт спортивный зал, в котором студенты и преподаватели могут заниматься спортом, а также проводятся спортивные соревнования.', 'В игре есть возможность вести дуэль с другими игроками, а также вести дуэль с другими персонажами.', 'В итоге, игроки, которые не смогли пройти квалификацию, были дисквалифицированы, а их места заняли игроки, которые прошли квалификацию.', 'В итоге, вместо того, чтобы держать в руках оружие, они стали держать в руках ножницы, а вместо ножниц\\xa0— ножницы.', 'В клубе он не смог закрепиться и вскоре покинул клуб.', 'В итоге, всё это привело к тому, что в итоге «Атлетико» вышел в финал Кубка Либертадорес.', 'Возможно, наиболее распространённой формой туризма является рекреационный туризм, связанный с массовыми путешествиями.', 'В таких случаях люди отправляются на отдых и развлечения в места, которые сильно отличаются от их повседневной жизни.']\n"
     ]
    },
    {
     "name": "stderr",
     "output_type": "stream",
     "text": [
      "\r",
      "68it [1:43:56, 85.44s/it]"
     ]
    },
    {
     "name": "stdout",
     "output_type": "stream",
     "text": [
      "['В селе есть лыжный курорт, где туристы могут отдохнуть и покататься на лыжах.', 'В итоге, когда ему удалось найти работу в качестве туриста, он решил, что это будет его единственная возможность заработать на жизнь, и решил поехать в Турцию.', 'Туристы могут посещать различные достопримечательности в той или иной стране или просто сосредоточиться на одном месте.', 'Колонисты стали вести себя агрессивно и стали штурмовать крепость.', 'В ряды войск, укреплявших передовые позиции, входили 200-тысячный 1-й и 3-й Нью-Гэмпширский полки полковника Джона Старка и Джеймса Рида (оба позже стали генералами).', 'В верховьях реки Старая Волга впадает в Волгу.', 'В верховьях реки, где она впадает в реку Мстиславку, впадает в неё приток\\xa0— река Мстиславка, которая впадает в неё в местечке Мстиславка.', 'Гридли или Старк поставил перед осадой столб высотой около 100 футов (30 м) и приказал не стрелять, пока не пройдут постоянные войска.']\n"
     ]
    },
    {
     "name": "stderr",
     "output_type": "stream",
     "text": [
      "\r",
      "69it [1:46:41, 109.47s/it]"
     ]
    },
    {
     "name": "stdout",
     "output_type": "stream",
     "text": [
      "['В США стали появляться взрывчатые вещества, которые могли быть использованы против американских солдат.', 'Генерал Джон Кадвалдер, чтобы помешать строительству каких-либо укреплений, предпринял диверсионное нападение на британский гарнизон в Бордентауне.', 'Генерал Джеймс Эвинг переправил 700 милиционеров через реку на пароме «Трентон», захватил мост на мысе Ассунпинк и не позволил вражеским войскам бежать.', 'Основная атакующая сила в 2400 человек пересекла реку в 9 милях к северу от Тренто, а затем разделилась на две группы, одну под командованием Грина и другую под командованием Салливана, чтобы начать наступление накануне рассвета.', 'В итоге, всё, что было сделано в ходе боевых действий, было сделано с полной отдачей.', 'Конечно, первоклассный бегун на полмили, который может пробежать дистанцию менее чем за две минуты, должен обладать значительной скоростью, но выносливость следует распространять всеми возможными способами.', 'В верхнем течении реки в верхнем течении образуются овраги, в нижнем течении\\xa0— овраги, в нижнем течении\\xa0— овраги, в нижнем течении\\xa0— овраги, в нижнем течении\\xa0— овраги, в нижнем течении\\xa0— овраги, в нижнем течении\\xa0— овра', 'Правильное питание само по себе не гарантирует спортивных успехов, но оно может оказать значительное влияние на здоровье молодых спортсменов.']\n"
     ]
    },
    {
     "name": "stderr",
     "output_type": "stream",
     "text": [
      "\r",
      "70it [1:48:05, 101.83s/it]"
     ]
    },
    {
     "name": "stdout",
     "output_type": "stream",
     "text": [
      "['Поддержание здорового энергетического баланса, привычки эффективного гигиены и понимание различных аспектов дополнительного питья могут помочь спортсменам улучшить свои результаты и повысить удовольствие от спорта.', 'Бег на средние дистанции – это относительно недорогая дисциплина; однако существует множество заблуждений относительно оборудования, необходимого для участия в этом виде спорта.', 'Продукты можно покупать по мере необходимости, но большинство из них оказывают незначительное или никакое влияние на производительность.', 'Спортсмены могут чувствовать, что продукт им нравится, даже если он не приносит им конкретных выгод.', 'Атомная масса\\xa0— масса атомов в атомном ядре.', 'В соответствии с упрощённой моделью Бора, очень сложная структура, подобная планетам, обращающимся вокруг Солнца, состоит из центрального ядра, вращающегося по орбите электронов\\xa0— см. рисунок 1.1.', 'Ядро состоит из двух частей: протона и нейтрона.', 'Протоны имеют положительный электрический заряд, а нейтроны\\xa0— отрицательный.']\n"
     ]
    },
    {
     "name": "stderr",
     "output_type": "stream",
     "text": [
      "\r",
      "71it [1:49:17, 92.75s/it] "
     ]
    },
    {
     "name": "stdout",
     "output_type": "stream",
     "text": [
      "['Вместо того, чтобы делать это, они должны сначала проверить место, чтобы убедиться в своей безопасности.', 'Вы должны заметить поведение жертвы и любые автоматические «красные флаги», когда вы приближаетесь.', 'Если вы получите травму, пытаясь помочь, вы только усугубите ситуацию.', 'Исследование показало, что депрессии, страхи и катастрофы связаны с болью и инвалидностью у тех, кто испытывает боль в нижней части спины.', 'Последствия катастрофы были связаны не столько с депрессией и страхом, сколько с еженедельными структурированными сессиями ПА.', 'Люди, занимающиеся обычной деятельностью, нуждаются в большей поддержке в плане негативного восприятия боли, которое позволит отличить хроническую боль от дискомфорта, который испытывают при нормальных физических движениях.', 'Ведь, если бы он был уверен, что его ожидает смерть, то он бы не стал делать ничего, кроме как умирать.', 'Всё это время он был в состоянии спокойно наблюдать за происходящим.']\n"
     ]
    },
    {
     "name": "stderr",
     "output_type": "stream",
     "text": [
      "\r",
      "72it [1:51:00, 95.78s/it]"
     ]
    },
    {
     "name": "stdout",
     "output_type": "stream",
     "text": [
      "['Различные конструкции имеют разные возможности, чувствительность к разным длинам волн и разные уровни остроты, а также требуют разной обработки вводимых данных, чтобы они были значимыми, и разных значений, чтобы работать оптимально.', 'В пределах одного географического региона может существовать несколько популяций одного вида.', 'В отличие от других видов рода, у него не было чётких границ между видами, и он был мономорфным.', 'В итоге, когда они обнаруживают, что всё, что они находят,\\xa0— это мертвые тела, они решают убить их.', 'В годы Великой Отечественной войны в селе располагались казачьи казармы, в которых воевали казаки.', 'В ночь на 10 августа они снова стали штурмовать лагерь, но были отбиты.', 'Когда доступная пища иссякнет, колония вступает в фазу кочевья, в течение которой колония строит временные гнезда, которые меняются каждый день.', 'В 17-м туре ему удалось выиграть у Марка Шварца.']\n"
     ]
    },
    {
     "name": "stderr",
     "output_type": "stream",
     "text": [
      "\r",
      "73it [1:52:06, 86.82s/it]"
     ]
    },
    {
     "name": "stdout",
     "output_type": "stream",
     "text": [
      "['Слово «cell» происходит от латинского слова «cella», означающего «маленькая комната», и впервые было использовано микроскопистом при наблюдении структуры скопления.', 'В итоге, существо, которое стало одним из самых сильных существ в мире, погибает, а его тело разрушается.', 'Клетки настолько важны и важны для изучения жизни, что их часто называют «строительными блоками жизни».', 'В итоге, вместо того, чтобы дать ему возможность вернуться в мир живых, он дает ему возможность вернуться в мир мёртвых.', 'Возможно, это связано с тем, что в данном случае существовало стремление к удовлетворению своих потребностей, а не к удовлетворению потребностей других.', 'Торнадо могут разрушить все на своем пути, хотя их площадь невелика по сравнению с другими мощными штормами.', 'Торнадо выкорчевывают деревья, разрушают стены зданий и разгоняют автомобили в воздух, а два процента самых сильных торнадо длятся от трех часов до нескольких часов.', 'Скорость ветра в этих мощных штормах достигала 480 км/ч (133 м/с; 300 миль/ч).']\n"
     ]
    },
    {
     "name": "stderr",
     "output_type": "stream",
     "text": [
      "\r",
      "74it [1:53:34, 87.41s/it]"
     ]
    },
    {
     "name": "stdout",
     "output_type": "stream",
     "text": [
      "['Вскоре они обнаруживают, что их мать, Клэр, умерла от рака.', 'В 16 лет впервые побывал в Европе, где провёл 16 лет в театре.', 'В итоге, вместо двух длинных телескопов, вместо одного телескопа были установлены два коротких.', 'Жадность и эгоизм всегда будут с нами, и это характерно для сотрудничества: когда выгода приносит пользу всем, эгоистические действия всегда приносят больше пользы в краткосрочной перспективе.', 'Мы надеемся, что многие люди поймут, что только работая с другими в течение длительного времени, они смогут реализовать свой потенциал.', 'Многие мечтают о солнце, на котором люди могли бы путешествовать к другой звезде и исследовать другие миры, некоторые задаются вопросом, что там есть, а некоторые верят, что на других планетах живут другие планетные обитатели или другая жизнь.', 'Но это не будет длиться долго, поскольку звезды настолько далеки друг от друга, что между «соседними» звездами могут быть триллионы миль.', 'Возможно, однажды ваши внуки будут жить в другом мире и думать о своих древних предках?']\n"
     ]
    },
    {
     "name": "stderr",
     "output_type": "stream",
     "text": [
      "\r",
      "75it [1:54:30, 77.85s/it]"
     ]
    },
    {
     "name": "stdout",
     "output_type": "stream",
     "text": [
      "['Животные состоят из множества клеток, которые перерабатывают пищу внутри себя. Большинство из них могут двигаться.', 'В верхнем течении протекает по болотам (в том числе по болоту «Степной»), в нижнем\\xa0— по болотам (в том числе по болоту «Степной»).', 'Животные встречаются по всему миру, они копают землю, плавают в океанах и летают в небе.', 'В данном случае функциональное состояние организма определяется его функциональным состоянием.', 'Слово «цела» происходит от латинского слова cella, что означает «маленькая комната».', 'В итоге, когда они увидели, что мальчики стали ходить по лестнице, они стали говорить, что они смотрят на них.', 'Роберт Гук, английский биолог, увидел под микроскопом в жидкости небольшие квадраты.', 'Он был первым человеком, который наблюдал за мертвыми клетками.']\n"
     ]
    },
    {
     "name": "stderr",
     "output_type": "stream",
     "text": [
      "\r",
      "76it [1:55:30, 72.38s/it]"
     ]
    },
    {
     "name": "stdout",
     "output_type": "stream",
     "text": [
      "['Я чувствую, что я слишком сильно чувствую себя в этом месте, и я чувствую себя в безопасности.', 'В газообразном состоянии азот будет по-прежнему обладать свойствами жидкого азота. Жидкий азот будет более плотным, но его молекулы будут по-прежнему такими же.', 'Вода состоит из двух атомов водорода и одного атома кислорода.', 'Он был довольно большой, с большой головой и мощным телом, и его тяжёлый скелет был довольно мощным.', 'В то время как его физическое состояние может измениться, его химическое состояние остаётся прежним.', 'Время – это вещь, которая окружает нас и влияет на всё, что мы делаем, но её трудно понять.', 'Время исследовалось на протяжении тысячелетий религиозными деятелями, философами и учеными.', 'Время, которое мы переживаем,\\xa0— это серия событий, которые происходят от будущего к настоящему и от настоящего к прошлому.']\n"
     ]
    },
    {
     "name": "stderr",
     "output_type": "stream",
     "text": [
      "\r",
      "77it [1:56:38, 71.26s/it]"
     ]
    },
    {
     "name": "stdout",
     "output_type": "stream",
     "text": [
      "['Ведь всё, что вы делаете, вы делаете для того, чтобы помочь другим.', 'Вы можете управлять временем, контролируя повторение циклического события. Циклическое событие - это то, что систематически повторяется.', 'Всё это время я писал для компьютера, и я писал для компьютера.', 'В фильме показаны сцены, в которых ребята, смотря на громкие звуки, пытаются найти выход из ситуации.', 'Музыканты, которые не могли найти себе место в студии, стали искать альтернативные способы продвижения.', 'В 1990-х годах в связи с экономическим кризисом в стране, в котором находились многие жители, в городе появились новые здания, которые были построены на средства местных жителей.', 'Впоследствии в теории появилась идея, что маори мигрировали из Полинезии в составе Великого флота и завоевали Новую Зеландию у племени Мориори, создав сельскохозяйственное общество.', 'Однако новые доказательства позволяют предположить, что племя Мориори было группой материковых маори, которые мигрировали на острова Чатам из Новой Зеландии и создали свою уникальную, мирную культуру.']\n"
     ]
    },
    {
     "name": "stderr",
     "output_type": "stream",
     "text": [
      "\r",
      "78it [1:57:38, 67.80s/it]"
     ]
    },
    {
     "name": "stdout",
     "output_type": "stream",
     "text": [
      "['В итоге, они стали жить вместе, и вскоре они стали жить вместе вместе в доме, который они назвали «Дом ангелов».', 'Они называли себя мориори, и в результате нескольких сражений они были уничтожены.', 'Люди, которые участвовали в этом процессе на протяжении десятилетий, помогли нам оценить наши сильные стороны и амбиции, открыто оценив наши трудности и даже неудачи.', 'Выслушивая личные, семейные и рабочие истории отдельных людей, мы получили ценную информацию о прошлом организации и некоторых из тех, кто положительно повлиял на ее культуру.', 'Понимание истории не означает понимание культуры, но оно помогает людям понять свое место в истории организации.', 'В процессе оценки успехов и осознания неудач, отдельные люди и все участники могут глубже понять ценности, миссию и движущие силы организации.', 'В этом случае, вспоминая о предыдущих условиях предпринимательского поведения и достигнутых успехах, люди стали более открытыми к новым изменениям и новому направлению новой церкви.', 'Рассказы о таких успехах уменьшили страх перед переменами и создали позитивное восприятие будущих изменений.']\n"
     ]
    },
    {
     "name": "stderr",
     "output_type": "stream",
     "text": [
      "\r",
      "79it [1:58:25, 61.51s/it]"
     ]
    },
    {
     "name": "stdout",
     "output_type": "stream",
     "text": [
      "['В итоге, всё, что осталось от существовавшего в то время мышления, было заменено на идеи, которые могли бы быть реализованы в реальности.', 'Этот подход делает упор на скорость, логику и точность, а также на выявление фактов, повторное использование существующих методов и сбор информации.', 'Важнейший фактор этой точки зрения заключается в том, что есть только один правильный ответ. Вы думаете только о двух ответах: правильном или неправильном.', 'В данном случае обычно используется обычный ключ, который не имеет никакого отношения к стандартному ключу.', 'Люди с этим типом мышления способны к логическому мышлению, запоминанию моделей, решению задач и выполнению научных тестов.', 'Ведь они не могли найти ничего лучшего, чем жить вместе.', 'Иными словами, мы можем успешно предсказать, что другие люди чувствуют, что они намерены делать, что они верят, что они знают или что они хотят.', 'Среди этих способностей ключевое значение имеет понимание намерений других людей, что позволяет нам устранять потенциальные недоразумения в наших физических действиях.']\n"
     ]
    },
    {
     "name": "stderr",
     "output_type": "stream",
     "text": [
      "\r",
      "80it [2:00:26, 79.45s/it]"
     ]
    },
    {
     "name": "stdout",
     "output_type": "stream",
     "text": [
      "['Например, если вы увидите, как кто-то разбивается в стекло машины, вы можете подумать, что он пытается ограбить машину незнакомца.', 'Если бы он потерял ключи от машины, а это была бы его собственная машина, то это было бы оценено по-другому.', 'МРТ основана на физическом явлении, называемом ядерным магнитным резонансом (ЯМР), которое было открыто в 1930-х годах Феликсом Блохом (работающим в Стэнфордском университете) и Эдвардом Пурселлом (из Гарвардского университета).', 'Этот резонанс приводит к тому, что магнитное поле и радиоволны атомов излучают небольшие радиосигналы.', 'В 1970 году Рэймонд Дамадиан, врач и исследователь, открыл основы использования магнитно-резонансной томографии в качестве средства медицинской диагностики.', 'В 1999 году вместе с братом, которым был 2-летний сын, они покинули родной город и переехали в городок Бель-Азар, где оба стали работать в местной газете.', 'В 1977 году доктор Дамадиан завершил строительство первого МРТ-сканера, сканирующего «всё тело», назвав его «неизменным».', 'В итоге, взгляды на эту тему разделились в стороны.']\n"
     ]
    },
    {
     "name": "stderr",
     "output_type": "stream",
     "text": [
      "\r",
      "81it [2:01:13, 69.75s/it]"
     ]
    },
    {
     "name": "stdout",
     "output_type": "stream",
     "text": [
      "['Вместо этого он дает студентам возможность работать в своем темпе и контролировать скорость получения учебной информации.', 'Кроме того, гибкий график работы позволяет сократить ограничения по времени (Bremer, 1998).', 'В 2000 году в сети появилась возможность пользоваться двумя аккаунтами одновременно.', 'Кроме того, студенты могут в любое время отправлять вопросы преподавателям и ожидать ответов значительно быстрее, чем в случае очередной личной встречи.', 'Постмодернистский подход к обучению предлагает свободу от абсолютных норм.', 'На самом деле, обучение не имеет ничего хорошего; оно происходит в процессе взаимодействия между учащимся и полученными знаниями.', 'Например, наш нынешний опыт с учебными телешоу, которые показывают как ручную работу, так и информацию, является примером этого.', 'Можно заметить, что многие люди смотрят телепередачи, в которых рассказывается о процессах или опыте, в которых они сами никогда не участвовали или не применяли свои знания.']\n"
     ]
    },
    {
     "name": "stderr",
     "output_type": "stream",
     "text": [
      "\r",
      "82it [2:03:02, 81.35s/it]"
     ]
    },
    {
     "name": "stdout",
     "output_type": "stream",
     "text": [
      "['Мы никогда не будем ремонтировать свою машину, не будем ездить в Перу, чтобы увидеть древнюю руину, или перестраивать дом соседа.', 'Благодаря подводному волоконно-оптическому кабелю, соединяющему Гренландию с Европой, и широкополосной спутниковой связи, Гренландия хорошо связана с 93% населения, имеющего доступ к Интернету.', 'В гостинице или у хозяина (если вы проживаете в гостевом доме или частном доме) может быть Wi-Fi или компьютер с доступом в Интернет, и во всех местах проживания есть интернет-кафе или одно место с общественным Wi-Fi.', 'Как уже упоминалось выше, хотя слово «эскимос» остается приемлемым в США, оно считается унизительным среди многих неамериканских арктических народов, особенно в Канаде.', 'Возможно, вы слышали, что коренные жители Гренландии используют это слово, но иностранцам не следует его использовать.', 'Коренные жители Гренландии называют себя инуитами в Канаде, а в Гренландии они называют себя калааллек (множественное число\\xa0— калааллит).', 'В Гренландии нет преступности и негативного отношения к иностранцам, и даже в городах есть «смешные места».', 'Холодная погода, возможно, является единственной реальной угрозой, с которой не готовы столкнуться люди.']\n"
     ]
    },
    {
     "name": "stderr",
     "output_type": "stream",
     "text": [
      "\r",
      "83it [2:03:58, 73.87s/it]"
     ]
    },
    {
     "name": "stdout",
     "output_type": "stream",
     "text": [
      "['Если вы собираетесь посетить Гренландию в холодное время года (чем дальше на север, тем холоднее), то очень важно взять с собой достаточно теплую одежду.', 'Слишком долгие дни летом могут привести к недостаточному сну и проблемам со здоровьем.', 'Летом следует остерегаться северных ос, которые, хотя и не являются переносчиками болезней, могут вызывать раздражение.', 'В то время как экономика Сан-Франциско была связана с его ролью туристической достопримечательности мирового класса, его экономика была диверсифицированной.', 'Крупнейшие сектора занятости включают профессиональные услуги, правительство, финансы, торговлю и туризм.', 'Его образы в музыке, кино, литературе и популярной культуре помогли сделать город и его знаменитые места известными во всем мире.', 'В Сан-Франциско развита крупная туристическая инфраструктура с множеством отелей, ресторанов и конференц-залов первого класса.', 'Сан-Франциско является одним из лучших мест в стране для других азиатских кухонь: корейской, тайской, индийской и японской.']\n"
     ]
    },
    {
     "name": "stderr",
     "output_type": "stream",
     "text": [
      "\r",
      "84it [2:05:10, 73.37s/it]"
     ]
    },
    {
     "name": "stdout",
     "output_type": "stream",
     "text": [
      "['Поездка в мир Уолта Диснея является важным путешествием для многих американских семей.', '«Обычная» поездка включает в себя перелёт в международный аэропорт Орландо, поездку на автобусе до местной гостиницы Дисней, проживание в здании Диснея около недели и возвращение домой.', 'Возможно, существует бесконечное количество вариаций, но это то, что большинство людей имеют в виду, когда говорят о «поездке в Диснейленд».', 'Большинство билетов, проданных онлайн через аукционные сайты, такие как EBay или Craigslist, являются частично использованными многодневными билетами на парк-хоппер.', 'Это очень распространённый бизнес, но Disney запрещает его: билеты не подлежат возврату.', 'В верхнем течении река протекает по равнинной местности, в нижнем течении переходит в каньон.', 'Разрешения ограничены для защиты каньона и доступны в первый день месяца, за четыре месяца до начала.', 'В результате, разрешение на посещение отдаленных районов штата в любой день начала мая будет доступно с 1 января.']\n"
     ]
    },
    {
     "name": "stderr",
     "output_type": "stream",
     "text": [
      "\r",
      "85it [2:06:07, 68.53s/it]"
     ]
    },
    {
     "name": "stdout",
     "output_type": "stream",
     "text": [
      "['В самых популярных местах, таких как лагерь Брайт-Энджел, расположенный на ранчо Фантом, места обычно заполняются в первый день, когда они открываются для бронирования.', 'Возможность обращения в компанию, предоставляющую услуги по принципу «первый приходит, первый получает», ограничена по количеству разрешений.', 'Приезд в Южную Африку на автомобиле – это отличный способ увидеть всю красоту региона, а также посмотреть на места, которые находятся за пределами обычных туристических маршрутов.', 'Это можно сделать с помощью тщательного планирования на обычных автомобилях, но 4x4 рекомендуется и во многих местах доступно только с помощью 4x4 с высокой колесной базой.', 'Помните, что, хотя ЮАР была стабильной в плановом отношении, некоторые из ее соседей были совсем не таковыми.', 'Визовые требования и стоимость виз будут отличаться в зависимости от страны, в которую вы собираетесь.', 'Кроме того, в каждой стране существуют уникальные законы, которые требуют, чтобы в автомобиле были предметы, необходимые в чрезвычайных ситуациях.', 'Виктория-Фоллс\\xa0— город в западной части Зимбабве, на границе с Замбией, Ливингстоном и Ботсваной.']\n"
     ]
    },
    {
     "name": "stderr",
     "output_type": "stream",
     "text": [
      "\r",
      "86it [2:07:21, 70.17s/it]"
     ]
    },
    {
     "name": "stdout",
     "output_type": "stream",
     "text": [
      "['Город расположен прямо у водопада и является его главной достопримечательностью, но это популярное туристическое место предлагает множество возможностей для того, чтобы остаться дольше, как для тех, кто ищет истории, так и для тех, кто смотрит на водопад.', 'В верховьях реки обилие воды, но в низовьях её мало.', 'Если же в воду влить воду из сосуда, то она будет жидкой.', 'С другой стороны, так как количество воды настолько велико, вы не сможете увидеть водопад полностью!', 'Гробница Тутанхамона (KV62). KV62, возможно, является самой известной из гробниц в этом районе.', 'В отличие от большинства других царских гробниц, гробница Тутанхамона, которая намного меньше и имеет ограниченное украшение, не стоит посещения.', 'В одной из них он обнаруживает, что его мать, которая была мертвой, была убита, а его отец, который был жив, был убит.', 'Вскоре после этого он был убит в битве при Каире, в которой египтяне потерпели сокрушительное поражение.']\n"
     ]
    },
    {
     "name": "stderr",
     "output_type": "stream",
     "text": [
      "\r",
      "87it [2:08:17, 65.92s/it]"
     ]
    },
    {
     "name": "stdout",
     "output_type": "stream",
     "text": [
      "['Всё это время они не могли найти себе другого места для отдыха.', 'В 12 км к юго-западу от Пномпеня, в Сиемреапе, храм на вершине холма был построен в конце IX века, во времена царя Ясовармана.', 'В верхнем течении река сильно извилистая, в нижнем течении\\xa0— извилистая.', 'Вскоре после этого он был вынужден бежать из-за тяжёлой болезни.', 'Для входа в храм требуется Ангкорское разрешение, поэтому не забудьте взять с собой паспорт, когда будете ехать в Тонлесап.', 'В то время как большинство других стран и ООН не признают Иерусалим столицей Израиля, он остаётся столицей и крупнейшим городом Израиля.', 'В евреев-христиан существовала традиция делать из трупов жертв жертвоприношения.', 'В мире существует три основных религии: христианство, ислам и иудаизм, которые разделяют общие ценности, обычаи и религиозные традиции.']\n"
     ]
    },
    {
     "name": "stderr",
     "output_type": "stream",
     "text": [
      "\r",
      "88it [2:09:29, 67.77s/it]"
     ]
    },
    {
     "name": "stdout",
     "output_type": "stream",
     "text": [
      "['Из-за религиозного значения города и многих мест, особенно в Старом городе, Иерусалим является одним из главных туристических направлений в Израиле.', 'В Иерусалиме много исторических, археологических и культурных достопримечательностей, а также много энергичных и оживленных торговых центров, кафе и ресторанов.', 'Эквадор требует, чтобы кубинские граждане получали приглашение до въезда в Эквадор через международные аэропорты или пограничные пункты приема.', 'Это письмо должно быть легализовано министерством иностранных дел Эквадора и соответствовать определенным требованиям.', 'В результате этих событий между двумя странами возникли серьёзные разногласия.', 'Кубинские граждане, имеющие американскую грин-карту, должны обратиться в консульство Эквадора, чтобы получить освобождение от этого требования.', 'Ваш документ должен быть действительным не менее 6 месяцев после даты поездки. Для подтверждения продолжительности пребывания требуется билет в оба конца/на дальнейшее путешествие.', 'Туры дешевле для больших групп, поэтому, если вы один или с другом, постарайтесь познакомиться с другими людьми и создать группу из четырех-шести человек для лучшей цены на человека.']\n"
     ]
    },
    {
     "name": "stderr",
     "output_type": "stream",
     "text": [
      "\r",
      "89it [2:10:19, 62.34s/it]"
     ]
    },
    {
     "name": "stdout",
     "output_type": "stream",
     "text": [
      "['Но это не должно вас беспокоить, поскольку туристы часто участвуют в заправке машин.', 'Это, по сути, способ убедить людей платить больше.', 'На северной оконечности Мачу-Пикчу возвышается эта крутая гора, которая часто изображается на фоне разрушенных руин.', 'Это выглядит пугающе снизу, это крутое и трудное восхождение, но большинство людей, которые должным образом тренировались, могут подняться на него примерно за 45 минут.', 'В верхнем течении река сильно извилистая, в нижнем течении\\xa0— извилистая, в нижнем течении\\xa0— извилистая.', 'Но ждите, что в более прямых участках будет не дышать, и будьте осторожны, особенно когда влажность высока, так как это может быстро стать опасным.', 'В верхнем течении протекает по болотистой местности, в нижнем течении\\xa0— по болотистой.', 'В 1835 году Чарльз Дарвин, изучая природу и эволюцию животных, обнаружил, что птицы и люди являются потомками одного и того же предка.']\n"
     ]
    },
    {
     "name": "stderr",
     "output_type": "stream",
     "text": [
      "89it [2:11:40, 88.77s/it]\n"
     ]
    },
    {
     "data": {
      "text/html": [
       "<pre style=\"white-space:pre;overflow-x:auto;line-height:normal;font-family:Menlo,'DejaVu Sans Mono',consolas,'Courier New',monospace\"><span style=\"color: #800000; text-decoration-color: #800000\">╭─────────────────────────────── </span><span style=\"color: #800000; text-decoration-color: #800000; font-weight: bold\">Traceback </span><span style=\"color: #bf7f7f; text-decoration-color: #bf7f7f; font-weight: bold\">(most recent call last)</span><span style=\"color: #800000; text-decoration-color: #800000\"> ────────────────────────────────╮</span>\n",
       "<span style=\"color: #800000; text-decoration-color: #800000\">│</span> in <span style=\"color: #00ff00; text-decoration-color: #00ff00\">&lt;module&gt;</span>:<span style=\"color: #0000ff; text-decoration-color: #0000ff\">7</span>                                                                                    <span style=\"color: #800000; text-decoration-color: #800000\">│</span>\n",
       "<span style=\"color: #800000; text-decoration-color: #800000\">│</span>                                                                                                  <span style=\"color: #800000; text-decoration-color: #800000\">│</span>\n",
       "<span style=\"color: #800000; text-decoration-color: #800000\">│</span>   <span style=\"color: #7f7f7f; text-decoration-color: #7f7f7f\">4 </span><span style=\"color: #0000ff; text-decoration-color: #0000ff\">for</span> batch <span style=\"color: #ff00ff; text-decoration-color: #ff00ff\">in</span> tqdm(batch_split(df, batch_size=<span style=\"color: #0000ff; text-decoration-color: #0000ff\">8</span>)):                                            <span style=\"color: #800000; text-decoration-color: #800000\">│</span>\n",
       "<span style=\"color: #800000; text-decoration-color: #800000\">│</span>   <span style=\"color: #7f7f7f; text-decoration-color: #7f7f7f\">5 </span><span style=\"color: #7f7f7f; text-decoration-color: #7f7f7f\">│   </span>results = model.translate_batch(batch)                                                   <span style=\"color: #800000; text-decoration-color: #800000\">│</span>\n",
       "<span style=\"color: #800000; text-decoration-color: #800000\">│</span>   <span style=\"color: #7f7f7f; text-decoration-color: #7f7f7f\">6 </span><span style=\"color: #7f7f7f; text-decoration-color: #7f7f7f\">│   </span><span style=\"color: #0000ff; text-decoration-color: #0000ff\">with</span> <span style=\"color: #00ffff; text-decoration-color: #00ffff\">open</span>(<span style=\"color: #808000; text-decoration-color: #808000\">'results-kaz.txt'</span>, <span style=\"color: #808000; text-decoration-color: #808000\">'a'</span>) <span style=\"color: #0000ff; text-decoration-color: #0000ff\">as</span> file:                                               <span style=\"color: #800000; text-decoration-color: #800000\">│</span>\n",
       "<span style=\"color: #800000; text-decoration-color: #800000\">│</span> <span style=\"color: #800000; text-decoration-color: #800000\">❱ </span>7 <span style=\"color: #7f7f7f; text-decoration-color: #7f7f7f\">│   │   </span><span style=\"color: #00ffff; text-decoration-color: #00ffff\">print</span>(*results, sep=<span style=\"color: #808000; text-decoration-color: #808000\">'\\n'</span>, file=file)                                                 <span style=\"color: #800000; text-decoration-color: #800000\">│</span>\n",
       "<span style=\"color: #800000; text-decoration-color: #800000\">│</span>   <span style=\"color: #7f7f7f; text-decoration-color: #7f7f7f\">8 </span><span style=\"color: #7f7f7f; text-decoration-color: #7f7f7f\">│   </span><span style=\"color: #00ffff; text-decoration-color: #00ffff\">print</span>(results)                                                                           <span style=\"color: #800000; text-decoration-color: #800000\">│</span>\n",
       "<span style=\"color: #800000; text-decoration-color: #800000\">│</span>   <span style=\"color: #7f7f7f; text-decoration-color: #7f7f7f\">9 </span>                                                                                             <span style=\"color: #800000; text-decoration-color: #800000\">│</span>\n",
       "<span style=\"color: #800000; text-decoration-color: #800000\">│</span>                                                                                                  <span style=\"color: #800000; text-decoration-color: #800000\">│</span>\n",
       "<span style=\"color: #800000; text-decoration-color: #800000\">│</span> <span style=\"color: #808000; text-decoration-color: #808000\">C:\\Users\\cutefluffyfox\\AppData\\Local\\Programs\\Python\\Python39\\lib\\encodings\\cp1251.py</span>:<span style=\"color: #0000ff; text-decoration-color: #0000ff\">19</span> in      <span style=\"color: #800000; text-decoration-color: #800000\">│</span>\n",
       "<span style=\"color: #800000; text-decoration-color: #800000\">│</span> <span style=\"color: #00ff00; text-decoration-color: #00ff00\">encode</span>                                                                                           <span style=\"color: #800000; text-decoration-color: #800000\">│</span>\n",
       "<span style=\"color: #800000; text-decoration-color: #800000\">│</span>                                                                                                  <span style=\"color: #800000; text-decoration-color: #800000\">│</span>\n",
       "<span style=\"color: #800000; text-decoration-color: #800000\">│</span>   <span style=\"color: #7f7f7f; text-decoration-color: #7f7f7f\"> 16 </span>                                                                                           <span style=\"color: #800000; text-decoration-color: #800000\">│</span>\n",
       "<span style=\"color: #800000; text-decoration-color: #800000\">│</span>   <span style=\"color: #7f7f7f; text-decoration-color: #7f7f7f\"> 17 </span><span style=\"color: #0000ff; text-decoration-color: #0000ff\">class</span> <span style=\"color: #00ff00; text-decoration-color: #00ff00; text-decoration: underline\">IncrementalEncoder</span>(codecs.IncrementalEncoder):                                       <span style=\"color: #800000; text-decoration-color: #800000\">│</span>\n",
       "<span style=\"color: #800000; text-decoration-color: #800000\">│</span>   <span style=\"color: #7f7f7f; text-decoration-color: #7f7f7f\"> 18 </span><span style=\"color: #7f7f7f; text-decoration-color: #7f7f7f\">│   </span><span style=\"color: #0000ff; text-decoration-color: #0000ff\">def</span> <span style=\"color: #00ff00; text-decoration-color: #00ff00\">encode</span>(<span style=\"color: #00ffff; text-decoration-color: #00ffff\">self</span>, <span style=\"color: #00ffff; text-decoration-color: #00ffff\">input</span>, final=<span style=\"color: #0000ff; text-decoration-color: #0000ff\">False</span>):                                                  <span style=\"color: #800000; text-decoration-color: #800000\">│</span>\n",
       "<span style=\"color: #800000; text-decoration-color: #800000\">│</span> <span style=\"color: #800000; text-decoration-color: #800000\">❱ </span> 19 <span style=\"color: #7f7f7f; text-decoration-color: #7f7f7f\">│   │   </span><span style=\"color: #0000ff; text-decoration-color: #0000ff\">return</span> codecs.charmap_encode(<span style=\"color: #00ffff; text-decoration-color: #00ffff\">input</span>,<span style=\"color: #00ffff; text-decoration-color: #00ffff\">self</span>.errors,encoding_table)[<span style=\"color: #0000ff; text-decoration-color: #0000ff\">0</span>]                  <span style=\"color: #800000; text-decoration-color: #800000\">│</span>\n",
       "<span style=\"color: #800000; text-decoration-color: #800000\">│</span>   <span style=\"color: #7f7f7f; text-decoration-color: #7f7f7f\"> 20 </span>                                                                                           <span style=\"color: #800000; text-decoration-color: #800000\">│</span>\n",
       "<span style=\"color: #800000; text-decoration-color: #800000\">│</span>   <span style=\"color: #7f7f7f; text-decoration-color: #7f7f7f\"> 21 </span><span style=\"color: #0000ff; text-decoration-color: #0000ff\">class</span> <span style=\"color: #00ff00; text-decoration-color: #00ff00; text-decoration: underline\">IncrementalDecoder</span>(codecs.IncrementalDecoder):                                       <span style=\"color: #800000; text-decoration-color: #800000\">│</span>\n",
       "<span style=\"color: #800000; text-decoration-color: #800000\">│</span>   <span style=\"color: #7f7f7f; text-decoration-color: #7f7f7f\"> 22 </span><span style=\"color: #7f7f7f; text-decoration-color: #7f7f7f\">│   </span><span style=\"color: #0000ff; text-decoration-color: #0000ff\">def</span> <span style=\"color: #00ff00; text-decoration-color: #00ff00\">decode</span>(<span style=\"color: #00ffff; text-decoration-color: #00ffff\">self</span>, <span style=\"color: #00ffff; text-decoration-color: #00ffff\">input</span>, final=<span style=\"color: #0000ff; text-decoration-color: #0000ff\">False</span>):                                                  <span style=\"color: #800000; text-decoration-color: #800000\">│</span>\n",
       "<span style=\"color: #800000; text-decoration-color: #800000\">╰──────────────────────────────────────────────────────────────────────────────────────────────────╯</span>\n",
       "<span style=\"color: #ff0000; text-decoration-color: #ff0000; font-weight: bold\">UnicodeEncodeError: </span><span style=\"color: #008000; text-decoration-color: #008000\">'charmap'</span> codec can't encode character <span style=\"color: #008000; text-decoration-color: #008000\">'\\xfa'</span> in position <span style=\"color: #008080; text-decoration-color: #008080; font-weight: bold\">34</span>: character maps to <span style=\"font-weight: bold\">&lt;</span><span style=\"color: #ff00ff; text-decoration-color: #ff00ff; font-weight: bold\">undefined</span><span style=\"font-weight: bold\">&gt;</span>\n",
       "</pre>\n"
      ],
      "text/plain": [
       "\u001b[31m╭─\u001b[0m\u001b[31m──────────────────────────────\u001b[0m\u001b[31m \u001b[0m\u001b[1;31mTraceback \u001b[0m\u001b[1;2;31m(most recent call last)\u001b[0m\u001b[31m \u001b[0m\u001b[31m───────────────────────────────\u001b[0m\u001b[31m─╮\u001b[0m\n",
       "\u001b[31m│\u001b[0m in \u001b[92m<module>\u001b[0m:\u001b[94m7\u001b[0m                                                                                    \u001b[31m│\u001b[0m\n",
       "\u001b[31m│\u001b[0m                                                                                                  \u001b[31m│\u001b[0m\n",
       "\u001b[31m│\u001b[0m   \u001b[2m4 \u001b[0m\u001b[94mfor\u001b[0m batch \u001b[95min\u001b[0m tqdm(batch_split(df, batch_size=\u001b[94m8\u001b[0m)):                                            \u001b[31m│\u001b[0m\n",
       "\u001b[31m│\u001b[0m   \u001b[2m5 \u001b[0m\u001b[2m│   \u001b[0mresults = model.translate_batch(batch)                                                   \u001b[31m│\u001b[0m\n",
       "\u001b[31m│\u001b[0m   \u001b[2m6 \u001b[0m\u001b[2m│   \u001b[0m\u001b[94mwith\u001b[0m \u001b[96mopen\u001b[0m(\u001b[33m'\u001b[0m\u001b[33mresults-kaz.txt\u001b[0m\u001b[33m'\u001b[0m, \u001b[33m'\u001b[0m\u001b[33ma\u001b[0m\u001b[33m'\u001b[0m) \u001b[94mas\u001b[0m file:                                               \u001b[31m│\u001b[0m\n",
       "\u001b[31m│\u001b[0m \u001b[31m❱ \u001b[0m7 \u001b[2m│   │   \u001b[0m\u001b[96mprint\u001b[0m(*results, sep=\u001b[33m'\u001b[0m\u001b[33m\\n\u001b[0m\u001b[33m'\u001b[0m, file=file)                                                 \u001b[31m│\u001b[0m\n",
       "\u001b[31m│\u001b[0m   \u001b[2m8 \u001b[0m\u001b[2m│   \u001b[0m\u001b[96mprint\u001b[0m(results)                                                                           \u001b[31m│\u001b[0m\n",
       "\u001b[31m│\u001b[0m   \u001b[2m9 \u001b[0m                                                                                             \u001b[31m│\u001b[0m\n",
       "\u001b[31m│\u001b[0m                                                                                                  \u001b[31m│\u001b[0m\n",
       "\u001b[31m│\u001b[0m \u001b[33mC:\\Users\\cutefluffyfox\\AppData\\Local\\Programs\\Python\\Python39\\lib\\encodings\\cp1251.py\u001b[0m:\u001b[94m19\u001b[0m in      \u001b[31m│\u001b[0m\n",
       "\u001b[31m│\u001b[0m \u001b[92mencode\u001b[0m                                                                                           \u001b[31m│\u001b[0m\n",
       "\u001b[31m│\u001b[0m                                                                                                  \u001b[31m│\u001b[0m\n",
       "\u001b[31m│\u001b[0m   \u001b[2m 16 \u001b[0m                                                                                           \u001b[31m│\u001b[0m\n",
       "\u001b[31m│\u001b[0m   \u001b[2m 17 \u001b[0m\u001b[94mclass\u001b[0m \u001b[4;92mIncrementalEncoder\u001b[0m(codecs.IncrementalEncoder):                                       \u001b[31m│\u001b[0m\n",
       "\u001b[31m│\u001b[0m   \u001b[2m 18 \u001b[0m\u001b[2m│   \u001b[0m\u001b[94mdef\u001b[0m \u001b[92mencode\u001b[0m(\u001b[96mself\u001b[0m, \u001b[96minput\u001b[0m, final=\u001b[94mFalse\u001b[0m):                                                  \u001b[31m│\u001b[0m\n",
       "\u001b[31m│\u001b[0m \u001b[31m❱ \u001b[0m 19 \u001b[2m│   │   \u001b[0m\u001b[94mreturn\u001b[0m codecs.charmap_encode(\u001b[96minput\u001b[0m,\u001b[96mself\u001b[0m.errors,encoding_table)[\u001b[94m0\u001b[0m]                  \u001b[31m│\u001b[0m\n",
       "\u001b[31m│\u001b[0m   \u001b[2m 20 \u001b[0m                                                                                           \u001b[31m│\u001b[0m\n",
       "\u001b[31m│\u001b[0m   \u001b[2m 21 \u001b[0m\u001b[94mclass\u001b[0m \u001b[4;92mIncrementalDecoder\u001b[0m(codecs.IncrementalDecoder):                                       \u001b[31m│\u001b[0m\n",
       "\u001b[31m│\u001b[0m   \u001b[2m 22 \u001b[0m\u001b[2m│   \u001b[0m\u001b[94mdef\u001b[0m \u001b[92mdecode\u001b[0m(\u001b[96mself\u001b[0m, \u001b[96minput\u001b[0m, final=\u001b[94mFalse\u001b[0m):                                                  \u001b[31m│\u001b[0m\n",
       "\u001b[31m╰──────────────────────────────────────────────────────────────────────────────────────────────────╯\u001b[0m\n",
       "\u001b[1;91mUnicodeEncodeError: \u001b[0m\u001b[32m'charmap'\u001b[0m codec can't encode character \u001b[32m'\\xfa'\u001b[0m in position \u001b[1;36m34\u001b[0m: character maps to \u001b[1m<\u001b[0m\u001b[1;95mundefined\u001b[0m\u001b[1m>\u001b[0m\n"
      ]
     },
     "metadata": {},
     "output_type": "display_data"
    }
   ],
   "source": [
    "from tqdm import tqdm\n",
    "from scripts.helpers.batch_processor import batch_split\n",
    "\n",
    "for batch in tqdm(batch_split(df, batch_size=8)):\n",
    "    results = model.translate_batch(batch)\n",
    "    with open('results-kaz.txt', 'a') as file:\n",
    "        print(*results, sep='\\n', file=file)\n",
    "    print(results)"
   ]
  },
  {
   "cell_type": "code",
   "execution_count": null,
   "id": "fc4e0188",
   "metadata": {},
   "outputs": [],
   "source": []
  },
  {
   "cell_type": "code",
   "execution_count": 3,
   "id": "1ece0ea7",
   "metadata": {},
   "outputs": [],
   "source": [
    "from scripts.helpers import dataset_manager\n",
    "df = dataset_manager.FloresDataset('tt-ru', 'flores-dev').get_df()[['tat', 'rus']]"
   ]
  },
  {
   "cell_type": "code",
   "execution_count": 4,
   "id": "fe91b03e",
   "metadata": {},
   "outputs": [],
   "source": [
    "# map for translation columns\n",
    "df['text'] = df['tat']\n",
    "df['src_lang'] = 'tt'\n",
    "df['dst_lang'] = 'ru'"
   ]
  },
  {
   "cell_type": "code",
   "execution_count": 5,
   "id": "cf067c9b",
   "metadata": {},
   "outputs": [
    {
     "name": "stderr",
     "output_type": "stream",
     "text": [
      "1it [07:49, 469.66s/it]"
     ]
    },
    {
     "name": "stdout",
     "output_type": "stream",
     "text": [
      "['В четверг учёные из Стэнфордской медицинской школы объявили о создании нового диагностического средства, позволяющего различать клетки по типу: с помощью обычного потокового принтера можно изготовить небольшой печатающийся чип за цену около одного цента.', 'В числе прочих богослужебных обрядов, которые совершаются в храме,\\xa0— богослужение в честь святых, богослужение в честь святых, богослужение в честь святых, богослужение в честь святых, богослужение в честь святых, богослужение в честь святых, богослужение в честь святых, богослужение', 'Самолёт JAS 39C Gripen врезался в взлётно-посадочную полосу в 9:30 по местному времени (02:30 UTC) и взорвался, в результате чего аэропорт был закрыт для коммерческих рейсов.', 'Командир эскадрильи\\xa0— лейтенант-командир Петренко.', 'Ведь они знают, что если они будут держаться за землю, то будут спасены.', '28-летний Видаль перешёл в «Барсу» три года назад из «Севильи».', 'После перехода в столицу Каталонии Видаль сыграл за клуб 49 матчей.', 'Протесты начались около 11:00 по местному времени (UTC+1) в Уайтхолле, напротив охраняемого полицией входа на Даунинг-стрит, официальной резиденции премьер-министра.', 'В 11:00 утра в Уайтхолле участники демонстрации остановили движение в северном направлении.', 'В 11:20 полиция, ссылаясь на необходимость уравнивания права на протест с увеличением трафика, попросила участников акции протеста отступить обратно на тротуары.', 'Около 11:29 демонстрация двинулась вверх по Уайтхоллу, мимо Трафальгарской площади, по Стрэнду, мимо Олдвич, и поднялась по Кингсуэй в сторону Холборна, где Консервативная партия проводила свой Весенний форум в отеле Grand Connaught Rooms.', 'Личный рекорд Надаля против канадки\\xa0— 7-2.', 'В этом же году он выиграл чемпионат Брисбена.', 'Надаль выиграл 76 очков от первого ввода мяча, набрав 88\\xa0% очков в матче.', '\"Я очень рад вернуться в финальный раунд крупнейшего турнира, - сказал Король грязи после матча. - Я здесь, чтобы победить.', '«Панамские документы»\\xa0— совокупный термин для около 10 миллионов документов, которые стали известны прессе осенью 2016 года из панамской юридической фирмы Mossack Fonseca.']\n"
     ]
    },
    {
     "name": "stderr",
     "output_type": "stream",
     "text": [
      "\r",
      "2it [11:24, 319.82s/it]"
     ]
    },
    {
     "name": "stdout",
     "output_type": "stream",
     "text": [
      "['В 1999 году в результате акции «Сто тысяч» были выкуплены акции «Сто тысяч» и «Сто тысяч»-2, а также акции «Сто тысяч»-1.', 'Британская газета The Guardian предположила, что треть из 1200 фальшивых компаний, использованных для достижения этой цели, контролировалась Deutsche Bank.', 'В итоге, всё это привело к тому, что в мире стали появляться новые религии, которые стали существовать вместе с исламом.', 'Родившийся в Гонконге Ма учился в Нью-Йоркском университете и Гарвардской школе права, и когда-то имел «грин-карту» постоянного жителя США.', 'В это время в стране разразился кризис, который привел к её распаду.', 'Он писал, что это было слишком тяжелое для него.', 'В этом случае, вместо одной из сторон, на которой находится ключ, используется другой, который имеет ключ.', 'В настоящее время игрок команды «Вашингтон Кэпиталз» Алекс Овечкин.', 'В матче против «Вашингтон Кэпиталз» он забил 2 гола и отдал 2 передачи.', 'В итоге, он был вынужден покинуть страну, где его ожидали тяжёлые испытания.', 'В 1995 году он стал лучшим бомбардиром чемпионата, забив 60 голов, что стало рекордом для футболиста, забившего 60 голов в сезоне, после того как в сезоне 1995/96 это достигли Яромир Ягр и Марио Лемье.', 'В 2008 году Баттен занял 190 место в списке 400 самых богатых американцев с состоянием в 2,3 миллиарда долларов.', 'В 1950 году окончил колледж искусств и наук Виргинского университета и стал важным спонсором этой организации.', 'В итоге огонь был ликвидирован.', 'После того, как они были обнаружены, они были объявлены в розыск, но не были найдены.', 'В 2008 году на Гран-при Сингапура, после раннего пит-стопа Фернандо Алонсо, Маленький Пике попал в аварию, машина безопасности выехала на трассу.']\n"
     ]
    },
    {
     "name": "stderr",
     "output_type": "stream",
     "text": [
      "2it [13:00, 390.08s/it]\n"
     ]
    },
    {
     "data": {
      "text/html": [
       "<pre style=\"white-space:pre;overflow-x:auto;line-height:normal;font-family:Menlo,'DejaVu Sans Mono',consolas,'Courier New',monospace\"><span style=\"color: #800000; text-decoration-color: #800000\">╭─────────────────────────────── </span><span style=\"color: #800000; text-decoration-color: #800000; font-weight: bold\">Traceback </span><span style=\"color: #bf7f7f; text-decoration-color: #bf7f7f; font-weight: bold\">(most recent call last)</span><span style=\"color: #800000; text-decoration-color: #800000\"> ────────────────────────────────╮</span>\n",
       "<span style=\"color: #800000; text-decoration-color: #800000\">│</span> in <span style=\"color: #00ff00; text-decoration-color: #00ff00\">&lt;module&gt;</span>:<span style=\"color: #0000ff; text-decoration-color: #0000ff\">5</span>                                                                                    <span style=\"color: #800000; text-decoration-color: #800000\">│</span>\n",
       "<span style=\"color: #800000; text-decoration-color: #800000\">│</span>                                                                                                  <span style=\"color: #800000; text-decoration-color: #800000\">│</span>\n",
       "<span style=\"color: #800000; text-decoration-color: #800000\">│</span>   <span style=\"color: #7f7f7f; text-decoration-color: #7f7f7f\">2 </span><span style=\"color: #0000ff; text-decoration-color: #0000ff\">from</span> <span style=\"color: #00ffff; text-decoration-color: #00ffff; text-decoration: underline\">scripts.helpers.batch_processor</span> <span style=\"color: #0000ff; text-decoration-color: #0000ff\">import</span> batch_split                                      <span style=\"color: #800000; text-decoration-color: #800000\">│</span>\n",
       "<span style=\"color: #800000; text-decoration-color: #800000\">│</span>   <span style=\"color: #7f7f7f; text-decoration-color: #7f7f7f\">3 </span>                                                                                             <span style=\"color: #800000; text-decoration-color: #800000\">│</span>\n",
       "<span style=\"color: #800000; text-decoration-color: #800000\">│</span>   <span style=\"color: #7f7f7f; text-decoration-color: #7f7f7f\">4 </span><span style=\"color: #0000ff; text-decoration-color: #0000ff\">for</span> batch <span style=\"color: #ff00ff; text-decoration-color: #ff00ff\">in</span> tqdm(batch_split(df, batch_size=<span style=\"color: #0000ff; text-decoration-color: #0000ff\">16</span>)):                                           <span style=\"color: #800000; text-decoration-color: #800000\">│</span>\n",
       "<span style=\"color: #800000; text-decoration-color: #800000\">│</span> <span style=\"color: #800000; text-decoration-color: #800000\">❱ </span>5 <span style=\"color: #7f7f7f; text-decoration-color: #7f7f7f\">│   </span>results = model.translate_batch(batch)                                                   <span style=\"color: #800000; text-decoration-color: #800000\">│</span>\n",
       "<span style=\"color: #800000; text-decoration-color: #800000\">│</span>   <span style=\"color: #7f7f7f; text-decoration-color: #7f7f7f\">6 </span><span style=\"color: #7f7f7f; text-decoration-color: #7f7f7f\">│   </span><span style=\"color: #0000ff; text-decoration-color: #0000ff\">with</span> <span style=\"color: #00ffff; text-decoration-color: #00ffff\">open</span>(<span style=\"color: #808000; text-decoration-color: #808000\">'results-tat.txt'</span>, <span style=\"color: #808000; text-decoration-color: #808000\">'a'</span>) <span style=\"color: #0000ff; text-decoration-color: #0000ff\">as</span> file:                                               <span style=\"color: #800000; text-decoration-color: #800000\">│</span>\n",
       "<span style=\"color: #800000; text-decoration-color: #800000\">│</span>   <span style=\"color: #7f7f7f; text-decoration-color: #7f7f7f\">7 </span><span style=\"color: #7f7f7f; text-decoration-color: #7f7f7f\">│   │   </span><span style=\"color: #00ffff; text-decoration-color: #00ffff\">print</span>(*results, sep=<span style=\"color: #808000; text-decoration-color: #808000\">'\\n'</span>, file=file)                                                 <span style=\"color: #800000; text-decoration-color: #800000\">│</span>\n",
       "<span style=\"color: #800000; text-decoration-color: #800000\">│</span>   <span style=\"color: #7f7f7f; text-decoration-color: #7f7f7f\">8 </span><span style=\"color: #7f7f7f; text-decoration-color: #7f7f7f\">│   </span><span style=\"color: #00ffff; text-decoration-color: #00ffff\">print</span>(results)                                                                           <span style=\"color: #800000; text-decoration-color: #800000\">│</span>\n",
       "<span style=\"color: #800000; text-decoration-color: #800000\">│</span>                                                                                                  <span style=\"color: #800000; text-decoration-color: #800000\">│</span>\n",
       "<span style=\"color: #800000; text-decoration-color: #800000\">│</span> <span style=\"color: #808000; text-decoration-color: #808000\">C:\\Users\\cutefluffyfox\\PycharmProjects\\MT-vocab-tuning\\notebooks\\..\\scripts\\helpers\\model_manage</span> <span style=\"color: #800000; text-decoration-color: #800000\">│</span>\n",
       "<span style=\"color: #800000; text-decoration-color: #800000\">│</span> <span style=\"color: #808000; text-decoration-color: #808000\">r.py</span>:<span style=\"color: #0000ff; text-decoration-color: #0000ff\">24</span> in <span style=\"color: #00ff00; text-decoration-color: #00ff00\">translate_batch</span>                                                                       <span style=\"color: #800000; text-decoration-color: #800000\">│</span>\n",
       "<span style=\"color: #800000; text-decoration-color: #800000\">│</span>                                                                                                  <span style=\"color: #800000; text-decoration-color: #800000\">│</span>\n",
       "<span style=\"color: #800000; text-decoration-color: #800000\">│</span>   <span style=\"color: #7f7f7f; text-decoration-color: #7f7f7f\">21 </span><span style=\"color: #7f7f7f; text-decoration-color: #7f7f7f\">│   │   </span><span style=\"color: #0000ff; text-decoration-color: #0000ff\">assert</span> <span style=\"color: #808000; text-decoration-color: #808000\">'text'</span> <span style=\"color: #ff00ff; text-decoration-color: #ff00ff\">in</span> texts[<span style=\"color: #0000ff; text-decoration-color: #0000ff\">0</span>] <span style=\"color: #ff00ff; text-decoration-color: #ff00ff\">and</span> <span style=\"color: #808000; text-decoration-color: #808000\">'src_lang'</span> <span style=\"color: #ff00ff; text-decoration-color: #ff00ff\">in</span> texts[<span style=\"color: #0000ff; text-decoration-color: #0000ff\">0</span>] <span style=\"color: #ff00ff; text-decoration-color: #ff00ff\">and</span> <span style=\"color: #808000; text-decoration-color: #808000\">'dst_lang'</span> <span style=\"color: #ff00ff; text-decoration-color: #ff00ff\">in</span> texts[<span style=\"color: #0000ff; text-decoration-color: #0000ff\">0</span>],    <span style=\"color: #800000; text-decoration-color: #800000\">│</span>\n",
       "<span style=\"color: #800000; text-decoration-color: #800000\">│</span>   <span style=\"color: #7f7f7f; text-decoration-color: #7f7f7f\">22 </span><span style=\"color: #7f7f7f; text-decoration-color: #7f7f7f\">│   │   </span>                                                                                    <span style=\"color: #800000; text-decoration-color: #800000\">│</span>\n",
       "<span style=\"color: #800000; text-decoration-color: #800000\">│</span>   <span style=\"color: #7f7f7f; text-decoration-color: #7f7f7f\">23 </span><span style=\"color: #7f7f7f; text-decoration-color: #7f7f7f\">│   │   </span><span style=\"color: #7f7f7f; text-decoration-color: #7f7f7f\"># transform -&gt; tokenize -&gt; translate</span>                                                <span style=\"color: #800000; text-decoration-color: #800000\">│</span>\n",
       "<span style=\"color: #800000; text-decoration-color: #800000\">│</span> <span style=\"color: #800000; text-decoration-color: #800000\">❱ </span>24 <span style=\"color: #7f7f7f; text-decoration-color: #7f7f7f\">│   │   </span><span style=\"color: #0000ff; text-decoration-color: #0000ff\">return</span> <span style=\"color: #00ffff; text-decoration-color: #00ffff\">self</span>.translate(<span style=\"color: #00ffff; text-decoration-color: #00ffff\">self</span>.tokenize(<span style=\"color: #00ffff; text-decoration-color: #00ffff\">self</span>.transform(texts)))                         <span style=\"color: #800000; text-decoration-color: #800000\">│</span>\n",
       "<span style=\"color: #800000; text-decoration-color: #800000\">│</span>   <span style=\"color: #7f7f7f; text-decoration-color: #7f7f7f\">25 </span><span style=\"color: #7f7f7f; text-decoration-color: #7f7f7f\">│   </span>                                                                                        <span style=\"color: #800000; text-decoration-color: #800000\">│</span>\n",
       "<span style=\"color: #800000; text-decoration-color: #800000\">│</span>   <span style=\"color: #7f7f7f; text-decoration-color: #7f7f7f\">26 </span><span style=\"color: #7f7f7f; text-decoration-color: #7f7f7f\">│   </span><span style=\"color: #0000ff; text-decoration-color: #0000ff\">def</span> <span style=\"color: #00ff00; text-decoration-color: #00ff00\">transform</span>(<span style=\"color: #00ffff; text-decoration-color: #00ffff\">self</span>, texts: <span style=\"color: #00ffff; text-decoration-color: #00ffff\">list</span>[<span style=\"color: #00ffff; text-decoration-color: #00ffff\">dict</span>]) -&gt; <span style=\"color: #00ffff; text-decoration-color: #00ffff\">list</span>[<span style=\"color: #00ffff; text-decoration-color: #00ffff\">str</span>]:                                    <span style=\"color: #800000; text-decoration-color: #800000\">│</span>\n",
       "<span style=\"color: #800000; text-decoration-color: #800000\">│</span>   <span style=\"color: #7f7f7f; text-decoration-color: #7f7f7f\">27 </span><span style=\"color: #7f7f7f; text-decoration-color: #7f7f7f\">│   │   </span><span style=\"color: #0000ff; text-decoration-color: #0000ff\">return</span> [row[<span style=\"color: #808000; text-decoration-color: #808000\">'text'</span>] <span style=\"color: #0000ff; text-decoration-color: #0000ff\">for</span> row <span style=\"color: #ff00ff; text-decoration-color: #ff00ff\">in</span> texts]                                               <span style=\"color: #800000; text-decoration-color: #800000\">│</span>\n",
       "<span style=\"color: #800000; text-decoration-color: #800000\">│</span>                                                                                                  <span style=\"color: #800000; text-decoration-color: #800000\">│</span>\n",
       "<span style=\"color: #800000; text-decoration-color: #800000\">│</span> <span style=\"color: #808000; text-decoration-color: #808000\">C:\\Users\\cutefluffyfox\\PycharmProjects\\MT-vocab-tuning\\notebooks\\..\\scripts\\helpers\\model_manage</span> <span style=\"color: #800000; text-decoration-color: #800000\">│</span>\n",
       "<span style=\"color: #800000; text-decoration-color: #800000\">│</span> <span style=\"color: #808000; text-decoration-color: #808000\">r.py</span>:<span style=\"color: #0000ff; text-decoration-color: #0000ff\">57</span> in <span style=\"color: #00ff00; text-decoration-color: #00ff00\">translate</span>                                                                             <span style=\"color: #800000; text-decoration-color: #800000\">│</span>\n",
       "<span style=\"color: #800000; text-decoration-color: #800000\">│</span>                                                                                                  <span style=\"color: #800000; text-decoration-color: #800000\">│</span>\n",
       "<span style=\"color: #800000; text-decoration-color: #800000\">│</span>   <span style=\"color: #7f7f7f; text-decoration-color: #7f7f7f\">54 </span><span style=\"color: #7f7f7f; text-decoration-color: #7f7f7f\">│   │   </span><span style=\"color: #0000ff; text-decoration-color: #0000ff\">return</span> <span style=\"color: #00ffff; text-decoration-color: #00ffff\">self</span>.tokenizer(texts, return_tensors=<span style=\"color: #808000; text-decoration-color: #808000\">\"pt\"</span>, padding=<span style=\"color: #0000ff; text-decoration-color: #0000ff\">True</span>, *args, **kwargs)    <span style=\"color: #800000; text-decoration-color: #800000\">│</span>\n",
       "<span style=\"color: #800000; text-decoration-color: #800000\">│</span>   <span style=\"color: #7f7f7f; text-decoration-color: #7f7f7f\">55 </span><span style=\"color: #7f7f7f; text-decoration-color: #7f7f7f\">│   </span>                                                                                        <span style=\"color: #800000; text-decoration-color: #800000\">│</span>\n",
       "<span style=\"color: #800000; text-decoration-color: #800000\">│</span>   <span style=\"color: #7f7f7f; text-decoration-color: #7f7f7f\">56 </span><span style=\"color: #7f7f7f; text-decoration-color: #7f7f7f\">│   </span><span style=\"color: #0000ff; text-decoration-color: #0000ff\">def</span> <span style=\"color: #00ff00; text-decoration-color: #00ff00\">translate</span>(<span style=\"color: #00ffff; text-decoration-color: #00ffff\">self</span>, input_ids: <span style=\"color: #00ffff; text-decoration-color: #00ffff\">dict</span>, max_tokens: <span style=\"color: #00ffff; text-decoration-color: #00ffff\">int</span> = <span style=\"color: #0000ff; text-decoration-color: #0000ff\">100</span>, *args, **kwargs) -&gt; <span style=\"color: #00ffff; text-decoration-color: #00ffff\">list</span>    <span style=\"color: #800000; text-decoration-color: #800000\">│</span>\n",
       "<span style=\"color: #800000; text-decoration-color: #800000\">│</span> <span style=\"color: #800000; text-decoration-color: #800000\">❱ </span>57 <span style=\"color: #7f7f7f; text-decoration-color: #7f7f7f\">│   │   </span>outputs = <span style=\"color: #00ffff; text-decoration-color: #00ffff\">self</span>.model.generate(**input_ids, max_new_tokens=max_tokens)               <span style=\"color: #800000; text-decoration-color: #800000\">│</span>\n",
       "<span style=\"color: #800000; text-decoration-color: #800000\">│</span>   <span style=\"color: #7f7f7f; text-decoration-color: #7f7f7f\">58 </span><span style=\"color: #7f7f7f; text-decoration-color: #7f7f7f\">│   │   </span><span style=\"color: #0000ff; text-decoration-color: #0000ff\">return</span> <span style=\"color: #00ffff; text-decoration-color: #00ffff\">self</span>.tokenizer.batch_decode(outputs, skip_special_tokens=<span style=\"color: #0000ff; text-decoration-color: #0000ff\">True</span>)               <span style=\"color: #800000; text-decoration-color: #800000\">│</span>\n",
       "<span style=\"color: #800000; text-decoration-color: #800000\">│</span>   <span style=\"color: #7f7f7f; text-decoration-color: #7f7f7f\">59 </span>                                                                                            <span style=\"color: #800000; text-decoration-color: #800000\">│</span>\n",
       "<span style=\"color: #800000; text-decoration-color: #800000\">│</span>   <span style=\"color: #7f7f7f; text-decoration-color: #7f7f7f\">60 </span>                                                                                            <span style=\"color: #800000; text-decoration-color: #800000\">│</span>\n",
       "<span style=\"color: #800000; text-decoration-color: #800000\">│</span>                                                                                                  <span style=\"color: #800000; text-decoration-color: #800000\">│</span>\n",
       "<span style=\"color: #800000; text-decoration-color: #800000\">│</span> <span style=\"color: #808000; text-decoration-color: #808000\">C:\\Users\\cutefluffyfox\\AppData\\Local\\Programs\\Python\\Python39\\lib\\site-packages\\torch\\utils\\_con</span> <span style=\"color: #800000; text-decoration-color: #800000\">│</span>\n",
       "<span style=\"color: #800000; text-decoration-color: #800000\">│</span> <span style=\"color: #808000; text-decoration-color: #808000\">textlib.py</span>:<span style=\"color: #0000ff; text-decoration-color: #0000ff\">115</span> in <span style=\"color: #00ff00; text-decoration-color: #00ff00\">decorate_context</span>                                                               <span style=\"color: #800000; text-decoration-color: #800000\">│</span>\n",
       "<span style=\"color: #800000; text-decoration-color: #800000\">│</span>                                                                                                  <span style=\"color: #800000; text-decoration-color: #800000\">│</span>\n",
       "<span style=\"color: #800000; text-decoration-color: #800000\">│</span>   <span style=\"color: #7f7f7f; text-decoration-color: #7f7f7f\">112 </span><span style=\"color: #7f7f7f; text-decoration-color: #7f7f7f\">│   </span><span style=\"color: #ff00ff; text-decoration-color: #ff00ff; font-weight: bold\">@functools</span>.wraps(func)                                                                 <span style=\"color: #800000; text-decoration-color: #800000\">│</span>\n",
       "<span style=\"color: #800000; text-decoration-color: #800000\">│</span>   <span style=\"color: #7f7f7f; text-decoration-color: #7f7f7f\">113 </span><span style=\"color: #7f7f7f; text-decoration-color: #7f7f7f\">│   </span><span style=\"color: #0000ff; text-decoration-color: #0000ff\">def</span> <span style=\"color: #00ff00; text-decoration-color: #00ff00\">decorate_context</span>(*args, **kwargs):                                                 <span style=\"color: #800000; text-decoration-color: #800000\">│</span>\n",
       "<span style=\"color: #800000; text-decoration-color: #800000\">│</span>   <span style=\"color: #7f7f7f; text-decoration-color: #7f7f7f\">114 </span><span style=\"color: #7f7f7f; text-decoration-color: #7f7f7f\">│   │   </span><span style=\"color: #0000ff; text-decoration-color: #0000ff\">with</span> ctx_factory():                                                                <span style=\"color: #800000; text-decoration-color: #800000\">│</span>\n",
       "<span style=\"color: #800000; text-decoration-color: #800000\">│</span> <span style=\"color: #800000; text-decoration-color: #800000\">❱ </span>115 <span style=\"color: #7f7f7f; text-decoration-color: #7f7f7f\">│   │   │   </span><span style=\"color: #0000ff; text-decoration-color: #0000ff\">return</span> func(*args, **kwargs)                                                   <span style=\"color: #800000; text-decoration-color: #800000\">│</span>\n",
       "<span style=\"color: #800000; text-decoration-color: #800000\">│</span>   <span style=\"color: #7f7f7f; text-decoration-color: #7f7f7f\">116 </span><span style=\"color: #7f7f7f; text-decoration-color: #7f7f7f\">│   </span>                                                                                       <span style=\"color: #800000; text-decoration-color: #800000\">│</span>\n",
       "<span style=\"color: #800000; text-decoration-color: #800000\">│</span>   <span style=\"color: #7f7f7f; text-decoration-color: #7f7f7f\">117 </span><span style=\"color: #7f7f7f; text-decoration-color: #7f7f7f\">│   </span><span style=\"color: #0000ff; text-decoration-color: #0000ff\">return</span> decorate_context                                                                <span style=\"color: #800000; text-decoration-color: #800000\">│</span>\n",
       "<span style=\"color: #800000; text-decoration-color: #800000\">│</span>   <span style=\"color: #7f7f7f; text-decoration-color: #7f7f7f\">118 </span>                                                                                           <span style=\"color: #800000; text-decoration-color: #800000\">│</span>\n",
       "<span style=\"color: #800000; text-decoration-color: #800000\">│</span>                                                                                                  <span style=\"color: #800000; text-decoration-color: #800000\">│</span>\n",
       "<span style=\"color: #800000; text-decoration-color: #800000\">│</span> <span style=\"color: #808000; text-decoration-color: #808000\">C:\\Users\\cutefluffyfox\\AppData\\Local\\Programs\\Python\\Python39\\lib\\site-packages\\transformers\\gen</span> <span style=\"color: #800000; text-decoration-color: #800000\">│</span>\n",
       "<span style=\"color: #800000; text-decoration-color: #800000\">│</span> <span style=\"color: #808000; text-decoration-color: #808000\">eration\\utils.py</span>:<span style=\"color: #0000ff; text-decoration-color: #0000ff\">1522</span> in <span style=\"color: #00ff00; text-decoration-color: #00ff00\">generate</span>                                                                <span style=\"color: #800000; text-decoration-color: #800000\">│</span>\n",
       "<span style=\"color: #800000; text-decoration-color: #800000\">│</span>                                                                                                  <span style=\"color: #800000; text-decoration-color: #800000\">│</span>\n",
       "<span style=\"color: #800000; text-decoration-color: #800000\">│</span>   <span style=\"color: #7f7f7f; text-decoration-color: #7f7f7f\">1519 </span><span style=\"color: #7f7f7f; text-decoration-color: #7f7f7f\">│   │   │   │   </span>)                                                                         <span style=\"color: #800000; text-decoration-color: #800000\">│</span>\n",
       "<span style=\"color: #800000; text-decoration-color: #800000\">│</span>   <span style=\"color: #7f7f7f; text-decoration-color: #7f7f7f\">1520 </span><span style=\"color: #7f7f7f; text-decoration-color: #7f7f7f\">│   │   │   </span>                                                                              <span style=\"color: #800000; text-decoration-color: #800000\">│</span>\n",
       "<span style=\"color: #800000; text-decoration-color: #800000\">│</span>   <span style=\"color: #7f7f7f; text-decoration-color: #7f7f7f\">1521 </span><span style=\"color: #7f7f7f; text-decoration-color: #7f7f7f\">│   │   │   </span><span style=\"color: #7f7f7f; text-decoration-color: #7f7f7f\"># 11. run greedy search</span>                                                       <span style=\"color: #800000; text-decoration-color: #800000\">│</span>\n",
       "<span style=\"color: #800000; text-decoration-color: #800000\">│</span> <span style=\"color: #800000; text-decoration-color: #800000\">❱ </span>1522 <span style=\"color: #7f7f7f; text-decoration-color: #7f7f7f\">│   │   │   </span><span style=\"color: #0000ff; text-decoration-color: #0000ff\">return</span> <span style=\"color: #00ffff; text-decoration-color: #00ffff\">self</span>.greedy_search(                                                    <span style=\"color: #800000; text-decoration-color: #800000\">│</span>\n",
       "<span style=\"color: #800000; text-decoration-color: #800000\">│</span>   <span style=\"color: #7f7f7f; text-decoration-color: #7f7f7f\">1523 </span><span style=\"color: #7f7f7f; text-decoration-color: #7f7f7f\">│   │   │   │   </span>input_ids,                                                                <span style=\"color: #800000; text-decoration-color: #800000\">│</span>\n",
       "<span style=\"color: #800000; text-decoration-color: #800000\">│</span>   <span style=\"color: #7f7f7f; text-decoration-color: #7f7f7f\">1524 </span><span style=\"color: #7f7f7f; text-decoration-color: #7f7f7f\">│   │   │   │   </span>logits_processor=logits_processor,                                        <span style=\"color: #800000; text-decoration-color: #800000\">│</span>\n",
       "<span style=\"color: #800000; text-decoration-color: #800000\">│</span>   <span style=\"color: #7f7f7f; text-decoration-color: #7f7f7f\">1525 </span><span style=\"color: #7f7f7f; text-decoration-color: #7f7f7f\">│   │   │   │   </span>stopping_criteria=stopping_criteria,                                      <span style=\"color: #800000; text-decoration-color: #800000\">│</span>\n",
       "<span style=\"color: #800000; text-decoration-color: #800000\">│</span>                                                                                                  <span style=\"color: #800000; text-decoration-color: #800000\">│</span>\n",
       "<span style=\"color: #800000; text-decoration-color: #800000\">│</span> <span style=\"color: #808000; text-decoration-color: #808000\">C:\\Users\\cutefluffyfox\\AppData\\Local\\Programs\\Python\\Python39\\lib\\site-packages\\transformers\\gen</span> <span style=\"color: #800000; text-decoration-color: #800000\">│</span>\n",
       "<span style=\"color: #800000; text-decoration-color: #800000\">│</span> <span style=\"color: #808000; text-decoration-color: #808000\">eration\\utils.py</span>:<span style=\"color: #0000ff; text-decoration-color: #0000ff\">2396</span> in <span style=\"color: #00ff00; text-decoration-color: #00ff00\">greedy_search</span>                                                           <span style=\"color: #800000; text-decoration-color: #800000\">│</span>\n",
       "<span style=\"color: #800000; text-decoration-color: #800000\">│</span>                                                                                                  <span style=\"color: #800000; text-decoration-color: #800000\">│</span>\n",
       "<span style=\"color: #800000; text-decoration-color: #800000\">│</span>   <span style=\"color: #7f7f7f; text-decoration-color: #7f7f7f\">2393 </span><span style=\"color: #7f7f7f; text-decoration-color: #7f7f7f\">│   │   │   │   </span>)                                                                         <span style=\"color: #800000; text-decoration-color: #800000\">│</span>\n",
       "<span style=\"color: #800000; text-decoration-color: #800000\">│</span>   <span style=\"color: #7f7f7f; text-decoration-color: #7f7f7f\">2394 </span><span style=\"color: #7f7f7f; text-decoration-color: #7f7f7f\">│   │   │   │   </span>                                                                          <span style=\"color: #800000; text-decoration-color: #800000\">│</span>\n",
       "<span style=\"color: #800000; text-decoration-color: #800000\">│</span>   <span style=\"color: #7f7f7f; text-decoration-color: #7f7f7f\">2395 </span><span style=\"color: #7f7f7f; text-decoration-color: #7f7f7f\">│   │   │   │   </span><span style=\"color: #7f7f7f; text-decoration-color: #7f7f7f\"># stop when each sentence is finished</span>                                     <span style=\"color: #800000; text-decoration-color: #800000\">│</span>\n",
       "<span style=\"color: #800000; text-decoration-color: #800000\">│</span> <span style=\"color: #800000; text-decoration-color: #800000\">❱ </span>2396 <span style=\"color: #7f7f7f; text-decoration-color: #7f7f7f\">│   │   │   │   </span><span style=\"color: #0000ff; text-decoration-color: #0000ff\">if</span> unfinished_sequences.max() == <span style=\"color: #0000ff; text-decoration-color: #0000ff\">0</span>:                                       <span style=\"color: #800000; text-decoration-color: #800000\">│</span>\n",
       "<span style=\"color: #800000; text-decoration-color: #800000\">│</span>   <span style=\"color: #7f7f7f; text-decoration-color: #7f7f7f\">2397 </span><span style=\"color: #7f7f7f; text-decoration-color: #7f7f7f\">│   │   │   │   │   </span>this_peer_finished = <span style=\"color: #0000ff; text-decoration-color: #0000ff\">True</span>                                             <span style=\"color: #800000; text-decoration-color: #800000\">│</span>\n",
       "<span style=\"color: #800000; text-decoration-color: #800000\">│</span>   <span style=\"color: #7f7f7f; text-decoration-color: #7f7f7f\">2398 </span><span style=\"color: #7f7f7f; text-decoration-color: #7f7f7f\">│   │   │   </span>                                                                              <span style=\"color: #800000; text-decoration-color: #800000\">│</span>\n",
       "<span style=\"color: #800000; text-decoration-color: #800000\">│</span>   <span style=\"color: #7f7f7f; text-decoration-color: #7f7f7f\">2399 </span><span style=\"color: #7f7f7f; text-decoration-color: #7f7f7f\">│   │   │   </span><span style=\"color: #7f7f7f; text-decoration-color: #7f7f7f\"># stop if we exceed the maximum length</span>                                        <span style=\"color: #800000; text-decoration-color: #800000\">│</span>\n",
       "<span style=\"color: #800000; text-decoration-color: #800000\">╰──────────────────────────────────────────────────────────────────────────────────────────────────╯</span>\n",
       "<span style=\"color: #ff0000; text-decoration-color: #ff0000; font-weight: bold\">KeyboardInterrupt</span>\n",
       "</pre>\n"
      ],
      "text/plain": [
       "\u001b[31m╭─\u001b[0m\u001b[31m──────────────────────────────\u001b[0m\u001b[31m \u001b[0m\u001b[1;31mTraceback \u001b[0m\u001b[1;2;31m(most recent call last)\u001b[0m\u001b[31m \u001b[0m\u001b[31m───────────────────────────────\u001b[0m\u001b[31m─╮\u001b[0m\n",
       "\u001b[31m│\u001b[0m in \u001b[92m<module>\u001b[0m:\u001b[94m5\u001b[0m                                                                                    \u001b[31m│\u001b[0m\n",
       "\u001b[31m│\u001b[0m                                                                                                  \u001b[31m│\u001b[0m\n",
       "\u001b[31m│\u001b[0m   \u001b[2m2 \u001b[0m\u001b[94mfrom\u001b[0m \u001b[4;96mscripts\u001b[0m\u001b[4;96m.\u001b[0m\u001b[4;96mhelpers\u001b[0m\u001b[4;96m.\u001b[0m\u001b[4;96mbatch_processor\u001b[0m \u001b[94mimport\u001b[0m batch_split                                      \u001b[31m│\u001b[0m\n",
       "\u001b[31m│\u001b[0m   \u001b[2m3 \u001b[0m                                                                                             \u001b[31m│\u001b[0m\n",
       "\u001b[31m│\u001b[0m   \u001b[2m4 \u001b[0m\u001b[94mfor\u001b[0m batch \u001b[95min\u001b[0m tqdm(batch_split(df, batch_size=\u001b[94m16\u001b[0m)):                                           \u001b[31m│\u001b[0m\n",
       "\u001b[31m│\u001b[0m \u001b[31m❱ \u001b[0m5 \u001b[2m│   \u001b[0mresults = model.translate_batch(batch)                                                   \u001b[31m│\u001b[0m\n",
       "\u001b[31m│\u001b[0m   \u001b[2m6 \u001b[0m\u001b[2m│   \u001b[0m\u001b[94mwith\u001b[0m \u001b[96mopen\u001b[0m(\u001b[33m'\u001b[0m\u001b[33mresults-tat.txt\u001b[0m\u001b[33m'\u001b[0m, \u001b[33m'\u001b[0m\u001b[33ma\u001b[0m\u001b[33m'\u001b[0m) \u001b[94mas\u001b[0m file:                                               \u001b[31m│\u001b[0m\n",
       "\u001b[31m│\u001b[0m   \u001b[2m7 \u001b[0m\u001b[2m│   │   \u001b[0m\u001b[96mprint\u001b[0m(*results, sep=\u001b[33m'\u001b[0m\u001b[33m\\n\u001b[0m\u001b[33m'\u001b[0m, file=file)                                                 \u001b[31m│\u001b[0m\n",
       "\u001b[31m│\u001b[0m   \u001b[2m8 \u001b[0m\u001b[2m│   \u001b[0m\u001b[96mprint\u001b[0m(results)                                                                           \u001b[31m│\u001b[0m\n",
       "\u001b[31m│\u001b[0m                                                                                                  \u001b[31m│\u001b[0m\n",
       "\u001b[31m│\u001b[0m \u001b[33mC:\\Users\\cutefluffyfox\\PycharmProjects\\MT-vocab-tuning\\notebooks\\..\\scripts\\helpers\\model_manage\u001b[0m \u001b[31m│\u001b[0m\n",
       "\u001b[31m│\u001b[0m \u001b[33mr.py\u001b[0m:\u001b[94m24\u001b[0m in \u001b[92mtranslate_batch\u001b[0m                                                                       \u001b[31m│\u001b[0m\n",
       "\u001b[31m│\u001b[0m                                                                                                  \u001b[31m│\u001b[0m\n",
       "\u001b[31m│\u001b[0m   \u001b[2m21 \u001b[0m\u001b[2m│   │   \u001b[0m\u001b[94massert\u001b[0m \u001b[33m'\u001b[0m\u001b[33mtext\u001b[0m\u001b[33m'\u001b[0m \u001b[95min\u001b[0m texts[\u001b[94m0\u001b[0m] \u001b[95mand\u001b[0m \u001b[33m'\u001b[0m\u001b[33msrc_lang\u001b[0m\u001b[33m'\u001b[0m \u001b[95min\u001b[0m texts[\u001b[94m0\u001b[0m] \u001b[95mand\u001b[0m \u001b[33m'\u001b[0m\u001b[33mdst_lang\u001b[0m\u001b[33m'\u001b[0m \u001b[95min\u001b[0m texts[\u001b[94m0\u001b[0m],    \u001b[31m│\u001b[0m\n",
       "\u001b[31m│\u001b[0m   \u001b[2m22 \u001b[0m\u001b[2m│   │   \u001b[0m                                                                                    \u001b[31m│\u001b[0m\n",
       "\u001b[31m│\u001b[0m   \u001b[2m23 \u001b[0m\u001b[2m│   │   \u001b[0m\u001b[2m# transform -> tokenize -> translate\u001b[0m                                                \u001b[31m│\u001b[0m\n",
       "\u001b[31m│\u001b[0m \u001b[31m❱ \u001b[0m24 \u001b[2m│   │   \u001b[0m\u001b[94mreturn\u001b[0m \u001b[96mself\u001b[0m.translate(\u001b[96mself\u001b[0m.tokenize(\u001b[96mself\u001b[0m.transform(texts)))                         \u001b[31m│\u001b[0m\n",
       "\u001b[31m│\u001b[0m   \u001b[2m25 \u001b[0m\u001b[2m│   \u001b[0m                                                                                        \u001b[31m│\u001b[0m\n",
       "\u001b[31m│\u001b[0m   \u001b[2m26 \u001b[0m\u001b[2m│   \u001b[0m\u001b[94mdef\u001b[0m \u001b[92mtransform\u001b[0m(\u001b[96mself\u001b[0m, texts: \u001b[96mlist\u001b[0m[\u001b[96mdict\u001b[0m]) -> \u001b[96mlist\u001b[0m[\u001b[96mstr\u001b[0m]:                                    \u001b[31m│\u001b[0m\n",
       "\u001b[31m│\u001b[0m   \u001b[2m27 \u001b[0m\u001b[2m│   │   \u001b[0m\u001b[94mreturn\u001b[0m [row[\u001b[33m'\u001b[0m\u001b[33mtext\u001b[0m\u001b[33m'\u001b[0m] \u001b[94mfor\u001b[0m row \u001b[95min\u001b[0m texts]                                               \u001b[31m│\u001b[0m\n",
       "\u001b[31m│\u001b[0m                                                                                                  \u001b[31m│\u001b[0m\n",
       "\u001b[31m│\u001b[0m \u001b[33mC:\\Users\\cutefluffyfox\\PycharmProjects\\MT-vocab-tuning\\notebooks\\..\\scripts\\helpers\\model_manage\u001b[0m \u001b[31m│\u001b[0m\n",
       "\u001b[31m│\u001b[0m \u001b[33mr.py\u001b[0m:\u001b[94m57\u001b[0m in \u001b[92mtranslate\u001b[0m                                                                             \u001b[31m│\u001b[0m\n",
       "\u001b[31m│\u001b[0m                                                                                                  \u001b[31m│\u001b[0m\n",
       "\u001b[31m│\u001b[0m   \u001b[2m54 \u001b[0m\u001b[2m│   │   \u001b[0m\u001b[94mreturn\u001b[0m \u001b[96mself\u001b[0m.tokenizer(texts, return_tensors=\u001b[33m\"\u001b[0m\u001b[33mpt\u001b[0m\u001b[33m\"\u001b[0m, padding=\u001b[94mTrue\u001b[0m, *args, **kwargs)    \u001b[31m│\u001b[0m\n",
       "\u001b[31m│\u001b[0m   \u001b[2m55 \u001b[0m\u001b[2m│   \u001b[0m                                                                                        \u001b[31m│\u001b[0m\n",
       "\u001b[31m│\u001b[0m   \u001b[2m56 \u001b[0m\u001b[2m│   \u001b[0m\u001b[94mdef\u001b[0m \u001b[92mtranslate\u001b[0m(\u001b[96mself\u001b[0m, input_ids: \u001b[96mdict\u001b[0m, max_tokens: \u001b[96mint\u001b[0m = \u001b[94m100\u001b[0m, *args, **kwargs) -> \u001b[96mlist\u001b[0m    \u001b[31m│\u001b[0m\n",
       "\u001b[31m│\u001b[0m \u001b[31m❱ \u001b[0m57 \u001b[2m│   │   \u001b[0moutputs = \u001b[96mself\u001b[0m.model.generate(**input_ids, max_new_tokens=max_tokens)               \u001b[31m│\u001b[0m\n",
       "\u001b[31m│\u001b[0m   \u001b[2m58 \u001b[0m\u001b[2m│   │   \u001b[0m\u001b[94mreturn\u001b[0m \u001b[96mself\u001b[0m.tokenizer.batch_decode(outputs, skip_special_tokens=\u001b[94mTrue\u001b[0m)               \u001b[31m│\u001b[0m\n",
       "\u001b[31m│\u001b[0m   \u001b[2m59 \u001b[0m                                                                                            \u001b[31m│\u001b[0m\n",
       "\u001b[31m│\u001b[0m   \u001b[2m60 \u001b[0m                                                                                            \u001b[31m│\u001b[0m\n",
       "\u001b[31m│\u001b[0m                                                                                                  \u001b[31m│\u001b[0m\n",
       "\u001b[31m│\u001b[0m \u001b[33mC:\\Users\\cutefluffyfox\\AppData\\Local\\Programs\\Python\\Python39\\lib\\site-packages\\torch\\utils\\_con\u001b[0m \u001b[31m│\u001b[0m\n",
       "\u001b[31m│\u001b[0m \u001b[33mtextlib.py\u001b[0m:\u001b[94m115\u001b[0m in \u001b[92mdecorate_context\u001b[0m                                                               \u001b[31m│\u001b[0m\n",
       "\u001b[31m│\u001b[0m                                                                                                  \u001b[31m│\u001b[0m\n",
       "\u001b[31m│\u001b[0m   \u001b[2m112 \u001b[0m\u001b[2m│   \u001b[0m\u001b[1;95m@functools\u001b[0m.wraps(func)                                                                 \u001b[31m│\u001b[0m\n",
       "\u001b[31m│\u001b[0m   \u001b[2m113 \u001b[0m\u001b[2m│   \u001b[0m\u001b[94mdef\u001b[0m \u001b[92mdecorate_context\u001b[0m(*args, **kwargs):                                                 \u001b[31m│\u001b[0m\n",
       "\u001b[31m│\u001b[0m   \u001b[2m114 \u001b[0m\u001b[2m│   │   \u001b[0m\u001b[94mwith\u001b[0m ctx_factory():                                                                \u001b[31m│\u001b[0m\n",
       "\u001b[31m│\u001b[0m \u001b[31m❱ \u001b[0m115 \u001b[2m│   │   │   \u001b[0m\u001b[94mreturn\u001b[0m func(*args, **kwargs)                                                   \u001b[31m│\u001b[0m\n",
       "\u001b[31m│\u001b[0m   \u001b[2m116 \u001b[0m\u001b[2m│   \u001b[0m                                                                                       \u001b[31m│\u001b[0m\n",
       "\u001b[31m│\u001b[0m   \u001b[2m117 \u001b[0m\u001b[2m│   \u001b[0m\u001b[94mreturn\u001b[0m decorate_context                                                                \u001b[31m│\u001b[0m\n",
       "\u001b[31m│\u001b[0m   \u001b[2m118 \u001b[0m                                                                                           \u001b[31m│\u001b[0m\n",
       "\u001b[31m│\u001b[0m                                                                                                  \u001b[31m│\u001b[0m\n",
       "\u001b[31m│\u001b[0m \u001b[33mC:\\Users\\cutefluffyfox\\AppData\\Local\\Programs\\Python\\Python39\\lib\\site-packages\\transformers\\gen\u001b[0m \u001b[31m│\u001b[0m\n",
       "\u001b[31m│\u001b[0m \u001b[33meration\\utils.py\u001b[0m:\u001b[94m1522\u001b[0m in \u001b[92mgenerate\u001b[0m                                                                \u001b[31m│\u001b[0m\n",
       "\u001b[31m│\u001b[0m                                                                                                  \u001b[31m│\u001b[0m\n",
       "\u001b[31m│\u001b[0m   \u001b[2m1519 \u001b[0m\u001b[2m│   │   │   │   \u001b[0m)                                                                         \u001b[31m│\u001b[0m\n",
       "\u001b[31m│\u001b[0m   \u001b[2m1520 \u001b[0m\u001b[2m│   │   │   \u001b[0m                                                                              \u001b[31m│\u001b[0m\n",
       "\u001b[31m│\u001b[0m   \u001b[2m1521 \u001b[0m\u001b[2m│   │   │   \u001b[0m\u001b[2m# 11. run greedy search\u001b[0m                                                       \u001b[31m│\u001b[0m\n",
       "\u001b[31m│\u001b[0m \u001b[31m❱ \u001b[0m1522 \u001b[2m│   │   │   \u001b[0m\u001b[94mreturn\u001b[0m \u001b[96mself\u001b[0m.greedy_search(                                                    \u001b[31m│\u001b[0m\n",
       "\u001b[31m│\u001b[0m   \u001b[2m1523 \u001b[0m\u001b[2m│   │   │   │   \u001b[0minput_ids,                                                                \u001b[31m│\u001b[0m\n",
       "\u001b[31m│\u001b[0m   \u001b[2m1524 \u001b[0m\u001b[2m│   │   │   │   \u001b[0mlogits_processor=logits_processor,                                        \u001b[31m│\u001b[0m\n",
       "\u001b[31m│\u001b[0m   \u001b[2m1525 \u001b[0m\u001b[2m│   │   │   │   \u001b[0mstopping_criteria=stopping_criteria,                                      \u001b[31m│\u001b[0m\n",
       "\u001b[31m│\u001b[0m                                                                                                  \u001b[31m│\u001b[0m\n",
       "\u001b[31m│\u001b[0m \u001b[33mC:\\Users\\cutefluffyfox\\AppData\\Local\\Programs\\Python\\Python39\\lib\\site-packages\\transformers\\gen\u001b[0m \u001b[31m│\u001b[0m\n",
       "\u001b[31m│\u001b[0m \u001b[33meration\\utils.py\u001b[0m:\u001b[94m2396\u001b[0m in \u001b[92mgreedy_search\u001b[0m                                                           \u001b[31m│\u001b[0m\n",
       "\u001b[31m│\u001b[0m                                                                                                  \u001b[31m│\u001b[0m\n",
       "\u001b[31m│\u001b[0m   \u001b[2m2393 \u001b[0m\u001b[2m│   │   │   │   \u001b[0m)                                                                         \u001b[31m│\u001b[0m\n",
       "\u001b[31m│\u001b[0m   \u001b[2m2394 \u001b[0m\u001b[2m│   │   │   │   \u001b[0m                                                                          \u001b[31m│\u001b[0m\n",
       "\u001b[31m│\u001b[0m   \u001b[2m2395 \u001b[0m\u001b[2m│   │   │   │   \u001b[0m\u001b[2m# stop when each sentence is finished\u001b[0m                                     \u001b[31m│\u001b[0m\n",
       "\u001b[31m│\u001b[0m \u001b[31m❱ \u001b[0m2396 \u001b[2m│   │   │   │   \u001b[0m\u001b[94mif\u001b[0m unfinished_sequences.max() == \u001b[94m0\u001b[0m:                                       \u001b[31m│\u001b[0m\n",
       "\u001b[31m│\u001b[0m   \u001b[2m2397 \u001b[0m\u001b[2m│   │   │   │   │   \u001b[0mthis_peer_finished = \u001b[94mTrue\u001b[0m                                             \u001b[31m│\u001b[0m\n",
       "\u001b[31m│\u001b[0m   \u001b[2m2398 \u001b[0m\u001b[2m│   │   │   \u001b[0m                                                                              \u001b[31m│\u001b[0m\n",
       "\u001b[31m│\u001b[0m   \u001b[2m2399 \u001b[0m\u001b[2m│   │   │   \u001b[0m\u001b[2m# stop if we exceed the maximum length\u001b[0m                                        \u001b[31m│\u001b[0m\n",
       "\u001b[31m╰──────────────────────────────────────────────────────────────────────────────────────────────────╯\u001b[0m\n",
       "\u001b[1;91mKeyboardInterrupt\u001b[0m\n"
      ]
     },
     "metadata": {},
     "output_type": "display_data"
    }
   ],
   "source": [
    "from tqdm import tqdm\n",
    "from scripts.helpers.batch_processor import batch_split\n",
    "\n",
    "for batch in tqdm(batch_split(df, batch_size=16)):\n",
    "    results = model.translate_batch(batch)\n",
    "    with open('results-tat.txt', 'a') as file:\n",
    "        print(*results, sep='\\n', file=file)\n",
    "    print(results)"
   ]
  },
  {
   "cell_type": "code",
   "execution_count": null,
   "id": "ebf0e6b7",
   "metadata": {},
   "outputs": [],
   "source": []
  },
  {
   "cell_type": "code",
   "execution_count": null,
   "id": "fa866a1b",
   "metadata": {},
   "outputs": [],
   "source": []
  },
  {
   "cell_type": "code",
   "execution_count": null,
   "id": "3e6034da",
   "metadata": {},
   "outputs": [],
   "source": []
  },
  {
   "cell_type": "code",
   "execution_count": null,
   "id": "29141235",
   "metadata": {},
   "outputs": [],
   "source": []
  },
  {
   "cell_type": "code",
   "execution_count": null,
   "id": "72053f10",
   "metadata": {},
   "outputs": [],
   "source": []
  },
  {
   "cell_type": "code",
   "execution_count": null,
   "id": "0581c789",
   "metadata": {},
   "outputs": [],
   "source": []
  }
 ],
 "metadata": {
  "kernelspec": {
   "display_name": "Python 3 (ipykernel)",
   "language": "python",
   "name": "python3"
  },
  "language_info": {
   "codemirror_mode": {
    "name": "ipython",
    "version": 3
   },
   "file_extension": ".py",
   "mimetype": "text/x-python",
   "name": "python",
   "nbconvert_exporter": "python",
   "pygments_lexer": "ipython3",
   "version": "3.9.6"
  }
 },
 "nbformat": 4,
 "nbformat_minor": 5
}
