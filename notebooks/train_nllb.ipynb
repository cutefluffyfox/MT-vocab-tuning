{
 "cells": [
  {
   "cell_type": "code",
   "execution_count": 1,
   "id": "6dea14d4",
   "metadata": {},
   "outputs": [],
   "source": [
    "import os\n",
    "import sys\n",
    "\n",
    "# change to upper dir to use all custom libs (won't be needed if run from main scripts)\n",
    "sys.path.insert(1, os.path.join(sys.path[0], '..'))"
   ]
  },
  {
   "cell_type": "code",
   "execution_count": 2,
   "id": "7b2b098c",
   "metadata": {},
   "outputs": [
    {
     "data": {
      "text/plain": [
       "['Счастливые лисички прыгают прыгают скак Бақытты лисички секіріп секіріп секіреді',\n",
       " 'Бір, екі, үш рет!']"
      ]
     },
     "execution_count": 2,
     "metadata": {},
     "output_type": "execute_result"
    }
   ],
   "source": [
    "from scripts.helpers.model_manager import NLLB200Model\n",
    "\n",
    "model = NLLB200Model(device='cuda')\n",
    "\n",
    "model.translate_batch(['Счастливые лисички прыгают прыг скок', 'раз два три!'], 'ru', 'kaz')"
   ]
  },
  {
   "cell_type": "code",
   "execution_count": 3,
   "id": "314a0c39",
   "metadata": {},
   "outputs": [],
   "source": [
    "from scripts.helpers.dataset_manager import HFDataset\n",
    "import pandas as pd\n",
    "\n",
    "tt_ru = HFDataset('tat-ru', 'tatar-parallel-162k').get_df()"
   ]
  },
  {
   "cell_type": "code",
   "execution_count": 4,
   "id": "ce02a400",
   "metadata": {},
   "outputs": [
    {
     "data": {
      "application/vnd.jupyter.widget-view+json": {
       "model_id": "069bfd4e0b81435eba979e3ef7bf6b41",
       "version_major": 2,
       "version_minor": 0
      },
      "text/plain": [
       "  0%|          | 0/100 [00:00<?, ?it/s]"
      ]
     },
     "metadata": {},
     "output_type": "display_data"
    },
    {
     "name": "stdout",
     "output_type": "stream",
     "text": [
      "0 1.71875\n",
      "20 1.701318359375\n",
      "40 1.668408203125\n",
      "60 1.578076171875\n",
      "80 1.41748046875\n"
     ]
    }
   ],
   "source": [
    "model._train(\n",
    "    data=tt_ru,\n",
    "    src_lang='tat',\n",
    "    dst_lang='rus',\n",
    "    training_steps=100,\n",
    "    save_every=20,\n",
    ")"
   ]
  },
  {
   "cell_type": "code",
   "execution_count": null,
   "id": "19c607ab",
   "metadata": {},
   "outputs": [],
   "source": []
  },
  {
   "cell_type": "code",
   "execution_count": 5,
   "id": "7cb022da",
   "metadata": {},
   "outputs": [
    {
     "data": {
      "text/plain": [
       "1600"
      ]
     },
     "execution_count": 5,
     "metadata": {},
     "output_type": "execute_result"
    }
   ],
   "source": [
    "100*16/"
   ]
  },
  {
   "cell_type": "code",
   "execution_count": 9,
   "id": "5b6f9f38",
   "metadata": {},
   "outputs": [],
   "source": [
    "from time import time, sleep"
   ]
  },
  {
   "cell_type": "code",
   "execution_count": 7,
   "id": "a2f32bf9",
   "metadata": {},
   "outputs": [
    {
     "data": {
      "text/plain": [
       "1739913795.951499"
      ]
     },
     "execution_count": 7,
     "metadata": {},
     "output_type": "execute_result"
    }
   ],
   "source": [
    "time()"
   ]
  },
  {
   "cell_type": "code",
   "execution_count": 10,
   "id": "fd451960",
   "metadata": {},
   "outputs": [
    {
     "data": {
      "text/plain": [
       "5.010152339935303"
      ]
     },
     "execution_count": 10,
     "metadata": {},
     "output_type": "execute_result"
    }
   ],
   "source": [
    "start_time = time()\n",
    "sleep(5)\n",
    "time() - start_time"
   ]
  },
  {
   "cell_type": "code",
   "execution_count": null,
   "id": "3d92cc5f",
   "metadata": {},
   "outputs": [],
   "source": []
  },
  {
   "cell_type": "code",
   "execution_count": null,
   "id": "6e6d8e2d",
   "metadata": {},
   "outputs": [],
   "source": []
  },
  {
   "cell_type": "code",
   "execution_count": null,
   "id": "204a9bf3",
   "metadata": {},
   "outputs": [],
   "source": []
  }
 ],
 "metadata": {
  "kernelspec": {
   "display_name": "Python 3 (ipykernel)",
   "language": "python",
   "name": "python3"
  },
  "language_info": {
   "codemirror_mode": {
    "name": "ipython",
    "version": 3
   },
   "file_extension": ".py",
   "mimetype": "text/x-python",
   "name": "python",
   "nbconvert_exporter": "python",
   "pygments_lexer": "ipython3",
   "version": "3.9.6"
  }
 },
 "nbformat": 4,
 "nbformat_minor": 5
}
