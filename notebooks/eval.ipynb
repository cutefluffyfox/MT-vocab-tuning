{
 "cells": [
  {
   "cell_type": "code",
   "execution_count": 1,
   "id": "244556ba",
   "metadata": {},
   "outputs": [],
   "source": [
    "import os\n",
    "import sys\n",
    "\n",
    "# change to upper dir to use all custom libs (won't be needed if run from main scripts)\n",
    "sys.path.insert(1, os.path.join(sys.path[0], '..'))"
   ]
  },
  {
   "cell_type": "code",
   "execution_count": 2,
   "id": "9dd070be",
   "metadata": {},
   "outputs": [],
   "source": [
    "from scripts.helpers.metric_manager import BLEU, BLEURT, BertScore, CHRF, GoogleBLEU\n",
    "\n",
    "metrics = [\n",
    "    BLEU(),\n",
    "#     BLEURT(),\n",
    "#     BertScore(),\n",
    "#     CHRF(),\n",
    "#     GoogleBLEU()\n",
    "]"
   ]
  },
  {
   "cell_type": "code",
   "execution_count": 3,
   "id": "e015e1fb",
   "metadata": {},
   "outputs": [
    {
     "name": "stdout",
     "output_type": "stream",
     "text": [
      "========== C:\\Users\\cutefluffyfox\\PycharmProjects\\MT-vocab-tuning\\data\\benchmark\\mhr-ru\\madlad400.mhr_ru.txt ==========\n",
      "bleu : 0.14416953753714376\n",
      "========== C:\\Users\\cutefluffyfox\\PycharmProjects\\MT-vocab-tuning\\data\\benchmark\\ru-mhr\\madlad400.ru_mhr.txt ==========\n",
      "bleu : 0.021880696091946265\n",
      "========== C:\\Users\\cutefluffyfox\\PycharmProjects\\MT-vocab-tuning\\data\\benchmark\\tat-ru\\madlad400.tat_ru.txt ==========\n",
      "bleu : 0.07424180612979353\n",
      "========== C:\\Users\\cutefluffyfox\\PycharmProjects\\MT-vocab-tuning\\data\\benchmark\\ru-tat\\madlad400.ru_tat.txt ==========\n",
      "bleu : 0.0864821708840958\n",
      "========== C:\\Users\\cutefluffyfox\\PycharmProjects\\MT-vocab-tuning\\data\\benchmark\\kaz-ru\\madlad400.kaz_ru.txt ==========\n",
      "bleu : 0.1802677874557238\n",
      "========== C:\\Users\\cutefluffyfox\\PycharmProjects\\MT-vocab-tuning\\data\\benchmark\\ru-kaz\\madlad400.ru_kaz.txt ==========\n",
      "bleu : 0.11336539762831352\n",
      "========== C:\\Users\\cutefluffyfox\\PycharmProjects\\MT-vocab-tuning\\data\\benchmark\\mhr-ru\\nllb200.mhr_ru.txt ==========\n",
      "bleu : 0.03707498445596439\n",
      "========== C:\\Users\\cutefluffyfox\\PycharmProjects\\MT-vocab-tuning\\data\\benchmark\\tat-ru\\nllb200.tat_ru.txt ==========\n",
      "bleu : 0.16596088584576163\n",
      "========== C:\\Users\\cutefluffyfox\\PycharmProjects\\MT-vocab-tuning\\data\\benchmark\\ru-tat\\nllb200.ru_tat.txt ==========\n",
      "bleu : 0.0051465205977029175\n",
      "========== C:\\Users\\cutefluffyfox\\PycharmProjects\\MT-vocab-tuning\\data\\benchmark\\kaz-ru\\nllb200.kaz_ru.txt ==========\n",
      "bleu : 0.1519986654722386\n",
      "========== C:\\Users\\cutefluffyfox\\PycharmProjects\\MT-vocab-tuning\\data\\benchmark\\ru-kaz\\nllb200.ru_kaz.txt ==========\n",
      "bleu : 0.1279603371642969\n"
     ]
    }
   ],
   "source": [
    "import pandas as pd\n",
    "from scripts.helpers.path_manager import DataManager\n",
    "\n",
    "\n",
    "\n",
    "dm = DataManager()\n",
    "translations = [\n",
    "    dm.get_path('benchmark', 'mhr-ru', 'madlad400.mhr_ru.txt'),\n",
    "    dm.get_path('benchmark', 'ru-mhr', 'madlad400.ru_mhr.txt'),\n",
    "    dm.get_path('benchmark', 'tat-ru', 'madlad400.tat_ru.txt'),\n",
    "    dm.get_path('benchmark', 'ru-tat', 'madlad400.ru_tat.txt'),\n",
    "    dm.get_path('benchmark', 'kaz-ru', 'madlad400.kaz_ru.txt'),\n",
    "    dm.get_path('benchmark', 'ru-kaz', 'madlad400.ru_kaz.txt'),\n",
    "    \n",
    "    dm.get_path('benchmark', 'mhr-ru', 'nllb200.mhr_ru.txt'),\n",
    "    dm.get_path('benchmark', 'tat-ru', 'nllb200.tat_ru.txt'),\n",
    "    dm.get_path('benchmark', 'ru-tat', 'nllb200.ru_tat.txt'),\n",
    "    dm.get_path('benchmark', 'kaz-ru', 'nllb200.kaz_ru.txt'),\n",
    "    dm.get_path('benchmark', 'ru-kaz', 'nllb200.ru_kaz.txt'),\n",
    "    \n",
    "    \n",
    "#     dm.get_path('benchmark', 'mhr-ru', 'flores-dev-float16.txt'),\n",
    "#     dm.get_path('benchmark', 'mhr-ru', 'flores-dev-float32.txt'),\n",
    "#     dm.get_path('benchmark', 'kaz-ru', 'flores-dev-float16.txt'),\n",
    "#     dm.get_path('benchmark', 'kaz-ru', 'flores-dev-float32.txt'),\n",
    "#     dm.get_path('benchmark', 'tat-ru', 'flores-dev-float16.txt'),\n",
    "]\n",
    "\n",
    "for trans in translations:\n",
    "    print('==========', trans, '==========')\n",
    "    src_lang, dst_lang = trans.split('.')[-2].split('_')\n",
    "    for metric in metrics:\n",
    "        with open(trans, 'r', encoding='UTF-8') as file:\n",
    "            res = [eval(line.strip()) for line in file.readlines()]\n",
    "        df = pd.DataFrame(res)\n",
    "        res_trans, res_ref = df['translation'].to_list(), df[dst_lang].to_list()\n",
    "\n",
    "        print(metric.metric_name, ':', metric(\n",
    "            sources=None,\n",
    "            targets=res_ref,\n",
    "            translations=res_trans,\n",
    "            lang=dst_lang\n",
    "        ))"
   ]
  },
  {
   "cell_type": "code",
   "execution_count": null,
   "id": "52fd45e1",
   "metadata": {},
   "outputs": [],
   "source": []
  },
  {
   "cell_type": "code",
   "execution_count": null,
   "id": "7074c90d",
   "metadata": {},
   "outputs": [],
   "source": []
  },
  {
   "cell_type": "code",
   "execution_count": null,
   "id": "69b4ffd4",
   "metadata": {},
   "outputs": [],
   "source": []
  }
 ],
 "metadata": {
  "kernelspec": {
   "display_name": "Python 3 (ipykernel)",
   "language": "python",
   "name": "python3"
  },
  "language_info": {
   "codemirror_mode": {
    "name": "ipython",
    "version": 3
   },
   "file_extension": ".py",
   "mimetype": "text/x-python",
   "name": "python",
   "nbconvert_exporter": "python",
   "pygments_lexer": "ipython3",
   "version": "3.9.6"
  }
 },
 "nbformat": 4,
 "nbformat_minor": 5
}
