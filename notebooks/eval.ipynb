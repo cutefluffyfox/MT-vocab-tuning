{
 "cells": [
  {
   "cell_type": "code",
   "execution_count": 1,
   "id": "244556ba",
   "metadata": {},
   "outputs": [],
   "source": [
    "import os\n",
    "import sys\n",
    "\n",
    "# change to upper dir to use all custom libs (won't be needed if run from main scripts)\n",
    "sys.path.insert(1, os.path.join(sys.path[0], '..'))"
   ]
  },
  {
   "cell_type": "code",
   "execution_count": 2,
   "id": "9dd070be",
   "metadata": {},
   "outputs": [
    {
     "name": "stderr",
     "output_type": "stream",
     "text": [
      "Using default BLEURT-Base checkpoint for sequence maximum length 128. You can use a bigger model for better results with e.g.: evaluate.load('bleurt', 'bleurt-large-512').\n"
     ]
    },
    {
     "name": "stdout",
     "output_type": "stream",
     "text": [
      "INFO:tensorflow:Reading checkpoint C:\\Users\\cutefluffyfox\\.cache\\huggingface\\metrics\\bleurt\\default\\downloads\\extracted\\0a44b4d86372b21ba33b0234ef4db114691938f87cc49b33e029af90b808c5cf\\bleurt-base-128.\n",
      "INFO:tensorflow:Config file found, reading.\n",
      "INFO:tensorflow:Will load checkpoint bert_custom\n",
      "INFO:tensorflow:Loads full paths and checks that files exists.\n",
      "INFO:tensorflow:... name:bert_custom\n",
      "INFO:tensorflow:... vocab_file:vocab.txt\n",
      "INFO:tensorflow:... bert_config_file:bert_config.json\n",
      "INFO:tensorflow:... do_lower_case:True\n",
      "INFO:tensorflow:... max_seq_length:128\n",
      "INFO:tensorflow:Creating BLEURT scorer.\n",
      "INFO:tensorflow:Creating WordPiece tokenizer.\n",
      "INFO:tensorflow:WordPiece tokenizer instantiated.\n",
      "INFO:tensorflow:Creating Eager Mode predictor.\n",
      "INFO:tensorflow:Loading model.\n",
      "INFO:tensorflow:BLEURT initialized.\n"
     ]
    }
   ],
   "source": [
    "from scripts.helpers.metric_manager import BLEU, BLEURT, BertScore, CHRF, GoogleBLEU\n",
    "\n",
    "metrics = [\n",
    "    BLEU(),\n",
    "    BLEURT(),\n",
    "    BertScore(),\n",
    "    CHRF(),\n",
    "    GoogleBLEU()\n",
    "]"
   ]
  },
  {
   "cell_type": "code",
   "execution_count": 16,
   "id": "e015e1fb",
   "metadata": {},
   "outputs": [
    {
     "name": "stdout",
     "output_type": "stream",
     "text": [
      "========== C:\\Users\\cutefluffyfox\\PycharmProjects\\MT-vocab-tuning\\data\\benchmark\\mhr-ru\\flores-dev-float16.txt ==========\n",
      "bleu : 0.1434093052494062\n",
      "bleurt : 0.01981488582766881\n",
      "bertscore : 0.7639593007332582\n",
      "chrf : 37.90391931929389\n",
      "google_bleu : 0.1691604913206781\n",
      "========== C:\\Users\\cutefluffyfox\\PycharmProjects\\MT-vocab-tuning\\data\\benchmark\\mhr-ru\\flores-dev-float32.txt ==========\n",
      "bleu : 0.14384333535033544\n",
      "bleurt : 0.020304277565408733\n",
      "bertscore : 0.7640489077974585\n",
      "chrf : 37.90642608569875\n",
      "google_bleu : 0.16957811135260303\n",
      "========== C:\\Users\\cutefluffyfox\\PycharmProjects\\MT-vocab-tuning\\data\\benchmark\\kaz-ru\\flores-dev-float16.txt ==========\n",
      "bleu : 0.18082925248444684\n",
      "bleurt : 0.09459315444022387\n",
      "bertscore : 0.7980259766310842\n",
      "chrf : 43.88523331699426\n",
      "google_bleu : 0.21029838513169263\n",
      "========== C:\\Users\\cutefluffyfox\\PycharmProjects\\MT-vocab-tuning\\data\\benchmark\\kaz-ru\\flores-dev-float32.txt ==========\n",
      "bleu : 0.18065186902901745\n",
      "bleurt : 0.09470855741721458\n",
      "bertscore : 0.7980790147212229\n",
      "chrf : 43.887438154016564\n",
      "google_bleu : 0.2103576734594319\n",
      "========== C:\\Users\\cutefluffyfox\\PycharmProjects\\MT-vocab-tuning\\data\\benchmark\\tat-ru\\flores-dev-float16.txt ==========\n",
      "bleu : 0.0741314385850048\n",
      "bleurt : -0.11265124618229919\n",
      "bertscore : 0.7066054013571744\n",
      "chrf : 25.203203336362336\n",
      "google_bleu : 0.10190579849328808\n"
     ]
    }
   ],
   "source": [
    "import pandas as pd\n",
    "from scripts.helpers.path_manager import DataManager\n",
    "\n",
    "\n",
    "\n",
    "dm = DataManager()\n",
    "translations = [\n",
    "    dm.get_path('benchmark', 'mhr-ru', 'flores-dev-float16.txt'),\n",
    "    dm.get_path('benchmark', 'mhr-ru', 'flores-dev-float32.txt'),\n",
    "    dm.get_path('benchmark', 'kaz-ru', 'flores-dev-float16.txt'),\n",
    "    dm.get_path('benchmark', 'kaz-ru', 'flores-dev-float32.txt'),\n",
    "    dm.get_path('benchmark', 'tat-ru', 'flores-dev-float16.txt'),\n",
    "]\n",
    "\n",
    "for trans in translations:\n",
    "    print('==========', trans, '==========')\n",
    "    for metric in metrics:\n",
    "        with open(trans, 'r', encoding='UTF-8') as file:\n",
    "            res = [eval(line.strip()) for line in file.readlines()]\n",
    "        df = pd.DataFrame(res)\n",
    "        res_trans, res_ref = df['rus'].to_list(), df['translation'].to_list()\n",
    "\n",
    "        print(metric.metric_name, ':', metric(\n",
    "            sources=None,\n",
    "            targets=res_ref,\n",
    "            translations=res_trans,\n",
    "            lang='ru'\n",
    "        ))"
   ]
  },
  {
   "cell_type": "code",
   "execution_count": null,
   "id": "52fd45e1",
   "metadata": {},
   "outputs": [],
   "source": []
  },
  {
   "cell_type": "code",
   "execution_count": null,
   "id": "7074c90d",
   "metadata": {},
   "outputs": [],
   "source": []
  },
  {
   "cell_type": "code",
   "execution_count": null,
   "id": "69b4ffd4",
   "metadata": {},
   "outputs": [],
   "source": []
  }
 ],
 "metadata": {
  "kernelspec": {
   "display_name": "Python 3 (ipykernel)",
   "language": "python",
   "name": "python3"
  },
  "language_info": {
   "codemirror_mode": {
    "name": "ipython",
    "version": 3
   },
   "file_extension": ".py",
   "mimetype": "text/x-python",
   "name": "python",
   "nbconvert_exporter": "python",
   "pygments_lexer": "ipython3",
   "version": "3.9.6"
  }
 },
 "nbformat": 4,
 "nbformat_minor": 5
}
