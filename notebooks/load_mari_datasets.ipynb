{
 "cells": [
  {
   "cell_type": "code",
   "execution_count": 1,
   "id": "a0f91f50",
   "metadata": {},
   "outputs": [],
   "source": [
    "import os\n",
    "import sys\n",
    "\n",
    "# change to upper dir to use all custom libs (won't be needed if run from main scripts)\n",
    "sys.path.insert(1, os.path.join(sys.path[0], '..'))"
   ]
  },
  {
   "cell_type": "code",
   "execution_count": 2,
   "id": "5b8ea33b",
   "metadata": {},
   "outputs": [],
   "source": [
    "from scripts.helpers import dataset_manager"
   ]
  },
  {
   "cell_type": "markdown",
   "id": "10cf94ab",
   "metadata": {},
   "source": [
    "### Flores+ (dev)\n",
    "\n",
    "> Size: 997 \\\n",
    "> Direction: ru-mhr \\\n",
    "> Link: https://github.com/openlanguagedata/flores\n"
   ]
  },
  {
   "cell_type": "code",
   "execution_count": 3,
   "id": "2fa299c6",
   "metadata": {},
   "outputs": [],
   "source": [
    "ds = dataset_manager.FloresDataset('mhr-ru', 'flores-dev')\n",
    "ds.download_from_github('dev', ['mhr_Cyrl', 'rus_Cyrl'])"
   ]
  },
  {
   "cell_type": "markdown",
   "id": "0933823a",
   "metadata": {},
   "source": [
    "### AigizK - mari russian parallel\n",
    "\n",
    "> Size: 413_841 \\\n",
    "> Direction: mhr-ru \\\n",
    "> Link: https://huggingface.co/datasets/AigizK/mari-russian-parallel-corpora"
   ]
  },
  {
   "cell_type": "code",
   "execution_count": 4,
   "id": "b16f4e58",
   "metadata": {},
   "outputs": [],
   "source": [
    "ds = dataset_manager.HFDataset('mhr-ru', 'mari-parallel-413k')\n",
    "ds.download_parquet(\"hf://datasets/AigizK/mari-russian-parallel-corpora/data/train-00000-of-00001.parquet\")"
   ]
  },
  {
   "cell_type": "markdown",
   "id": "dfac577f",
   "metadata": {},
   "source": [
    "### d0rj - ru-mhr parallel\n",
    "\n",
    "> Size: 417_103 \\\n",
    "> Direction: mhr-ru \\\n",
    "> Link: https://huggingface.co/datasets/d0rj/ru-mhr-parallel"
   ]
  },
  {
   "cell_type": "code",
   "execution_count": 5,
   "id": "c9770de8",
   "metadata": {},
   "outputs": [],
   "source": [
    "ds = dataset_manager.HFDataset('mhr-ru', 'd0rj.mari-parallel-417k')\n",
    "ds.download_parquet(\"hf://datasets/d0rj/ru-mhr-parallel/data/train-00000-of-00001-e3b11608a33f8a12.parquet\")"
   ]
  },
  {
   "cell_type": "markdown",
   "id": "a30306be",
   "metadata": {},
   "source": [
    "### mari-lab - mari monolingual corpus\n",
    "\n",
    "> Size: 1_425_908 \\\n",
    "> Direction: mhr \\\n",
    "> Link: https://huggingface.co/datasets/mari-lab/mari-monolingual-corpus"
   ]
  },
  {
   "cell_type": "code",
   "execution_count": 6,
   "id": "feb84bc2",
   "metadata": {},
   "outputs": [],
   "source": [
    "ds = dataset_manager.HFDataset('mhr', 'mari-monolingual-1.4m')\n",
    "ds.download_parquet(\"hf://datasets/mari-lab/mari-monolingual-corpus@refs%2Fconvert%2Fparquet/default/train/0000.parquet\")"
   ]
  },
  {
   "cell_type": "code",
   "execution_count": null,
   "id": "24b21c41",
   "metadata": {},
   "outputs": [],
   "source": []
  },
  {
   "cell_type": "code",
   "execution_count": null,
   "id": "1641d166",
   "metadata": {},
   "outputs": [],
   "source": []
  },
  {
   "cell_type": "code",
   "execution_count": null,
   "id": "677253b4",
   "metadata": {},
   "outputs": [],
   "source": []
  }
 ],
 "metadata": {
  "kernelspec": {
   "display_name": "Python 3 (ipykernel)",
   "language": "python",
   "name": "python3"
  },
  "language_info": {
   "codemirror_mode": {
    "name": "ipython",
    "version": 3
   },
   "file_extension": ".py",
   "mimetype": "text/x-python",
   "name": "python",
   "nbconvert_exporter": "python",
   "pygments_lexer": "ipython3",
   "version": "3.9.6"
  }
 },
 "nbformat": 4,
 "nbformat_minor": 5
}
