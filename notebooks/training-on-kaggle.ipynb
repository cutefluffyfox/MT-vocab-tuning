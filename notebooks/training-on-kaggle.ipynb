{
 "cells": [
  {
   "cell_type": "code",
   "execution_count": 1,
   "metadata": {
    "_cell_guid": "b1076dfc-b9ad-4769-8c92-a6c4dae69d19",
    "_uuid": "8f2839f25d086af736a60e9eeb907d3b93b6e0e5",
    "execution": {
     "iopub.execute_input": "2025-03-15T12:28:35.261711Z",
     "iopub.status.busy": "2025-03-15T12:28:35.261477Z",
     "iopub.status.idle": "2025-03-15T12:28:36.020137Z",
     "shell.execute_reply": "2025-03-15T12:28:36.018921Z",
     "shell.execute_reply.started": "2025-03-15T12:28:35.261687Z"
    }
   },
   "outputs": [],
   "source": [
    "!python -c \"from huggingface_hub.hf_api import HfFolder; HfFolder.save_token('hf_token')\""
   ]
  },
  {
   "cell_type": "code",
   "execution_count": 2,
   "metadata": {
    "execution": {
     "iopub.execute_input": "2025-03-15T12:28:36.021733Z",
     "iopub.status.busy": "2025-03-15T12:28:36.021448Z",
     "iopub.status.idle": "2025-03-15T12:28:36.917379Z",
     "shell.execute_reply": "2025-03-15T12:28:36.916284Z",
     "shell.execute_reply.started": "2025-03-15T12:28:36.021707Z"
    }
   },
   "outputs": [
    {
     "name": "stdout",
     "output_type": "stream",
     "text": [
      "Cloning into 'MT-vocab-tuning'...\n",
      "remote: Enumerating objects: 245, done.\u001b[K\n",
      "remote: Counting objects: 100% (245/245), done.\u001b[K\n",
      "remote: Compressing objects: 100% (160/160), done.\u001b[K\n",
      "remote: Total 245 (delta 141), reused 182 (delta 82), pack-reused 0 (from 0)\u001b[K\n",
      "Receiving objects: 100% (245/245), 523.00 KiB | 14.94 MiB/s, done.\n",
      "Resolving deltas: 100% (141/141), done.\n"
     ]
    }
   ],
   "source": [
    "!git clone https://github.com/cutefluffyfox/MT-vocab-tuning.git"
   ]
  },
  {
   "cell_type": "code",
   "execution_count": 3,
   "metadata": {
    "execution": {
     "iopub.execute_input": "2025-03-15T12:28:36.918923Z",
     "iopub.status.busy": "2025-03-15T12:28:36.918557Z",
     "iopub.status.idle": "2025-03-15T12:28:53.759494Z",
     "shell.execute_reply": "2025-03-15T12:28:53.758333Z",
     "shell.execute_reply.started": "2025-03-15T12:28:36.918889Z"
    }
   },
   "outputs": [
    {
     "name": "stdout",
     "output_type": "stream",
     "text": [
      "Collecting yadisk[sync_defaults]\n",
      "  Downloading yadisk-3.2.0-py3-none-any.whl.metadata (32 kB)\n",
      "Requirement already satisfied: requests in /usr/local/lib/python3.10/dist-packages (from yadisk[sync_defaults]) (2.32.3)\n",
      "Requirement already satisfied: charset-normalizer<4,>=2 in /usr/local/lib/python3.10/dist-packages (from requests->yadisk[sync_defaults]) (3.4.1)\n",
      "Requirement already satisfied: idna<4,>=2.5 in /usr/local/lib/python3.10/dist-packages (from requests->yadisk[sync_defaults]) (3.10)\n",
      "Requirement already satisfied: urllib3<3,>=1.21.1 in /usr/local/lib/python3.10/dist-packages (from requests->yadisk[sync_defaults]) (2.3.0)\n",
      "Requirement already satisfied: certifi>=2017.4.17 in /usr/local/lib/python3.10/dist-packages (from requests->yadisk[sync_defaults]) (2025.1.31)\n",
      "Downloading yadisk-3.2.0-py3-none-any.whl (132 kB)\n",
      "\u001b[2K   \u001b[90m━━━━━━━━━━━━━━━━━━━━━━━━━━━━━━━━━━━━━━━━\u001b[0m \u001b[32m132.0/132.0 kB\u001b[0m \u001b[31m6.2 MB/s\u001b[0m eta \u001b[36m0:00:00\u001b[0m\n",
      "\u001b[?25hInstalling collected packages: yadisk\n",
      "Successfully installed yadisk-3.2.0\n",
      "Collecting transformers==4.49.0\n",
      "  Downloading transformers-4.49.0-py3-none-any.whl.metadata (44 kB)\n",
      "\u001b[2K     \u001b[90m━━━━━━━━━━━━━━━━━━━━━━━━━━━━━━━━━━━━━━━━\u001b[0m \u001b[32m44.0/44.0 kB\u001b[0m \u001b[31m2.0 MB/s\u001b[0m eta \u001b[36m0:00:00\u001b[0m\n",
      "\u001b[?25hCollecting sacremoses~=0.1.1\n",
      "  Downloading sacremoses-0.1.1-py3-none-any.whl.metadata (8.3 kB)\n",
      "Requirement already satisfied: filelock in /usr/local/lib/python3.10/dist-packages (from transformers==4.49.0) (3.17.0)\n",
      "Requirement already satisfied: huggingface-hub<1.0,>=0.26.0 in /usr/local/lib/python3.10/dist-packages (from transformers==4.49.0) (0.28.1)\n",
      "Requirement already satisfied: numpy>=1.17 in /usr/local/lib/python3.10/dist-packages (from transformers==4.49.0) (1.26.4)\n",
      "Requirement already satisfied: packaging>=20.0 in /usr/local/lib/python3.10/dist-packages (from transformers==4.49.0) (24.2)\n",
      "Requirement already satisfied: pyyaml>=5.1 in /usr/local/lib/python3.10/dist-packages (from transformers==4.49.0) (6.0.2)\n",
      "Requirement already satisfied: regex!=2019.12.17 in /usr/local/lib/python3.10/dist-packages (from transformers==4.49.0) (2024.11.6)\n",
      "Requirement already satisfied: requests in /usr/local/lib/python3.10/dist-packages (from transformers==4.49.0) (2.32.3)\n",
      "Requirement already satisfied: tokenizers<0.22,>=0.21 in /usr/local/lib/python3.10/dist-packages (from transformers==4.49.0) (0.21.0)\n",
      "Requirement already satisfied: safetensors>=0.4.1 in /usr/local/lib/python3.10/dist-packages (from transformers==4.49.0) (0.4.5)\n",
      "Requirement already satisfied: tqdm>=4.27 in /usr/local/lib/python3.10/dist-packages (from transformers==4.49.0) (4.67.1)\n",
      "Requirement already satisfied: click in /usr/local/lib/python3.10/dist-packages (from sacremoses~=0.1.1) (8.1.7)\n",
      "Requirement already satisfied: joblib in /usr/local/lib/python3.10/dist-packages (from sacremoses~=0.1.1) (1.4.2)\n",
      "Requirement already satisfied: fsspec>=2023.5.0 in /usr/local/lib/python3.10/dist-packages (from huggingface-hub<1.0,>=0.26.0->transformers==4.49.0) (2024.9.0)\n",
      "Requirement already satisfied: typing-extensions>=3.7.4.3 in /usr/local/lib/python3.10/dist-packages (from huggingface-hub<1.0,>=0.26.0->transformers==4.49.0) (4.12.2)\n",
      "Requirement already satisfied: mkl_fft in /usr/local/lib/python3.10/dist-packages (from numpy>=1.17->transformers==4.49.0) (1.3.8)\n",
      "Requirement already satisfied: mkl_random in /usr/local/lib/python3.10/dist-packages (from numpy>=1.17->transformers==4.49.0) (1.2.4)\n",
      "Requirement already satisfied: mkl_umath in /usr/local/lib/python3.10/dist-packages (from numpy>=1.17->transformers==4.49.0) (0.1.1)\n",
      "Requirement already satisfied: mkl in /usr/local/lib/python3.10/dist-packages (from numpy>=1.17->transformers==4.49.0) (2025.0.1)\n",
      "Requirement already satisfied: tbb4py in /usr/local/lib/python3.10/dist-packages (from numpy>=1.17->transformers==4.49.0) (2022.0.0)\n",
      "Requirement already satisfied: mkl-service in /usr/local/lib/python3.10/dist-packages (from numpy>=1.17->transformers==4.49.0) (2.4.1)\n",
      "Requirement already satisfied: charset-normalizer<4,>=2 in /usr/local/lib/python3.10/dist-packages (from requests->transformers==4.49.0) (3.4.1)\n",
      "Requirement already satisfied: idna<4,>=2.5 in /usr/local/lib/python3.10/dist-packages (from requests->transformers==4.49.0) (3.10)\n",
      "Requirement already satisfied: urllib3<3,>=1.21.1 in /usr/local/lib/python3.10/dist-packages (from requests->transformers==4.49.0) (2.3.0)\n",
      "Requirement already satisfied: certifi>=2017.4.17 in /usr/local/lib/python3.10/dist-packages (from requests->transformers==4.49.0) (2025.1.31)\n",
      "Requirement already satisfied: intel-openmp>=2024 in /usr/local/lib/python3.10/dist-packages (from mkl->numpy>=1.17->transformers==4.49.0) (2024.2.0)\n",
      "Requirement already satisfied: tbb==2022.* in /usr/local/lib/python3.10/dist-packages (from mkl->numpy>=1.17->transformers==4.49.0) (2022.0.0)\n",
      "Requirement already satisfied: tcmlib==1.* in /usr/local/lib/python3.10/dist-packages (from tbb==2022.*->mkl->numpy>=1.17->transformers==4.49.0) (1.2.0)\n",
      "Requirement already satisfied: intel-cmplr-lib-rt in /usr/local/lib/python3.10/dist-packages (from mkl_umath->numpy>=1.17->transformers==4.49.0) (2024.2.0)\n",
      "Requirement already satisfied: intel-cmplr-lib-ur==2024.2.0 in /usr/local/lib/python3.10/dist-packages (from intel-openmp>=2024->mkl->numpy>=1.17->transformers==4.49.0) (2024.2.0)\n",
      "Downloading transformers-4.49.0-py3-none-any.whl (10.0 MB)\n",
      "\u001b[2K   \u001b[90m━━━━━━━━━━━━━━━━━━━━━━━━━━━━━━━━━━━━━━━━\u001b[0m \u001b[32m10.0/10.0 MB\u001b[0m \u001b[31m86.3 MB/s\u001b[0m eta \u001b[36m0:00:00\u001b[0m:00:01\u001b[0m0:01\u001b[0m\n",
      "\u001b[?25hDownloading sacremoses-0.1.1-py3-none-any.whl (897 kB)\n",
      "\u001b[2K   \u001b[90m━━━━━━━━━━━━━━━━━━━━━━━━━━━━━━━━━━━━━━━━\u001b[0m \u001b[32m897.5/897.5 kB\u001b[0m \u001b[31m41.7 MB/s\u001b[0m eta \u001b[36m0:00:00\u001b[0m\n",
      "\u001b[?25hInstalling collected packages: sacremoses, transformers\n",
      "  Attempting uninstall: transformers\n",
      "    Found existing installation: transformers 4.47.0\n",
      "    Uninstalling transformers-4.47.0:\n",
      "      Successfully uninstalled transformers-4.47.0\n",
      "Successfully installed sacremoses-0.1.1 transformers-4.49.0\n"
     ]
    }
   ],
   "source": [
    "!pip install yadisk[sync_defaults]\n",
    "!pip install transformers==4.49.0 sacremoses~=0.1.1"
   ]
  },
  {
   "cell_type": "code",
   "execution_count": 4,
   "metadata": {
    "execution": {
     "iopub.execute_input": "2025-03-15T12:28:53.761570Z",
     "iopub.status.busy": "2025-03-15T12:28:53.761274Z",
     "iopub.status.idle": "2025-03-15T12:28:53.954514Z",
     "shell.execute_reply": "2025-03-15T12:28:53.953848Z",
     "shell.execute_reply.started": "2025-03-15T12:28:53.761544Z"
    }
   },
   "outputs": [],
   "source": [
    "import yadisk\n",
    "client = yadisk.Client(token=\"ya_token\")"
   ]
  },
  {
   "cell_type": "code",
   "execution_count": 5,
   "metadata": {
    "execution": {
     "iopub.execute_input": "2025-03-15T12:28:53.955671Z",
     "iopub.status.busy": "2025-03-15T12:28:53.955436Z",
     "iopub.status.idle": "2025-03-15T12:28:53.959760Z",
     "shell.execute_reply": "2025-03-15T12:28:53.958905Z",
     "shell.execute_reply.started": "2025-03-15T12:28:53.955643Z"
    }
   },
   "outputs": [],
   "source": [
    "import os\n",
    "import sys\n",
    "\n",
    "# change to upper dir to use all custom libs (won't be needed if run from main scripts)\n",
    "sys.path.insert(1, os.path.join(os.getcwd(), 'MT-vocab-tuning'))"
   ]
  },
  {
   "cell_type": "code",
   "execution_count": 6,
   "metadata": {
    "execution": {
     "iopub.execute_input": "2025-03-15T12:29:03.475497Z",
     "iopub.status.busy": "2025-03-15T12:29:03.475163Z",
     "iopub.status.idle": "2025-03-15T12:29:03.479938Z",
     "shell.execute_reply": "2025-03-15T12:29:03.478924Z",
     "shell.execute_reply.started": "2025-03-15T12:29:03.475466Z"
    }
   },
   "outputs": [],
   "source": [
    "# MAIN TRAINIG PARAMETERS ALL IN ONE PLACE\n",
    "nllb_model: str            = 'facebook/nllb-200-distilled-1.3B'\n",
    "lang: str                  = 'mhr'\n",
    "update_tokenizer: bool     = True\n",
    "add_token_lang: bool       = True\n",
    "learn_both_direction: bool = False\n",
    "ttl: int                   = 4 * 60 * 60  # training ttl (in seconds)\n",
    "\n",
    "# if not present in dict -> will copy value from the same (default script type is Cyrl)\n",
    "lang_to_simmilar_lang_map = {\n",
    "    'mhr': 'est_Latn',  # both finno-ugric\n",
    "    'tat': 'tat_Cyrl',\n",
    "}"
   ]
  },
  {
   "cell_type": "code",
   "execution_count": 7,
   "metadata": {
    "execution": {
     "iopub.execute_input": "2025-03-15T12:29:04.278828Z",
     "iopub.status.busy": "2025-03-15T12:29:04.278487Z",
     "iopub.status.idle": "2025-03-15T12:30:02.963330Z",
     "shell.execute_reply": "2025-03-15T12:30:02.962391Z",
     "shell.execute_reply.started": "2025-03-15T12:29:04.278798Z"
    }
   },
   "outputs": [
    {
     "data": {
      "application/vnd.jupyter.widget-view+json": {
       "model_id": "0780368f6c1c439e8a8a46396ad69594",
       "version_major": 2,
       "version_minor": 0
      },
      "text/plain": [
       "tokenizer_config.json:   0%|          | 0.00/564 [00:00<?, ?B/s]"
      ]
     },
     "metadata": {},
     "output_type": "display_data"
    },
    {
     "data": {
      "application/vnd.jupyter.widget-view+json": {
       "model_id": "58897e856b2948fa8863f9d861626d83",
       "version_major": 2,
       "version_minor": 0
      },
      "text/plain": [
       "sentencepiece.bpe.model:   0%|          | 0.00/4.85M [00:00<?, ?B/s]"
      ]
     },
     "metadata": {},
     "output_type": "display_data"
    },
    {
     "data": {
      "application/vnd.jupyter.widget-view+json": {
       "model_id": "92f7eff72ba943fc93e555c4932bc0f5",
       "version_major": 2,
       "version_minor": 0
      },
      "text/plain": [
       "tokenizer.json:   0%|          | 0.00/17.3M [00:00<?, ?B/s]"
      ]
     },
     "metadata": {},
     "output_type": "display_data"
    },
    {
     "data": {
      "application/vnd.jupyter.widget-view+json": {
       "model_id": "f81e1ac6db4f486d86675e63ef0521a7",
       "version_major": 2,
       "version_minor": 0
      },
      "text/plain": [
       "special_tokens_map.json:   0%|          | 0.00/3.55k [00:00<?, ?B/s]"
      ]
     },
     "metadata": {},
     "output_type": "display_data"
    },
    {
     "data": {
      "application/vnd.jupyter.widget-view+json": {
       "model_id": "7a283e674a984d6d9142e4be8ffc4a71",
       "version_major": 2,
       "version_minor": 0
      },
      "text/plain": [
       "config.json:   0%|          | 0.00/808 [00:00<?, ?B/s]"
      ]
     },
     "metadata": {},
     "output_type": "display_data"
    },
    {
     "data": {
      "application/vnd.jupyter.widget-view+json": {
       "model_id": "27b93b055dc148a8a1d404e96d98a7f4",
       "version_major": 2,
       "version_minor": 0
      },
      "text/plain": [
       "pytorch_model.bin:   0%|          | 0.00/5.48G [00:00<?, ?B/s]"
      ]
     },
     "metadata": {},
     "output_type": "display_data"
    },
    {
     "data": {
      "application/vnd.jupyter.widget-view+json": {
       "model_id": "62773b2bf854410680bd32dc25a3bc9b",
       "version_major": 2,
       "version_minor": 0
      },
      "text/plain": [
       "model.safetensors:   0%|          | 0.00/5.48G [00:00<?, ?B/s]"
      ]
     },
     "metadata": {},
     "output_type": "display_data"
    },
    {
     "data": {
      "application/vnd.jupyter.widget-view+json": {
       "model_id": "1b7a3363f7b340e892f0707c28cd8fce",
       "version_major": 2,
       "version_minor": 0
      },
      "text/plain": [
       "generation_config.json:   0%|          | 0.00/189 [00:00<?, ?B/s]"
      ]
     },
     "metadata": {},
     "output_type": "display_data"
    },
    {
     "data": {
      "text/plain": [
       "['Счастливые лисички прыгают прыгают скак Бақытты лисички секіріп секіріп секіреді',\n",
       " 'Бір рет екі рет үш рет.']"
      ]
     },
     "execution_count": 7,
     "metadata": {},
     "output_type": "execute_result"
    }
   ],
   "source": [
    "from scripts.helpers.model_manager import NLLB200Model\n",
    "\n",
    "model = NLLB200Model(device='cuda')\n",
    "\n",
    "model.translate_batch(['Счастливые лисички прыгают прыг скок', 'раз два три!'], 'ru', 'kaz')"
   ]
  },
  {
   "cell_type": "code",
   "execution_count": 8,
   "metadata": {
    "execution": {
     "iopub.execute_input": "2025-03-15T12:30:02.965138Z",
     "iopub.status.busy": "2025-03-15T12:30:02.964583Z",
     "iopub.status.idle": "2025-03-15T12:30:25.885961Z",
     "shell.execute_reply": "2025-03-15T12:30:25.884709Z",
     "shell.execute_reply.started": "2025-03-15T12:30:02.965112Z"
    }
   },
   "outputs": [],
   "source": [
    "import pandas as pd\n",
    "from scripts.helpers import dataset_manager\n",
    "\n",
    "\n",
    "if lang == 'tat':\n",
    "    ds = dataset_manager.HFDataset('tat-ru', 'ipsan.tatar-parallel-400k')\n",
    "    ds.download_json(\"hf://datasets/IPSAN/tatar_translation_dataset/train.json\")\n",
    "    tt_ru = ds.get_df()\n",
    "    \n",
    "    tt_ru_parsed = []\n",
    "    for row in tt_ru.to_dict('records'):\n",
    "        tt_ru_parsed.append(eval(row['translation']))\n",
    "    df = pd.DataFrame(tt_ru_parsed)\n",
    "    df = df.rename(columns={'ru': 'rus', 'tt': 'tat'})\n",
    "    df\n",
    "elif lang == 'mhr':\n",
    "    ds = dataset_manager.HFDataset('mhr-ru', 'mari-parallel-413k')\n",
    "    ds.download_parquet(\"hf://datasets/AigizK/mari-russian-parallel-corpora/data/train-00000-of-00001.parquet\")\n",
    "    mhr_ru = ds.get_df()\n",
    "    \n",
    "    df = mhr_ru\n",
    "    df = df.rename(columns={'ru': 'rus', 'chm': 'mhr'})\n",
    "    df"
   ]
  },
  {
   "cell_type": "code",
   "execution_count": null,
   "metadata": {},
   "outputs": [],
   "source": []
  },
  {
   "cell_type": "code",
   "execution_count": 9,
   "metadata": {
    "execution": {
     "iopub.execute_input": "2025-03-15T12:30:25.888394Z",
     "iopub.status.busy": "2025-03-15T12:30:25.888045Z",
     "iopub.status.idle": "2025-03-15T12:32:56.853225Z",
     "shell.execute_reply": "2025-03-15T12:32:56.852080Z",
     "shell.execute_reply.started": "2025-03-15T12:30:25.888364Z"
    }
   },
   "outputs": [
    {
     "name": "stderr",
     "output_type": "stream",
     "text": [
      "\n",
      "  0%|          | 0/400000 [00:00<?, ?it/s]\u001b[A\n",
      "  0%|          | 1105/400000 [00:00<00:36, 11046.51it/s]\u001b[A\n",
      "  1%|          | 2210/400000 [00:00<00:46, 8474.91it/s] \u001b[A\n",
      "  1%|          | 3094/400000 [00:00<00:49, 7987.21it/s]\u001b[A\n",
      "  1%|          | 3911/400000 [00:00<00:53, 7431.24it/s]\u001b[A\n",
      "  1%|          | 4665/400000 [00:00<00:54, 7292.85it/s]\u001b[A\n",
      "  1%|▏         | 5774/400000 [00:00<00:46, 8439.74it/s]\u001b[A\n",
      "  2%|▏         | 6850/400000 [00:00<00:43, 9138.60it/s]\u001b[A\n",
      "  2%|▏         | 7934/400000 [00:00<00:40, 9649.18it/s]\u001b[A\n",
      "  2%|▏         | 8979/400000 [00:01<00:39, 9888.11it/s]\u001b[A\n",
      "  3%|▎         | 10069/400000 [00:01<00:38, 10190.80it/s]\u001b[A\n",
      "  3%|▎         | 11165/400000 [00:01<00:37, 10421.50it/s]\u001b[A\n",
      "  3%|▎         | 12240/400000 [00:01<00:36, 10516.52it/s]\u001b[A\n",
      "  3%|▎         | 13357/400000 [00:01<00:36, 10710.90it/s]\u001b[A\n",
      "  4%|▎         | 14448/400000 [00:01<00:35, 10769.23it/s]\u001b[A\n",
      "  4%|▍         | 15556/400000 [00:01<00:35, 10861.68it/s]\u001b[A\n",
      "  4%|▍         | 16663/400000 [00:01<00:35, 10921.65it/s]\u001b[A\n",
      "  4%|▍         | 17757/400000 [00:01<00:36, 10550.94it/s]\u001b[A\n",
      "  5%|▍         | 18865/400000 [00:01<00:35, 10704.36it/s]\u001b[A\n",
      "  5%|▍         | 19939/400000 [00:02<00:35, 10690.52it/s]\u001b[A\n",
      "  5%|▌         | 21059/400000 [00:02<00:34, 10838.66it/s]\u001b[A\n",
      "  6%|▌         | 22162/400000 [00:02<00:34, 10894.93it/s]\u001b[A\n",
      "  6%|▌         | 23272/400000 [00:02<00:34, 10953.90it/s]\u001b[A\n",
      "  6%|▌         | 24369/400000 [00:02<00:34, 10951.35it/s]\u001b[A\n",
      "  6%|▋         | 25472/400000 [00:02<00:34, 10972.10it/s]\u001b[A\n",
      "  7%|▋         | 26570/400000 [00:02<00:34, 10968.81it/s]\u001b[A\n",
      "  7%|▋         | 27668/400000 [00:02<00:33, 10971.14it/s]\u001b[A\n",
      "  7%|▋         | 28790/400000 [00:02<00:33, 11044.75it/s]\u001b[A\n",
      "  7%|▋         | 29895/400000 [00:02<00:34, 10877.42it/s]\u001b[A\n",
      "  8%|▊         | 30996/400000 [00:03<00:33, 10915.50it/s]\u001b[A\n",
      "  8%|▊         | 32108/400000 [00:03<00:33, 10975.62it/s]\u001b[A\n",
      "  8%|▊         | 33221/400000 [00:03<00:33, 11020.91it/s]\u001b[A\n",
      "  9%|▊         | 34324/400000 [00:03<00:33, 11002.05it/s]\u001b[A\n",
      "  9%|▉         | 35425/400000 [00:03<00:33, 10920.10it/s]\u001b[A\n",
      "  9%|▉         | 36518/400000 [00:03<00:33, 10897.79it/s]\u001b[A\n",
      "  9%|▉         | 37628/400000 [00:03<00:33, 10957.31it/s]\u001b[A\n",
      " 10%|▉         | 38743/400000 [00:03<00:32, 11013.15it/s]\u001b[A\n",
      " 10%|▉         | 39845/400000 [00:03<00:32, 10984.78it/s]\u001b[A\n",
      " 10%|█         | 40944/400000 [00:03<00:32, 10978.98it/s]\u001b[A\n",
      " 11%|█         | 42042/400000 [00:04<00:32, 10977.21it/s]\u001b[A\n",
      " 11%|█         | 43146/400000 [00:04<00:32, 10995.47it/s]\u001b[A\n",
      " 11%|█         | 44246/400000 [00:04<00:33, 10587.53it/s]\u001b[A\n",
      " 11%|█▏        | 45308/400000 [00:04<00:33, 10467.71it/s]\u001b[A\n",
      " 12%|█▏        | 46358/400000 [00:04<00:34, 10263.36it/s]\u001b[A\n",
      " 12%|█▏        | 47417/400000 [00:04<00:34, 10355.96it/s]\u001b[A\n",
      " 12%|█▏        | 48480/400000 [00:04<00:33, 10433.74it/s]\u001b[A\n",
      " 12%|█▏        | 49565/400000 [00:04<00:33, 10554.67it/s]\u001b[A\n",
      " 13%|█▎        | 50654/400000 [00:04<00:32, 10653.36it/s]\u001b[A\n",
      " 13%|█▎        | 51730/400000 [00:04<00:32, 10681.72it/s]\u001b[A\n",
      " 13%|█▎        | 52799/400000 [00:05<00:33, 10520.05it/s]\u001b[A\n",
      " 13%|█▎        | 53852/400000 [00:05<00:33, 10474.33it/s]\u001b[A\n",
      " 14%|█▎        | 54909/400000 [00:05<00:32, 10500.18it/s]\u001b[A\n",
      " 14%|█▍        | 55962/400000 [00:05<00:32, 10506.22it/s]\u001b[A\n",
      " 14%|█▍        | 57013/400000 [00:05<00:33, 10365.28it/s]\u001b[A\n",
      " 15%|█▍        | 58051/400000 [00:05<00:33, 10221.21it/s]\u001b[A\n",
      " 15%|█▍        | 59148/400000 [00:05<00:32, 10440.03it/s]\u001b[A\n",
      " 15%|█▌        | 60193/400000 [00:05<00:34, 9777.85it/s] \u001b[A\n",
      " 15%|█▌        | 61278/400000 [00:05<00:33, 10079.87it/s]\u001b[A\n",
      " 16%|█▌        | 62311/400000 [00:05<00:33, 10149.46it/s]\u001b[A\n",
      " 16%|█▌        | 63420/400000 [00:06<00:32, 10418.98it/s]\u001b[A\n",
      " 16%|█▌        | 64545/400000 [00:06<00:31, 10661.61it/s]\u001b[A\n",
      " 16%|█▋        | 65622/400000 [00:06<00:31, 10693.20it/s]\u001b[A\n",
      " 17%|█▋        | 66727/400000 [00:06<00:30, 10797.84it/s]\u001b[A\n",
      " 17%|█▋        | 67819/400000 [00:06<00:30, 10833.81it/s]\u001b[A\n",
      " 17%|█▋        | 68977/400000 [00:06<00:29, 11054.57it/s]\u001b[A\n",
      " 18%|█▊        | 70084/400000 [00:06<00:30, 10994.92it/s]\u001b[A\n",
      " 18%|█▊        | 71193/400000 [00:06<00:29, 11022.28it/s]\u001b[A\n",
      " 18%|█▊        | 72296/400000 [00:06<00:30, 10688.66it/s]\u001b[A\n",
      " 18%|█▊        | 73384/400000 [00:07<00:30, 10742.61it/s]\u001b[A\n",
      " 19%|█▊        | 74487/400000 [00:07<00:30, 10826.01it/s]\u001b[A\n",
      " 19%|█▉        | 75596/400000 [00:07<00:29, 10903.36it/s]\u001b[A\n",
      " 19%|█▉        | 76707/400000 [00:07<00:29, 10964.35it/s]\u001b[A\n",
      " 19%|█▉        | 77805/400000 [00:07<00:29, 10949.75it/s]\u001b[A\n",
      " 20%|█▉        | 78931/400000 [00:07<00:29, 11039.65it/s]\u001b[A\n",
      " 20%|██        | 80049/400000 [00:07<00:28, 11079.68it/s]\u001b[A\n",
      " 20%|██        | 81158/400000 [00:07<00:28, 11041.67it/s]\u001b[A\n",
      " 21%|██        | 82263/400000 [00:07<00:29, 10832.95it/s]\u001b[A\n",
      " 21%|██        | 83370/400000 [00:07<00:29, 10902.54it/s]\u001b[A\n",
      " 21%|██        | 84501/400000 [00:08<00:28, 11020.06it/s]\u001b[A\n",
      " 21%|██▏       | 85606/400000 [00:08<00:28, 11028.28it/s]\u001b[A\n",
      " 22%|██▏       | 86710/400000 [00:08<00:28, 10996.99it/s]\u001b[A\n",
      " 22%|██▏       | 87811/400000 [00:08<00:28, 10906.44it/s]\u001b[A\n",
      " 22%|██▏       | 88931/400000 [00:08<00:28, 10989.97it/s]\u001b[A\n",
      " 23%|██▎       | 90043/400000 [00:08<00:28, 11027.83it/s]\u001b[A\n",
      " 23%|██▎       | 91171/400000 [00:08<00:27, 11100.75it/s]\u001b[A\n",
      " 23%|██▎       | 92282/400000 [00:08<00:28, 10930.84it/s]\u001b[A\n",
      " 23%|██▎       | 93376/400000 [00:08<00:28, 10781.31it/s]\u001b[A\n",
      " 24%|██▎       | 94465/400000 [00:08<00:28, 10810.67it/s]\u001b[A\n",
      " 24%|██▍       | 95581/400000 [00:09<00:27, 10911.31it/s]\u001b[A\n",
      " 24%|██▍       | 96673/400000 [00:09<00:28, 10818.29it/s]\u001b[A\n",
      " 24%|██▍       | 97756/400000 [00:09<00:28, 10732.28it/s]\u001b[A\n",
      " 25%|██▍       | 98857/400000 [00:09<00:27, 10812.08it/s]\u001b[A\n",
      " 25%|██▍       | 99960/400000 [00:09<00:27, 10873.95it/s]\u001b[A\n",
      " 25%|██▌       | 101057/400000 [00:09<00:27, 10899.47it/s]\u001b[A\n",
      " 26%|██▌       | 102148/400000 [00:09<00:28, 10541.24it/s]\u001b[A\n",
      " 26%|██▌       | 103262/400000 [00:09<00:27, 10714.43it/s]\u001b[A\n",
      " 26%|██▌       | 104389/400000 [00:09<00:27, 10876.91it/s]\u001b[A\n",
      " 26%|██▋       | 105479/400000 [00:09<00:27, 10866.61it/s]\u001b[A\n",
      " 27%|██▋       | 106567/400000 [00:10<00:27, 10845.30it/s]\u001b[A\n",
      " 27%|██▋       | 107674/400000 [00:10<00:26, 10910.90it/s]\u001b[A\n",
      " 27%|██▋       | 108787/400000 [00:10<00:26, 10973.53it/s]\u001b[A\n",
      " 27%|██▋       | 109926/400000 [00:10<00:26, 11096.85it/s]\u001b[A\n",
      " 28%|██▊       | 111037/400000 [00:10<00:26, 11058.70it/s]\u001b[A\n",
      " 28%|██▊       | 112144/400000 [00:10<00:26, 10987.75it/s]\u001b[A\n",
      " 28%|██▊       | 113244/400000 [00:10<00:26, 10952.60it/s]\u001b[A\n",
      " 29%|██▊       | 114340/400000 [00:10<00:26, 10890.59it/s]\u001b[A\n",
      " 29%|██▉       | 115439/400000 [00:10<00:26, 10918.48it/s]\u001b[A\n",
      " 29%|██▉       | 116532/400000 [00:10<00:26, 10787.36it/s]\u001b[A\n",
      " 29%|██▉       | 117650/400000 [00:11<00:25, 10900.16it/s]\u001b[A\n",
      " 30%|██▉       | 118741/400000 [00:11<00:26, 10812.17it/s]\u001b[A\n",
      " 30%|██▉       | 119823/400000 [00:11<00:26, 10581.27it/s]\u001b[A\n",
      " 30%|███       | 120883/400000 [00:11<00:26, 10512.63it/s]\u001b[A\n",
      " 30%|███       | 121935/400000 [00:11<00:26, 10396.73it/s]\u001b[A\n",
      " 31%|███       | 123018/400000 [00:11<00:26, 10523.12it/s]\u001b[A\n",
      " 31%|███       | 124130/400000 [00:11<00:25, 10697.49it/s]\u001b[A\n",
      " 31%|███▏      | 125242/400000 [00:11<00:25, 10821.33it/s]\u001b[A\n",
      " 32%|███▏      | 126325/400000 [00:11<00:25, 10803.12it/s]\u001b[A\n",
      " 32%|███▏      | 127406/400000 [00:11<00:25, 10761.53it/s]\u001b[A\n",
      " 32%|███▏      | 128526/400000 [00:12<00:24, 10890.45it/s]\u001b[A\n",
      " 32%|███▏      | 129621/400000 [00:12<00:24, 10902.33it/s]\u001b[A\n",
      " 33%|███▎      | 130721/400000 [00:12<00:24, 10929.37it/s]\u001b[A\n",
      " 33%|███▎      | 131816/400000 [00:12<00:24, 10934.64it/s]\u001b[A\n",
      " 33%|███▎      | 132921/400000 [00:12<00:24, 10968.56it/s]\u001b[A\n",
      " 34%|███▎      | 134042/400000 [00:12<00:24, 11039.01it/s]\u001b[A\n",
      " 34%|███▍      | 135148/400000 [00:12<00:23, 11043.94it/s]\u001b[A\n",
      " 34%|███▍      | 136253/400000 [00:12<00:23, 11010.97it/s]\u001b[A\n",
      " 34%|███▍      | 137355/400000 [00:12<00:23, 11008.76it/s]\u001b[A\n",
      " 35%|███▍      | 138456/400000 [00:12<00:23, 10962.14it/s]\u001b[A\n",
      " 35%|███▍      | 139572/400000 [00:13<00:23, 11020.09it/s]\u001b[A\n",
      " 35%|███▌      | 140675/400000 [00:13<00:24, 10721.78it/s]\u001b[A\n",
      " 35%|███▌      | 141749/400000 [00:13<00:24, 10699.20it/s]\u001b[A\n",
      " 36%|███▌      | 142821/400000 [00:13<00:24, 10611.86it/s]\u001b[A\n",
      " 36%|███▌      | 143912/400000 [00:13<00:23, 10698.53it/s]\u001b[A\n",
      " 36%|███▋      | 145017/400000 [00:13<00:23, 10801.62it/s]\u001b[A\n",
      " 37%|███▋      | 146122/400000 [00:13<00:23, 10873.21it/s]\u001b[A\n",
      " 37%|███▋      | 147210/400000 [00:13<00:23, 10860.43it/s]\u001b[A\n",
      " 37%|███▋      | 148344/400000 [00:13<00:22, 11002.09it/s]\u001b[A\n",
      " 37%|███▋      | 149457/400000 [00:13<00:22, 11037.17it/s]\u001b[A\n",
      " 38%|███▊      | 150561/400000 [00:14<00:22, 10952.91it/s]\u001b[A\n",
      " 38%|███▊      | 151657/400000 [00:14<00:22, 10952.73it/s]\u001b[A\n",
      " 38%|███▊      | 152771/400000 [00:14<00:22, 11008.20it/s]\u001b[A\n",
      " 38%|███▊      | 153907/400000 [00:14<00:22, 11110.54it/s]\u001b[A\n",
      " 39%|███▉      | 155019/400000 [00:14<00:22, 11082.12it/s]\u001b[A\n",
      " 39%|███▉      | 156131/400000 [00:14<00:21, 11092.96it/s]\u001b[A\n",
      " 39%|███▉      | 157259/400000 [00:14<00:21, 11147.49it/s]\u001b[A\n",
      " 40%|███▉      | 158376/400000 [00:14<00:21, 11152.22it/s]\u001b[A\n",
      " 40%|███▉      | 159492/400000 [00:14<00:21, 11059.04it/s]\u001b[A\n",
      " 40%|████      | 160599/400000 [00:15<00:21, 10948.70it/s]\u001b[A\n",
      " 40%|████      | 161731/400000 [00:15<00:21, 11054.75it/s]\u001b[A\n",
      " 41%|████      | 162837/400000 [00:15<00:21, 10906.56it/s]\u001b[A\n",
      " 41%|████      | 163929/400000 [00:15<00:21, 10809.28it/s]\u001b[A\n",
      " 41%|████▏     | 165017/400000 [00:15<00:21, 10827.83it/s]\u001b[A\n",
      " 42%|████▏     | 166126/400000 [00:15<00:21, 10904.55it/s]\u001b[A\n",
      " 42%|████▏     | 167217/400000 [00:15<00:21, 10721.04it/s]\u001b[A\n",
      " 42%|████▏     | 168290/400000 [00:15<00:22, 10367.42it/s]\u001b[A\n",
      " 42%|████▏     | 169330/400000 [00:15<00:23, 9969.91it/s] \u001b[A\n",
      " 43%|████▎     | 170438/400000 [00:15<00:22, 10284.07it/s]\u001b[A\n",
      " 43%|████▎     | 171564/400000 [00:16<00:21, 10564.97it/s]\u001b[A\n",
      " 43%|████▎     | 172671/400000 [00:16<00:21, 10709.81it/s]\u001b[A\n",
      " 43%|████▎     | 173746/400000 [00:16<00:21, 10602.03it/s]\u001b[A\n",
      " 44%|████▎     | 174809/400000 [00:16<00:21, 10387.97it/s]\u001b[A\n",
      " 44%|████▍     | 175880/400000 [00:16<00:21, 10479.95it/s]\u001b[A\n",
      " 44%|████▍     | 176979/400000 [00:16<00:20, 10629.42it/s]\u001b[A\n",
      " 45%|████▍     | 178092/400000 [00:16<00:20, 10775.81it/s]\u001b[A\n",
      " 45%|████▍     | 179210/400000 [00:16<00:20, 10893.57it/s]\u001b[A\n",
      " 45%|████▌     | 180336/400000 [00:16<00:19, 11001.43it/s]\u001b[A\n",
      " 45%|████▌     | 181437/400000 [00:16<00:19, 10946.10it/s]\u001b[A\n",
      " 46%|████▌     | 182533/400000 [00:17<00:20, 10804.71it/s]\u001b[A\n",
      " 46%|████▌     | 183615/400000 [00:17<00:20, 10398.40it/s]\u001b[A\n",
      " 46%|████▌     | 184659/400000 [00:17<00:20, 10291.82it/s]\u001b[A\n",
      " 46%|████▋     | 185691/400000 [00:17<00:20, 10263.03it/s]\u001b[A\n",
      " 47%|████▋     | 186719/400000 [00:17<00:20, 10262.32it/s]\u001b[A\n",
      " 47%|████▋     | 187809/400000 [00:17<00:20, 10449.62it/s]\u001b[A\n",
      " 47%|████▋     | 188862/400000 [00:17<00:20, 10472.75it/s]\u001b[A\n",
      " 47%|████▋     | 189957/400000 [00:17<00:19, 10610.95it/s]\u001b[A\n",
      " 48%|████▊     | 191072/400000 [00:17<00:19, 10769.57it/s]\u001b[A\n",
      " 48%|████▊     | 192150/400000 [00:17<00:19, 10739.58it/s]\u001b[A\n",
      " 48%|████▊     | 193238/400000 [00:18<00:19, 10777.38it/s]\u001b[A\n",
      " 49%|████▊     | 194371/400000 [00:18<00:18, 10941.24it/s]\u001b[A\n",
      " 49%|████▉     | 195466/400000 [00:18<00:19, 10553.03it/s]\u001b[A\n",
      " 49%|████▉     | 196570/400000 [00:18<00:19, 10694.29it/s]\u001b[A\n",
      " 49%|████▉     | 197665/400000 [00:18<00:18, 10768.44it/s]\u001b[A\n",
      " 50%|████▉     | 198749/400000 [00:18<00:18, 10788.66it/s]\u001b[A\n",
      " 50%|████▉     | 199873/400000 [00:18<00:18, 10921.38it/s]\u001b[A\n",
      " 50%|█████     | 200993/400000 [00:18<00:18, 11002.70it/s]\u001b[A\n",
      " 51%|█████     | 202122/400000 [00:18<00:17, 11085.43it/s]\u001b[A\n",
      " 51%|█████     | 203232/400000 [00:19<00:18, 10931.09it/s]\u001b[A\n",
      " 51%|█████     | 204334/400000 [00:19<00:17, 10955.45it/s]\u001b[A\n",
      " 51%|█████▏    | 205479/400000 [00:19<00:17, 11100.45it/s]\u001b[A\n",
      " 52%|█████▏    | 206590/400000 [00:19<00:17, 11046.76it/s]\u001b[A\n",
      " 52%|█████▏    | 207696/400000 [00:19<00:17, 11047.10it/s]\u001b[A\n",
      " 52%|█████▏    | 208802/400000 [00:19<00:17, 10986.32it/s]\u001b[A\n",
      " 52%|█████▏    | 209906/400000 [00:19<00:17, 11001.54it/s]\u001b[A\n",
      " 53%|█████▎    | 211025/400000 [00:19<00:17, 11056.95it/s]\u001b[A\n",
      " 53%|█████▎    | 212131/400000 [00:19<00:17, 11017.07it/s]\u001b[A\n",
      " 53%|█████▎    | 213246/400000 [00:19<00:16, 11056.34it/s]\u001b[A\n",
      " 54%|█████▎    | 214352/400000 [00:20<00:16, 11033.43it/s]\u001b[A\n",
      " 54%|█████▍    | 215458/400000 [00:20<00:16, 11040.94it/s]\u001b[A\n",
      " 54%|█████▍    | 216564/400000 [00:20<00:16, 11044.64it/s]\u001b[A\n",
      " 54%|█████▍    | 217678/400000 [00:20<00:16, 11067.06it/s]\u001b[A\n",
      " 55%|█████▍    | 218785/400000 [00:20<00:16, 10976.56it/s]\u001b[A\n",
      " 55%|█████▍    | 219883/400000 [00:20<00:16, 10968.54it/s]\u001b[A\n",
      " 55%|█████▌    | 220980/400000 [00:20<00:16, 10944.28it/s]\u001b[A\n",
      " 56%|█████▌    | 222109/400000 [00:20<00:16, 11047.15it/s]\u001b[A\n",
      " 56%|█████▌    | 223233/400000 [00:20<00:15, 11102.76it/s]\u001b[A\n",
      " 56%|█████▌    | 224353/400000 [00:20<00:15, 11130.60it/s]\u001b[A\n",
      " 56%|█████▋    | 225467/400000 [00:21<00:15, 11024.38it/s]\u001b[A\n",
      " 57%|█████▋    | 226577/400000 [00:21<00:15, 11044.07it/s]\u001b[A\n",
      " 57%|█████▋    | 227698/400000 [00:21<00:15, 11091.16it/s]\u001b[A\n",
      " 57%|█████▋    | 228808/400000 [00:21<00:15, 10883.52it/s]\u001b[A\n",
      " 57%|█████▋    | 229898/400000 [00:21<00:15, 10763.42it/s]\u001b[A\n",
      " 58%|█████▊    | 230976/400000 [00:21<00:15, 10765.89it/s]\u001b[A\n",
      " 58%|█████▊    | 232089/400000 [00:21<00:15, 10873.16it/s]\u001b[A\n",
      " 58%|█████▊    | 233177/400000 [00:21<00:15, 10873.47it/s]\u001b[A\n",
      " 59%|█████▊    | 234290/400000 [00:21<00:15, 10947.14it/s]\u001b[A\n",
      " 59%|█████▉    | 235415/400000 [00:21<00:14, 11034.64it/s]\u001b[A\n",
      " 59%|█████▉    | 236537/400000 [00:22<00:14, 11087.92it/s]\u001b[A\n",
      " 59%|█████▉    | 237646/400000 [00:22<00:14, 11007.69it/s]\u001b[A\n",
      " 60%|█████▉    | 238754/400000 [00:22<00:14, 11026.58it/s]\u001b[A\n",
      " 60%|█████▉    | 239876/400000 [00:22<00:14, 11080.07it/s]\u001b[A\n",
      " 60%|██████    | 241005/400000 [00:22<00:14, 11142.07it/s]\u001b[A\n",
      " 61%|██████    | 242120/400000 [00:22<00:14, 11003.41it/s]\u001b[A\n",
      " 61%|██████    | 243221/400000 [00:22<00:14, 10911.66it/s]\u001b[A\n",
      " 61%|██████    | 244344/400000 [00:22<00:14, 11004.69it/s]\u001b[A\n",
      " 61%|██████▏   | 245451/400000 [00:22<00:14, 11021.52it/s]\u001b[A\n",
      " 62%|██████▏   | 246554/400000 [00:22<00:14, 10957.87it/s]\u001b[A\n",
      " 62%|██████▏   | 247651/400000 [00:23<00:13, 10923.60it/s]\u001b[A\n",
      " 62%|██████▏   | 248744/400000 [00:23<00:14, 10265.19it/s]\u001b[A\n",
      " 62%|██████▏   | 249779/400000 [00:23<00:15, 10003.78it/s]\u001b[A\n",
      " 63%|██████▎   | 250904/400000 [00:23<00:14, 10355.78it/s]\u001b[A\n",
      " 63%|██████▎   | 251997/400000 [00:23<00:14, 10519.76it/s]\u001b[A\n",
      " 63%|██████▎   | 253100/400000 [00:23<00:13, 10667.79it/s]\u001b[A\n",
      " 64%|██████▎   | 254221/400000 [00:23<00:13, 10826.36it/s]\u001b[A\n",
      " 64%|██████▍   | 255347/400000 [00:23<00:13, 10953.87it/s]\u001b[A\n",
      " 64%|██████▍   | 256451/400000 [00:23<00:13, 10978.99it/s]\u001b[A\n",
      " 64%|██████▍   | 257551/400000 [00:23<00:13, 10868.63it/s]\u001b[A\n",
      " 65%|██████▍   | 258640/400000 [00:24<00:13, 10812.90it/s]\u001b[A\n",
      " 65%|██████▍   | 259741/400000 [00:24<00:12, 10870.16it/s]\u001b[A\n",
      " 65%|██████▌   | 260829/400000 [00:24<00:12, 10841.08it/s]\u001b[A\n",
      " 65%|██████▌   | 261932/400000 [00:24<00:12, 10895.07it/s]\u001b[A\n",
      " 66%|██████▌   | 263026/400000 [00:24<00:12, 10907.08it/s]\u001b[A\n",
      " 66%|██████▌   | 264117/400000 [00:24<00:12, 10756.74it/s]\u001b[A\n",
      " 66%|██████▋   | 265231/400000 [00:24<00:12, 10868.51it/s]\u001b[A\n",
      " 67%|██████▋   | 266363/400000 [00:24<00:12, 11001.56it/s]\u001b[A\n",
      " 67%|██████▋   | 267472/400000 [00:24<00:12, 11026.20it/s]\u001b[A\n",
      " 67%|██████▋   | 268575/400000 [00:24<00:12, 10933.59it/s]\u001b[A\n",
      " 67%|██████▋   | 269669/400000 [00:25<00:11, 10915.93it/s]\u001b[A\n",
      " 68%|██████▊   | 270770/400000 [00:25<00:11, 10941.73it/s]\u001b[A\n",
      " 68%|██████▊   | 271865/400000 [00:25<00:11, 10817.08it/s]\u001b[A\n",
      " 68%|██████▊   | 272948/400000 [00:25<00:11, 10711.58it/s]\u001b[A\n",
      " 69%|██████▊   | 274020/400000 [00:25<00:11, 10676.19it/s]\u001b[A\n",
      " 69%|██████▉   | 275088/400000 [00:25<00:11, 10441.55it/s]\u001b[A\n",
      " 69%|██████▉   | 276142/400000 [00:25<00:11, 10468.01it/s]\u001b[A\n",
      " 69%|██████▉   | 277190/400000 [00:25<00:12, 9811.70it/s] \u001b[A\n",
      " 70%|██████▉   | 278302/400000 [00:25<00:11, 10181.33it/s]\u001b[A\n",
      " 70%|██████▉   | 279382/400000 [00:26<00:11, 10357.31it/s]\u001b[A\n",
      " 70%|███████   | 280493/400000 [00:26<00:11, 10574.58it/s]\u001b[A\n",
      " 70%|███████   | 281599/400000 [00:26<00:11, 10716.30it/s]\u001b[A\n",
      " 71%|███████   | 282699/400000 [00:26<00:10, 10799.72it/s]\u001b[A\n",
      " 71%|███████   | 283842/400000 [00:26<00:10, 10986.56it/s]\u001b[A\n",
      " 71%|███████   | 284943/400000 [00:26<00:10, 10985.82it/s]\u001b[A\n",
      " 72%|███████▏  | 286068/400000 [00:26<00:10, 11063.50it/s]\u001b[A\n",
      " 72%|███████▏  | 287191/400000 [00:26<00:10, 11111.29it/s]\u001b[A\n",
      " 72%|███████▏  | 288303/400000 [00:26<00:10, 10842.95it/s]\u001b[A\n",
      " 72%|███████▏  | 289390/400000 [00:26<00:10, 10769.59it/s]\u001b[A\n",
      " 73%|███████▎  | 290469/400000 [00:27<00:10, 10649.06it/s]\u001b[A\n",
      " 73%|███████▎  | 291566/400000 [00:27<00:10, 10742.45it/s]\u001b[A\n",
      " 73%|███████▎  | 292663/400000 [00:27<00:09, 10809.47it/s]\u001b[A\n",
      " 73%|███████▎  | 293768/400000 [00:27<00:09, 10879.77it/s]\u001b[A\n",
      " 74%|███████▎  | 294873/400000 [00:27<00:09, 10928.06it/s]\u001b[A\n",
      " 74%|███████▍  | 296004/400000 [00:27<00:09, 11040.22it/s]\u001b[A\n",
      " 74%|███████▍  | 297109/400000 [00:27<00:09, 10948.58it/s]\u001b[A\n",
      " 75%|███████▍  | 298205/400000 [00:27<00:09, 10864.59it/s]\u001b[A\n",
      " 75%|███████▍  | 299325/400000 [00:27<00:09, 10962.16it/s]\u001b[A\n",
      " 75%|███████▌  | 300453/400000 [00:27<00:09, 11054.17it/s]\u001b[A\n",
      " 75%|███████▌  | 301559/400000 [00:28<00:09, 10926.96it/s]\u001b[A\n",
      " 76%|███████▌  | 302653/400000 [00:28<00:08, 10904.42it/s]\u001b[A\n",
      " 76%|███████▌  | 303790/400000 [00:28<00:08, 11040.30it/s]\u001b[A\n",
      " 76%|███████▌  | 304907/400000 [00:28<00:08, 11077.92it/s]\u001b[A\n",
      " 77%|███████▋  | 306033/400000 [00:28<00:08, 11129.90it/s]\u001b[A\n",
      " 77%|███████▋  | 307147/400000 [00:28<00:08, 11098.09it/s]\u001b[A\n",
      " 77%|███████▋  | 308257/400000 [00:28<00:08, 11054.94it/s]\u001b[A\n",
      " 77%|███████▋  | 309392/400000 [00:28<00:08, 11142.00it/s]\u001b[A\n",
      " 78%|███████▊  | 310507/400000 [00:28<00:08, 10995.47it/s]\u001b[A\n",
      " 78%|███████▊  | 311608/400000 [00:28<00:08, 10801.78it/s]\u001b[A\n",
      " 78%|███████▊  | 312690/400000 [00:29<00:08, 10634.21it/s]\u001b[A\n",
      " 78%|███████▊  | 313755/400000 [00:29<00:08, 10585.74it/s]\u001b[A\n",
      " 79%|███████▊  | 314815/400000 [00:29<00:08, 10494.63it/s]\u001b[A\n",
      " 79%|███████▉  | 315865/400000 [00:29<00:09, 9323.81it/s] \u001b[A\n",
      " 79%|███████▉  | 316821/400000 [00:29<00:09, 8659.57it/s]\u001b[A\n",
      " 79%|███████▉  | 317852/400000 [00:29<00:09, 9093.45it/s]\u001b[A\n",
      " 80%|███████▉  | 318848/400000 [00:29<00:08, 9327.06it/s]\u001b[A\n",
      " 80%|███████▉  | 319798/400000 [00:29<00:08, 9315.60it/s]\u001b[A\n",
      " 80%|████████  | 320765/400000 [00:29<00:08, 9416.17it/s]\u001b[A\n",
      " 80%|████████  | 321798/400000 [00:30<00:08, 9678.86it/s]\u001b[A\n",
      " 81%|████████  | 322895/400000 [00:30<00:07, 10055.95it/s]\u001b[A\n",
      " 81%|████████  | 323964/400000 [00:30<00:07, 10242.28it/s]\u001b[A\n",
      " 81%|████████  | 324993/400000 [00:30<00:07, 10099.73it/s]\u001b[A\n",
      " 82%|████████▏ | 326070/400000 [00:30<00:07, 10293.66it/s]\u001b[A\n",
      " 82%|████████▏ | 327103/400000 [00:30<00:07, 10285.26it/s]\u001b[A\n",
      " 82%|████████▏ | 328207/400000 [00:30<00:06, 10508.86it/s]\u001b[A\n",
      " 82%|████████▏ | 329260/400000 [00:30<00:06, 10128.16it/s]\u001b[A\n",
      " 83%|████████▎ | 330328/400000 [00:30<00:06, 10286.55it/s]\u001b[A\n",
      " 83%|████████▎ | 331401/400000 [00:30<00:06, 10414.63it/s]\u001b[A\n",
      " 83%|████████▎ | 332519/400000 [00:31<00:06, 10638.73it/s]\u001b[A\n",
      " 83%|████████▎ | 333627/400000 [00:31<00:06, 10768.87it/s]\u001b[A\n",
      " 84%|████████▎ | 334706/400000 [00:31<00:06, 10615.62it/s]\u001b[A\n",
      " 84%|████████▍ | 335787/400000 [00:31<00:06, 10671.33it/s]\u001b[A\n",
      " 84%|████████▍ | 336908/400000 [00:31<00:05, 10830.30it/s]\u001b[A\n",
      " 85%|████████▍ | 338006/400000 [00:31<00:05, 10873.13it/s]\u001b[A\n",
      " 85%|████████▍ | 339104/400000 [00:31<00:05, 10903.36it/s]\u001b[A\n",
      " 85%|████████▌ | 340204/400000 [00:31<00:05, 10929.25it/s]\u001b[A\n",
      " 85%|████████▌ | 341314/400000 [00:31<00:05, 10976.29it/s]\u001b[A\n",
      " 86%|████████▌ | 342412/400000 [00:31<00:05, 10947.96it/s]\u001b[A\n",
      " 86%|████████▌ | 343508/400000 [00:32<00:05, 10940.51it/s]\u001b[A\n",
      " 86%|████████▌ | 344603/400000 [00:32<00:05, 10927.10it/s]\u001b[A\n",
      " 86%|████████▋ | 345699/400000 [00:32<00:04, 10933.63it/s]\u001b[A\n",
      " 87%|████████▋ | 346804/400000 [00:32<00:04, 10966.49it/s]\u001b[A\n",
      " 87%|████████▋ | 347930/400000 [00:32<00:04, 11053.61it/s]\u001b[A\n",
      " 87%|████████▋ | 349036/400000 [00:32<00:04, 10993.94it/s]\u001b[A\n",
      " 88%|████████▊ | 350136/400000 [00:32<00:04, 10969.94it/s]\u001b[A\n",
      " 88%|████████▊ | 351234/400000 [00:32<00:04, 10943.76it/s]\u001b[A\n",
      " 88%|████████▊ | 352329/400000 [00:32<00:04, 10941.06it/s]\u001b[A\n",
      " 88%|████████▊ | 353424/400000 [00:32<00:04, 10805.19it/s]\u001b[A\n",
      " 89%|████████▊ | 354518/400000 [00:33<00:04, 10842.36it/s]\u001b[A\n",
      " 89%|████████▉ | 355624/400000 [00:33<00:04, 10906.83it/s]\u001b[A\n",
      " 89%|████████▉ | 356715/400000 [00:33<00:03, 10890.35it/s]\u001b[A\n",
      " 89%|████████▉ | 357805/400000 [00:33<00:03, 10872.88it/s]\u001b[A\n",
      " 90%|████████▉ | 358894/400000 [00:33<00:03, 10876.73it/s]\u001b[A\n",
      " 90%|█████████ | 360022/400000 [00:33<00:03, 10995.26it/s]\u001b[A\n",
      " 90%|█████████ | 361139/400000 [00:33<00:03, 11044.23it/s]\u001b[A\n",
      " 91%|█████████ | 362244/400000 [00:33<00:03, 10964.18it/s]\u001b[A\n",
      " 91%|█████████ | 363342/400000 [00:33<00:03, 10966.28it/s]\u001b[A\n",
      " 91%|█████████ | 364439/400000 [00:34<00:03, 10620.37it/s]\u001b[A\n",
      " 91%|█████████▏| 365525/400000 [00:34<00:03, 10688.80it/s]\u001b[A\n",
      " 92%|█████████▏| 366628/400000 [00:34<00:03, 10788.03it/s]\u001b[A\n",
      " 92%|█████████▏| 367744/400000 [00:34<00:02, 10897.89it/s]\u001b[A\n",
      " 92%|█████████▏| 368839/400000 [00:34<00:02, 10912.47it/s]\u001b[A\n",
      " 92%|█████████▏| 369932/400000 [00:34<00:02, 10838.71it/s]\u001b[A\n",
      " 93%|█████████▎| 371037/400000 [00:34<00:02, 10898.84it/s]\u001b[A\n",
      " 93%|█████████▎| 372138/400000 [00:34<00:02, 10930.91it/s]\u001b[A\n",
      " 93%|█████████▎| 373232/400000 [00:34<00:02, 10828.20it/s]\u001b[A\n",
      " 94%|█████████▎| 374335/400000 [00:34<00:02, 10886.56it/s]\u001b[A\n",
      " 94%|█████████▍| 375425/400000 [00:35<00:02, 10759.99it/s]\u001b[A\n",
      " 94%|█████████▍| 376535/400000 [00:35<00:02, 10857.81it/s]\u001b[A\n",
      " 94%|█████████▍| 377622/400000 [00:35<00:02, 10755.09it/s]\u001b[A\n",
      " 95%|█████████▍| 378698/400000 [00:35<00:02, 10621.23it/s]\u001b[A\n",
      " 95%|█████████▍| 379777/400000 [00:35<00:01, 10669.87it/s]\u001b[A\n",
      " 95%|█████████▌| 380877/400000 [00:35<00:01, 10765.50it/s]\u001b[A\n",
      " 95%|█████████▌| 381955/400000 [00:35<00:01, 10633.55it/s]\u001b[A\n",
      " 96%|█████████▌| 383019/400000 [00:35<00:01, 10324.92it/s]\u001b[A\n",
      " 96%|█████████▌| 384054/400000 [00:35<00:01, 9864.38it/s] \u001b[A\n",
      " 96%|█████████▋| 385141/400000 [00:35<00:01, 10147.29it/s]\u001b[A\n",
      " 97%|█████████▋| 386161/400000 [00:36<00:01, 10143.88it/s]\u001b[A\n",
      " 97%|█████████▋| 387210/400000 [00:36<00:01, 10242.91it/s]\u001b[A\n",
      " 97%|█████████▋| 388284/400000 [00:36<00:01, 10387.18it/s]\u001b[A\n",
      " 97%|█████████▋| 389410/400000 [00:36<00:00, 10643.46it/s]\u001b[A\n",
      " 98%|█████████▊| 390504/400000 [00:36<00:00, 10730.67it/s]\u001b[A\n",
      " 98%|█████████▊| 391591/400000 [00:36<00:00, 10771.09it/s]\u001b[A\n",
      " 98%|█████████▊| 392670/400000 [00:36<00:00, 9904.11it/s] \u001b[A\n",
      " 98%|█████████▊| 393773/400000 [00:36<00:00, 10219.75it/s]\u001b[A\n",
      " 99%|█████████▊| 394900/400000 [00:36<00:00, 10519.72it/s]\u001b[A\n",
      " 99%|█████████▉| 395997/400000 [00:36<00:00, 10649.20it/s]\u001b[A\n",
      " 99%|█████████▉| 397070/400000 [00:37<00:00, 10651.82it/s]\u001b[A\n",
      "100%|█████████▉| 398167/400000 [00:37<00:00, 10743.97it/s]\u001b[A\n",
      "100%|██████████| 400000/400000 [00:37<00:00, 10709.81it/s]\u001b[A\n"
     ]
    },
    {
     "name": "stdout",
     "output_type": "stream",
     "text": [
      "Nllb tokens set len: 256000\n",
      "<pad> not in nllb tokens set?\n",
      "This is UNEXPECTED BEHAVIOR that cause to BREAK tokenizer\n",
      "We have hotfix to just skip, but IT IS BAD if you are seeing this\n",
      "Old tokenizer length: 256204\n",
      "New tokenizer length: 268478\n",
      "Code of `tat_Cyrl`: 268447\n",
      "Code of `<mask>`: 268275\n",
      "Decoded `tat_Cyrl` and `<mask>`: ['tat_Cyrl', '<mask>']\n"
     ]
    }
   ],
   "source": [
    "from scripts.helpers.tokenizer_manager import add_new_full_language, initialize_new_model_emb\n",
    "\n",
    "tokenizer = add_new_full_language(\n",
    "    model_name=nllb_model, \n",
    "    data=df if update_tokenizer else None,\n",
    "    lang=lang, \n",
    "    add_token_lang=add_token_lang\n",
    ")"
   ]
  },
  {
   "cell_type": "code",
   "execution_count": 10,
   "metadata": {
    "execution": {
     "iopub.execute_input": "2025-03-15T12:32:56.866469Z",
     "iopub.status.busy": "2025-03-15T12:32:56.866186Z",
     "iopub.status.idle": "2025-03-15T12:32:57.512035Z",
     "shell.execute_reply": "2025-03-15T12:32:57.510801Z",
     "shell.execute_reply.started": "2025-03-15T12:32:56.866445Z"
    }
   },
   "outputs": [
    {
     "name": "stdout",
     "output_type": "stream",
     "text": [
      "Sanity check that tokenizer is continious\n",
      "Skipped indexes: set()\n",
      "All good?  yes\n"
     ]
    }
   ],
   "source": [
    "print('Sanity check that tokenizer is continious')\n",
    "indexes = set(list(range(len(tokenizer))))\n",
    "for k, v in tokenizer.get_vocab().items():\n",
    "    if v not in indexes:\n",
    "        print('not:', k, v)\n",
    "    else:\n",
    "        indexes -= {v}\n",
    "print('Skipped indexes:', indexes)\n",
    "print('All good? ', 'no!' if indexes else 'yes')\n",
    "if indexes:\n",
    "    raise ValueError('YOU TOKENIZER IS NOT CONTINIOUS, PLEASE FIX IT')"
   ]
  },
  {
   "cell_type": "code",
   "execution_count": 12,
   "metadata": {
    "execution": {
     "iopub.execute_input": "2025-03-15T12:33:10.496685Z",
     "iopub.status.busy": "2025-03-15T12:33:10.496213Z",
     "iopub.status.idle": "2025-03-15T12:33:42.196972Z",
     "shell.execute_reply": "2025-03-15T12:33:42.195942Z",
     "shell.execute_reply.started": "2025-03-15T12:33:10.496637Z"
    }
   },
   "outputs": [
    {
     "name": "stderr",
     "output_type": "stream",
     "text": [
      "The new embeddings will be initialized from a multivariate normal distribution that has old embeddings' mean and covariance. As described in this article: https://nlp.stanford.edu/~johnhew/vocab-expansion.html. To disable this, use `mean_resizing=False`\n"
     ]
    },
    {
     "name": "stdout",
     "output_type": "stream",
     "text": [
      "Amount of moved tokens: 203 ['tso_Latn', 'lij_Latn', 'tzm_Tfng', 'ars_Arab', 'pes_Arab', 'hrv_Latn', 'lmo_Latn', 'pbt_Arab', 'kbp_Latn', 'zul_Latn']\n",
      "Previous tokenizer length: 256204\n",
      "New tokenizer length: 268478\n",
      "Ids of new tokens: min [256001], max [268274], mean [262137]\n",
      "Amount of new tokens: 12274\n",
      "['▁лоббистлар', '▁ителеше', '▁кайдадыр', '▁Новости', 'Мәдәният', '▁күзәт', '▁уйламый', '▁труппа', 'экс', '▁фаразлаган', '▁кайтачак', 'Ил', 'Коммерция', '▁бәхәс', '▁вазифасыннан']\n"
     ]
    },
    {
     "name": "stderr",
     "output_type": "stream",
     "text": [
      "100%|██████████| 12274/12274 [00:03<00:00, 3477.34it/s]\n"
     ]
    }
   ],
   "source": [
    "# swap tokenizer to new one\n",
    "model.tokenizer = tokenizer\n",
    "initialize_new_model_emb(\n",
    "    model_name=nllb_model, \n",
    "    model=model.model, \n",
    "    tokenizer=model.tokenizer, \n",
    "    lang=lang, \n",
    "    similar_lang=lang_to_simmilar_lang_map.get(lang, lang),\n",
    ")"
   ]
  },
  {
   "cell_type": "code",
   "execution_count": 13,
   "metadata": {
    "execution": {
     "iopub.execute_input": "2025-03-15T12:33:49.492176Z",
     "iopub.status.busy": "2025-03-15T12:33:49.491795Z",
     "iopub.status.idle": "2025-03-15T12:33:50.788109Z",
     "shell.execute_reply": "2025-03-15T12:33:50.787278Z",
     "shell.execute_reply.started": "2025-03-15T12:33:49.492143Z"
    }
   },
   "outputs": [
    {
     "data": {
      "text/plain": [
       "['', 'a a a a a a']"
      ]
     },
     "execution_count": 13,
     "metadata": {},
     "output_type": "execute_result"
    }
   ],
   "source": [
    "# check again everything is normal\n",
    "model.translate_batch(['Счастливые лисички прыгают прыг скок', 'раз два три!'], 'ru', lang)"
   ]
  },
  {
   "cell_type": "code",
   "execution_count": 14,
   "metadata": {
    "execution": {
     "iopub.execute_input": "2025-03-15T12:34:00.373186Z",
     "iopub.status.busy": "2025-03-15T12:34:00.372845Z",
     "iopub.status.idle": "2025-03-15T12:34:23.736835Z",
     "shell.execute_reply": "2025-03-15T12:34:23.735458Z",
     "shell.execute_reply.started": "2025-03-15T12:34:00.373159Z"
    }
   },
   "outputs": [
    {
     "data": {
      "application/vnd.jupyter.widget-view+json": {
       "model_id": "798d3bf9fe5744c7b6217d0c66522c7d",
       "version_major": 2,
       "version_minor": 0
      },
      "text/plain": [
       "  0%|          | 0/100000 [00:00<?, ?it/s]"
      ]
     },
     "metadata": {},
     "output_type": "display_data"
    },
    {
     "name": "stdout",
     "output_type": "stream",
     "text": [
      "0 4.96875\n"
     ]
    },
    {
     "name": "stderr",
     "output_type": "stream",
     "text": [
      "/usr/local/lib/python3.10/dist-packages/transformers/modeling_utils.py:2810: UserWarning: Moving the following attributes in the config to the generation config: {'max_length': 200}. You are seeing this warning because you've set generation parameters in the model config, as opposed to in the generation config.\n",
      "  warnings.warn(\n"
     ]
    },
    {
     "ename": "KeyboardInterrupt",
     "evalue": "",
     "output_type": "error",
     "traceback": [
      "\u001b[0;31m---------------------------------------------------------------------------\u001b[0m",
      "\u001b[0;31mKeyboardInterrupt\u001b[0m                         Traceback (most recent call last)",
      "\u001b[0;32m<ipython-input-14-3621d1fdc38c>\u001b[0m in \u001b[0;36m<cell line: 1>\u001b[0;34m()\u001b[0m\n\u001b[0;32m----> 1\u001b[0;31m model.train(\n\u001b[0m\u001b[1;32m      2\u001b[0m     \u001b[0mexperiment_name\u001b[0m\u001b[0;34m=\u001b[0m\u001b[0;34mf'ru-{lang}.{\"both_directions\" if learn_both_direction else \"single_direction\"}.{ds.name}.nllb.{\"no_upd_tokenizer\" if update_tokenizer else \"upd_tokenizer\"}.test'\u001b[0m\u001b[0;34m,\u001b[0m\u001b[0;34m\u001b[0m\u001b[0;34m\u001b[0m\u001b[0m\n\u001b[1;32m      3\u001b[0m     \u001b[0mdata\u001b[0m\u001b[0;34m=\u001b[0m\u001b[0mdf\u001b[0m\u001b[0;34m,\u001b[0m\u001b[0;34m\u001b[0m\u001b[0;34m\u001b[0m\u001b[0m\n\u001b[1;32m      4\u001b[0m     \u001b[0msrc_lang\u001b[0m\u001b[0;34m=\u001b[0m\u001b[0;34m'rus'\u001b[0m\u001b[0;34m,\u001b[0m\u001b[0;34m\u001b[0m\u001b[0;34m\u001b[0m\u001b[0m\n\u001b[1;32m      5\u001b[0m     \u001b[0mdst_lang\u001b[0m\u001b[0;34m=\u001b[0m\u001b[0mlang\u001b[0m\u001b[0;34m,\u001b[0m\u001b[0;34m\u001b[0m\u001b[0;34m\u001b[0m\u001b[0m\n",
      "\u001b[0;32m/kaggle/working/MT-vocab-tuning/scripts/helpers/model_manager.py\u001b[0m in \u001b[0;36mtrain\u001b[0;34m(self, data, src_lang, dst_lang, experiment_name, ya_client, batch_size, max_length, training_steps, save_every, learn_both_direction, yadisk_dir, ttl, lr, clip_threshold, weight_decay, num_warmup_steps)\u001b[0m\n\u001b[1;32m    176\u001b[0m                         \u001b[0mya_client\u001b[0m\u001b[0;34m.\u001b[0m\u001b[0mmkdir\u001b[0m\u001b[0;34m(\u001b[0m\u001b[0;34mf\"{yadisk_dir}/{experiment_name}/tokenizer.sft.{src_lang}_{dst_lang}.{i}\"\u001b[0m\u001b[0;34m)\u001b[0m\u001b[0;34m\u001b[0m\u001b[0;34m\u001b[0m\u001b[0m\n\u001b[1;32m    177\u001b[0m \u001b[0;34m\u001b[0m\u001b[0m\n\u001b[0;32m--> 178\u001b[0;31m                         \u001b[0mrecursive_upload\u001b[0m\u001b[0;34m(\u001b[0m\u001b[0mya_client\u001b[0m\u001b[0;34m,\u001b[0m \u001b[0;34mf\"model.sft.{src_lang}_{dst_lang}.{i}\"\u001b[0m\u001b[0;34m,\u001b[0m \u001b[0;34mf\"{yadisk_dir}/{experiment_name}/model.sft.{src_lang}_{dst_lang}.{i}\"\u001b[0m\u001b[0;34m)\u001b[0m\u001b[0;34m\u001b[0m\u001b[0;34m\u001b[0m\u001b[0m\n\u001b[0m\u001b[1;32m    179\u001b[0m                         \u001b[0mrecursive_upload\u001b[0m\u001b[0;34m(\u001b[0m\u001b[0mya_client\u001b[0m\u001b[0;34m,\u001b[0m \u001b[0;34mf\"tokenizer.sft.{src_lang}_{dst_lang}.{i}\"\u001b[0m\u001b[0;34m,\u001b[0m \u001b[0;34mf\"{yadisk_dir}/{experiment_name}/tokenizer.sft.{src_lang}_{dst_lang}.{i}\"\u001b[0m\u001b[0;34m)\u001b[0m\u001b[0;34m\u001b[0m\u001b[0;34m\u001b[0m\u001b[0m\n\u001b[1;32m    180\u001b[0m \u001b[0;34m\u001b[0m\u001b[0m\n",
      "\u001b[0;32m/kaggle/working/MT-vocab-tuning/scripts/helpers/yadisk_manager.py\u001b[0m in \u001b[0;36mrecursive_upload\u001b[0;34m(client, from_dir, to_dir)\u001b[0m\n\u001b[1;32m     21\u001b[0m \u001b[0;34m\u001b[0m\u001b[0m\n\u001b[1;32m     22\u001b[0m             \u001b[0;32mtry\u001b[0m\u001b[0;34m:\u001b[0m\u001b[0;34m\u001b[0m\u001b[0;34m\u001b[0m\u001b[0m\n\u001b[0;32m---> 23\u001b[0;31m                 \u001b[0mclient\u001b[0m\u001b[0;34m.\u001b[0m\u001b[0mupload\u001b[0m\u001b[0;34m(\u001b[0m\u001b[0min_path\u001b[0m\u001b[0;34m,\u001b[0m \u001b[0mfile_path\u001b[0m\u001b[0;34m)\u001b[0m\u001b[0;34m\u001b[0m\u001b[0;34m\u001b[0m\u001b[0m\n\u001b[0m\u001b[1;32m     24\u001b[0m             \u001b[0;32mexcept\u001b[0m \u001b[0myadisk\u001b[0m\u001b[0;34m.\u001b[0m\u001b[0mexceptions\u001b[0m\u001b[0;34m.\u001b[0m\u001b[0mPathExistsError\u001b[0m\u001b[0;34m:\u001b[0m\u001b[0;34m\u001b[0m\u001b[0;34m\u001b[0m\u001b[0m\n\u001b[1;32m     25\u001b[0m                 \u001b[0;32mpass\u001b[0m\u001b[0;34m\u001b[0m\u001b[0;34m\u001b[0m\u001b[0m\n",
      "\u001b[0;32m/usr/local/lib/python3.10/dist-packages/yadisk/_client.py\u001b[0m in \u001b[0;36mupload\u001b[0;34m(self, file_or_path, dst_path, **kwargs)\u001b[0m\n\u001b[1;32m   1100\u001b[0m         \u001b[0m_apply_default_args\u001b[0m\u001b[0;34m(\u001b[0m\u001b[0mkwargs\u001b[0m\u001b[0;34m,\u001b[0m \u001b[0mself\u001b[0m\u001b[0;34m.\u001b[0m\u001b[0mdefault_args\u001b[0m\u001b[0;34m)\u001b[0m\u001b[0;34m\u001b[0m\u001b[0;34m\u001b[0m\u001b[0m\n\u001b[1;32m   1101\u001b[0m \u001b[0;34m\u001b[0m\u001b[0m\n\u001b[0;32m-> 1102\u001b[0;31m         \u001b[0mself\u001b[0m\u001b[0;34m.\u001b[0m\u001b[0m_upload\u001b[0m\u001b[0;34m(\u001b[0m\u001b[0mself\u001b[0m\u001b[0;34m.\u001b[0m\u001b[0mget_upload_link\u001b[0m\u001b[0;34m,\u001b[0m \u001b[0mfile_or_path\u001b[0m\u001b[0;34m,\u001b[0m \u001b[0mdst_path\u001b[0m\u001b[0;34m,\u001b[0m \u001b[0;34m**\u001b[0m\u001b[0mkwargs\u001b[0m\u001b[0;34m)\u001b[0m\u001b[0;34m\u001b[0m\u001b[0;34m\u001b[0m\u001b[0m\n\u001b[0m\u001b[1;32m   1103\u001b[0m \u001b[0;34m\u001b[0m\u001b[0m\n\u001b[1;32m   1104\u001b[0m         \u001b[0;32mreturn\u001b[0m \u001b[0mSyncResourceLinkObject\u001b[0m\u001b[0;34m.\u001b[0m\u001b[0mfrom_path\u001b[0m\u001b[0;34m(\u001b[0m\u001b[0mdst_path\u001b[0m\u001b[0;34m,\u001b[0m \u001b[0myadisk\u001b[0m\u001b[0;34m=\u001b[0m\u001b[0mself\u001b[0m\u001b[0;34m)\u001b[0m\u001b[0;34m\u001b[0m\u001b[0;34m\u001b[0m\u001b[0m\n",
      "\u001b[0;32m/usr/local/lib/python3.10/dist-packages/yadisk/_client.py\u001b[0m in \u001b[0;36m_upload\u001b[0;34m(self, get_upload_link_function, file_or_path, dst_path, **kwargs)\u001b[0m\n\u001b[1;32m   1058\u001b[0m                         \u001b[0;32mraise\u001b[0m \u001b[0mresponse\u001b[0m\u001b[0;34m.\u001b[0m\u001b[0mget_exception\u001b[0m\u001b[0;34m(\u001b[0m\u001b[0;34m)\u001b[0m\u001b[0;34m\u001b[0m\u001b[0;34m\u001b[0m\u001b[0m\n\u001b[1;32m   1059\u001b[0m \u001b[0;34m\u001b[0m\u001b[0m\n\u001b[0;32m-> 1060\u001b[0;31m             \u001b[0mauto_retry\u001b[0m\u001b[0;34m(\u001b[0m\u001b[0mattempt\u001b[0m\u001b[0;34m,\u001b[0m \u001b[0mn_retries\u001b[0m\u001b[0;34m,\u001b[0m \u001b[0mretry_interval\u001b[0m\u001b[0;34m)\u001b[0m\u001b[0;34m\u001b[0m\u001b[0;34m\u001b[0m\u001b[0m\n\u001b[0m\u001b[1;32m   1061\u001b[0m         \u001b[0;32mfinally\u001b[0m\u001b[0;34m:\u001b[0m\u001b[0;34m\u001b[0m\u001b[0;34m\u001b[0m\u001b[0m\n\u001b[1;32m   1062\u001b[0m             \u001b[0;32mif\u001b[0m \u001b[0mclose_file\u001b[0m \u001b[0;32mand\u001b[0m \u001b[0mfile\u001b[0m \u001b[0;32mis\u001b[0m \u001b[0;32mnot\u001b[0m \u001b[0;32mNone\u001b[0m\u001b[0;34m:\u001b[0m\u001b[0;34m\u001b[0m\u001b[0;34m\u001b[0m\u001b[0m\n",
      "\u001b[0;32m/usr/local/lib/python3.10/dist-packages/yadisk/utils.py\u001b[0m in \u001b[0;36mauto_retry\u001b[0;34m(func, n_retries, retry_interval, args, kwargs, retry_on)\u001b[0m\n\u001b[1;32m    165\u001b[0m     \u001b[0;32mfor\u001b[0m \u001b[0mi\u001b[0m \u001b[0;32min\u001b[0m \u001b[0mrange\u001b[0m\u001b[0;34m(\u001b[0m\u001b[0mn_retries\u001b[0m \u001b[0;34m+\u001b[0m \u001b[0;36m1\u001b[0m\u001b[0;34m)\u001b[0m\u001b[0;34m:\u001b[0m\u001b[0;34m\u001b[0m\u001b[0;34m\u001b[0m\u001b[0m\n\u001b[1;32m    166\u001b[0m         \u001b[0;32mtry\u001b[0m\u001b[0;34m:\u001b[0m\u001b[0;34m\u001b[0m\u001b[0;34m\u001b[0m\u001b[0m\n\u001b[0;32m--> 167\u001b[0;31m             \u001b[0;32mreturn\u001b[0m \u001b[0mfunc\u001b[0m\u001b[0;34m(\u001b[0m\u001b[0;34m*\u001b[0m\u001b[0margs\u001b[0m\u001b[0;34m,\u001b[0m \u001b[0;34m**\u001b[0m\u001b[0mkwargs\u001b[0m\u001b[0;34m)\u001b[0m\u001b[0;34m\u001b[0m\u001b[0;34m\u001b[0m\u001b[0m\n\u001b[0m\u001b[1;32m    168\u001b[0m         \u001b[0;32mexcept\u001b[0m \u001b[0mexceptions\u001b[0m \u001b[0;32mas\u001b[0m \u001b[0me\u001b[0m\u001b[0;34m:\u001b[0m\u001b[0;34m\u001b[0m\u001b[0;34m\u001b[0m\u001b[0m\n\u001b[1;32m    169\u001b[0m             \u001b[0;32mif\u001b[0m \u001b[0mi\u001b[0m \u001b[0;34m==\u001b[0m \u001b[0mn_retries\u001b[0m \u001b[0;32mor\u001b[0m \u001b[0;34m(\u001b[0m\u001b[0misinstance\u001b[0m\u001b[0;34m(\u001b[0m\u001b[0me\u001b[0m\u001b[0;34m,\u001b[0m \u001b[0mYaDiskError\u001b[0m\u001b[0;34m)\u001b[0m \u001b[0;32mand\u001b[0m \u001b[0me\u001b[0m\u001b[0;34m.\u001b[0m\u001b[0mdisable_retry\u001b[0m\u001b[0;34m)\u001b[0m\u001b[0;34m:\u001b[0m\u001b[0;34m\u001b[0m\u001b[0;34m\u001b[0m\u001b[0m\n",
      "\u001b[0;32m/usr/local/lib/python3.10/dist-packages/yadisk/_client.py\u001b[0m in \u001b[0;36mattempt\u001b[0;34m()\u001b[0m\n\u001b[1;32m   1054\u001b[0m                 \u001b[0msettings\u001b[0m\u001b[0;34m.\u001b[0m\u001b[0mlogger\u001b[0m\u001b[0;34m.\u001b[0m\u001b[0minfo\u001b[0m\u001b[0;34m(\u001b[0m\u001b[0;34mf\"uploading file to {dst_path} at {link}\"\u001b[0m\u001b[0;34m)\u001b[0m\u001b[0;34m\u001b[0m\u001b[0;34m\u001b[0m\u001b[0m\n\u001b[1;32m   1055\u001b[0m \u001b[0;34m\u001b[0m\u001b[0m\n\u001b[0;32m-> 1056\u001b[0;31m                 \u001b[0;32mwith\u001b[0m \u001b[0msession\u001b[0m\u001b[0;34m.\u001b[0m\u001b[0msend_request\u001b[0m\u001b[0;34m(\u001b[0m\u001b[0;34m\"PUT\"\u001b[0m\u001b[0;34m,\u001b[0m \u001b[0mlink\u001b[0m\u001b[0;34m,\u001b[0m \u001b[0mdata\u001b[0m\u001b[0;34m=\u001b[0m\u001b[0mpayload\u001b[0m\u001b[0;34m,\u001b[0m \u001b[0;34m**\u001b[0m\u001b[0mtemp_kwargs\u001b[0m\u001b[0;34m)\u001b[0m \u001b[0;32mas\u001b[0m \u001b[0mresponse\u001b[0m\u001b[0;34m:\u001b[0m\u001b[0;34m\u001b[0m\u001b[0;34m\u001b[0m\u001b[0m\n\u001b[0m\u001b[1;32m   1057\u001b[0m                     \u001b[0;32mif\u001b[0m \u001b[0mresponse\u001b[0m\u001b[0;34m.\u001b[0m\u001b[0mstatus\u001b[0m \u001b[0;34m!=\u001b[0m \u001b[0;36m201\u001b[0m\u001b[0;34m:\u001b[0m\u001b[0;34m\u001b[0m\u001b[0;34m\u001b[0m\u001b[0m\n\u001b[1;32m   1058\u001b[0m                         \u001b[0;32mraise\u001b[0m \u001b[0mresponse\u001b[0m\u001b[0;34m.\u001b[0m\u001b[0mget_exception\u001b[0m\u001b[0;34m(\u001b[0m\u001b[0;34m)\u001b[0m\u001b[0;34m\u001b[0m\u001b[0;34m\u001b[0m\u001b[0m\n",
      "\u001b[0;32m/usr/local/lib/python3.10/dist-packages/yadisk/sessions/requests_session.py\u001b[0m in \u001b[0;36msend_request\u001b[0;34m(self, method, url, params, data, headers, stream, **kwargs)\u001b[0m\n\u001b[1;32m    161\u001b[0m         \u001b[0;32mtry\u001b[0m\u001b[0;34m:\u001b[0m\u001b[0;34m\u001b[0m\u001b[0;34m\u001b[0m\u001b[0m\n\u001b[1;32m    162\u001b[0m             return RequestsResponse(\n\u001b[0;32m--> 163\u001b[0;31m                 \u001b[0mself\u001b[0m\u001b[0;34m.\u001b[0m\u001b[0mrequests_session\u001b[0m\u001b[0;34m.\u001b[0m\u001b[0mrequest\u001b[0m\u001b[0;34m(\u001b[0m\u001b[0mmethod\u001b[0m\u001b[0;34m,\u001b[0m \u001b[0murl\u001b[0m\u001b[0;34m,\u001b[0m \u001b[0;34m**\u001b[0m\u001b[0mconverted_kwargs\u001b[0m\u001b[0;34m)\u001b[0m\u001b[0;34m\u001b[0m\u001b[0;34m\u001b[0m\u001b[0m\n\u001b[0m\u001b[1;32m    164\u001b[0m             )\n\u001b[1;32m    165\u001b[0m         \u001b[0;32mexcept\u001b[0m \u001b[0mrequests\u001b[0m\u001b[0;34m.\u001b[0m\u001b[0mexceptions\u001b[0m\u001b[0;34m.\u001b[0m\u001b[0mRequestException\u001b[0m \u001b[0;32mas\u001b[0m \u001b[0me\u001b[0m\u001b[0;34m:\u001b[0m\u001b[0;34m\u001b[0m\u001b[0;34m\u001b[0m\u001b[0m\n",
      "\u001b[0;32m/usr/local/lib/python3.10/dist-packages/requests/sessions.py\u001b[0m in \u001b[0;36mrequest\u001b[0;34m(self, method, url, params, data, headers, cookies, files, auth, timeout, allow_redirects, proxies, hooks, stream, verify, cert, json)\u001b[0m\n\u001b[1;32m    587\u001b[0m         }\n\u001b[1;32m    588\u001b[0m         \u001b[0msend_kwargs\u001b[0m\u001b[0;34m.\u001b[0m\u001b[0mupdate\u001b[0m\u001b[0;34m(\u001b[0m\u001b[0msettings\u001b[0m\u001b[0;34m)\u001b[0m\u001b[0;34m\u001b[0m\u001b[0;34m\u001b[0m\u001b[0m\n\u001b[0;32m--> 589\u001b[0;31m         \u001b[0mresp\u001b[0m \u001b[0;34m=\u001b[0m \u001b[0mself\u001b[0m\u001b[0;34m.\u001b[0m\u001b[0msend\u001b[0m\u001b[0;34m(\u001b[0m\u001b[0mprep\u001b[0m\u001b[0;34m,\u001b[0m \u001b[0;34m**\u001b[0m\u001b[0msend_kwargs\u001b[0m\u001b[0;34m)\u001b[0m\u001b[0;34m\u001b[0m\u001b[0;34m\u001b[0m\u001b[0m\n\u001b[0m\u001b[1;32m    590\u001b[0m \u001b[0;34m\u001b[0m\u001b[0m\n\u001b[1;32m    591\u001b[0m         \u001b[0;32mreturn\u001b[0m \u001b[0mresp\u001b[0m\u001b[0;34m\u001b[0m\u001b[0;34m\u001b[0m\u001b[0m\n",
      "\u001b[0;32m/usr/local/lib/python3.10/dist-packages/requests/sessions.py\u001b[0m in \u001b[0;36msend\u001b[0;34m(self, request, **kwargs)\u001b[0m\n\u001b[1;32m    701\u001b[0m \u001b[0;34m\u001b[0m\u001b[0m\n\u001b[1;32m    702\u001b[0m         \u001b[0;31m# Send the request\u001b[0m\u001b[0;34m\u001b[0m\u001b[0;34m\u001b[0m\u001b[0m\n\u001b[0;32m--> 703\u001b[0;31m         \u001b[0mr\u001b[0m \u001b[0;34m=\u001b[0m \u001b[0madapter\u001b[0m\u001b[0;34m.\u001b[0m\u001b[0msend\u001b[0m\u001b[0;34m(\u001b[0m\u001b[0mrequest\u001b[0m\u001b[0;34m,\u001b[0m \u001b[0;34m**\u001b[0m\u001b[0mkwargs\u001b[0m\u001b[0;34m)\u001b[0m\u001b[0;34m\u001b[0m\u001b[0;34m\u001b[0m\u001b[0m\n\u001b[0m\u001b[1;32m    704\u001b[0m \u001b[0;34m\u001b[0m\u001b[0m\n\u001b[1;32m    705\u001b[0m         \u001b[0;31m# Total elapsed time of the request (approximately)\u001b[0m\u001b[0;34m\u001b[0m\u001b[0;34m\u001b[0m\u001b[0m\n",
      "\u001b[0;32m/usr/local/lib/python3.10/dist-packages/requests/adapters.py\u001b[0m in \u001b[0;36msend\u001b[0;34m(self, request, stream, timeout, verify, cert, proxies)\u001b[0m\n\u001b[1;32m    665\u001b[0m \u001b[0;34m\u001b[0m\u001b[0m\n\u001b[1;32m    666\u001b[0m         \u001b[0;32mtry\u001b[0m\u001b[0;34m:\u001b[0m\u001b[0;34m\u001b[0m\u001b[0;34m\u001b[0m\u001b[0m\n\u001b[0;32m--> 667\u001b[0;31m             resp = conn.urlopen(\n\u001b[0m\u001b[1;32m    668\u001b[0m                 \u001b[0mmethod\u001b[0m\u001b[0;34m=\u001b[0m\u001b[0mrequest\u001b[0m\u001b[0;34m.\u001b[0m\u001b[0mmethod\u001b[0m\u001b[0;34m,\u001b[0m\u001b[0;34m\u001b[0m\u001b[0;34m\u001b[0m\u001b[0m\n\u001b[1;32m    669\u001b[0m                 \u001b[0murl\u001b[0m\u001b[0;34m=\u001b[0m\u001b[0murl\u001b[0m\u001b[0;34m,\u001b[0m\u001b[0;34m\u001b[0m\u001b[0;34m\u001b[0m\u001b[0m\n",
      "\u001b[0;32m/usr/local/lib/python3.10/dist-packages/urllib3/connectionpool.py\u001b[0m in \u001b[0;36murlopen\u001b[0;34m(self, method, url, body, headers, retries, redirect, assert_same_host, timeout, pool_timeout, release_conn, chunked, body_pos, preload_content, decode_content, **response_kw)\u001b[0m\n\u001b[1;32m    785\u001b[0m \u001b[0;34m\u001b[0m\u001b[0m\n\u001b[1;32m    786\u001b[0m             \u001b[0;31m# Make the request on the HTTPConnection object\u001b[0m\u001b[0;34m\u001b[0m\u001b[0;34m\u001b[0m\u001b[0m\n\u001b[0;32m--> 787\u001b[0;31m             response = self._make_request(\n\u001b[0m\u001b[1;32m    788\u001b[0m                 \u001b[0mconn\u001b[0m\u001b[0;34m,\u001b[0m\u001b[0;34m\u001b[0m\u001b[0;34m\u001b[0m\u001b[0m\n\u001b[1;32m    789\u001b[0m                 \u001b[0mmethod\u001b[0m\u001b[0;34m,\u001b[0m\u001b[0;34m\u001b[0m\u001b[0;34m\u001b[0m\u001b[0m\n",
      "\u001b[0;32m/usr/local/lib/python3.10/dist-packages/urllib3/connectionpool.py\u001b[0m in \u001b[0;36m_make_request\u001b[0;34m(self, conn, method, url, body, headers, retries, timeout, chunked, response_conn, preload_content, decode_content, enforce_content_length)\u001b[0m\n\u001b[1;32m    491\u001b[0m         \u001b[0;31m# urllib3.request. It also calls makefile (recv) on the socket.\u001b[0m\u001b[0;34m\u001b[0m\u001b[0;34m\u001b[0m\u001b[0m\n\u001b[1;32m    492\u001b[0m         \u001b[0;32mtry\u001b[0m\u001b[0;34m:\u001b[0m\u001b[0;34m\u001b[0m\u001b[0;34m\u001b[0m\u001b[0m\n\u001b[0;32m--> 493\u001b[0;31m             conn.request(\n\u001b[0m\u001b[1;32m    494\u001b[0m                 \u001b[0mmethod\u001b[0m\u001b[0;34m,\u001b[0m\u001b[0;34m\u001b[0m\u001b[0;34m\u001b[0m\u001b[0m\n\u001b[1;32m    495\u001b[0m                 \u001b[0murl\u001b[0m\u001b[0;34m,\u001b[0m\u001b[0;34m\u001b[0m\u001b[0;34m\u001b[0m\u001b[0m\n",
      "\u001b[0;32m/usr/local/lib/python3.10/dist-packages/urllib3/connection.py\u001b[0m in \u001b[0;36mrequest\u001b[0;34m(self, method, url, body, headers, chunked, preload_content, decode_content, enforce_content_length)\u001b[0m\n\u001b[1;32m    457\u001b[0m                     \u001b[0mself\u001b[0m\u001b[0;34m.\u001b[0m\u001b[0msend\u001b[0m\u001b[0;34m(\u001b[0m\u001b[0;34mb\"%x\\r\\n%b\\r\\n\"\u001b[0m \u001b[0;34m%\u001b[0m \u001b[0;34m(\u001b[0m\u001b[0mlen\u001b[0m\u001b[0;34m(\u001b[0m\u001b[0mchunk\u001b[0m\u001b[0;34m)\u001b[0m\u001b[0;34m,\u001b[0m \u001b[0mchunk\u001b[0m\u001b[0;34m)\u001b[0m\u001b[0;34m)\u001b[0m\u001b[0;34m\u001b[0m\u001b[0;34m\u001b[0m\u001b[0m\n\u001b[1;32m    458\u001b[0m                 \u001b[0;32melse\u001b[0m\u001b[0;34m:\u001b[0m\u001b[0;34m\u001b[0m\u001b[0;34m\u001b[0m\u001b[0m\n\u001b[0;32m--> 459\u001b[0;31m                     \u001b[0mself\u001b[0m\u001b[0;34m.\u001b[0m\u001b[0msend\u001b[0m\u001b[0;34m(\u001b[0m\u001b[0mchunk\u001b[0m\u001b[0;34m)\u001b[0m\u001b[0;34m\u001b[0m\u001b[0;34m\u001b[0m\u001b[0m\n\u001b[0m\u001b[1;32m    460\u001b[0m \u001b[0;34m\u001b[0m\u001b[0m\n\u001b[1;32m    461\u001b[0m         \u001b[0;31m# Regardless of whether we have a body or not, if we're in\u001b[0m\u001b[0;34m\u001b[0m\u001b[0;34m\u001b[0m\u001b[0m\n",
      "\u001b[0;32m/usr/lib/python3.10/http/client.py\u001b[0m in \u001b[0;36msend\u001b[0;34m(self, data)\u001b[0m\n\u001b[1;32m    997\u001b[0m         \u001b[0msys\u001b[0m\u001b[0;34m.\u001b[0m\u001b[0maudit\u001b[0m\u001b[0;34m(\u001b[0m\u001b[0;34m\"http.client.send\"\u001b[0m\u001b[0;34m,\u001b[0m \u001b[0mself\u001b[0m\u001b[0;34m,\u001b[0m \u001b[0mdata\u001b[0m\u001b[0;34m)\u001b[0m\u001b[0;34m\u001b[0m\u001b[0;34m\u001b[0m\u001b[0m\n\u001b[1;32m    998\u001b[0m         \u001b[0;32mtry\u001b[0m\u001b[0;34m:\u001b[0m\u001b[0;34m\u001b[0m\u001b[0;34m\u001b[0m\u001b[0m\n\u001b[0;32m--> 999\u001b[0;31m             \u001b[0mself\u001b[0m\u001b[0;34m.\u001b[0m\u001b[0msock\u001b[0m\u001b[0;34m.\u001b[0m\u001b[0msendall\u001b[0m\u001b[0;34m(\u001b[0m\u001b[0mdata\u001b[0m\u001b[0;34m)\u001b[0m\u001b[0;34m\u001b[0m\u001b[0;34m\u001b[0m\u001b[0m\n\u001b[0m\u001b[1;32m   1000\u001b[0m         \u001b[0;32mexcept\u001b[0m \u001b[0mTypeError\u001b[0m\u001b[0;34m:\u001b[0m\u001b[0;34m\u001b[0m\u001b[0;34m\u001b[0m\u001b[0m\n\u001b[1;32m   1001\u001b[0m             \u001b[0;32mif\u001b[0m \u001b[0misinstance\u001b[0m\u001b[0;34m(\u001b[0m\u001b[0mdata\u001b[0m\u001b[0;34m,\u001b[0m \u001b[0mcollections\u001b[0m\u001b[0;34m.\u001b[0m\u001b[0mabc\u001b[0m\u001b[0;34m.\u001b[0m\u001b[0mIterable\u001b[0m\u001b[0;34m)\u001b[0m\u001b[0;34m:\u001b[0m\u001b[0;34m\u001b[0m\u001b[0;34m\u001b[0m\u001b[0m\n",
      "\u001b[0;32m/usr/lib/python3.10/ssl.py\u001b[0m in \u001b[0;36msendall\u001b[0;34m(self, data, flags)\u001b[0m\n\u001b[1;32m   1264\u001b[0m                 \u001b[0mamount\u001b[0m \u001b[0;34m=\u001b[0m \u001b[0mlen\u001b[0m\u001b[0;34m(\u001b[0m\u001b[0mbyte_view\u001b[0m\u001b[0;34m)\u001b[0m\u001b[0;34m\u001b[0m\u001b[0;34m\u001b[0m\u001b[0m\n\u001b[1;32m   1265\u001b[0m                 \u001b[0;32mwhile\u001b[0m \u001b[0mcount\u001b[0m \u001b[0;34m<\u001b[0m \u001b[0mamount\u001b[0m\u001b[0;34m:\u001b[0m\u001b[0;34m\u001b[0m\u001b[0;34m\u001b[0m\u001b[0m\n\u001b[0;32m-> 1266\u001b[0;31m                     \u001b[0mv\u001b[0m \u001b[0;34m=\u001b[0m \u001b[0mself\u001b[0m\u001b[0;34m.\u001b[0m\u001b[0msend\u001b[0m\u001b[0;34m(\u001b[0m\u001b[0mbyte_view\u001b[0m\u001b[0;34m[\u001b[0m\u001b[0mcount\u001b[0m\u001b[0;34m:\u001b[0m\u001b[0;34m]\u001b[0m\u001b[0;34m)\u001b[0m\u001b[0;34m\u001b[0m\u001b[0;34m\u001b[0m\u001b[0m\n\u001b[0m\u001b[1;32m   1267\u001b[0m                     \u001b[0mcount\u001b[0m \u001b[0;34m+=\u001b[0m \u001b[0mv\u001b[0m\u001b[0;34m\u001b[0m\u001b[0;34m\u001b[0m\u001b[0m\n\u001b[1;32m   1268\u001b[0m         \u001b[0;32melse\u001b[0m\u001b[0;34m:\u001b[0m\u001b[0;34m\u001b[0m\u001b[0;34m\u001b[0m\u001b[0m\n",
      "\u001b[0;32m/usr/lib/python3.10/ssl.py\u001b[0m in \u001b[0;36msend\u001b[0;34m(self, data, flags)\u001b[0m\n\u001b[1;32m   1233\u001b[0m                     \u001b[0;34m\"non-zero flags not allowed in calls to send() on %s\"\u001b[0m \u001b[0;34m%\u001b[0m\u001b[0;34m\u001b[0m\u001b[0;34m\u001b[0m\u001b[0m\n\u001b[1;32m   1234\u001b[0m                     self.__class__)\n\u001b[0;32m-> 1235\u001b[0;31m             \u001b[0;32mreturn\u001b[0m \u001b[0mself\u001b[0m\u001b[0;34m.\u001b[0m\u001b[0m_sslobj\u001b[0m\u001b[0;34m.\u001b[0m\u001b[0mwrite\u001b[0m\u001b[0;34m(\u001b[0m\u001b[0mdata\u001b[0m\u001b[0;34m)\u001b[0m\u001b[0;34m\u001b[0m\u001b[0;34m\u001b[0m\u001b[0m\n\u001b[0m\u001b[1;32m   1236\u001b[0m         \u001b[0;32melse\u001b[0m\u001b[0;34m:\u001b[0m\u001b[0;34m\u001b[0m\u001b[0;34m\u001b[0m\u001b[0m\n\u001b[1;32m   1237\u001b[0m             \u001b[0;32mreturn\u001b[0m \u001b[0msuper\u001b[0m\u001b[0;34m(\u001b[0m\u001b[0;34m)\u001b[0m\u001b[0;34m.\u001b[0m\u001b[0msend\u001b[0m\u001b[0;34m(\u001b[0m\u001b[0mdata\u001b[0m\u001b[0;34m,\u001b[0m \u001b[0mflags\u001b[0m\u001b[0;34m)\u001b[0m\u001b[0;34m\u001b[0m\u001b[0;34m\u001b[0m\u001b[0m\n",
      "\u001b[0;31mKeyboardInterrupt\u001b[0m: "
     ]
    }
   ],
   "source": [
    "model.train(\n",
    "    experiment_name=f'ru-{lang}.{\"both_directions\" if learn_both_direction else \"single_direction\"}.{ds.name}.nllb.{\"update_tokenizer\" if update_tokenizer else \"no_upd_tokenizer\"}',\n",
    "    data=df,\n",
    "    src_lang='rus',\n",
    "    dst_lang=lang,\n",
    "    learn_both_direction=learn_both_direction,\n",
    "    training_steps=100_000,      # we are more likely to get ttl'ed\n",
    "    save_every=600,              # on local [2080 super mobile] run it took ~24minutes for 100 it's. So each 300 is around 1 ckpt/h.\n",
    "    ttl=ttl,                     # 4h\n",
    "    ya_client=client,\n",
    ")"
   ]
  },
  {
   "cell_type": "code",
   "execution_count": null,
   "metadata": {},
   "outputs": [],
   "source": []
  },
  {
   "cell_type": "code",
   "execution_count": null,
   "metadata": {},
   "outputs": [],
   "source": []
  },
  {
   "cell_type": "code",
   "execution_count": null,
   "metadata": {},
   "outputs": [],
   "source": []
  },
  {
   "cell_type": "code",
   "execution_count": null,
   "metadata": {},
   "outputs": [],
   "source": []
  },
  {
   "cell_type": "code",
   "execution_count": null,
   "metadata": {},
   "outputs": [],
   "source": []
  },
  {
   "cell_type": "code",
   "execution_count": null,
   "metadata": {},
   "outputs": [],
   "source": []
  },
  {
   "cell_type": "code",
   "execution_count": null,
   "metadata": {},
   "outputs": [],
   "source": []
  },
  {
   "cell_type": "code",
   "execution_count": null,
   "metadata": {},
   "outputs": [],
   "source": []
  },
  {
   "cell_type": "code",
   "execution_count": null,
   "metadata": {},
   "outputs": [],
   "source": []
  },
  {
   "cell_type": "code",
   "execution_count": null,
   "metadata": {},
   "outputs": [],
   "source": []
  },
  {
   "cell_type": "code",
   "execution_count": null,
   "metadata": {},
   "outputs": [],
   "source": []
  }
 ],
 "metadata": {
  "kaggle": {
   "accelerator": "none",
   "dataSources": [],
   "dockerImageVersionId": 30887,
   "isGpuEnabled": false,
   "isInternetEnabled": true,
   "language": "python",
   "sourceType": "notebook"
  },
  "kernelspec": {
   "display_name": "Python 3 (ipykernel)",
   "language": "python",
   "name": "python3"
  },
  "language_info": {
   "codemirror_mode": {
    "name": "ipython",
    "version": 3
   },
   "file_extension": ".py",
   "mimetype": "text/x-python",
   "name": "python",
   "nbconvert_exporter": "python",
   "pygments_lexer": "ipython3",
   "version": "3.9.6"
  }
 },
 "nbformat": 4,
 "nbformat_minor": 4
}
