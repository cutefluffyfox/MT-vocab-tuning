{
 "cells": [
  {
   "cell_type": "code",
   "execution_count": 2,
   "metadata": {
    "_cell_guid": "b1076dfc-b9ad-4769-8c92-a6c4dae69d19",
    "_uuid": "8f2839f25d086af736a60e9eeb907d3b93b6e0e5",
    "execution": {
     "iopub.execute_input": "2024-11-18T22:43:20.814469Z",
     "iopub.status.busy": "2024-11-18T22:43:20.814107Z",
     "iopub.status.idle": "2024-11-18T22:43:21.974494Z",
     "shell.execute_reply": "2024-11-18T22:43:21.973556Z",
     "shell.execute_reply.started": "2024-11-18T22:43:20.814439Z"
    }
   },
   "outputs": [],
   "source": [
    "# This Python 3 environment comes with many helpful analytics libraries installed\n",
    "# It is defined by the kaggle/python Docker image: https://github.com/kaggle/docker-python\n",
    "# For example, here's several helpful packages to load\n",
    "\n",
    "import numpy as np # linear algebra\n",
    "import pandas as pd # data processing, CSV file I/O (e.g. pd.read_csv)\n",
    "\n",
    "# Input data files are available in the read-only \"../input/\" directory\n",
    "# For example, running this (by clicking run or pressing Shift+Enter) will list all files under the input directory\n",
    "\n",
    "import os\n",
    "for dirname, _, filenames in os.walk('/kaggle/input'):\n",
    "    for filename in filenames:\n",
    "        print(os.path.join(dirname, filename))\n",
    "\n",
    "# You can write up to 20GB to the current directory (/kaggle/working/) that gets preserved as output when you create a version using \"Save & Run All\" \n",
    "# You can also write temporary files to /kaggle/temp/, but they won't be saved outside of the current session"
   ]
  },
  {
   "cell_type": "code",
   "execution_count": 3,
   "metadata": {
    "execution": {
     "iopub.execute_input": "2024-11-18T22:43:21.976092Z",
     "iopub.status.busy": "2024-11-18T22:43:21.975591Z",
     "iopub.status.idle": "2024-11-18T22:43:23.475876Z",
     "shell.execute_reply": "2024-11-18T22:43:23.474601Z",
     "shell.execute_reply.started": "2024-11-18T22:43:21.976046Z"
    }
   },
   "outputs": [],
   "source": [
    "!python -c \"from huggingface_hub.hf_api import HfFolder; HfFolder.save_token('PUT TOKEN HERE')\""
   ]
  },
  {
   "cell_type": "code",
   "execution_count": 4,
   "metadata": {
    "execution": {
     "iopub.execute_input": "2024-11-18T22:43:23.477903Z",
     "iopub.status.busy": "2024-11-18T22:43:23.477554Z",
     "iopub.status.idle": "2024-11-18T22:43:25.309403Z",
     "shell.execute_reply": "2024-11-18T22:43:25.308318Z",
     "shell.execute_reply.started": "2024-11-18T22:43:23.477871Z"
    }
   },
   "outputs": [
    {
     "name": "stdout",
     "output_type": "stream",
     "text": [
      "Cloning into 'MT-vocab-tuning'...\n",
      "remote: Enumerating objects: 66, done.\u001b[K\n",
      "remote: Counting objects: 100% (66/66), done.\u001b[K\n",
      "remote: Compressing objects: 100% (45/45), done.\u001b[K\n",
      "remote: Total 66 (delta 28), reused 53 (delta 19), pack-reused 0 (from 0)\u001b[K\n",
      "Receiving objects: 100% (66/66), 134.41 KiB | 6.11 MiB/s, done.\n",
      "Resolving deltas: 100% (28/28), done.\n"
     ]
    }
   ],
   "source": [
    "!git clone https://github.com/cutefluffyfox/MT-vocab-tuning.git"
   ]
  },
  {
   "cell_type": "code",
   "execution_count": 5,
   "metadata": {
    "execution": {
     "iopub.execute_input": "2024-11-18T22:43:28.282963Z",
     "iopub.status.busy": "2024-11-18T22:43:28.282573Z",
     "iopub.status.idle": "2024-11-18T22:43:28.288030Z",
     "shell.execute_reply": "2024-11-18T22:43:28.286951Z",
     "shell.execute_reply.started": "2024-11-18T22:43:28.282927Z"
    }
   },
   "outputs": [],
   "source": [
    "# uncomment when you run the first time!\n",
    "# !cat MT-vocab-tuning/requirements.txt | xargs -n 1 pip install"
   ]
  },
  {
   "cell_type": "code",
   "execution_count": 6,
   "metadata": {
    "execution": {
     "iopub.execute_input": "2024-11-18T22:43:28.587855Z",
     "iopub.status.busy": "2024-11-18T22:43:28.587431Z",
     "iopub.status.idle": "2024-11-18T22:43:28.593477Z",
     "shell.execute_reply": "2024-11-18T22:43:28.592399Z",
     "shell.execute_reply.started": "2024-11-18T22:43:28.587813Z"
    }
   },
   "outputs": [],
   "source": [
    "import os\n",
    "import sys\n",
    "\n",
    "# change to upper dir to use all custom libs (won't be needed if run from main scripts)\n",
    "sys.path.insert(1, os.path.join(os.getcwd(), 'MT-vocab-tuning'))"
   ]
  },
  {
   "cell_type": "markdown",
   "metadata": {},
   "source": [
    "### Download flores-dev benchmark"
   ]
  },
  {
   "cell_type": "code",
   "execution_count": 7,
   "metadata": {
    "execution": {
     "iopub.execute_input": "2024-11-18T22:43:30.698980Z",
     "iopub.status.busy": "2024-11-18T22:43:30.698142Z",
     "iopub.status.idle": "2024-11-18T22:43:31.603043Z",
     "shell.execute_reply": "2024-11-18T22:43:31.602024Z",
     "shell.execute_reply.started": "2024-11-18T22:43:30.698948Z"
    }
   },
   "outputs": [],
   "source": [
    "from scripts.helpers import dataset_manager\n",
    "\n",
    "# os.makedirs(os.path.join(os.getcwd(), 'MT-vocab-tuning', 'data'), exist_ok=True)"
   ]
  },
  {
   "cell_type": "code",
   "execution_count": null,
   "metadata": {},
   "outputs": [],
   "source": []
  },
  {
   "cell_type": "code",
   "execution_count": 8,
   "metadata": {
    "execution": {
     "iopub.execute_input": "2024-11-18T22:43:32.781007Z",
     "iopub.status.busy": "2024-11-18T22:43:32.780143Z",
     "iopub.status.idle": "2024-11-18T22:43:52.383486Z",
     "shell.execute_reply": "2024-11-18T22:43:52.382463Z",
     "shell.execute_reply.started": "2024-11-18T22:43:32.780972Z"
    }
   },
   "outputs": [
    {
     "data": {
      "application/vnd.jupyter.widget-view+json": {
       "model_id": "5e15884fca6046c890f9b282ff3c98c1",
       "version_major": 2,
       "version_minor": 0
      },
      "text/plain": [
       "README.md:   0%|          | 0.00/38.7k [00:00<?, ?B/s]"
      ]
     },
     "metadata": {},
     "output_type": "display_data"
    },
    {
     "data": {
      "application/vnd.jupyter.widget-view+json": {
       "model_id": "68cab94fad6343eea83c943bc453c05c",
       "version_major": 2,
       "version_minor": 0
      },
      "text/plain": [
       "Resolving data files:   0%|          | 0/218 [00:00<?, ?it/s]"
      ]
     },
     "metadata": {},
     "output_type": "display_data"
    },
    {
     "data": {
      "application/vnd.jupyter.widget-view+json": {
       "model_id": "757b81a79ad1446aa2dee6e34596097c",
       "version_major": 2,
       "version_minor": 0
      },
      "text/plain": [
       "Resolving data files:   0%|          | 0/213 [00:00<?, ?it/s]"
      ]
     },
     "metadata": {},
     "output_type": "display_data"
    },
    {
     "data": {
      "application/vnd.jupyter.widget-view+json": {
       "model_id": "d0253e9b542b4468b9605a87cc12483c",
       "version_major": 2,
       "version_minor": 0
      },
      "text/plain": [
       "Resolving data files:   0%|          | 0/218 [00:00<?, ?it/s]"
      ]
     },
     "metadata": {},
     "output_type": "display_data"
    },
    {
     "data": {
      "application/vnd.jupyter.widget-view+json": {
       "model_id": "e977939c10864c8a8582b2270f15d251",
       "version_major": 2,
       "version_minor": 0
      },
      "text/plain": [
       "Resolving data files:   0%|          | 0/213 [00:00<?, ?it/s]"
      ]
     },
     "metadata": {},
     "output_type": "display_data"
    },
    {
     "data": {
      "application/vnd.jupyter.widget-view+json": {
       "model_id": "c3d28659218f4cab8471d994743f1a7f",
       "version_major": 2,
       "version_minor": 0
      },
      "text/plain": [
       "Downloading data:   0%|          | 0/218 [00:00<?, ?files/s]"
      ]
     },
     "metadata": {},
     "output_type": "display_data"
    },
    {
     "data": {
      "application/vnd.jupyter.widget-view+json": {
       "model_id": "7da2649b1e2541fdbab8c99b6adc0c79",
       "version_major": 2,
       "version_minor": 0
      },
      "text/plain": [
       "afr_Latn.parquet:   0%|          | 0.00/117k [00:00<?, ?B/s]"
      ]
     },
     "metadata": {},
     "output_type": "display_data"
    },
    {
     "data": {
      "application/vnd.jupyter.widget-view+json": {
       "model_id": "80f878895ca64a4a9f8b378f00c3d420",
       "version_major": 2,
       "version_minor": 0
      },
      "text/plain": [
       "acm_Arab.parquet:   0%|          | 0.00/134k [00:00<?, ?B/s]"
      ]
     },
     "metadata": {},
     "output_type": "display_data"
    },
    {
     "data": {
      "application/vnd.jupyter.widget-view+json": {
       "model_id": "fac31eedec55424aae2d011bdb2995f9",
       "version_major": 2,
       "version_minor": 0
      },
      "text/plain": [
       "ace_Latn.parquet:   0%|          | 0.00/114k [00:00<?, ?B/s]"
      ]
     },
     "metadata": {},
     "output_type": "display_data"
    },
    {
     "data": {
      "application/vnd.jupyter.widget-view+json": {
       "model_id": "cf773850f5534b098b8031bbfef6a350",
       "version_major": 2,
       "version_minor": 0
      },
      "text/plain": [
       "ars_Arab.parquet:   0%|          | 0.00/138k [00:00<?, ?B/s]"
      ]
     },
     "metadata": {},
     "output_type": "display_data"
    },
    {
     "data": {
      "application/vnd.jupyter.widget-view+json": {
       "model_id": "c4c416b4d59a4547b58e41d9858a7a0a",
       "version_major": 2,
       "version_minor": 0
      },
      "text/plain": [
       "amh_Ethi.parquet:   0%|          | 0.00/146k [00:00<?, ?B/s]"
      ]
     },
     "metadata": {},
     "output_type": "display_data"
    },
    {
     "data": {
      "application/vnd.jupyter.widget-view+json": {
       "model_id": "cd7af07642a94158b58fb58e64bd0fc7",
       "version_major": 2,
       "version_minor": 0
      },
      "text/plain": [
       "arb_Arab.parquet:   0%|          | 0.00/137k [00:00<?, ?B/s]"
      ]
     },
     "metadata": {},
     "output_type": "display_data"
    },
    {
     "data": {
      "application/vnd.jupyter.widget-view+json": {
       "model_id": "1fd118aa0dad4b5998c73ae622cfc53e",
       "version_major": 2,
       "version_minor": 0
      },
      "text/plain": [
       "arb_Latn.parquet:   0%|          | 0.00/130k [00:00<?, ?B/s]"
      ]
     },
     "metadata": {},
     "output_type": "display_data"
    },
    {
     "data": {
      "application/vnd.jupyter.widget-view+json": {
       "model_id": "8989a5f3d8d946c881c922ceccf9b93e",
       "version_major": 2,
       "version_minor": 0
      },
      "text/plain": [
       "apc_Arab_sout3123.parquet:   0%|          | 0.00/129k [00:00<?, ?B/s]"
      ]
     },
     "metadata": {},
     "output_type": "display_data"
    },
    {
     "data": {
      "application/vnd.jupyter.widget-view+json": {
       "model_id": "537ee6d436744104b34472ea1eab26bf",
       "version_major": 2,
       "version_minor": 0
      },
      "text/plain": [
       "ace_Arab.parquet:   0%|          | 0.00/125k [00:00<?, ?B/s]"
      ]
     },
     "metadata": {},
     "output_type": "display_data"
    },
    {
     "data": {
      "application/vnd.jupyter.widget-view+json": {
       "model_id": "806856f6974347bcaa457b2843b0fdd4",
       "version_major": 2,
       "version_minor": 0
      },
      "text/plain": [
       "ary_Arab.parquet:   0%|          | 0.00/135k [00:00<?, ?B/s]"
      ]
     },
     "metadata": {},
     "output_type": "display_data"
    },
    {
     "data": {
      "application/vnd.jupyter.widget-view+json": {
       "model_id": "9d61e26be6564f62bef54ba0502f0ced",
       "version_major": 2,
       "version_minor": 0
      },
      "text/plain": [
       "apc_Arab_nort3139.parquet:   0%|          | 0.00/129k [00:00<?, ?B/s]"
      ]
     },
     "metadata": {},
     "output_type": "display_data"
    },
    {
     "data": {
      "application/vnd.jupyter.widget-view+json": {
       "model_id": "ec15e5b06112400083591af890fb3b1b",
       "version_major": 2,
       "version_minor": 0
      },
      "text/plain": [
       "arz_Arab.parquet:   0%|          | 0.00/133k [00:00<?, ?B/s]"
      ]
     },
     "metadata": {},
     "output_type": "display_data"
    },
    {
     "data": {
      "application/vnd.jupyter.widget-view+json": {
       "model_id": "ee911fd2020242949af58dd073fbf7dd",
       "version_major": 2,
       "version_minor": 0
      },
      "text/plain": [
       "arg_Latn.parquet:   0%|          | 0.00/128k [00:00<?, ?B/s]"
      ]
     },
     "metadata": {},
     "output_type": "display_data"
    },
    {
     "data": {
      "application/vnd.jupyter.widget-view+json": {
       "model_id": "8bacc5efd9384b7abdf1f8295482234d",
       "version_major": 2,
       "version_minor": 0
      },
      "text/plain": [
       "asm_Beng.parquet:   0%|          | 0.00/168k [00:00<?, ?B/s]"
      ]
     },
     "metadata": {},
     "output_type": "display_data"
    },
    {
     "data": {
      "application/vnd.jupyter.widget-view+json": {
       "model_id": "f16b91d4fd934c5a87392211d0cbd4b8",
       "version_major": 2,
       "version_minor": 0
      },
      "text/plain": [
       "aeb_Arab.parquet:   0%|          | 0.00/134k [00:00<?, ?B/s]"
      ]
     },
     "metadata": {},
     "output_type": "display_data"
    },
    {
     "data": {
      "application/vnd.jupyter.widget-view+json": {
       "model_id": "02987bd7703649d18cd203450a843a3c",
       "version_major": 2,
       "version_minor": 0
      },
      "text/plain": [
       "acq_Arab.parquet:   0%|          | 0.00/136k [00:00<?, ?B/s]"
      ]
     },
     "metadata": {},
     "output_type": "display_data"
    },
    {
     "data": {
      "application/vnd.jupyter.widget-view+json": {
       "model_id": "8e0ef33f5e58466a85349f98f0297878",
       "version_major": 2,
       "version_minor": 0
      },
      "text/plain": [
       "als_Latn.parquet:   0%|          | 0.00/126k [00:00<?, ?B/s]"
      ]
     },
     "metadata": {},
     "output_type": "display_data"
    },
    {
     "data": {
      "application/vnd.jupyter.widget-view+json": {
       "model_id": "1daf0f5edf9145c5b163c3c8c2c45db7",
       "version_major": 2,
       "version_minor": 0
      },
      "text/plain": [
       "ayr_Latn.parquet:   0%|          | 0.00/116k [00:00<?, ?B/s]"
      ]
     },
     "metadata": {},
     "output_type": "display_data"
    },
    {
     "data": {
      "application/vnd.jupyter.widget-view+json": {
       "model_id": "6ef5635a85f14c2cbb2e05e5f1c10364",
       "version_major": 2,
       "version_minor": 0
      },
      "text/plain": [
       "awa_Deva.parquet:   0%|          | 0.00/158k [00:00<?, ?B/s]"
      ]
     },
     "metadata": {},
     "output_type": "display_data"
    },
    {
     "data": {
      "application/vnd.jupyter.widget-view+json": {
       "model_id": "8776244ac5d546f1b2d639f106a48e83",
       "version_major": 2,
       "version_minor": 0
      },
      "text/plain": [
       "bam_Latn.parquet:   0%|          | 0.00/111k [00:00<?, ?B/s]"
      ]
     },
     "metadata": {},
     "output_type": "display_data"
    },
    {
     "data": {
      "application/vnd.jupyter.widget-view+json": {
       "model_id": "69275ca342e94bc9a382a868a5316a28",
       "version_major": 2,
       "version_minor": 0
      },
      "text/plain": [
       "azj_Latn.parquet:   0%|          | 0.00/128k [00:00<?, ?B/s]"
      ]
     },
     "metadata": {},
     "output_type": "display_data"
    },
    {
     "data": {
      "application/vnd.jupyter.widget-view+json": {
       "model_id": "b8276cbf8abd4720b8b3d4983620ed5c",
       "version_major": 2,
       "version_minor": 0
      },
      "text/plain": [
       "bem_Latn.parquet:   0%|          | 0.00/126k [00:00<?, ?B/s]"
      ]
     },
     "metadata": {},
     "output_type": "display_data"
    },
    {
     "data": {
      "application/vnd.jupyter.widget-view+json": {
       "model_id": "60f38a30d2454ead9c67c4afb2eca552",
       "version_major": 2,
       "version_minor": 0
      },
      "text/plain": [
       "ban_Latn.parquet:   0%|          | 0.00/114k [00:00<?, ?B/s]"
      ]
     },
     "metadata": {},
     "output_type": "display_data"
    },
    {
     "data": {
      "application/vnd.jupyter.widget-view+json": {
       "model_id": "a127d75ee53c4c7daf6fa51ed64b2d46",
       "version_major": 2,
       "version_minor": 0
      },
      "text/plain": [
       "bel_Cyrl.parquet:   0%|          | 0.00/169k [00:00<?, ?B/s]"
      ]
     },
     "metadata": {},
     "output_type": "display_data"
    },
    {
     "data": {
      "application/vnd.jupyter.widget-view+json": {
       "model_id": "015663316c7741e69b3f56e035ad5ee1",
       "version_major": 2,
       "version_minor": 0
      },
      "text/plain": [
       "bak_Cyrl.parquet:   0%|          | 0.00/149k [00:00<?, ?B/s]"
      ]
     },
     "metadata": {},
     "output_type": "display_data"
    },
    {
     "data": {
      "application/vnd.jupyter.widget-view+json": {
       "model_id": "aeec951814c9499db54e6a4ef27e2395",
       "version_major": 2,
       "version_minor": 0
      },
      "text/plain": [
       "azb_Arab.parquet:   0%|          | 0.00/134k [00:00<?, ?B/s]"
      ]
     },
     "metadata": {},
     "output_type": "display_data"
    },
    {
     "data": {
      "application/vnd.jupyter.widget-view+json": {
       "model_id": "ce34a83daed74011bb5fd4fca038a582",
       "version_major": 2,
       "version_minor": 0
      },
      "text/plain": [
       "ben_Beng.parquet:   0%|          | 0.00/166k [00:00<?, ?B/s]"
      ]
     },
     "metadata": {},
     "output_type": "display_data"
    },
    {
     "data": {
      "application/vnd.jupyter.widget-view+json": {
       "model_id": "e9ebc24e7a0c4b678c193065aeafa4de",
       "version_major": 2,
       "version_minor": 0
      },
      "text/plain": [
       "ast_Latn.parquet:   0%|          | 0.00/119k [00:00<?, ?B/s]"
      ]
     },
     "metadata": {},
     "output_type": "display_data"
    },
    {
     "data": {
      "application/vnd.jupyter.widget-view+json": {
       "model_id": "33b4379dbe014dbaa417b20d06235a35",
       "version_major": 2,
       "version_minor": 0
      },
      "text/plain": [
       "bjn_Latn.parquet:   0%|          | 0.00/112k [00:00<?, ?B/s]"
      ]
     },
     "metadata": {},
     "output_type": "display_data"
    },
    {
     "data": {
      "application/vnd.jupyter.widget-view+json": {
       "model_id": "c4a0fabdac05459eaba0fd31221323a0",
       "version_major": 2,
       "version_minor": 0
      },
      "text/plain": [
       "bho_Deva.parquet:   0%|          | 0.00/155k [00:00<?, ?B/s]"
      ]
     },
     "metadata": {},
     "output_type": "display_data"
    },
    {
     "data": {
      "application/vnd.jupyter.widget-view+json": {
       "model_id": "c0ab22506a7b4a0f95b14cd0775b2dee",
       "version_major": 2,
       "version_minor": 0
      },
      "text/plain": [
       "bos_Latn.parquet:   0%|          | 0.00/122k [00:00<?, ?B/s]"
      ]
     },
     "metadata": {},
     "output_type": "display_data"
    },
    {
     "data": {
      "application/vnd.jupyter.widget-view+json": {
       "model_id": "fd773585ff63486aba109aa906e0c124",
       "version_major": 2,
       "version_minor": 0
      },
      "text/plain": [
       "bod_Tibt.parquet:   0%|          | 0.00/165k [00:00<?, ?B/s]"
      ]
     },
     "metadata": {},
     "output_type": "display_data"
    },
    {
     "data": {
      "application/vnd.jupyter.widget-view+json": {
       "model_id": "c230672646764fcf9ac4bb013e37a92f",
       "version_major": 2,
       "version_minor": 0
      },
      "text/plain": [
       "bjn_Arab.parquet:   0%|          | 0.00/136k [00:00<?, ?B/s]"
      ]
     },
     "metadata": {},
     "output_type": "display_data"
    },
    {
     "data": {
      "application/vnd.jupyter.widget-view+json": {
       "model_id": "dd74f122be404e1a8c48482a37341ffe",
       "version_major": 2,
       "version_minor": 0
      },
      "text/plain": [
       "bug_Latn.parquet:   0%|          | 0.00/121k [00:00<?, ?B/s]"
      ]
     },
     "metadata": {},
     "output_type": "display_data"
    },
    {
     "data": {
      "application/vnd.jupyter.widget-view+json": {
       "model_id": "51df0545923d48e7b35a5fcd51c2fa13",
       "version_major": 2,
       "version_minor": 0
      },
      "text/plain": [
       "cjk_Latn.parquet:   0%|          | 0.00/122k [00:00<?, ?B/s]"
      ]
     },
     "metadata": {},
     "output_type": "display_data"
    },
    {
     "data": {
      "application/vnd.jupyter.widget-view+json": {
       "model_id": "1c7fd45112b54b0393afebc8d90954d2",
       "version_major": 2,
       "version_minor": 0
      },
      "text/plain": [
       "cym_Latn.parquet:   0%|          | 0.00/118k [00:00<?, ?B/s]"
      ]
     },
     "metadata": {},
     "output_type": "display_data"
    },
    {
     "data": {
      "application/vnd.jupyter.widget-view+json": {
       "model_id": "adace8d40d0449ad98f2f7254cabe958",
       "version_major": 2,
       "version_minor": 0
      },
      "text/plain": [
       "cmn_Hant.parquet:   0%|          | 0.00/115k [00:00<?, ?B/s]"
      ]
     },
     "metadata": {},
     "output_type": "display_data"
    },
    {
     "data": {
      "application/vnd.jupyter.widget-view+json": {
       "model_id": "5da64dba02964e1681e6d73807e4c3d0",
       "version_major": 2,
       "version_minor": 0
      },
      "text/plain": [
       "brx_Deva.parquet:   0%|          | 0.00/164k [00:00<?, ?B/s]"
      ]
     },
     "metadata": {},
     "output_type": "display_data"
    },
    {
     "data": {
      "application/vnd.jupyter.widget-view+json": {
       "model_id": "12c44b57fa95473181c5ca541fb43ecb",
       "version_major": 2,
       "version_minor": 0
      },
      "text/plain": [
       "cmn_Hans.parquet:   0%|          | 0.00/118k [00:00<?, ?B/s]"
      ]
     },
     "metadata": {},
     "output_type": "display_data"
    },
    {
     "data": {
      "application/vnd.jupyter.widget-view+json": {
       "model_id": "e210d5f0622341ec93673825d98b70e8",
       "version_major": 2,
       "version_minor": 0
      },
      "text/plain": [
       "ckb_Arab.parquet:   0%|          | 0.00/144k [00:00<?, ?B/s]"
      ]
     },
     "metadata": {},
     "output_type": "display_data"
    },
    {
     "data": {
      "application/vnd.jupyter.widget-view+json": {
       "model_id": "ee88a4c0a8f7437097cf8ca356016bf4",
       "version_major": 2,
       "version_minor": 0
      },
      "text/plain": [
       "crh_Latn.parquet:   0%|          | 0.00/121k [00:00<?, ?B/s]"
      ]
     },
     "metadata": {},
     "output_type": "display_data"
    },
    {
     "data": {
      "application/vnd.jupyter.widget-view+json": {
       "model_id": "e1c206858322468faf3c96313b852ab3",
       "version_major": 2,
       "version_minor": 0
      },
      "text/plain": [
       "ceb_Latn.parquet:   0%|          | 0.00/121k [00:00<?, ?B/s]"
      ]
     },
     "metadata": {},
     "output_type": "display_data"
    },
    {
     "data": {
      "application/vnd.jupyter.widget-view+json": {
       "model_id": "35fa621840dd41ad8052f7fd47a80cad",
       "version_major": 2,
       "version_minor": 0
      },
      "text/plain": [
       "bul_Cyrl.parquet:   0%|          | 0.00/150k [00:00<?, ?B/s]"
      ]
     },
     "metadata": {},
     "output_type": "display_data"
    },
    {
     "data": {
      "application/vnd.jupyter.widget-view+json": {
       "model_id": "6edfaf5090f248d2901bb3563c0252bb",
       "version_major": 2,
       "version_minor": 0
      },
      "text/plain": [
       "chv_Cyrl.parquet:   0%|          | 0.00/155k [00:00<?, ?B/s]"
      ]
     },
     "metadata": {},
     "output_type": "display_data"
    },
    {
     "data": {
      "application/vnd.jupyter.widget-view+json": {
       "model_id": "a0d0e71d610e4eddb8f2b837f28befdf",
       "version_major": 2,
       "version_minor": 0
      },
      "text/plain": [
       "dan_Latn.parquet:   0%|          | 0.00/117k [00:00<?, ?B/s]"
      ]
     },
     "metadata": {},
     "output_type": "display_data"
    },
    {
     "data": {
      "application/vnd.jupyter.widget-view+json": {
       "model_id": "89fcd120ab1f4410be763796926d626b",
       "version_major": 2,
       "version_minor": 0
      },
      "text/plain": [
       "ces_Latn.parquet:   0%|          | 0.00/126k [00:00<?, ?B/s]"
      ]
     },
     "metadata": {},
     "output_type": "display_data"
    },
    {
     "data": {
      "application/vnd.jupyter.widget-view+json": {
       "model_id": "71a01b10e55549f18061274dc90016c7",
       "version_major": 2,
       "version_minor": 0
      },
      "text/plain": [
       "cat_Latn.parquet:   0%|          | 0.00/123k [00:00<?, ?B/s]"
      ]
     },
     "metadata": {},
     "output_type": "display_data"
    },
    {
     "data": {
      "application/vnd.jupyter.widget-view+json": {
       "model_id": "9e82583c80c94f258c776f154e46494f",
       "version_major": 2,
       "version_minor": 0
      },
      "text/plain": [
       "deu_Latn.parquet:   0%|          | 0.00/128k [00:00<?, ?B/s]"
      ]
     },
     "metadata": {},
     "output_type": "display_data"
    },
    {
     "data": {
      "application/vnd.jupyter.widget-view+json": {
       "model_id": "da8fae011c944c03a2c090ba434cb6bc",
       "version_major": 2,
       "version_minor": 0
      },
      "text/plain": [
       "dgo_Deva.parquet:   0%|          | 0.00/168k [00:00<?, ?B/s]"
      ]
     },
     "metadata": {},
     "output_type": "display_data"
    },
    {
     "data": {
      "application/vnd.jupyter.widget-view+json": {
       "model_id": "dca06203b6144e70ab93ccf76a88026a",
       "version_major": 2,
       "version_minor": 0
      },
      "text/plain": [
       "eng_Latn.parquet:   0%|          | 0.00/112k [00:00<?, ?B/s]"
      ]
     },
     "metadata": {},
     "output_type": "display_data"
    },
    {
     "data": {
      "application/vnd.jupyter.widget-view+json": {
       "model_id": "ba68345f67a74dd49f54a6dc6e16e702",
       "version_major": 2,
       "version_minor": 0
      },
      "text/plain": [
       "fil_Latn.parquet:   0%|          | 0.00/125k [00:00<?, ?B/s]"
      ]
     },
     "metadata": {},
     "output_type": "display_data"
    },
    {
     "data": {
      "application/vnd.jupyter.widget-view+json": {
       "model_id": "708d40e768ee4e058c5f3307630333bf",
       "version_major": 2,
       "version_minor": 0
      },
      "text/plain": [
       "fij_Latn.parquet:   0%|          | 0.00/111k [00:00<?, ?B/s]"
      ]
     },
     "metadata": {},
     "output_type": "display_data"
    },
    {
     "data": {
      "application/vnd.jupyter.widget-view+json": {
       "model_id": "0ecb78e7ad51442eb602bb36b8101286",
       "version_major": 2,
       "version_minor": 0
      },
      "text/plain": [
       "fra_Latn.parquet:   0%|          | 0.00/129k [00:00<?, ?B/s]"
      ]
     },
     "metadata": {},
     "output_type": "display_data"
    },
    {
     "data": {
      "application/vnd.jupyter.widget-view+json": {
       "model_id": "6e1692f983a7474cba06ced1353eb39c",
       "version_major": 2,
       "version_minor": 0
      },
      "text/plain": [
       "epo_Latn.parquet:   0%|          | 0.00/114k [00:00<?, ?B/s]"
      ]
     },
     "metadata": {},
     "output_type": "display_data"
    },
    {
     "data": {
      "application/vnd.jupyter.widget-view+json": {
       "model_id": "e932c27952e44e5ead8b26d8d81b3322",
       "version_major": 2,
       "version_minor": 0
      },
      "text/plain": [
       "fao_Latn.parquet:   0%|          | 0.00/119k [00:00<?, ?B/s]"
      ]
     },
     "metadata": {},
     "output_type": "display_data"
    },
    {
     "data": {
      "application/vnd.jupyter.widget-view+json": {
       "model_id": "65c20afdc7634898a3d1b14cf4bbaff4",
       "version_major": 2,
       "version_minor": 0
      },
      "text/plain": [
       "dzo_Tibt.parquet:   0%|          | 0.00/178k [00:00<?, ?B/s]"
      ]
     },
     "metadata": {},
     "output_type": "display_data"
    },
    {
     "data": {
      "application/vnd.jupyter.widget-view+json": {
       "model_id": "ca0d052ba75b4a39b61a62642e3ee75a",
       "version_major": 2,
       "version_minor": 0
      },
      "text/plain": [
       "ell_Grek.parquet:   0%|          | 0.00/171k [00:00<?, ?B/s]"
      ]
     },
     "metadata": {},
     "output_type": "display_data"
    },
    {
     "data": {
      "application/vnd.jupyter.widget-view+json": {
       "model_id": "0e82095d7ba143158467c330efbf8a39",
       "version_major": 2,
       "version_minor": 0
      },
      "text/plain": [
       "ewe_Latn.parquet:   0%|          | 0.00/111k [00:00<?, ?B/s]"
      ]
     },
     "metadata": {},
     "output_type": "display_data"
    },
    {
     "data": {
      "application/vnd.jupyter.widget-view+json": {
       "model_id": "41d59727cf1b47169f326a07773a3292",
       "version_major": 2,
       "version_minor": 0
      },
      "text/plain": [
       "fur_Latn.parquet:   0%|          | 0.00/122k [00:00<?, ?B/s]"
      ]
     },
     "metadata": {},
     "output_type": "display_data"
    },
    {
     "data": {
      "application/vnd.jupyter.widget-view+json": {
       "model_id": "e92e25effe824c43818dbc7cecf5c87e",
       "version_major": 2,
       "version_minor": 0
      },
      "text/plain": [
       "dik_Latn.parquet:   0%|          | 0.00/106k [00:00<?, ?B/s]"
      ]
     },
     "metadata": {},
     "output_type": "display_data"
    },
    {
     "data": {
      "application/vnd.jupyter.widget-view+json": {
       "model_id": "bdea59744a3246028af17bfc87327635",
       "version_major": 2,
       "version_minor": 0
      },
      "text/plain": [
       "fon_Latn.parquet:   0%|          | 0.00/125k [00:00<?, ?B/s]"
      ]
     },
     "metadata": {},
     "output_type": "display_data"
    },
    {
     "data": {
      "application/vnd.jupyter.widget-view+json": {
       "model_id": "c83791a6c35442daa5dcd632f8a8f4c1",
       "version_major": 2,
       "version_minor": 0
      },
      "text/plain": [
       "ekk_Latn.parquet:   0%|          | 0.00/118k [00:00<?, ?B/s]"
      ]
     },
     "metadata": {},
     "output_type": "display_data"
    },
    {
     "data": {
      "application/vnd.jupyter.widget-view+json": {
       "model_id": "0f433d856285476cb3f1100bb13b1af4",
       "version_major": 2,
       "version_minor": 0
      },
      "text/plain": [
       "eus_Latn.parquet:   0%|          | 0.00/116k [00:00<?, ?B/s]"
      ]
     },
     "metadata": {},
     "output_type": "display_data"
    },
    {
     "data": {
      "application/vnd.jupyter.widget-view+json": {
       "model_id": "2491308a19804693a3f97a66679af3ff",
       "version_major": 2,
       "version_minor": 0
      },
      "text/plain": [
       "dyu_Latn.parquet:   0%|          | 0.00/123k [00:00<?, ?B/s]"
      ]
     },
     "metadata": {},
     "output_type": "display_data"
    },
    {
     "data": {
      "application/vnd.jupyter.widget-view+json": {
       "model_id": "033c1bdb30f84bb89d7748096b2ff812",
       "version_major": 2,
       "version_minor": 0
      },
      "text/plain": [
       "fin_Latn.parquet:   0%|          | 0.00/124k [00:00<?, ?B/s]"
      ]
     },
     "metadata": {},
     "output_type": "display_data"
    },
    {
     "data": {
      "application/vnd.jupyter.widget-view+json": {
       "model_id": "cf90db7eced34485ae7a87f890214ae0",
       "version_major": 2,
       "version_minor": 0
      },
      "text/plain": [
       "gaz_Latn.parquet:   0%|          | 0.00/125k [00:00<?, ?B/s]"
      ]
     },
     "metadata": {},
     "output_type": "display_data"
    },
    {
     "data": {
      "application/vnd.jupyter.widget-view+json": {
       "model_id": "5e414dafef7147b388eb725a40c2909b",
       "version_major": 2,
       "version_minor": 0
      },
      "text/plain": [
       "gla_Latn.parquet:   0%|          | 0.00/128k [00:00<?, ?B/s]"
      ]
     },
     "metadata": {},
     "output_type": "display_data"
    },
    {
     "data": {
      "application/vnd.jupyter.widget-view+json": {
       "model_id": "c9760ab888f3469487ea1ab42b6be91e",
       "version_major": 2,
       "version_minor": 0
      },
      "text/plain": [
       "hin_Deva.parquet:   0%|          | 0.00/161k [00:00<?, ?B/s]"
      ]
     },
     "metadata": {},
     "output_type": "display_data"
    },
    {
     "data": {
      "application/vnd.jupyter.widget-view+json": {
       "model_id": "b30bc3ab229b4261996c5ee5a13e41e1",
       "version_major": 2,
       "version_minor": 0
      },
      "text/plain": [
       "glg_Latn.parquet:   0%|          | 0.00/123k [00:00<?, ?B/s]"
      ]
     },
     "metadata": {},
     "output_type": "display_data"
    },
    {
     "data": {
      "application/vnd.jupyter.widget-view+json": {
       "model_id": "d6865f8280d247f69135696097176ebf",
       "version_major": 2,
       "version_minor": 0
      },
      "text/plain": [
       "hrv_Latn.parquet:   0%|          | 0.00/119k [00:00<?, ?B/s]"
      ]
     },
     "metadata": {},
     "output_type": "display_data"
    },
    {
     "data": {
      "application/vnd.jupyter.widget-view+json": {
       "model_id": "7e658fe95fca4386a596ee362f4f4562",
       "version_major": 2,
       "version_minor": 0
      },
      "text/plain": [
       "hat_Latn.parquet:   0%|          | 0.00/108k [00:00<?, ?B/s]"
      ]
     },
     "metadata": {},
     "output_type": "display_data"
    },
    {
     "data": {
      "application/vnd.jupyter.widget-view+json": {
       "model_id": "99489a31e1594e9c84847c977162dc40",
       "version_major": 2,
       "version_minor": 0
      },
      "text/plain": [
       "hne_Deva.parquet:   0%|          | 0.00/157k [00:00<?, ?B/s]"
      ]
     },
     "metadata": {},
     "output_type": "display_data"
    },
    {
     "data": {
      "application/vnd.jupyter.widget-view+json": {
       "model_id": "d32b8d80bbe345c282594ba29697747f",
       "version_major": 2,
       "version_minor": 0
      },
      "text/plain": [
       "gug_Latn.parquet:   0%|          | 0.00/115k [00:00<?, ?B/s]"
      ]
     },
     "metadata": {},
     "output_type": "display_data"
    },
    {
     "data": {
      "application/vnd.jupyter.widget-view+json": {
       "model_id": "1c71e54c4b224fcbad397bf991d6eedf",
       "version_major": 2,
       "version_minor": 0
      },
      "text/plain": [
       "gom_Deva.parquet:   0%|          | 0.00/160k [00:00<?, ?B/s]"
      ]
     },
     "metadata": {},
     "output_type": "display_data"
    },
    {
     "data": {
      "application/vnd.jupyter.widget-view+json": {
       "model_id": "e4fefc9e79d240c49273883ed1c2ea4c",
       "version_major": 2,
       "version_minor": 0
      },
      "text/plain": [
       "heb_Hebr.parquet:   0%|          | 0.00/125k [00:00<?, ?B/s]"
      ]
     },
     "metadata": {},
     "output_type": "display_data"
    },
    {
     "data": {
      "application/vnd.jupyter.widget-view+json": {
       "model_id": "5d832bb014ab4d48a28c0802cd3e3847",
       "version_major": 2,
       "version_minor": 0
      },
      "text/plain": [
       "hau_Latn.parquet:   0%|          | 0.00/117k [00:00<?, ?B/s]"
      ]
     },
     "metadata": {},
     "output_type": "display_data"
    },
    {
     "data": {
      "application/vnd.jupyter.widget-view+json": {
       "model_id": "9dbd6335dcaf45bdbbcc4f110183f342",
       "version_major": 2,
       "version_minor": 0
      },
      "text/plain": [
       "fuv_Latn.parquet:   0%|          | 0.00/112k [00:00<?, ?B/s]"
      ]
     },
     "metadata": {},
     "output_type": "display_data"
    },
    {
     "data": {
      "application/vnd.jupyter.widget-view+json": {
       "model_id": "c65220bdcfc84839a134143c4a6cfc60",
       "version_major": 2,
       "version_minor": 0
      },
      "text/plain": [
       "hun_Latn.parquet:   0%|          | 0.00/128k [00:00<?, ?B/s]"
      ]
     },
     "metadata": {},
     "output_type": "display_data"
    },
    {
     "data": {
      "application/vnd.jupyter.widget-view+json": {
       "model_id": "bc497cfd7e2e4d5aaf29f651b32b074b",
       "version_major": 2,
       "version_minor": 0
      },
      "text/plain": [
       "hye_Armn.parquet:   0%|          | 0.00/158k [00:00<?, ?B/s]"
      ]
     },
     "metadata": {},
     "output_type": "display_data"
    },
    {
     "data": {
      "application/vnd.jupyter.widget-view+json": {
       "model_id": "23e12c0d70914f72b2d4e83a1e607144",
       "version_major": 2,
       "version_minor": 0
      },
      "text/plain": [
       "gle_Latn.parquet:   0%|          | 0.00/129k [00:00<?, ?B/s]"
      ]
     },
     "metadata": {},
     "output_type": "display_data"
    },
    {
     "data": {
      "application/vnd.jupyter.widget-view+json": {
       "model_id": "fcb60620849b4c3bb0b438ce2f6f5f5e",
       "version_major": 2,
       "version_minor": 0
      },
      "text/plain": [
       "guj_Gujr.parquet:   0%|          | 0.00/162k [00:00<?, ?B/s]"
      ]
     },
     "metadata": {},
     "output_type": "display_data"
    },
    {
     "data": {
      "application/vnd.jupyter.widget-view+json": {
       "model_id": "988b853c30a64e7d90cbee0522e11999",
       "version_major": 2,
       "version_minor": 0
      },
      "text/plain": [
       "ilo_Latn.parquet:   0%|          | 0.00/123k [00:00<?, ?B/s]"
      ]
     },
     "metadata": {},
     "output_type": "display_data"
    },
    {
     "data": {
      "application/vnd.jupyter.widget-view+json": {
       "model_id": "735568e7b6d74e6baa5f4b3ad7223fab",
       "version_major": 2,
       "version_minor": 0
      },
      "text/plain": [
       "ibo_Latn.parquet:   0%|          | 0.00/118k [00:00<?, ?B/s]"
      ]
     },
     "metadata": {},
     "output_type": "display_data"
    },
    {
     "data": {
      "application/vnd.jupyter.widget-view+json": {
       "model_id": "70c27ef1187f49779528fbfd4c6f5834",
       "version_major": 2,
       "version_minor": 0
      },
      "text/plain": [
       "ind_Latn.parquet:   0%|          | 0.00/113k [00:00<?, ?B/s]"
      ]
     },
     "metadata": {},
     "output_type": "display_data"
    },
    {
     "data": {
      "application/vnd.jupyter.widget-view+json": {
       "model_id": "05c1eff58b354abf962fb9052397dc3f",
       "version_major": 2,
       "version_minor": 0
      },
      "text/plain": [
       "isl_Latn.parquet:   0%|          | 0.00/121k [00:00<?, ?B/s]"
      ]
     },
     "metadata": {},
     "output_type": "display_data"
    },
    {
     "data": {
      "application/vnd.jupyter.widget-view+json": {
       "model_id": "67646f7a04ef42c0bc3a4637553665d4",
       "version_major": 2,
       "version_minor": 0
      },
      "text/plain": [
       "kab_Latn.parquet:   0%|          | 0.00/117k [00:00<?, ?B/s]"
      ]
     },
     "metadata": {},
     "output_type": "display_data"
    },
    {
     "data": {
      "application/vnd.jupyter.widget-view+json": {
       "model_id": "6bfc507e937a42b596d73f1ae91ec2e0",
       "version_major": 2,
       "version_minor": 0
      },
      "text/plain": [
       "kat_Geor.parquet:   0%|          | 0.00/171k [00:00<?, ?B/s]"
      ]
     },
     "metadata": {},
     "output_type": "display_data"
    },
    {
     "data": {
      "application/vnd.jupyter.widget-view+json": {
       "model_id": "5bed804c2e1042f48563d3f1a0330715",
       "version_major": 2,
       "version_minor": 0
      },
      "text/plain": [
       "kas_Deva.parquet:   0%|          | 0.00/163k [00:00<?, ?B/s]"
      ]
     },
     "metadata": {},
     "output_type": "display_data"
    },
    {
     "data": {
      "application/vnd.jupyter.widget-view+json": {
       "model_id": "0749a02bf30d4656bb12f4d3bdb6cc2a",
       "version_major": 2,
       "version_minor": 0
      },
      "text/plain": [
       "kas_Arab.parquet:   0%|          | 0.00/150k [00:00<?, ?B/s]"
      ]
     },
     "metadata": {},
     "output_type": "display_data"
    },
    {
     "data": {
      "application/vnd.jupyter.widget-view+json": {
       "model_id": "b7d662ca825c4a88b1c9220e96f2154a",
       "version_major": 2,
       "version_minor": 0
      },
      "text/plain": [
       "kbp_Latn.parquet:   0%|          | 0.00/124k [00:00<?, ?B/s]"
      ]
     },
     "metadata": {},
     "output_type": "display_data"
    },
    {
     "data": {
      "application/vnd.jupyter.widget-view+json": {
       "model_id": "475b57ad6b7345a5b294255b2d70e47c",
       "version_major": 2,
       "version_minor": 0
      },
      "text/plain": [
       "kan_Knda.parquet:   0%|          | 0.00/175k [00:00<?, ?B/s]"
      ]
     },
     "metadata": {},
     "output_type": "display_data"
    },
    {
     "data": {
      "application/vnd.jupyter.widget-view+json": {
       "model_id": "002511054d144c2a8fadfb1ded834f48",
       "version_major": 2,
       "version_minor": 0
      },
      "text/plain": [
       "jav_Latn.parquet:   0%|          | 0.00/112k [00:00<?, ?B/s]"
      ]
     },
     "metadata": {},
     "output_type": "display_data"
    },
    {
     "data": {
      "application/vnd.jupyter.widget-view+json": {
       "model_id": "59e6a849fe404b1ba9713c92490852e6",
       "version_major": 2,
       "version_minor": 0
      },
      "text/plain": [
       "kac_Latn.parquet:   0%|          | 0.00/120k [00:00<?, ?B/s]"
      ]
     },
     "metadata": {},
     "output_type": "display_data"
    },
    {
     "data": {
      "application/vnd.jupyter.widget-view+json": {
       "model_id": "b714f67e06a6488e93c6dbdb81b6c119",
       "version_major": 2,
       "version_minor": 0
      },
      "text/plain": [
       "jpn_Jpan.parquet:   0%|          | 0.00/127k [00:00<?, ?B/s]"
      ]
     },
     "metadata": {},
     "output_type": "display_data"
    },
    {
     "data": {
      "application/vnd.jupyter.widget-view+json": {
       "model_id": "285ae4db71de4ee7951cef2d4f209553",
       "version_major": 2,
       "version_minor": 0
      },
      "text/plain": [
       "kaz_Cyrl.parquet:   0%|          | 0.00/148k [00:00<?, ?B/s]"
      ]
     },
     "metadata": {},
     "output_type": "display_data"
    },
    {
     "data": {
      "application/vnd.jupyter.widget-view+json": {
       "model_id": "35909c5027c44d15b067563a05b158cd",
       "version_major": 2,
       "version_minor": 0
      },
      "text/plain": [
       "ita_Latn.parquet:   0%|          | 0.00/127k [00:00<?, ?B/s]"
      ]
     },
     "metadata": {},
     "output_type": "display_data"
    },
    {
     "data": {
      "application/vnd.jupyter.widget-view+json": {
       "model_id": "acdeed709f03489f9134739f1a0586e3",
       "version_major": 2,
       "version_minor": 0
      },
      "text/plain": [
       "kam_Latn.parquet:   0%|          | 0.00/116k [00:00<?, ?B/s]"
      ]
     },
     "metadata": {},
     "output_type": "display_data"
    },
    {
     "data": {
      "application/vnd.jupyter.widget-view+json": {
       "model_id": "b7ab4fa47e9d45efa031788a1ab055cf",
       "version_major": 2,
       "version_minor": 0
      },
      "text/plain": [
       "kea_Latn.parquet:   0%|          | 0.00/113k [00:00<?, ?B/s]"
      ]
     },
     "metadata": {},
     "output_type": "display_data"
    },
    {
     "data": {
      "application/vnd.jupyter.widget-view+json": {
       "model_id": "288b05c594854234acc78d4ef24c76fb",
       "version_major": 2,
       "version_minor": 0
      },
      "text/plain": [
       "khm_Khmr.parquet:   0%|          | 0.00/205k [00:00<?, ?B/s]"
      ]
     },
     "metadata": {},
     "output_type": "display_data"
    },
    {
     "data": {
      "application/vnd.jupyter.widget-view+json": {
       "model_id": "f0031c762fe1467289cf3564c66a393e",
       "version_major": 2,
       "version_minor": 0
      },
      "text/plain": [
       "khk_Cyrl.parquet:   0%|          | 0.00/150k [00:00<?, ?B/s]"
      ]
     },
     "metadata": {},
     "output_type": "display_data"
    },
    {
     "data": {
      "application/vnd.jupyter.widget-view+json": {
       "model_id": "3709e30606204f3891ac49c667e13a9e",
       "version_major": 2,
       "version_minor": 0
      },
      "text/plain": [
       "kik_Latn.parquet:   0%|          | 0.00/125k [00:00<?, ?B/s]"
      ]
     },
     "metadata": {},
     "output_type": "display_data"
    },
    {
     "data": {
      "application/vnd.jupyter.widget-view+json": {
       "model_id": "eec22dd5a9894428b1316f3217f0705b",
       "version_major": 2,
       "version_minor": 0
      },
      "text/plain": [
       "lin_Latn.parquet:   0%|          | 0.00/106k [00:00<?, ?B/s]"
      ]
     },
     "metadata": {},
     "output_type": "display_data"
    },
    {
     "data": {
      "application/vnd.jupyter.widget-view+json": {
       "model_id": "6f366fd13bab4487bc81269ef12ea39d",
       "version_major": 2,
       "version_minor": 0
      },
      "text/plain": [
       "kmb_Latn.parquet:   0%|          | 0.00/116k [00:00<?, ?B/s]"
      ]
     },
     "metadata": {},
     "output_type": "display_data"
    },
    {
     "data": {
      "application/vnd.jupyter.widget-view+json": {
       "model_id": "12d7af396c5e4c2182fc139a60c632a5",
       "version_major": 2,
       "version_minor": 0
      },
      "text/plain": [
       "knc_Arab.parquet:   0%|          | 0.00/131k [00:00<?, ?B/s]"
      ]
     },
     "metadata": {},
     "output_type": "display_data"
    },
    {
     "data": {
      "application/vnd.jupyter.widget-view+json": {
       "model_id": "453ca3ae21194168922ab758f7109b11",
       "version_major": 2,
       "version_minor": 0
      },
      "text/plain": [
       "lmo_Latn.parquet:   0%|          | 0.00/126k [00:00<?, ?B/s]"
      ]
     },
     "metadata": {},
     "output_type": "display_data"
    },
    {
     "data": {
      "application/vnd.jupyter.widget-view+json": {
       "model_id": "e221f7cfee6f412dbc2c2921cf1c45a3",
       "version_major": 2,
       "version_minor": 0
      },
      "text/plain": [
       "kir_Cyrl.parquet:   0%|          | 0.00/150k [00:00<?, ?B/s]"
      ]
     },
     "metadata": {},
     "output_type": "display_data"
    },
    {
     "data": {
      "application/vnd.jupyter.widget-view+json": {
       "model_id": "0927a71291b6468babea267acf0f65d6",
       "version_major": 2,
       "version_minor": 0
      },
      "text/plain": [
       "kor_Hang.parquet:   0%|          | 0.00/126k [00:00<?, ?B/s]"
      ]
     },
     "metadata": {},
     "output_type": "display_data"
    },
    {
     "data": {
      "application/vnd.jupyter.widget-view+json": {
       "model_id": "8834bd0509ec43f2855f85105abd9922",
       "version_major": 2,
       "version_minor": 0
      },
      "text/plain": [
       "kin_Latn.parquet:   0%|          | 0.00/120k [00:00<?, ?B/s]"
      ]
     },
     "metadata": {},
     "output_type": "display_data"
    },
    {
     "data": {
      "application/vnd.jupyter.widget-view+json": {
       "model_id": "e0153b632fd54e53bd1b82d383d3b7c8",
       "version_major": 2,
       "version_minor": 0
      },
      "text/plain": [
       "knc_Latn.parquet:   0%|          | 0.00/119k [00:00<?, ?B/s]"
      ]
     },
     "metadata": {},
     "output_type": "display_data"
    },
    {
     "data": {
      "application/vnd.jupyter.widget-view+json": {
       "model_id": "9e7477697b7f4685b203bfe8eab4c2c4",
       "version_major": 2,
       "version_minor": 0
      },
      "text/plain": [
       "lao_Laoo.parquet:   0%|          | 0.00/173k [00:00<?, ?B/s]"
      ]
     },
     "metadata": {},
     "output_type": "display_data"
    },
    {
     "data": {
      "application/vnd.jupyter.widget-view+json": {
       "model_id": "6ebce1e6fa394dc6bb5a66e221339f6b",
       "version_major": 2,
       "version_minor": 0
      },
      "text/plain": [
       "lim_Latn.parquet:   0%|          | 0.00/119k [00:00<?, ?B/s]"
      ]
     },
     "metadata": {},
     "output_type": "display_data"
    },
    {
     "data": {
      "application/vnd.jupyter.widget-view+json": {
       "model_id": "099f7b0a8d0240b3b23c98a1618c930f",
       "version_major": 2,
       "version_minor": 0
      },
      "text/plain": [
       "ktu_Latn.parquet:   0%|          | 0.00/110k [00:00<?, ?B/s]"
      ]
     },
     "metadata": {},
     "output_type": "display_data"
    },
    {
     "data": {
      "application/vnd.jupyter.widget-view+json": {
       "model_id": "4f45e53fabbf4160bb5a36a868be9a95",
       "version_major": 2,
       "version_minor": 0
      },
      "text/plain": [
       "lit_Latn.parquet:   0%|          | 0.00/123k [00:00<?, ?B/s]"
      ]
     },
     "metadata": {},
     "output_type": "display_data"
    },
    {
     "data": {
      "application/vnd.jupyter.widget-view+json": {
       "model_id": "2428b8394c9648f4b22231c00c8fba67",
       "version_major": 2,
       "version_minor": 0
      },
      "text/plain": [
       "kmr_Latn.parquet:   0%|          | 0.00/122k [00:00<?, ?B/s]"
      ]
     },
     "metadata": {},
     "output_type": "display_data"
    },
    {
     "data": {
      "application/vnd.jupyter.widget-view+json": {
       "model_id": "5e379d66282f4ac6885ea49c36190103",
       "version_major": 2,
       "version_minor": 0
      },
      "text/plain": [
       "lij_Latn.parquet:   0%|          | 0.00/126k [00:00<?, ?B/s]"
      ]
     },
     "metadata": {},
     "output_type": "display_data"
    },
    {
     "data": {
      "application/vnd.jupyter.widget-view+json": {
       "model_id": "e25d0e631e354b89832f3a0337398099",
       "version_major": 2,
       "version_minor": 0
      },
      "text/plain": [
       "ltg_Latn.parquet:   0%|          | 0.00/120k [00:00<?, ?B/s]"
      ]
     },
     "metadata": {},
     "output_type": "display_data"
    },
    {
     "data": {
      "application/vnd.jupyter.widget-view+json": {
       "model_id": "bd2b2a044c4142528eb8c787d263f3ad",
       "version_major": 2,
       "version_minor": 0
      },
      "text/plain": [
       "ltz_Latn.parquet:   0%|          | 0.00/125k [00:00<?, ?B/s]"
      ]
     },
     "metadata": {},
     "output_type": "display_data"
    },
    {
     "data": {
      "application/vnd.jupyter.widget-view+json": {
       "model_id": "e65c9aab651246a1a801594de74fc84a",
       "version_major": 2,
       "version_minor": 0
      },
      "text/plain": [
       "lvs_Latn.parquet:   0%|          | 0.00/125k [00:00<?, ?B/s]"
      ]
     },
     "metadata": {},
     "output_type": "display_data"
    },
    {
     "data": {
      "application/vnd.jupyter.widget-view+json": {
       "model_id": "58757a030c654b25bb144e181553971f",
       "version_major": 2,
       "version_minor": 0
      },
      "text/plain": [
       "lus_Latn.parquet:   0%|          | 0.00/116k [00:00<?, ?B/s]"
      ]
     },
     "metadata": {},
     "output_type": "display_data"
    },
    {
     "data": {
      "application/vnd.jupyter.widget-view+json": {
       "model_id": "2798d6f00ff446d1a7786c849379efcc",
       "version_major": 2,
       "version_minor": 0
      },
      "text/plain": [
       "lug_Latn.parquet:   0%|          | 0.00/118k [00:00<?, ?B/s]"
      ]
     },
     "metadata": {},
     "output_type": "display_data"
    },
    {
     "data": {
      "application/vnd.jupyter.widget-view+json": {
       "model_id": "ee21fc360e61479ca615c314fd346e3c",
       "version_major": 2,
       "version_minor": 0
      },
      "text/plain": [
       "lua_Latn.parquet:   0%|          | 0.00/113k [00:00<?, ?B/s]"
      ]
     },
     "metadata": {},
     "output_type": "display_data"
    },
    {
     "data": {
      "application/vnd.jupyter.widget-view+json": {
       "model_id": "e7dbc47cc6ca4b479d1c3356edf88208",
       "version_major": 2,
       "version_minor": 0
      },
      "text/plain": [
       "mhr_Cyrl.parquet:   0%|          | 0.00/151k [00:00<?, ?B/s]"
      ]
     },
     "metadata": {},
     "output_type": "display_data"
    },
    {
     "data": {
      "application/vnd.jupyter.widget-view+json": {
       "model_id": "43a17b1b74f543008540fe98aebc1fd1",
       "version_major": 2,
       "version_minor": 0
      },
      "text/plain": [
       "min_Arab.parquet:   0%|          | 0.00/137k [00:00<?, ?B/s]"
      ]
     },
     "metadata": {},
     "output_type": "display_data"
    },
    {
     "data": {
      "application/vnd.jupyter.widget-view+json": {
       "model_id": "254d5212945c4b87a30fbd3a6f4637b3",
       "version_major": 2,
       "version_minor": 0
      },
      "text/plain": [
       "min_Latn.parquet:   0%|          | 0.00/113k [00:00<?, ?B/s]"
      ]
     },
     "metadata": {},
     "output_type": "display_data"
    },
    {
     "data": {
      "application/vnd.jupyter.widget-view+json": {
       "model_id": "0681df64066d4facb52f8dae3220a4e3",
       "version_major": 2,
       "version_minor": 0
      },
      "text/plain": [
       "luo_Latn.parquet:   0%|          | 0.00/114k [00:00<?, ?B/s]"
      ]
     },
     "metadata": {},
     "output_type": "display_data"
    },
    {
     "data": {
      "application/vnd.jupyter.widget-view+json": {
       "model_id": "c72b67907e9d44fc84b286025b61d279",
       "version_major": 2,
       "version_minor": 0
      },
      "text/plain": [
       "mlt_Latn.parquet:   0%|          | 0.00/125k [00:00<?, ?B/s]"
      ]
     },
     "metadata": {},
     "output_type": "display_data"
    },
    {
     "data": {
      "application/vnd.jupyter.widget-view+json": {
       "model_id": "b111cd34bda34833995e2cc09a96c12c",
       "version_major": 2,
       "version_minor": 0
      },
      "text/plain": [
       "mar_Deva.parquet:   0%|          | 0.00/168k [00:00<?, ?B/s]"
      ]
     },
     "metadata": {},
     "output_type": "display_data"
    },
    {
     "data": {
      "application/vnd.jupyter.widget-view+json": {
       "model_id": "8482300d3ba542a29786db7fe13f92e0",
       "version_major": 2,
       "version_minor": 0
      },
      "text/plain": [
       "mal_Mlym.parquet:   0%|          | 0.00/184k [00:00<?, ?B/s]"
      ]
     },
     "metadata": {},
     "output_type": "display_data"
    },
    {
     "data": {
      "application/vnd.jupyter.widget-view+json": {
       "model_id": "b151850c916941df8339577d7f03c969",
       "version_major": 2,
       "version_minor": 0
      },
      "text/plain": [
       "mni_Mtei.parquet:   0%|          | 0.00/153k [00:00<?, ?B/s]"
      ]
     },
     "metadata": {},
     "output_type": "display_data"
    },
    {
     "data": {
      "application/vnd.jupyter.widget-view+json": {
       "model_id": "29488b9cebe5416a9af0429c161041e3",
       "version_major": 2,
       "version_minor": 0
      },
      "text/plain": [
       "mag_Deva.parquet:   0%|          | 0.00/154k [00:00<?, ?B/s]"
      ]
     },
     "metadata": {},
     "output_type": "display_data"
    },
    {
     "data": {
      "application/vnd.jupyter.widget-view+json": {
       "model_id": "23cc5824d65a46e7893cb023c7e5ec2f",
       "version_major": 2,
       "version_minor": 0
      },
      "text/plain": [
       "mni_Beng.parquet:   0%|          | 0.00/163k [00:00<?, ?B/s]"
      ]
     },
     "metadata": {},
     "output_type": "display_data"
    },
    {
     "data": {
      "application/vnd.jupyter.widget-view+json": {
       "model_id": "ffa4b495e6104ad391a8df99cfc58d4f",
       "version_major": 2,
       "version_minor": 0
      },
      "text/plain": [
       "mai_Deva.parquet:   0%|          | 0.00/158k [00:00<?, ?B/s]"
      ]
     },
     "metadata": {},
     "output_type": "display_data"
    },
    {
     "data": {
      "application/vnd.jupyter.widget-view+json": {
       "model_id": "e6d2eb470efa403da3e828cce53ec175",
       "version_major": 2,
       "version_minor": 0
      },
      "text/plain": [
       "mkd_Cyrl.parquet:   0%|          | 0.00/148k [00:00<?, ?B/s]"
      ]
     },
     "metadata": {},
     "output_type": "display_data"
    },
    {
     "data": {
      "application/vnd.jupyter.widget-view+json": {
       "model_id": "51deb8b9002c41c0bf4db34ede6a1a6a",
       "version_major": 2,
       "version_minor": 0
      },
      "text/plain": [
       "pag_Latn.parquet:   0%|          | 0.00/111k [00:00<?, ?B/s]"
      ]
     },
     "metadata": {},
     "output_type": "display_data"
    },
    {
     "data": {
      "application/vnd.jupyter.widget-view+json": {
       "model_id": "fe6579d3a5e641b28f25ee33d3dc4ebc",
       "version_major": 2,
       "version_minor": 0
      },
      "text/plain": [
       "nqo_Nkoo.parquet:   0%|          | 0.00/161k [00:00<?, ?B/s]"
      ]
     },
     "metadata": {},
     "output_type": "display_data"
    },
    {
     "data": {
      "application/vnd.jupyter.widget-view+json": {
       "model_id": "26f449469bf644829ec4d2c7b0336d9d",
       "version_major": 2,
       "version_minor": 0
      },
      "text/plain": [
       "oci_Latn.parquet:   0%|          | 0.00/125k [00:00<?, ?B/s]"
      ]
     },
     "metadata": {},
     "output_type": "display_data"
    },
    {
     "data": {
      "application/vnd.jupyter.widget-view+json": {
       "model_id": "3a27752080c64d72b78a427d9d23f5b3",
       "version_major": 2,
       "version_minor": 0
      },
      "text/plain": [
       "mya_Mymr.parquet:   0%|          | 0.00/185k [00:00<?, ?B/s]"
      ]
     },
     "metadata": {},
     "output_type": "display_data"
    },
    {
     "data": {
      "application/vnd.jupyter.widget-view+json": {
       "model_id": "e3aa267011fd406daa20c8430c7a647a",
       "version_major": 2,
       "version_minor": 0
      },
      "text/plain": [
       "npi_Deva.parquet:   0%|          | 0.00/161k [00:00<?, ?B/s]"
      ]
     },
     "metadata": {},
     "output_type": "display_data"
    },
    {
     "data": {
      "application/vnd.jupyter.widget-view+json": {
       "model_id": "fecca0ef308348cfbdd5e48ff50d7b6b",
       "version_major": 2,
       "version_minor": 0
      },
      "text/plain": [
       "nld_Latn.parquet:   0%|          | 0.00/121k [00:00<?, ?B/s]"
      ]
     },
     "metadata": {},
     "output_type": "display_data"
    },
    {
     "data": {
      "application/vnd.jupyter.widget-view+json": {
       "model_id": "81949e077b0e4a76b5bce9f8c29ef134",
       "version_major": 2,
       "version_minor": 0
      },
      "text/plain": [
       "mri_Latn.parquet:   0%|          | 0.00/113k [00:00<?, ?B/s]"
      ]
     },
     "metadata": {},
     "output_type": "display_data"
    },
    {
     "data": {
      "application/vnd.jupyter.widget-view+json": {
       "model_id": "d92e5bb812d6445b9cca993b811cedeb",
       "version_major": 2,
       "version_minor": 0
      },
      "text/plain": [
       "nno_Latn.parquet:   0%|          | 0.00/116k [00:00<?, ?B/s]"
      ]
     },
     "metadata": {},
     "output_type": "display_data"
    },
    {
     "data": {
      "application/vnd.jupyter.widget-view+json": {
       "model_id": "0794cb75712640d2826762598951b688",
       "version_major": 2,
       "version_minor": 0
      },
      "text/plain": [
       "myv_Cyrl.parquet:   0%|          | 0.00/151k [00:00<?, ?B/s]"
      ]
     },
     "metadata": {},
     "output_type": "display_data"
    },
    {
     "data": {
      "application/vnd.jupyter.widget-view+json": {
       "model_id": "dfc015e358d644298d162c457961b323",
       "version_major": 2,
       "version_minor": 0
      },
      "text/plain": [
       "oci_Latn_aran1260.parquet:   0%|          | 0.00/127k [00:00<?, ?B/s]"
      ]
     },
     "metadata": {},
     "output_type": "display_data"
    },
    {
     "data": {
      "application/vnd.jupyter.widget-view+json": {
       "model_id": "0dbb34866f4644df9a4fa2837292b49b",
       "version_major": 2,
       "version_minor": 0
      },
      "text/plain": [
       "ory_Orya.parquet:   0%|          | 0.00/169k [00:00<?, ?B/s]"
      ]
     },
     "metadata": {},
     "output_type": "display_data"
    },
    {
     "data": {
      "application/vnd.jupyter.widget-view+json": {
       "model_id": "ab408e828e8148bcb159cde0c7a8143a",
       "version_major": 2,
       "version_minor": 0
      },
      "text/plain": [
       "nob_Latn.parquet:   0%|          | 0.00/112k [00:00<?, ?B/s]"
      ]
     },
     "metadata": {},
     "output_type": "display_data"
    },
    {
     "data": {
      "application/vnd.jupyter.widget-view+json": {
       "model_id": "12bbcc9ed0ea42169a3daee20a34246d",
       "version_major": 2,
       "version_minor": 0
      },
      "text/plain": [
       "mos_Latn.parquet:   0%|          | 0.00/115k [00:00<?, ?B/s]"
      ]
     },
     "metadata": {},
     "output_type": "display_data"
    },
    {
     "data": {
      "application/vnd.jupyter.widget-view+json": {
       "model_id": "f9a95ebfcffc43c7b39816386147427b",
       "version_major": 2,
       "version_minor": 0
      },
      "text/plain": [
       "nso_Latn.parquet:   0%|          | 0.00/119k [00:00<?, ?B/s]"
      ]
     },
     "metadata": {},
     "output_type": "display_data"
    },
    {
     "data": {
      "application/vnd.jupyter.widget-view+json": {
       "model_id": "5ef811eb22f6449f95439a42c6bc7ddb",
       "version_major": 2,
       "version_minor": 0
      },
      "text/plain": [
       "nya_Latn.parquet:   0%|          | 0.00/117k [00:00<?, ?B/s]"
      ]
     },
     "metadata": {},
     "output_type": "display_data"
    },
    {
     "data": {
      "application/vnd.jupyter.widget-view+json": {
       "model_id": "7bc0bfcb39974a46918ce78df9d716ad",
       "version_major": 2,
       "version_minor": 0
      },
      "text/plain": [
       "nus_Latn.parquet:   0%|          | 0.00/124k [00:00<?, ?B/s]"
      ]
     },
     "metadata": {},
     "output_type": "display_data"
    },
    {
     "data": {
      "application/vnd.jupyter.widget-view+json": {
       "model_id": "c342be12ebf6467aa9bfa365355eaffa",
       "version_major": 2,
       "version_minor": 0
      },
      "text/plain": [
       "pan_Guru.parquet:   0%|          | 0.00/165k [00:00<?, ?B/s]"
      ]
     },
     "metadata": {},
     "output_type": "display_data"
    },
    {
     "data": {
      "application/vnd.jupyter.widget-view+json": {
       "model_id": "c55dbdc51d70429c92c6a43c419600b9",
       "version_major": 2,
       "version_minor": 0
      },
      "text/plain": [
       "pol_Latn.parquet:   0%|          | 0.00/129k [00:00<?, ?B/s]"
      ]
     },
     "metadata": {},
     "output_type": "display_data"
    },
    {
     "data": {
      "application/vnd.jupyter.widget-view+json": {
       "model_id": "284a292ca87d45ad837f50348e7058d5",
       "version_major": 2,
       "version_minor": 0
      },
      "text/plain": [
       "ron_Latn.parquet:   0%|          | 0.00/127k [00:00<?, ?B/s]"
      ]
     },
     "metadata": {},
     "output_type": "display_data"
    },
    {
     "data": {
      "application/vnd.jupyter.widget-view+json": {
       "model_id": "0ea74416e4e741cda7271fbc487d6251",
       "version_major": 2,
       "version_minor": 0
      },
      "text/plain": [
       "plt_Latn.parquet:   0%|          | 0.00/120k [00:00<?, ?B/s]"
      ]
     },
     "metadata": {},
     "output_type": "display_data"
    },
    {
     "data": {
      "application/vnd.jupyter.widget-view+json": {
       "model_id": "5dfdfe44bb004a32a872ecdc1b1343ed",
       "version_major": 2,
       "version_minor": 0
      },
      "text/plain": [
       "sat_Olck.parquet:   0%|          | 0.00/164k [00:00<?, ?B/s]"
      ]
     },
     "metadata": {},
     "output_type": "display_data"
    },
    {
     "data": {
      "application/vnd.jupyter.widget-view+json": {
       "model_id": "f7513c6487c04ce1bae92764cdce3dd0",
       "version_major": 2,
       "version_minor": 0
      },
      "text/plain": [
       "pbt_Arab.parquet:   0%|          | 0.00/145k [00:00<?, ?B/s]"
      ]
     },
     "metadata": {},
     "output_type": "display_data"
    },
    {
     "data": {
      "application/vnd.jupyter.widget-view+json": {
       "model_id": "3283398b6ff74139b2617d433a16942a",
       "version_major": 2,
       "version_minor": 0
      },
      "text/plain": [
       "san_Deva.parquet:   0%|          | 0.00/165k [00:00<?, ?B/s]"
      ]
     },
     "metadata": {},
     "output_type": "display_data"
    },
    {
     "data": {
      "application/vnd.jupyter.widget-view+json": {
       "model_id": "06db80fe19924120a8e9d8330857ba85",
       "version_major": 2,
       "version_minor": 0
      },
      "text/plain": [
       "rus_Cyrl.parquet:   0%|          | 0.00/163k [00:00<?, ?B/s]"
      ]
     },
     "metadata": {},
     "output_type": "display_data"
    },
    {
     "data": {
      "application/vnd.jupyter.widget-view+json": {
       "model_id": "00d6bca3fb66447885da0a4ff2b06325",
       "version_major": 2,
       "version_minor": 0
      },
      "text/plain": [
       "pap_Latn.parquet:   0%|          | 0.00/116k [00:00<?, ?B/s]"
      ]
     },
     "metadata": {},
     "output_type": "display_data"
    },
    {
     "data": {
      "application/vnd.jupyter.widget-view+json": {
       "model_id": "667da48f171d42cba200c124d1315152",
       "version_major": 2,
       "version_minor": 0
      },
      "text/plain": [
       "prs_Arab.parquet:   0%|          | 0.00/135k [00:00<?, ?B/s]"
      ]
     },
     "metadata": {},
     "output_type": "display_data"
    },
    {
     "data": {
      "application/vnd.jupyter.widget-view+json": {
       "model_id": "28b3d9cec6bc49779f678827f86c3af1",
       "version_major": 2,
       "version_minor": 0
      },
      "text/plain": [
       "sag_Latn.parquet:   0%|          | 0.00/107k [00:00<?, ?B/s]"
      ]
     },
     "metadata": {},
     "output_type": "display_data"
    },
    {
     "data": {
      "application/vnd.jupyter.widget-view+json": {
       "model_id": "4f7a708d3c094ee6b3280151c921b13c",
       "version_major": 2,
       "version_minor": 0
      },
      "text/plain": [
       "pes_Arab.parquet:   0%|          | 0.00/140k [00:00<?, ?B/s]"
      ]
     },
     "metadata": {},
     "output_type": "display_data"
    },
    {
     "data": {
      "application/vnd.jupyter.widget-view+json": {
       "model_id": "4e2e7fa021b3450dbd8fc63a3e53c39b",
       "version_major": 2,
       "version_minor": 0
      },
      "text/plain": [
       "scn_Latn.parquet:   0%|          | 0.00/122k [00:00<?, ?B/s]"
      ]
     },
     "metadata": {},
     "output_type": "display_data"
    },
    {
     "data": {
      "application/vnd.jupyter.widget-view+json": {
       "model_id": "317fc7b1a24d4715a5fe46e17e0f932e",
       "version_major": 2,
       "version_minor": 0
      },
      "text/plain": [
       "quy_Latn.parquet:   0%|          | 0.00/114k [00:00<?, ?B/s]"
      ]
     },
     "metadata": {},
     "output_type": "display_data"
    },
    {
     "data": {
      "application/vnd.jupyter.widget-view+json": {
       "model_id": "aa687facf1a84429affc686a0c25c34d",
       "version_major": 2,
       "version_minor": 0
      },
      "text/plain": [
       "run_Latn.parquet:   0%|          | 0.00/121k [00:00<?, ?B/s]"
      ]
     },
     "metadata": {},
     "output_type": "display_data"
    },
    {
     "data": {
      "application/vnd.jupyter.widget-view+json": {
       "model_id": "9136da116b2141d49bc372d21aee0dc1",
       "version_major": 2,
       "version_minor": 0
      },
      "text/plain": [
       "por_Latn.parquet:   0%|          | 0.00/122k [00:00<?, ?B/s]"
      ]
     },
     "metadata": {},
     "output_type": "display_data"
    },
    {
     "data": {
      "application/vnd.jupyter.widget-view+json": {
       "model_id": "2d1a878f301e49938b43653a200478bb",
       "version_major": 2,
       "version_minor": 0
      },
      "text/plain": [
       "slk_Latn.parquet:   0%|          | 0.00/128k [00:00<?, ?B/s]"
      ]
     },
     "metadata": {},
     "output_type": "display_data"
    },
    {
     "data": {
      "application/vnd.jupyter.widget-view+json": {
       "model_id": "a8afcb23cade4bb694aedc1aae45b83d",
       "version_major": 2,
       "version_minor": 0
      },
      "text/plain": [
       "som_Latn.parquet:   0%|          | 0.00/126k [00:00<?, ?B/s]"
      ]
     },
     "metadata": {},
     "output_type": "display_data"
    },
    {
     "data": {
      "application/vnd.jupyter.widget-view+json": {
       "model_id": "87c942162eb14fa98629ef5ba07c187d",
       "version_major": 2,
       "version_minor": 0
      },
      "text/plain": [
       "sun_Latn.parquet:   0%|          | 0.00/116k [00:00<?, ?B/s]"
      ]
     },
     "metadata": {},
     "output_type": "display_data"
    },
    {
     "data": {
      "application/vnd.jupyter.widget-view+json": {
       "model_id": "5ea2eadd59c44a4588d8e57a200ee11c",
       "version_major": 2,
       "version_minor": 0
      },
      "text/plain": [
       "srd_Latn.parquet:   0%|          | 0.00/123k [00:00<?, ?B/s]"
      ]
     },
     "metadata": {},
     "output_type": "display_data"
    },
    {
     "data": {
      "application/vnd.jupyter.widget-view+json": {
       "model_id": "e2c8289a74df4708be5b0f1d0bcd2d9c",
       "version_major": 2,
       "version_minor": 0
      },
      "text/plain": [
       "sin_Sinh.parquet:   0%|          | 0.00/174k [00:00<?, ?B/s]"
      ]
     },
     "metadata": {},
     "output_type": "display_data"
    },
    {
     "data": {
      "application/vnd.jupyter.widget-view+json": {
       "model_id": "1497621228c749fb86c2ca42bf501816",
       "version_major": 2,
       "version_minor": 0
      },
      "text/plain": [
       "slv_Latn.parquet:   0%|          | 0.00/119k [00:00<?, ?B/s]"
      ]
     },
     "metadata": {},
     "output_type": "display_data"
    },
    {
     "data": {
      "application/vnd.jupyter.widget-view+json": {
       "model_id": "d946b4e152a945a1a167f742bdf57688",
       "version_major": 2,
       "version_minor": 0
      },
      "text/plain": [
       "smo_Latn.parquet:   0%|          | 0.00/117k [00:00<?, ?B/s]"
      ]
     },
     "metadata": {},
     "output_type": "display_data"
    },
    {
     "data": {
      "application/vnd.jupyter.widget-view+json": {
       "model_id": "e17656fd19f14cfbb87c858c24d785cd",
       "version_major": 2,
       "version_minor": 0
      },
      "text/plain": [
       "srp_Cyrl.parquet:   0%|          | 0.00/148k [00:00<?, ?B/s]"
      ]
     },
     "metadata": {},
     "output_type": "display_data"
    },
    {
     "data": {
      "application/vnd.jupyter.widget-view+json": {
       "model_id": "9876bb569f2148e098693df34ce56f5c",
       "version_major": 2,
       "version_minor": 0
      },
      "text/plain": [
       "snd_Deva.parquet:   0%|          | 0.00/168k [00:00<?, ?B/s]"
      ]
     },
     "metadata": {},
     "output_type": "display_data"
    },
    {
     "data": {
      "application/vnd.jupyter.widget-view+json": {
       "model_id": "fbd66061a6f3447abce69e5a4844e6b7",
       "version_major": 2,
       "version_minor": 0
      },
      "text/plain": [
       "snd_Arab.parquet:   0%|          | 0.00/134k [00:00<?, ?B/s]"
      ]
     },
     "metadata": {},
     "output_type": "display_data"
    },
    {
     "data": {
      "application/vnd.jupyter.widget-view+json": {
       "model_id": "bab66e9917934b05aad70b51ffe3930a",
       "version_major": 2,
       "version_minor": 0
      },
      "text/plain": [
       "shn_Mymr.parquet:   0%|          | 0.00/213k [00:00<?, ?B/s]"
      ]
     },
     "metadata": {},
     "output_type": "display_data"
    },
    {
     "data": {
      "application/vnd.jupyter.widget-view+json": {
       "model_id": "d5c20d02f2f0417085806ea1c36ce36b",
       "version_major": 2,
       "version_minor": 0
      },
      "text/plain": [
       "sna_Latn.parquet:   0%|          | 0.00/119k [00:00<?, ?B/s]"
      ]
     },
     "metadata": {},
     "output_type": "display_data"
    },
    {
     "data": {
      "application/vnd.jupyter.widget-view+json": {
       "model_id": "084778e662b44a90bb6527c4f87116f5",
       "version_major": 2,
       "version_minor": 0
      },
      "text/plain": [
       "spa_Latn.parquet:   0%|          | 0.00/129k [00:00<?, ?B/s]"
      ]
     },
     "metadata": {},
     "output_type": "display_data"
    },
    {
     "data": {
      "application/vnd.jupyter.widget-view+json": {
       "model_id": "7bc3aa6720f1446aae05b00b3fa0608c",
       "version_major": 2,
       "version_minor": 0
      },
      "text/plain": [
       "sot_Latn.parquet:   0%|          | 0.00/121k [00:00<?, ?B/s]"
      ]
     },
     "metadata": {},
     "output_type": "display_data"
    },
    {
     "data": {
      "application/vnd.jupyter.widget-view+json": {
       "model_id": "73b037eb10b1437e9b843cccd442244f",
       "version_major": 2,
       "version_minor": 0
      },
      "text/plain": [
       "ssw_Latn.parquet:   0%|          | 0.00/121k [00:00<?, ?B/s]"
      ]
     },
     "metadata": {},
     "output_type": "display_data"
    },
    {
     "data": {
      "application/vnd.jupyter.widget-view+json": {
       "model_id": "52de78d1f7e446d98a5fab4fd3e7c7a1",
       "version_major": 2,
       "version_minor": 0
      },
      "text/plain": [
       "tam_Taml.parquet:   0%|          | 0.00/178k [00:00<?, ?B/s]"
      ]
     },
     "metadata": {},
     "output_type": "display_data"
    },
    {
     "data": {
      "application/vnd.jupyter.widget-view+json": {
       "model_id": "9ad16c6cda764a9d8e2615428b55289b",
       "version_major": 2,
       "version_minor": 0
      },
      "text/plain": [
       "taq_Latn.parquet:   0%|          | 0.00/116k [00:00<?, ?B/s]"
      ]
     },
     "metadata": {},
     "output_type": "display_data"
    },
    {
     "data": {
      "application/vnd.jupyter.widget-view+json": {
       "model_id": "fe4a36f8db464af9a81d2ff7a5e79bce",
       "version_major": 2,
       "version_minor": 0
      },
      "text/plain": [
       "tum_Latn.parquet:   0%|          | 0.00/125k [00:00<?, ?B/s]"
      ]
     },
     "metadata": {},
     "output_type": "display_data"
    },
    {
     "data": {
      "application/vnd.jupyter.widget-view+json": {
       "model_id": "8596061e416e40eda2c7efb095ec7ed9",
       "version_major": 2,
       "version_minor": 0
      },
      "text/plain": [
       "swh_Latn.parquet:   0%|          | 0.00/113k [00:00<?, ?B/s]"
      ]
     },
     "metadata": {},
     "output_type": "display_data"
    },
    {
     "data": {
      "application/vnd.jupyter.widget-view+json": {
       "model_id": "dc01d2ac5481493f8fe410787f5fe17c",
       "version_major": 2,
       "version_minor": 0
      },
      "text/plain": [
       "taq_Tfng.parquet:   0%|          | 0.00/152k [00:00<?, ?B/s]"
      ]
     },
     "metadata": {},
     "output_type": "display_data"
    },
    {
     "data": {
      "application/vnd.jupyter.widget-view+json": {
       "model_id": "4d9567a6214f4d549d30467c1f569aaa",
       "version_major": 2,
       "version_minor": 0
      },
      "text/plain": [
       "tat_Cyrl.parquet:   0%|          | 0.00/149k [00:00<?, ?B/s]"
      ]
     },
     "metadata": {},
     "output_type": "display_data"
    },
    {
     "data": {
      "application/vnd.jupyter.widget-view+json": {
       "model_id": "03b108cd62184bf798dd0d329592806a",
       "version_major": 2,
       "version_minor": 0
      },
      "text/plain": [
       "tso_Latn.parquet:   0%|          | 0.00/120k [00:00<?, ?B/s]"
      ]
     },
     "metadata": {},
     "output_type": "display_data"
    },
    {
     "data": {
      "application/vnd.jupyter.widget-view+json": {
       "model_id": "89b977b4d39549a08e51bd64c0f52c8d",
       "version_major": 2,
       "version_minor": 0
      },
      "text/plain": [
       "szl_Latn.parquet:   0%|          | 0.00/126k [00:00<?, ?B/s]"
      ]
     },
     "metadata": {},
     "output_type": "display_data"
    },
    {
     "data": {
      "application/vnd.jupyter.widget-view+json": {
       "model_id": "219a92a4c4bc4dd780e978b7110d7742",
       "version_major": 2,
       "version_minor": 0
      },
      "text/plain": [
       "tuk_Latn.parquet:   0%|          | 0.00/123k [00:00<?, ?B/s]"
      ]
     },
     "metadata": {},
     "output_type": "display_data"
    },
    {
     "data": {
      "application/vnd.jupyter.widget-view+json": {
       "model_id": "f0c9ba7025524bfe81a5c8dafcd2f360",
       "version_major": 2,
       "version_minor": 0
      },
      "text/plain": [
       "tel_Telu.parquet:   0%|          | 0.00/171k [00:00<?, ?B/s]"
      ]
     },
     "metadata": {},
     "output_type": "display_data"
    },
    {
     "data": {
      "application/vnd.jupyter.widget-view+json": {
       "model_id": "99273ee5fa194d17aa2b685d070b6d19",
       "version_major": 2,
       "version_minor": 0
      },
      "text/plain": [
       "tha_Thai.parquet:   0%|          | 0.00/173k [00:00<?, ?B/s]"
      ]
     },
     "metadata": {},
     "output_type": "display_data"
    },
    {
     "data": {
      "application/vnd.jupyter.widget-view+json": {
       "model_id": "aa3cb853adc847baa029b8dceffab45b",
       "version_major": 2,
       "version_minor": 0
      },
      "text/plain": [
       "tsn_Latn.parquet:   0%|          | 0.00/126k [00:00<?, ?B/s]"
      ]
     },
     "metadata": {},
     "output_type": "display_data"
    },
    {
     "data": {
      "application/vnd.jupyter.widget-view+json": {
       "model_id": "d2f7ec9a1c7446d2b669030a95ba2cd2",
       "version_major": 2,
       "version_minor": 0
      },
      "text/plain": [
       "tir_Ethi.parquet:   0%|          | 0.00/149k [00:00<?, ?B/s]"
      ]
     },
     "metadata": {},
     "output_type": "display_data"
    },
    {
     "data": {
      "application/vnd.jupyter.widget-view+json": {
       "model_id": "69b810b62bda4e07b51a5d3970e3b681",
       "version_major": 2,
       "version_minor": 0
      },
      "text/plain": [
       "tgk_Cyrl.parquet:   0%|          | 0.00/157k [00:00<?, ?B/s]"
      ]
     },
     "metadata": {},
     "output_type": "display_data"
    },
    {
     "data": {
      "application/vnd.jupyter.widget-view+json": {
       "model_id": "e2acef15ee094e53b0996708156335dd",
       "version_major": 2,
       "version_minor": 0
      },
      "text/plain": [
       "twi_Latn_akua1239.parquet:   0%|          | 0.00/111k [00:00<?, ?B/s]"
      ]
     },
     "metadata": {},
     "output_type": "display_data"
    },
    {
     "data": {
      "application/vnd.jupyter.widget-view+json": {
       "model_id": "953da3f45d2a4476a936917926a992b4",
       "version_major": 2,
       "version_minor": 0
      },
      "text/plain": [
       "tur_Latn.parquet:   0%|          | 0.00/122k [00:00<?, ?B/s]"
      ]
     },
     "metadata": {},
     "output_type": "display_data"
    },
    {
     "data": {
      "application/vnd.jupyter.widget-view+json": {
       "model_id": "e86c219620d64254a9cdff51197d3d5d",
       "version_major": 2,
       "version_minor": 0
      },
      "text/plain": [
       "tpi_Latn.parquet:   0%|          | 0.00/113k [00:00<?, ?B/s]"
      ]
     },
     "metadata": {},
     "output_type": "display_data"
    },
    {
     "data": {
      "application/vnd.jupyter.widget-view+json": {
       "model_id": "0373bf28a1c3492f833aacf8233f235a",
       "version_major": 2,
       "version_minor": 0
      },
      "text/plain": [
       "uig_Arab.parquet:   0%|          | 0.00/150k [00:00<?, ?B/s]"
      ]
     },
     "metadata": {},
     "output_type": "display_data"
    },
    {
     "data": {
      "application/vnd.jupyter.widget-view+json": {
       "model_id": "9015daf67311487f93255f84164d30c0",
       "version_major": 2,
       "version_minor": 0
      },
      "text/plain": [
       "tyv_Cyrl.parquet:   0%|          | 0.00/160k [00:00<?, ?B/s]"
      ]
     },
     "metadata": {},
     "output_type": "display_data"
    },
    {
     "data": {
      "application/vnd.jupyter.widget-view+json": {
       "model_id": "6b58daa9b1ac4234baea093d8a319b45",
       "version_major": 2,
       "version_minor": 0
      },
      "text/plain": [
       "umb_Latn.parquet:   0%|          | 0.00/110k [00:00<?, ?B/s]"
      ]
     },
     "metadata": {},
     "output_type": "display_data"
    },
    {
     "data": {
      "application/vnd.jupyter.widget-view+json": {
       "model_id": "db3ed4cf446947f8aeca77ad7a57dd38",
       "version_major": 2,
       "version_minor": 0
      },
      "text/plain": [
       "xho_Latn.parquet:   0%|          | 0.00/121k [00:00<?, ?B/s]"
      ]
     },
     "metadata": {},
     "output_type": "display_data"
    },
    {
     "data": {
      "application/vnd.jupyter.widget-view+json": {
       "model_id": "15af0b2597874e30a7328e05ab9db639",
       "version_major": 2,
       "version_minor": 0
      },
      "text/plain": [
       "twi_Latn_asan1239.parquet:   0%|          | 0.00/114k [00:00<?, ?B/s]"
      ]
     },
     "metadata": {},
     "output_type": "display_data"
    },
    {
     "data": {
      "application/vnd.jupyter.widget-view+json": {
       "model_id": "5a81a7139c9841a3b6e621484edf3425",
       "version_major": 2,
       "version_minor": 0
      },
      "text/plain": [
       "war_Latn.parquet:   0%|          | 0.00/122k [00:00<?, ?B/s]"
      ]
     },
     "metadata": {},
     "output_type": "display_data"
    },
    {
     "data": {
      "application/vnd.jupyter.widget-view+json": {
       "model_id": "875e76e8ce1f44ad8e5f0c8ab009db69",
       "version_major": 2,
       "version_minor": 0
      },
      "text/plain": [
       "swe_Latn.parquet:   0%|          | 0.00/117k [00:00<?, ?B/s]"
      ]
     },
     "metadata": {},
     "output_type": "display_data"
    },
    {
     "data": {
      "application/vnd.jupyter.widget-view+json": {
       "model_id": "0e7e7b69236548c882f85b9115a28e27",
       "version_major": 2,
       "version_minor": 0
      },
      "text/plain": [
       "vec_Latn.parquet:   0%|          | 0.00/118k [00:00<?, ?B/s]"
      ]
     },
     "metadata": {},
     "output_type": "display_data"
    },
    {
     "data": {
      "application/vnd.jupyter.widget-view+json": {
       "model_id": "7694ec8525f849df91d813a05e213cb1",
       "version_major": 2,
       "version_minor": 0
      },
      "text/plain": [
       "urd_Arab.parquet:   0%|          | 0.00/146k [00:00<?, ?B/s]"
      ]
     },
     "metadata": {},
     "output_type": "display_data"
    },
    {
     "data": {
      "application/vnd.jupyter.widget-view+json": {
       "model_id": "a4f42c4a0a694dd4ae87363952a15799",
       "version_major": 2,
       "version_minor": 0
      },
      "text/plain": [
       "wol_Latn.parquet:   0%|          | 0.00/117k [00:00<?, ?B/s]"
      ]
     },
     "metadata": {},
     "output_type": "display_data"
    },
    {
     "data": {
      "application/vnd.jupyter.widget-view+json": {
       "model_id": "f4794e74e8a84fa0bf99f0d98e1dba6d",
       "version_major": 2,
       "version_minor": 0
      },
      "text/plain": [
       "ukr_Cyrl.parquet:   0%|          | 0.00/157k [00:00<?, ?B/s]"
      ]
     },
     "metadata": {},
     "output_type": "display_data"
    },
    {
     "data": {
      "application/vnd.jupyter.widget-view+json": {
       "model_id": "0d09cdf0739540edb45632cc75ac4beb",
       "version_major": 2,
       "version_minor": 0
      },
      "text/plain": [
       "uzn_Latn.parquet:   0%|          | 0.00/121k [00:00<?, ?B/s]"
      ]
     },
     "metadata": {},
     "output_type": "display_data"
    },
    {
     "data": {
      "application/vnd.jupyter.widget-view+json": {
       "model_id": "2e3be72e5d2843fdaf6c868e12243256",
       "version_major": 2,
       "version_minor": 0
      },
      "text/plain": [
       "vie_Latn.parquet:   0%|          | 0.00/128k [00:00<?, ?B/s]"
      ]
     },
     "metadata": {},
     "output_type": "display_data"
    },
    {
     "data": {
      "application/vnd.jupyter.widget-view+json": {
       "model_id": "2187d32dd96145189e1ad14fcdaeffe5",
       "version_major": 2,
       "version_minor": 0
      },
      "text/plain": [
       "vmw_Latn.parquet:   0%|          | 0.00/121k [00:00<?, ?B/s]"
      ]
     },
     "metadata": {},
     "output_type": "display_data"
    },
    {
     "data": {
      "application/vnd.jupyter.widget-view+json": {
       "model_id": "801d0d896d434ceab543f9486387d62e",
       "version_major": 2,
       "version_minor": 0
      },
      "text/plain": [
       "wuu_Hans.parquet:   0%|          | 0.00/114k [00:00<?, ?B/s]"
      ]
     },
     "metadata": {},
     "output_type": "display_data"
    },
    {
     "data": {
      "application/vnd.jupyter.widget-view+json": {
       "model_id": "5580f78f2aff4f73be875c83265dd318",
       "version_major": 2,
       "version_minor": 0
      },
      "text/plain": [
       "yor_Latn.parquet:   0%|          | 0.00/132k [00:00<?, ?B/s]"
      ]
     },
     "metadata": {},
     "output_type": "display_data"
    },
    {
     "data": {
      "application/vnd.jupyter.widget-view+json": {
       "model_id": "bbe1f0d505f1421582fa6506957e7917",
       "version_major": 2,
       "version_minor": 0
      },
      "text/plain": [
       "ydd_Hebr.parquet:   0%|          | 0.00/148k [00:00<?, ?B/s]"
      ]
     },
     "metadata": {},
     "output_type": "display_data"
    },
    {
     "data": {
      "application/vnd.jupyter.widget-view+json": {
       "model_id": "553282d9b2de42fb924316b516108e42",
       "version_major": 2,
       "version_minor": 0
      },
      "text/plain": [
       "yue_Hant.parquet:   0%|          | 0.00/112k [00:00<?, ?B/s]"
      ]
     },
     "metadata": {},
     "output_type": "display_data"
    },
    {
     "data": {
      "application/vnd.jupyter.widget-view+json": {
       "model_id": "63fadc99552a41b594dc4a917cf54587",
       "version_major": 2,
       "version_minor": 0
      },
      "text/plain": [
       "zgh_Tfng.parquet:   0%|          | 0.00/154k [00:00<?, ?B/s]"
      ]
     },
     "metadata": {},
     "output_type": "display_data"
    },
    {
     "data": {
      "application/vnd.jupyter.widget-view+json": {
       "model_id": "2cd1701e61314cc3a9d08758e17eb60c",
       "version_major": 2,
       "version_minor": 0
      },
      "text/plain": [
       "zsm_Latn.parquet:   0%|          | 0.00/115k [00:00<?, ?B/s]"
      ]
     },
     "metadata": {},
     "output_type": "display_data"
    },
    {
     "data": {
      "application/vnd.jupyter.widget-view+json": {
       "model_id": "1fbaf6eeb7c341b788bd1a2f205c7125",
       "version_major": 2,
       "version_minor": 0
      },
      "text/plain": [
       "zul_Latn.parquet:   0%|          | 0.00/121k [00:00<?, ?B/s]"
      ]
     },
     "metadata": {},
     "output_type": "display_data"
    },
    {
     "data": {
      "application/vnd.jupyter.widget-view+json": {
       "model_id": "9160801c85ad4ec3b3dff8451f7930ad",
       "version_major": 2,
       "version_minor": 0
      },
      "text/plain": [
       "Downloading data:   0%|          | 0/213 [00:00<?, ?files/s]"
      ]
     },
     "metadata": {},
     "output_type": "display_data"
    },
    {
     "data": {
      "application/vnd.jupyter.widget-view+json": {
       "model_id": "8106e758b08c4783b594afc5968be0d3",
       "version_major": 2,
       "version_minor": 0
      },
      "text/plain": [
       "aeb_Arab.parquet:   0%|          | 0.00/139k [00:00<?, ?B/s]"
      ]
     },
     "metadata": {},
     "output_type": "display_data"
    },
    {
     "data": {
      "application/vnd.jupyter.widget-view+json": {
       "model_id": "3da911b7457a4abe929b6679ad6a03fb",
       "version_major": 2,
       "version_minor": 0
      },
      "text/plain": [
       "arb_Arab.parquet:   0%|          | 0.00/143k [00:00<?, ?B/s]"
      ]
     },
     "metadata": {},
     "output_type": "display_data"
    },
    {
     "data": {
      "application/vnd.jupyter.widget-view+json": {
       "model_id": "77ee1c4c3a9d4e398eec0e3716fae88a",
       "version_major": 2,
       "version_minor": 0
      },
      "text/plain": [
       "acm_Arab.parquet:   0%|          | 0.00/140k [00:00<?, ?B/s]"
      ]
     },
     "metadata": {},
     "output_type": "display_data"
    },
    {
     "data": {
      "application/vnd.jupyter.widget-view+json": {
       "model_id": "83d4c7f57c6046e99c88aefaeb89a801",
       "version_major": 2,
       "version_minor": 0
      },
      "text/plain": [
       "arg_Latn.parquet:   0%|          | 0.00/132k [00:00<?, ?B/s]"
      ]
     },
     "metadata": {},
     "output_type": "display_data"
    },
    {
     "data": {
      "application/vnd.jupyter.widget-view+json": {
       "model_id": "605d8f2ce3a24e5a9b1c25e27df5928c",
       "version_major": 2,
       "version_minor": 0
      },
      "text/plain": [
       "afr_Latn.parquet:   0%|          | 0.00/123k [00:00<?, ?B/s]"
      ]
     },
     "metadata": {},
     "output_type": "display_data"
    },
    {
     "data": {
      "application/vnd.jupyter.widget-view+json": {
       "model_id": "b090fe2ccd054dc584565d3f144e971a",
       "version_major": 2,
       "version_minor": 0
      },
      "text/plain": [
       "ace_Latn.parquet:   0%|          | 0.00/118k [00:00<?, ?B/s]"
      ]
     },
     "metadata": {},
     "output_type": "display_data"
    },
    {
     "data": {
      "application/vnd.jupyter.widget-view+json": {
       "model_id": "c6253e777e1c45ee875b06ef1ff3c37c",
       "version_major": 2,
       "version_minor": 0
      },
      "text/plain": [
       "amh_Ethi.parquet:   0%|          | 0.00/149k [00:00<?, ?B/s]"
      ]
     },
     "metadata": {},
     "output_type": "display_data"
    },
    {
     "data": {
      "application/vnd.jupyter.widget-view+json": {
       "model_id": "31b5a3fed8c540a7b968df655b200a62",
       "version_major": 2,
       "version_minor": 0
      },
      "text/plain": [
       "arz_Arab.parquet:   0%|          | 0.00/139k [00:00<?, ?B/s]"
      ]
     },
     "metadata": {},
     "output_type": "display_data"
    },
    {
     "data": {
      "application/vnd.jupyter.widget-view+json": {
       "model_id": "6b93950ea42a447da2e2a81aded46701",
       "version_major": 2,
       "version_minor": 0
      },
      "text/plain": [
       "arb_Latn.parquet:   0%|          | 0.00/136k [00:00<?, ?B/s]"
      ]
     },
     "metadata": {},
     "output_type": "display_data"
    },
    {
     "data": {
      "application/vnd.jupyter.widget-view+json": {
       "model_id": "c98cf941761548c9a411dc1ed643b7ee",
       "version_major": 2,
       "version_minor": 0
      },
      "text/plain": [
       "apc_Arab_sout3123.parquet:   0%|          | 0.00/135k [00:00<?, ?B/s]"
      ]
     },
     "metadata": {},
     "output_type": "display_data"
    },
    {
     "data": {
      "application/vnd.jupyter.widget-view+json": {
       "model_id": "a0c096a28a3f4c6498b670d37e45e30d",
       "version_major": 2,
       "version_minor": 0
      },
      "text/plain": [
       "ary_Arab.parquet:   0%|          | 0.00/140k [00:00<?, ?B/s]"
      ]
     },
     "metadata": {},
     "output_type": "display_data"
    },
    {
     "data": {
      "application/vnd.jupyter.widget-view+json": {
       "model_id": "de3d554e18894307ae3339cd0f3457ae",
       "version_major": 2,
       "version_minor": 0
      },
      "text/plain": [
       "als_Latn.parquet:   0%|          | 0.00/130k [00:00<?, ?B/s]"
      ]
     },
     "metadata": {},
     "output_type": "display_data"
    },
    {
     "data": {
      "application/vnd.jupyter.widget-view+json": {
       "model_id": "88cb14472b52444fa451e2b1b67480c7",
       "version_major": 2,
       "version_minor": 0
      },
      "text/plain": [
       "ars_Arab.parquet:   0%|          | 0.00/144k [00:00<?, ?B/s]"
      ]
     },
     "metadata": {},
     "output_type": "display_data"
    },
    {
     "data": {
      "application/vnd.jupyter.widget-view+json": {
       "model_id": "9539c3ad21ec4098b47d121bfd4b4a82",
       "version_major": 2,
       "version_minor": 0
      },
      "text/plain": [
       "ace_Arab.parquet:   0%|          | 0.00/130k [00:00<?, ?B/s]"
      ]
     },
     "metadata": {},
     "output_type": "display_data"
    },
    {
     "data": {
      "application/vnd.jupyter.widget-view+json": {
       "model_id": "d83cecbd0b7245c6b28c8bf6b3e9b8ff",
       "version_major": 2,
       "version_minor": 0
      },
      "text/plain": [
       "acq_Arab.parquet:   0%|          | 0.00/143k [00:00<?, ?B/s]"
      ]
     },
     "metadata": {},
     "output_type": "display_data"
    },
    {
     "data": {
      "application/vnd.jupyter.widget-view+json": {
       "model_id": "be9c0e31bb2240ae9e9c67b8b5240bd8",
       "version_major": 2,
       "version_minor": 0
      },
      "text/plain": [
       "apc_Arab_nort3139.parquet:   0%|          | 0.00/135k [00:00<?, ?B/s]"
      ]
     },
     "metadata": {},
     "output_type": "display_data"
    },
    {
     "data": {
      "application/vnd.jupyter.widget-view+json": {
       "model_id": "7e28173245e446a3aaa9bf9dac434fdf",
       "version_major": 2,
       "version_minor": 0
      },
      "text/plain": [
       "asm_Beng.parquet:   0%|          | 0.00/174k [00:00<?, ?B/s]"
      ]
     },
     "metadata": {},
     "output_type": "display_data"
    },
    {
     "data": {
      "application/vnd.jupyter.widget-view+json": {
       "model_id": "18e528326d7a479e87435029e6bdc00c",
       "version_major": 2,
       "version_minor": 0
      },
      "text/plain": [
       "awa_Deva.parquet:   0%|          | 0.00/165k [00:00<?, ?B/s]"
      ]
     },
     "metadata": {},
     "output_type": "display_data"
    },
    {
     "data": {
      "application/vnd.jupyter.widget-view+json": {
       "model_id": "4dc625fa2c534d1ab031c13f0a18e848",
       "version_major": 2,
       "version_minor": 0
      },
      "text/plain": [
       "bak_Cyrl.parquet:   0%|          | 0.00/155k [00:00<?, ?B/s]"
      ]
     },
     "metadata": {},
     "output_type": "display_data"
    },
    {
     "data": {
      "application/vnd.jupyter.widget-view+json": {
       "model_id": "bfce5986ed934b478b9a523c23406a24",
       "version_major": 2,
       "version_minor": 0
      },
      "text/plain": [
       "bjn_Latn.parquet:   0%|          | 0.00/116k [00:00<?, ?B/s]"
      ]
     },
     "metadata": {},
     "output_type": "display_data"
    },
    {
     "data": {
      "application/vnd.jupyter.widget-view+json": {
       "model_id": "0045357054584017b71eacfc2a7b8287",
       "version_major": 2,
       "version_minor": 0
      },
      "text/plain": [
       "bam_Latn.parquet:   0%|          | 0.00/116k [00:00<?, ?B/s]"
      ]
     },
     "metadata": {},
     "output_type": "display_data"
    },
    {
     "data": {
      "application/vnd.jupyter.widget-view+json": {
       "model_id": "3f3ae844c91245a29b5c669cc1aa79be",
       "version_major": 2,
       "version_minor": 0
      },
      "text/plain": [
       "bho_Deva.parquet:   0%|          | 0.00/163k [00:00<?, ?B/s]"
      ]
     },
     "metadata": {},
     "output_type": "display_data"
    },
    {
     "data": {
      "application/vnd.jupyter.widget-view+json": {
       "model_id": "2bdda71940564fd1b1b9e0112b7da976",
       "version_major": 2,
       "version_minor": 0
      },
      "text/plain": [
       "ben_Beng.parquet:   0%|          | 0.00/172k [00:00<?, ?B/s]"
      ]
     },
     "metadata": {},
     "output_type": "display_data"
    },
    {
     "data": {
      "application/vnd.jupyter.widget-view+json": {
       "model_id": "7d704f2551a34def8d0b0051c8633f65",
       "version_major": 2,
       "version_minor": 0
      },
      "text/plain": [
       "bem_Latn.parquet:   0%|          | 0.00/129k [00:00<?, ?B/s]"
      ]
     },
     "metadata": {},
     "output_type": "display_data"
    },
    {
     "data": {
      "application/vnd.jupyter.widget-view+json": {
       "model_id": "98667785b20e400ea9d99c21b3c3eddc",
       "version_major": 2,
       "version_minor": 0
      },
      "text/plain": [
       "ban_Latn.parquet:   0%|          | 0.00/118k [00:00<?, ?B/s]"
      ]
     },
     "metadata": {},
     "output_type": "display_data"
    },
    {
     "data": {
      "application/vnd.jupyter.widget-view+json": {
       "model_id": "d22af3e19a6441c6a6f869b8d1aa8058",
       "version_major": 2,
       "version_minor": 0
      },
      "text/plain": [
       "azj_Latn.parquet:   0%|          | 0.00/134k [00:00<?, ?B/s]"
      ]
     },
     "metadata": {},
     "output_type": "display_data"
    },
    {
     "data": {
      "application/vnd.jupyter.widget-view+json": {
       "model_id": "365cbbb2a122401684a94dbf7f4d31d9",
       "version_major": 2,
       "version_minor": 0
      },
      "text/plain": [
       "bjn_Arab.parquet:   0%|          | 0.00/141k [00:00<?, ?B/s]"
      ]
     },
     "metadata": {},
     "output_type": "display_data"
    },
    {
     "data": {
      "application/vnd.jupyter.widget-view+json": {
       "model_id": "2417ae59f6464f62b631c3fc7edca957",
       "version_major": 2,
       "version_minor": 0
      },
      "text/plain": [
       "ast_Latn.parquet:   0%|          | 0.00/124k [00:00<?, ?B/s]"
      ]
     },
     "metadata": {},
     "output_type": "display_data"
    },
    {
     "data": {
      "application/vnd.jupyter.widget-view+json": {
       "model_id": "6973d53739854818a1146e9d770f0f20",
       "version_major": 2,
       "version_minor": 0
      },
      "text/plain": [
       "azb_Arab.parquet:   0%|          | 0.00/140k [00:00<?, ?B/s]"
      ]
     },
     "metadata": {},
     "output_type": "display_data"
    },
    {
     "data": {
      "application/vnd.jupyter.widget-view+json": {
       "model_id": "b12204a2b8564e06ba0c1f252db68783",
       "version_major": 2,
       "version_minor": 0
      },
      "text/plain": [
       "ayr_Latn.parquet:   0%|          | 0.00/122k [00:00<?, ?B/s]"
      ]
     },
     "metadata": {},
     "output_type": "display_data"
    },
    {
     "data": {
      "application/vnd.jupyter.widget-view+json": {
       "model_id": "fb6c26e7486a45c88df5b5abfefab55c",
       "version_major": 2,
       "version_minor": 0
      },
      "text/plain": [
       "bod_Tibt.parquet:   0%|          | 0.00/171k [00:00<?, ?B/s]"
      ]
     },
     "metadata": {},
     "output_type": "display_data"
    },
    {
     "data": {
      "application/vnd.jupyter.widget-view+json": {
       "model_id": "d39fb983476d44cc81283155d6ab6419",
       "version_major": 2,
       "version_minor": 0
      },
      "text/plain": [
       "bel_Cyrl.parquet:   0%|          | 0.00/173k [00:00<?, ?B/s]"
      ]
     },
     "metadata": {},
     "output_type": "display_data"
    },
    {
     "data": {
      "application/vnd.jupyter.widget-view+json": {
       "model_id": "8418c19454b04432b22b5daf1fdf0392",
       "version_major": 2,
       "version_minor": 0
      },
      "text/plain": [
       "bos_Latn.parquet:   0%|          | 0.00/126k [00:00<?, ?B/s]"
      ]
     },
     "metadata": {},
     "output_type": "display_data"
    },
    {
     "data": {
      "application/vnd.jupyter.widget-view+json": {
       "model_id": "9f80014e767e48f4bc724bcea7fba860",
       "version_major": 2,
       "version_minor": 0
      },
      "text/plain": [
       "bug_Latn.parquet:   0%|          | 0.00/126k [00:00<?, ?B/s]"
      ]
     },
     "metadata": {},
     "output_type": "display_data"
    },
    {
     "data": {
      "application/vnd.jupyter.widget-view+json": {
       "model_id": "74258fa6fec347e594192700708cd211",
       "version_major": 2,
       "version_minor": 0
      },
      "text/plain": [
       "cjk_Latn.parquet:   0%|          | 0.00/125k [00:00<?, ?B/s]"
      ]
     },
     "metadata": {},
     "output_type": "display_data"
    },
    {
     "data": {
      "application/vnd.jupyter.widget-view+json": {
       "model_id": "4317811cc4644692b65e9fa62747bd44",
       "version_major": 2,
       "version_minor": 0
      },
      "text/plain": [
       "chv_Cyrl.parquet:   0%|          | 0.00/150k [00:00<?, ?B/s]"
      ]
     },
     "metadata": {},
     "output_type": "display_data"
    },
    {
     "data": {
      "application/vnd.jupyter.widget-view+json": {
       "model_id": "be82477d47ca442db06d5f6d96df9a31",
       "version_major": 2,
       "version_minor": 0
      },
      "text/plain": [
       "cmn_Hant.parquet:   0%|          | 0.00/119k [00:00<?, ?B/s]"
      ]
     },
     "metadata": {},
     "output_type": "display_data"
    },
    {
     "data": {
      "application/vnd.jupyter.widget-view+json": {
       "model_id": "4399db83f83e4f58bf25bb3192421371",
       "version_major": 2,
       "version_minor": 0
      },
      "text/plain": [
       "cat_Latn_vale1252.parquet:   0%|          | 0.00/129k [00:00<?, ?B/s]"
      ]
     },
     "metadata": {},
     "output_type": "display_data"
    },
    {
     "data": {
      "application/vnd.jupyter.widget-view+json": {
       "model_id": "af824369344142a2b018a4cdfc61c46e",
       "version_major": 2,
       "version_minor": 0
      },
      "text/plain": [
       "cym_Latn.parquet:   0%|          | 0.00/123k [00:00<?, ?B/s]"
      ]
     },
     "metadata": {},
     "output_type": "display_data"
    },
    {
     "data": {
      "application/vnd.jupyter.widget-view+json": {
       "model_id": "9d298bbab30548058226f5beef6b2925",
       "version_major": 2,
       "version_minor": 0
      },
      "text/plain": [
       "ces_Latn.parquet:   0%|          | 0.00/131k [00:00<?, ?B/s]"
      ]
     },
     "metadata": {},
     "output_type": "display_data"
    },
    {
     "data": {
      "application/vnd.jupyter.widget-view+json": {
       "model_id": "0eae6408eec246d29984599801b41179",
       "version_major": 2,
       "version_minor": 0
      },
      "text/plain": [
       "cat_Latn.parquet:   0%|          | 0.00/128k [00:00<?, ?B/s]"
      ]
     },
     "metadata": {},
     "output_type": "display_data"
    },
    {
     "data": {
      "application/vnd.jupyter.widget-view+json": {
       "model_id": "c84f9c0a27e44792aa760a308b13b2fe",
       "version_major": 2,
       "version_minor": 0
      },
      "text/plain": [
       "dan_Latn.parquet:   0%|          | 0.00/122k [00:00<?, ?B/s]"
      ]
     },
     "metadata": {},
     "output_type": "display_data"
    },
    {
     "data": {
      "application/vnd.jupyter.widget-view+json": {
       "model_id": "a1bb768b35fb4f22b4e88f2661200771",
       "version_major": 2,
       "version_minor": 0
      },
      "text/plain": [
       "ceb_Latn.parquet:   0%|          | 0.00/126k [00:00<?, ?B/s]"
      ]
     },
     "metadata": {},
     "output_type": "display_data"
    },
    {
     "data": {
      "application/vnd.jupyter.widget-view+json": {
       "model_id": "19321c8db4ce4ae282f67986dd8f2b13",
       "version_major": 2,
       "version_minor": 0
      },
      "text/plain": [
       "bul_Cyrl.parquet:   0%|          | 0.00/157k [00:00<?, ?B/s]"
      ]
     },
     "metadata": {},
     "output_type": "display_data"
    },
    {
     "data": {
      "application/vnd.jupyter.widget-view+json": {
       "model_id": "0e7549991a834a4885abaf96bb2ec474",
       "version_major": 2,
       "version_minor": 0
      },
      "text/plain": [
       "ckb_Arab.parquet:   0%|          | 0.00/150k [00:00<?, ?B/s]"
      ]
     },
     "metadata": {},
     "output_type": "display_data"
    },
    {
     "data": {
      "application/vnd.jupyter.widget-view+json": {
       "model_id": "4c42e52f55ed4055a0d84a6ea22a6c89",
       "version_major": 2,
       "version_minor": 0
      },
      "text/plain": [
       "dik_Latn.parquet:   0%|          | 0.00/110k [00:00<?, ?B/s]"
      ]
     },
     "metadata": {},
     "output_type": "display_data"
    },
    {
     "data": {
      "application/vnd.jupyter.widget-view+json": {
       "model_id": "6bc6db0a984e4cceb0d0a07fcfbf747b",
       "version_major": 2,
       "version_minor": 0
      },
      "text/plain": [
       "crh_Latn.parquet:   0%|          | 0.00/125k [00:00<?, ?B/s]"
      ]
     },
     "metadata": {},
     "output_type": "display_data"
    },
    {
     "data": {
      "application/vnd.jupyter.widget-view+json": {
       "model_id": "92a59407c99c475c8e35591fe49c39cf",
       "version_major": 2,
       "version_minor": 0
      },
      "text/plain": [
       "cmn_Hans.parquet:   0%|          | 0.00/120k [00:00<?, ?B/s]"
      ]
     },
     "metadata": {},
     "output_type": "display_data"
    },
    {
     "data": {
      "application/vnd.jupyter.widget-view+json": {
       "model_id": "7c0d78454e034492b8c61b2845b1d9f9",
       "version_major": 2,
       "version_minor": 0
      },
      "text/plain": [
       "deu_Latn.parquet:   0%|          | 0.00/133k [00:00<?, ?B/s]"
      ]
     },
     "metadata": {},
     "output_type": "display_data"
    },
    {
     "data": {
      "application/vnd.jupyter.widget-view+json": {
       "model_id": "036236b9483a442785a2ccfb702fd22b",
       "version_major": 2,
       "version_minor": 0
      },
      "text/plain": [
       "ekk_Latn.parquet:   0%|          | 0.00/123k [00:00<?, ?B/s]"
      ]
     },
     "metadata": {},
     "output_type": "display_data"
    },
    {
     "data": {
      "application/vnd.jupyter.widget-view+json": {
       "model_id": "f792e92895904454a014c9fa5fae2e4c",
       "version_major": 2,
       "version_minor": 0
      },
      "text/plain": [
       "eng_Latn.parquet:   0%|          | 0.00/117k [00:00<?, ?B/s]"
      ]
     },
     "metadata": {},
     "output_type": "display_data"
    },
    {
     "data": {
      "application/vnd.jupyter.widget-view+json": {
       "model_id": "bae44336791b48e0b94b47a4e9bfa1f9",
       "version_major": 2,
       "version_minor": 0
      },
      "text/plain": [
       "dyu_Latn.parquet:   0%|          | 0.00/128k [00:00<?, ?B/s]"
      ]
     },
     "metadata": {},
     "output_type": "display_data"
    },
    {
     "data": {
      "application/vnd.jupyter.widget-view+json": {
       "model_id": "8d354981dbbe468cb63e2ae4d152ee68",
       "version_major": 2,
       "version_minor": 0
      },
      "text/plain": [
       "fuv_Latn.parquet:   0%|          | 0.00/115k [00:00<?, ?B/s]"
      ]
     },
     "metadata": {},
     "output_type": "display_data"
    },
    {
     "data": {
      "application/vnd.jupyter.widget-view+json": {
       "model_id": "1a78b2bd897546f996e04ff88b511210",
       "version_major": 2,
       "version_minor": 0
      },
      "text/plain": [
       "fil_Latn.parquet:   0%|          | 0.00/130k [00:00<?, ?B/s]"
      ]
     },
     "metadata": {},
     "output_type": "display_data"
    },
    {
     "data": {
      "application/vnd.jupyter.widget-view+json": {
       "model_id": "fcf34b44be244f7e83f444bdac09ee06",
       "version_major": 2,
       "version_minor": 0
      },
      "text/plain": [
       "epo_Latn.parquet:   0%|          | 0.00/119k [00:00<?, ?B/s]"
      ]
     },
     "metadata": {},
     "output_type": "display_data"
    },
    {
     "data": {
      "application/vnd.jupyter.widget-view+json": {
       "model_id": "1a4b69859668448f8c73648a0dd9a37e",
       "version_major": 2,
       "version_minor": 0
      },
      "text/plain": [
       "ewe_Latn.parquet:   0%|          | 0.00/114k [00:00<?, ?B/s]"
      ]
     },
     "metadata": {},
     "output_type": "display_data"
    },
    {
     "data": {
      "application/vnd.jupyter.widget-view+json": {
       "model_id": "9060d0272bc94fb7a8c6f8bd6dd8e138",
       "version_major": 2,
       "version_minor": 0
      },
      "text/plain": [
       "ell_Grek.parquet:   0%|          | 0.00/178k [00:00<?, ?B/s]"
      ]
     },
     "metadata": {},
     "output_type": "display_data"
    },
    {
     "data": {
      "application/vnd.jupyter.widget-view+json": {
       "model_id": "fe593999b16b4c0992f9e0221281e543",
       "version_major": 2,
       "version_minor": 0
      },
      "text/plain": [
       "fin_Latn.parquet:   0%|          | 0.00/128k [00:00<?, ?B/s]"
      ]
     },
     "metadata": {},
     "output_type": "display_data"
    },
    {
     "data": {
      "application/vnd.jupyter.widget-view+json": {
       "model_id": "e0ecf8493abd4f9fb8622c5f8d9b66fd",
       "version_major": 2,
       "version_minor": 0
      },
      "text/plain": [
       "fao_Latn.parquet:   0%|          | 0.00/124k [00:00<?, ?B/s]"
      ]
     },
     "metadata": {},
     "output_type": "display_data"
    },
    {
     "data": {
      "application/vnd.jupyter.widget-view+json": {
       "model_id": "19f38bede11647c285c2a7542cfb6c57",
       "version_major": 2,
       "version_minor": 0
      },
      "text/plain": [
       "fij_Latn.parquet:   0%|          | 0.00/116k [00:00<?, ?B/s]"
      ]
     },
     "metadata": {},
     "output_type": "display_data"
    },
    {
     "data": {
      "application/vnd.jupyter.widget-view+json": {
       "model_id": "10d446f31f7b447295c435ba04bd5c2d",
       "version_major": 2,
       "version_minor": 0
      },
      "text/plain": [
       "fon_Latn.parquet:   0%|          | 0.00/130k [00:00<?, ?B/s]"
      ]
     },
     "metadata": {},
     "output_type": "display_data"
    },
    {
     "data": {
      "application/vnd.jupyter.widget-view+json": {
       "model_id": "b066dea37a9241a0a6f21e0f19b4342c",
       "version_major": 2,
       "version_minor": 0
      },
      "text/plain": [
       "dzo_Tibt.parquet:   0%|          | 0.00/183k [00:00<?, ?B/s]"
      ]
     },
     "metadata": {},
     "output_type": "display_data"
    },
    {
     "data": {
      "application/vnd.jupyter.widget-view+json": {
       "model_id": "113d0f69b23147e8aaa7aa51e0d3ee65",
       "version_major": 2,
       "version_minor": 0
      },
      "text/plain": [
       "fur_Latn.parquet:   0%|          | 0.00/126k [00:00<?, ?B/s]"
      ]
     },
     "metadata": {},
     "output_type": "display_data"
    },
    {
     "data": {
      "application/vnd.jupyter.widget-view+json": {
       "model_id": "a26785079fc04bd59a16b722f6ae0437",
       "version_major": 2,
       "version_minor": 0
      },
      "text/plain": [
       "eus_Latn.parquet:   0%|          | 0.00/121k [00:00<?, ?B/s]"
      ]
     },
     "metadata": {},
     "output_type": "display_data"
    },
    {
     "data": {
      "application/vnd.jupyter.widget-view+json": {
       "model_id": "9a922ade9855453a9a9b126043efd2df",
       "version_major": 2,
       "version_minor": 0
      },
      "text/plain": [
       "fra_Latn.parquet:   0%|          | 0.00/134k [00:00<?, ?B/s]"
      ]
     },
     "metadata": {},
     "output_type": "display_data"
    },
    {
     "data": {
      "application/vnd.jupyter.widget-view+json": {
       "model_id": "27c53c8647414db8879ef3de0c340e15",
       "version_major": 2,
       "version_minor": 0
      },
      "text/plain": [
       "glg_Latn.parquet:   0%|          | 0.00/128k [00:00<?, ?B/s]"
      ]
     },
     "metadata": {},
     "output_type": "display_data"
    },
    {
     "data": {
      "application/vnd.jupyter.widget-view+json": {
       "model_id": "5c9a3ff9a12c4aef8ee37181872aba67",
       "version_major": 2,
       "version_minor": 0
      },
      "text/plain": [
       "hye_Armn.parquet:   0%|          | 0.00/164k [00:00<?, ?B/s]"
      ]
     },
     "metadata": {},
     "output_type": "display_data"
    },
    {
     "data": {
      "application/vnd.jupyter.widget-view+json": {
       "model_id": "030453b46e1c4905926b3dd53a3b2f56",
       "version_major": 2,
       "version_minor": 0
      },
      "text/plain": [
       "gle_Latn.parquet:   0%|          | 0.00/133k [00:00<?, ?B/s]"
      ]
     },
     "metadata": {},
     "output_type": "display_data"
    },
    {
     "data": {
      "application/vnd.jupyter.widget-view+json": {
       "model_id": "1368e3d47b434415b867a4b7e81ca3fb",
       "version_major": 2,
       "version_minor": 0
      },
      "text/plain": [
       "hrv_Latn.parquet:   0%|          | 0.00/123k [00:00<?, ?B/s]"
      ]
     },
     "metadata": {},
     "output_type": "display_data"
    },
    {
     "data": {
      "application/vnd.jupyter.widget-view+json": {
       "model_id": "96faec916f4f4cc9a24a7d8c436e8f1c",
       "version_major": 2,
       "version_minor": 0
      },
      "text/plain": [
       "ilo_Latn.parquet:   0%|          | 0.00/127k [00:00<?, ?B/s]"
      ]
     },
     "metadata": {},
     "output_type": "display_data"
    },
    {
     "data": {
      "application/vnd.jupyter.widget-view+json": {
       "model_id": "338bf0af4fb04724951f7e5ce7cc41cc",
       "version_major": 2,
       "version_minor": 0
      },
      "text/plain": [
       "guj_Gujr.parquet:   0%|          | 0.00/170k [00:00<?, ?B/s]"
      ]
     },
     "metadata": {},
     "output_type": "display_data"
    },
    {
     "data": {
      "application/vnd.jupyter.widget-view+json": {
       "model_id": "122020dcbacc4c2bb1b7039fcb5ce12b",
       "version_major": 2,
       "version_minor": 0
      },
      "text/plain": [
       "hin_Deva.parquet:   0%|          | 0.00/168k [00:00<?, ?B/s]"
      ]
     },
     "metadata": {},
     "output_type": "display_data"
    },
    {
     "data": {
      "application/vnd.jupyter.widget-view+json": {
       "model_id": "16fb02ae1f614a9ab18fe860f9280926",
       "version_major": 2,
       "version_minor": 0
      },
      "text/plain": [
       "gla_Latn.parquet:   0%|          | 0.00/133k [00:00<?, ?B/s]"
      ]
     },
     "metadata": {},
     "output_type": "display_data"
    },
    {
     "data": {
      "application/vnd.jupyter.widget-view+json": {
       "model_id": "6dfedebf2e674997b152348c09e77159",
       "version_major": 2,
       "version_minor": 0
      },
      "text/plain": [
       "hun_Latn.parquet:   0%|          | 0.00/134k [00:00<?, ?B/s]"
      ]
     },
     "metadata": {},
     "output_type": "display_data"
    },
    {
     "data": {
      "application/vnd.jupyter.widget-view+json": {
       "model_id": "953866853cc247139990e6aef6766b82",
       "version_major": 2,
       "version_minor": 0
      },
      "text/plain": [
       "ibo_Latn.parquet:   0%|          | 0.00/124k [00:00<?, ?B/s]"
      ]
     },
     "metadata": {},
     "output_type": "display_data"
    },
    {
     "data": {
      "application/vnd.jupyter.widget-view+json": {
       "model_id": "6eb1e3757c1b49c990cd0ec080aa7ecf",
       "version_major": 2,
       "version_minor": 0
      },
      "text/plain": [
       "hat_Latn.parquet:   0%|          | 0.00/111k [00:00<?, ?B/s]"
      ]
     },
     "metadata": {},
     "output_type": "display_data"
    },
    {
     "data": {
      "application/vnd.jupyter.widget-view+json": {
       "model_id": "97c8ce55ea6448c89806b4bdf4b754dc",
       "version_major": 2,
       "version_minor": 0
      },
      "text/plain": [
       "gug_Latn.parquet:   0%|          | 0.00/118k [00:00<?, ?B/s]"
      ]
     },
     "metadata": {},
     "output_type": "display_data"
    },
    {
     "data": {
      "application/vnd.jupyter.widget-view+json": {
       "model_id": "79b2d4db551b48d398b6a3018ede3c27",
       "version_major": 2,
       "version_minor": 0
      },
      "text/plain": [
       "hne_Deva.parquet:   0%|          | 0.00/164k [00:00<?, ?B/s]"
      ]
     },
     "metadata": {},
     "output_type": "display_data"
    },
    {
     "data": {
      "application/vnd.jupyter.widget-view+json": {
       "model_id": "9612ca251ce14d14a449b5276a08a8ac",
       "version_major": 2,
       "version_minor": 0
      },
      "text/plain": [
       "hau_Latn.parquet:   0%|          | 0.00/120k [00:00<?, ?B/s]"
      ]
     },
     "metadata": {},
     "output_type": "display_data"
    },
    {
     "data": {
      "application/vnd.jupyter.widget-view+json": {
       "model_id": "3bcc83053c294484bae1165de2696047",
       "version_major": 2,
       "version_minor": 0
      },
      "text/plain": [
       "heb_Hebr.parquet:   0%|          | 0.00/129k [00:00<?, ?B/s]"
      ]
     },
     "metadata": {},
     "output_type": "display_data"
    },
    {
     "data": {
      "application/vnd.jupyter.widget-view+json": {
       "model_id": "546afeb393e2452bb74db9fb83f764cf",
       "version_major": 2,
       "version_minor": 0
      },
      "text/plain": [
       "gaz_Latn.parquet:   0%|          | 0.00/130k [00:00<?, ?B/s]"
      ]
     },
     "metadata": {},
     "output_type": "display_data"
    },
    {
     "data": {
      "application/vnd.jupyter.widget-view+json": {
       "model_id": "2780565c1c6c4d0386cedee0b615d512",
       "version_major": 2,
       "version_minor": 0
      },
      "text/plain": [
       "ind_Latn.parquet:   0%|          | 0.00/118k [00:00<?, ?B/s]"
      ]
     },
     "metadata": {},
     "output_type": "display_data"
    },
    {
     "data": {
      "application/vnd.jupyter.widget-view+json": {
       "model_id": "c25ed27adf1441d6a640a4890c489716",
       "version_major": 2,
       "version_minor": 0
      },
      "text/plain": [
       "kaz_Cyrl.parquet:   0%|          | 0.00/155k [00:00<?, ?B/s]"
      ]
     },
     "metadata": {},
     "output_type": "display_data"
    },
    {
     "data": {
      "application/vnd.jupyter.widget-view+json": {
       "model_id": "9df72df3f8254d2a9006f770e9a99e3b",
       "version_major": 2,
       "version_minor": 0
      },
      "text/plain": [
       "jpn_Jpan.parquet:   0%|          | 0.00/131k [00:00<?, ?B/s]"
      ]
     },
     "metadata": {},
     "output_type": "display_data"
    },
    {
     "data": {
      "application/vnd.jupyter.widget-view+json": {
       "model_id": "badcd1c13e124c36876a1dd32ba3ad71",
       "version_major": 2,
       "version_minor": 0
      },
      "text/plain": [
       "kac_Latn.parquet:   0%|          | 0.00/126k [00:00<?, ?B/s]"
      ]
     },
     "metadata": {},
     "output_type": "display_data"
    },
    {
     "data": {
      "application/vnd.jupyter.widget-view+json": {
       "model_id": "8d3b7e0b28a24531a35bd42e5c1deda7",
       "version_major": 2,
       "version_minor": 0
      },
      "text/plain": [
       "khk_Cyrl.parquet:   0%|          | 0.00/156k [00:00<?, ?B/s]"
      ]
     },
     "metadata": {},
     "output_type": "display_data"
    },
    {
     "data": {
      "application/vnd.jupyter.widget-view+json": {
       "model_id": "e8aa2a4707a34059a85aaa39e2cfd93c",
       "version_major": 2,
       "version_minor": 0
      },
      "text/plain": [
       "kat_Geor.parquet:   0%|          | 0.00/177k [00:00<?, ?B/s]"
      ]
     },
     "metadata": {},
     "output_type": "display_data"
    },
    {
     "data": {
      "application/vnd.jupyter.widget-view+json": {
       "model_id": "fce0902a890f4149a5e20a3e297879e6",
       "version_major": 2,
       "version_minor": 0
      },
      "text/plain": [
       "jav_Latn.parquet:   0%|          | 0.00/116k [00:00<?, ?B/s]"
      ]
     },
     "metadata": {},
     "output_type": "display_data"
    },
    {
     "data": {
      "application/vnd.jupyter.widget-view+json": {
       "model_id": "2ae1543ca151427a94e8cbcc9f68e279",
       "version_major": 2,
       "version_minor": 0
      },
      "text/plain": [
       "isl_Latn.parquet:   0%|          | 0.00/126k [00:00<?, ?B/s]"
      ]
     },
     "metadata": {},
     "output_type": "display_data"
    },
    {
     "data": {
      "application/vnd.jupyter.widget-view+json": {
       "model_id": "d6c2a51d197e42a8bfabd0e72a766ddb",
       "version_major": 2,
       "version_minor": 0
      },
      "text/plain": [
       "kan_Knda.parquet:   0%|          | 0.00/180k [00:00<?, ?B/s]"
      ]
     },
     "metadata": {},
     "output_type": "display_data"
    },
    {
     "data": {
      "application/vnd.jupyter.widget-view+json": {
       "model_id": "35a90181be084f9daef897e2aedb2327",
       "version_major": 2,
       "version_minor": 0
      },
      "text/plain": [
       "kas_Arab.parquet:   0%|          | 0.00/156k [00:00<?, ?B/s]"
      ]
     },
     "metadata": {},
     "output_type": "display_data"
    },
    {
     "data": {
      "application/vnd.jupyter.widget-view+json": {
       "model_id": "a9d972d006a8418b87bd80ba9f6cc721",
       "version_major": 2,
       "version_minor": 0
      },
      "text/plain": [
       "ita_Latn.parquet:   0%|          | 0.00/133k [00:00<?, ?B/s]"
      ]
     },
     "metadata": {},
     "output_type": "display_data"
    },
    {
     "data": {
      "application/vnd.jupyter.widget-view+json": {
       "model_id": "d1c1580f25b84390a223fa1b44d961a0",
       "version_major": 2,
       "version_minor": 0
      },
      "text/plain": [
       "kab_Latn.parquet:   0%|          | 0.00/122k [00:00<?, ?B/s]"
      ]
     },
     "metadata": {},
     "output_type": "display_data"
    },
    {
     "data": {
      "application/vnd.jupyter.widget-view+json": {
       "model_id": "882c187e62c84722afe16984b7dc9861",
       "version_major": 2,
       "version_minor": 0
      },
      "text/plain": [
       "kaa_Latn.parquet:   0%|          | 0.00/123k [00:00<?, ?B/s]"
      ]
     },
     "metadata": {},
     "output_type": "display_data"
    },
    {
     "data": {
      "application/vnd.jupyter.widget-view+json": {
       "model_id": "5b5c109c61d243a6a2930531bda16a8a",
       "version_major": 2,
       "version_minor": 0
      },
      "text/plain": [
       "kea_Latn.parquet:   0%|          | 0.00/118k [00:00<?, ?B/s]"
      ]
     },
     "metadata": {},
     "output_type": "display_data"
    },
    {
     "data": {
      "application/vnd.jupyter.widget-view+json": {
       "model_id": "4fe803891b524da7b63e28abb2d9f9d1",
       "version_major": 2,
       "version_minor": 0
      },
      "text/plain": [
       "kas_Deva.parquet:   0%|          | 0.00/172k [00:00<?, ?B/s]"
      ]
     },
     "metadata": {},
     "output_type": "display_data"
    },
    {
     "data": {
      "application/vnd.jupyter.widget-view+json": {
       "model_id": "e8c5a7b5ce3e4e80a248fc94431f127b",
       "version_major": 2,
       "version_minor": 0
      },
      "text/plain": [
       "kam_Latn.parquet:   0%|          | 0.00/120k [00:00<?, ?B/s]"
      ]
     },
     "metadata": {},
     "output_type": "display_data"
    },
    {
     "data": {
      "application/vnd.jupyter.widget-view+json": {
       "model_id": "1bf5b1724f4d42f28ab9979f93a6db1e",
       "version_major": 2,
       "version_minor": 0
      },
      "text/plain": [
       "kbp_Latn.parquet:   0%|          | 0.00/127k [00:00<?, ?B/s]"
      ]
     },
     "metadata": {},
     "output_type": "display_data"
    },
    {
     "data": {
      "application/vnd.jupyter.widget-view+json": {
       "model_id": "fd6896d279d44d89a18c7d5b264cc60d",
       "version_major": 2,
       "version_minor": 0
      },
      "text/plain": [
       "kik_Latn.parquet:   0%|          | 0.00/130k [00:00<?, ?B/s]"
      ]
     },
     "metadata": {},
     "output_type": "display_data"
    },
    {
     "data": {
      "application/vnd.jupyter.widget-view+json": {
       "model_id": "7f1347aedd524ea595bfe0f4ded26858",
       "version_major": 2,
       "version_minor": 0
      },
      "text/plain": [
       "kmb_Latn.parquet:   0%|          | 0.00/121k [00:00<?, ?B/s]"
      ]
     },
     "metadata": {},
     "output_type": "display_data"
    },
    {
     "data": {
      "application/vnd.jupyter.widget-view+json": {
       "model_id": "7392b6b38fcf4ce085db5605ab56eca1",
       "version_major": 2,
       "version_minor": 0
      },
      "text/plain": [
       "lim_Latn.parquet:   0%|          | 0.00/126k [00:00<?, ?B/s]"
      ]
     },
     "metadata": {},
     "output_type": "display_data"
    },
    {
     "data": {
      "application/vnd.jupyter.widget-view+json": {
       "model_id": "af3e44368131494ea25de32a00c50736",
       "version_major": 2,
       "version_minor": 0
      },
      "text/plain": [
       "khm_Khmr.parquet:   0%|          | 0.00/209k [00:00<?, ?B/s]"
      ]
     },
     "metadata": {},
     "output_type": "display_data"
    },
    {
     "data": {
      "application/vnd.jupyter.widget-view+json": {
       "model_id": "cdd52823fbe44160a900087b09ebd39c",
       "version_major": 2,
       "version_minor": 0
      },
      "text/plain": [
       "lij_Latn.parquet:   0%|          | 0.00/131k [00:00<?, ?B/s]"
      ]
     },
     "metadata": {},
     "output_type": "display_data"
    },
    {
     "data": {
      "application/vnd.jupyter.widget-view+json": {
       "model_id": "553e83742ef8438d85680bd22edb4a0d",
       "version_major": 2,
       "version_minor": 0
      },
      "text/plain": [
       "lit_Latn.parquet:   0%|          | 0.00/127k [00:00<?, ?B/s]"
      ]
     },
     "metadata": {},
     "output_type": "display_data"
    },
    {
     "data": {
      "application/vnd.jupyter.widget-view+json": {
       "model_id": "d142ba99168c45f1bcbf9bc10929a21a",
       "version_major": 2,
       "version_minor": 0
      },
      "text/plain": [
       "lmo_Latn.parquet:   0%|          | 0.00/131k [00:00<?, ?B/s]"
      ]
     },
     "metadata": {},
     "output_type": "display_data"
    },
    {
     "data": {
      "application/vnd.jupyter.widget-view+json": {
       "model_id": "89abf197d38848d78128b28349eb2909",
       "version_major": 2,
       "version_minor": 0
      },
      "text/plain": [
       "kmr_Latn.parquet:   0%|          | 0.00/126k [00:00<?, ?B/s]"
      ]
     },
     "metadata": {},
     "output_type": "display_data"
    },
    {
     "data": {
      "application/vnd.jupyter.widget-view+json": {
       "model_id": "da6acc8ebedb453fadb1efdf0406f411",
       "version_major": 2,
       "version_minor": 0
      },
      "text/plain": [
       "kin_Latn.parquet:   0%|          | 0.00/124k [00:00<?, ?B/s]"
      ]
     },
     "metadata": {},
     "output_type": "display_data"
    },
    {
     "data": {
      "application/vnd.jupyter.widget-view+json": {
       "model_id": "a7fa88f79a0747d18f8ad796a2ec446e",
       "version_major": 2,
       "version_minor": 0
      },
      "text/plain": [
       "ktu_Latn.parquet:   0%|          | 0.00/114k [00:00<?, ?B/s]"
      ]
     },
     "metadata": {},
     "output_type": "display_data"
    },
    {
     "data": {
      "application/vnd.jupyter.widget-view+json": {
       "model_id": "2ed9342c0e06484ab70d71ad0049fad5",
       "version_major": 2,
       "version_minor": 0
      },
      "text/plain": [
       "kor_Hang.parquet:   0%|          | 0.00/131k [00:00<?, ?B/s]"
      ]
     },
     "metadata": {},
     "output_type": "display_data"
    },
    {
     "data": {
      "application/vnd.jupyter.widget-view+json": {
       "model_id": "1d120757e9b547f5a4d5cf76779036c1",
       "version_major": 2,
       "version_minor": 0
      },
      "text/plain": [
       "knc_Latn.parquet:   0%|          | 0.00/123k [00:00<?, ?B/s]"
      ]
     },
     "metadata": {},
     "output_type": "display_data"
    },
    {
     "data": {
      "application/vnd.jupyter.widget-view+json": {
       "model_id": "37eef5a449f048579bda1c9d21793179",
       "version_major": 2,
       "version_minor": 0
      },
      "text/plain": [
       "lao_Laoo.parquet:   0%|          | 0.00/178k [00:00<?, ?B/s]"
      ]
     },
     "metadata": {},
     "output_type": "display_data"
    },
    {
     "data": {
      "application/vnd.jupyter.widget-view+json": {
       "model_id": "d0437255a98744ef98162007021ce609",
       "version_major": 2,
       "version_minor": 0
      },
      "text/plain": [
       "kir_Cyrl.parquet:   0%|          | 0.00/157k [00:00<?, ?B/s]"
      ]
     },
     "metadata": {},
     "output_type": "display_data"
    },
    {
     "data": {
      "application/vnd.jupyter.widget-view+json": {
       "model_id": "a1770eeae3074626a83b043dc6901bac",
       "version_major": 2,
       "version_minor": 0
      },
      "text/plain": [
       "lin_Latn.parquet:   0%|          | 0.00/109k [00:00<?, ?B/s]"
      ]
     },
     "metadata": {},
     "output_type": "display_data"
    },
    {
     "data": {
      "application/vnd.jupyter.widget-view+json": {
       "model_id": "dcbae79474f64cc6814542fe9284f018",
       "version_major": 2,
       "version_minor": 0
      },
      "text/plain": [
       "knc_Arab.parquet:   0%|          | 0.00/135k [00:00<?, ?B/s]"
      ]
     },
     "metadata": {},
     "output_type": "display_data"
    },
    {
     "data": {
      "application/vnd.jupyter.widget-view+json": {
       "model_id": "c27dc0cd297c43f99c73e561c408c528",
       "version_major": 2,
       "version_minor": 0
      },
      "text/plain": [
       "luo_Latn.parquet:   0%|          | 0.00/118k [00:00<?, ?B/s]"
      ]
     },
     "metadata": {},
     "output_type": "display_data"
    },
    {
     "data": {
      "application/vnd.jupyter.widget-view+json": {
       "model_id": "11322aed0f474a3d8f9200817f62cb21",
       "version_major": 2,
       "version_minor": 0
      },
      "text/plain": [
       "lus_Latn.parquet:   0%|          | 0.00/122k [00:00<?, ?B/s]"
      ]
     },
     "metadata": {},
     "output_type": "display_data"
    },
    {
     "data": {
      "application/vnd.jupyter.widget-view+json": {
       "model_id": "cdb65c30aa57455997de2ce99b3741e4",
       "version_major": 2,
       "version_minor": 0
      },
      "text/plain": [
       "ltz_Latn.parquet:   0%|          | 0.00/130k [00:00<?, ?B/s]"
      ]
     },
     "metadata": {},
     "output_type": "display_data"
    },
    {
     "data": {
      "application/vnd.jupyter.widget-view+json": {
       "model_id": "9f2fc5e5b1b04e79bad1a253b0c95202",
       "version_major": 2,
       "version_minor": 0
      },
      "text/plain": [
       "mlt_Latn.parquet:   0%|          | 0.00/131k [00:00<?, ?B/s]"
      ]
     },
     "metadata": {},
     "output_type": "display_data"
    },
    {
     "data": {
      "application/vnd.jupyter.widget-view+json": {
       "model_id": "7ad9c1d913b34ec289ee098211bb78d8",
       "version_major": 2,
       "version_minor": 0
      },
      "text/plain": [
       "min_Arab.parquet:   0%|          | 0.00/144k [00:00<?, ?B/s]"
      ]
     },
     "metadata": {},
     "output_type": "display_data"
    },
    {
     "data": {
      "application/vnd.jupyter.widget-view+json": {
       "model_id": "4fb09b8ae5e748b08f6f662268c9ab5e",
       "version_major": 2,
       "version_minor": 0
      },
      "text/plain": [
       "mar_Deva.parquet:   0%|          | 0.00/176k [00:00<?, ?B/s]"
      ]
     },
     "metadata": {},
     "output_type": "display_data"
    },
    {
     "data": {
      "application/vnd.jupyter.widget-view+json": {
       "model_id": "3d8ae11e1300402388dcc3206802a3ec",
       "version_major": 2,
       "version_minor": 0
      },
      "text/plain": [
       "mal_Mlym.parquet:   0%|          | 0.00/192k [00:00<?, ?B/s]"
      ]
     },
     "metadata": {},
     "output_type": "display_data"
    },
    {
     "data": {
      "application/vnd.jupyter.widget-view+json": {
       "model_id": "42b1796c0c794e0c99df1f8ae7d00e23",
       "version_major": 2,
       "version_minor": 0
      },
      "text/plain": [
       "mag_Deva.parquet:   0%|          | 0.00/162k [00:00<?, ?B/s]"
      ]
     },
     "metadata": {},
     "output_type": "display_data"
    },
    {
     "data": {
      "application/vnd.jupyter.widget-view+json": {
       "model_id": "d358901de3824b9886a99844e1bc4905",
       "version_major": 2,
       "version_minor": 0
      },
      "text/plain": [
       "mai_Deva.parquet:   0%|          | 0.00/165k [00:00<?, ?B/s]"
      ]
     },
     "metadata": {},
     "output_type": "display_data"
    },
    {
     "data": {
      "application/vnd.jupyter.widget-view+json": {
       "model_id": "bce042d18a974095adeae68f9fe34544",
       "version_major": 2,
       "version_minor": 0
      },
      "text/plain": [
       "min_Latn.parquet:   0%|          | 0.00/118k [00:00<?, ?B/s]"
      ]
     },
     "metadata": {},
     "output_type": "display_data"
    },
    {
     "data": {
      "application/vnd.jupyter.widget-view+json": {
       "model_id": "df1d3047bc174c9e94e9fad10d5af4d2",
       "version_major": 2,
       "version_minor": 0
      },
      "text/plain": [
       "mkd_Cyrl.parquet:   0%|          | 0.00/155k [00:00<?, ?B/s]"
      ]
     },
     "metadata": {},
     "output_type": "display_data"
    },
    {
     "data": {
      "application/vnd.jupyter.widget-view+json": {
       "model_id": "842aeee0dcf94a08b030ae71ad78153f",
       "version_major": 2,
       "version_minor": 0
      },
      "text/plain": [
       "ltg_Latn.parquet:   0%|          | 0.00/124k [00:00<?, ?B/s]"
      ]
     },
     "metadata": {},
     "output_type": "display_data"
    },
    {
     "data": {
      "application/vnd.jupyter.widget-view+json": {
       "model_id": "8ce7b42345f24e80989b818f6d937897",
       "version_major": 2,
       "version_minor": 0
      },
      "text/plain": [
       "lua_Latn.parquet:   0%|          | 0.00/118k [00:00<?, ?B/s]"
      ]
     },
     "metadata": {},
     "output_type": "display_data"
    },
    {
     "data": {
      "application/vnd.jupyter.widget-view+json": {
       "model_id": "b10a6f53469c4c7aab84f2d2e9cd322d",
       "version_major": 2,
       "version_minor": 0
      },
      "text/plain": [
       "lug_Latn.parquet:   0%|          | 0.00/122k [00:00<?, ?B/s]"
      ]
     },
     "metadata": {},
     "output_type": "display_data"
    },
    {
     "data": {
      "application/vnd.jupyter.widget-view+json": {
       "model_id": "4d239eb466504289ab5ae3f751c7f3f6",
       "version_major": 2,
       "version_minor": 0
      },
      "text/plain": [
       "lvs_Latn.parquet:   0%|          | 0.00/129k [00:00<?, ?B/s]"
      ]
     },
     "metadata": {},
     "output_type": "display_data"
    },
    {
     "data": {
      "application/vnd.jupyter.widget-view+json": {
       "model_id": "20b50815dbfb4fd5b056ff0ba9f6af57",
       "version_major": 2,
       "version_minor": 0
      },
      "text/plain": [
       "mni_Beng.parquet:   0%|          | 0.00/171k [00:00<?, ?B/s]"
      ]
     },
     "metadata": {},
     "output_type": "display_data"
    },
    {
     "data": {
      "application/vnd.jupyter.widget-view+json": {
       "model_id": "1fb8c98e7dd0479bab92a671a4c71c5a",
       "version_major": 2,
       "version_minor": 0
      },
      "text/plain": [
       "mos_Latn.parquet:   0%|          | 0.00/119k [00:00<?, ?B/s]"
      ]
     },
     "metadata": {},
     "output_type": "display_data"
    },
    {
     "data": {
      "application/vnd.jupyter.widget-view+json": {
       "model_id": "89f02fce5eed4c628670964d1a22c70f",
       "version_major": 2,
       "version_minor": 0
      },
      "text/plain": [
       "nld_Latn.parquet:   0%|          | 0.00/126k [00:00<?, ?B/s]"
      ]
     },
     "metadata": {},
     "output_type": "display_data"
    },
    {
     "data": {
      "application/vnd.jupyter.widget-view+json": {
       "model_id": "b6659c76ac824c218d9c650cfcba1c7b",
       "version_major": 2,
       "version_minor": 0
      },
      "text/plain": [
       "oci_Latn.parquet:   0%|          | 0.00/130k [00:00<?, ?B/s]"
      ]
     },
     "metadata": {},
     "output_type": "display_data"
    },
    {
     "data": {
      "application/vnd.jupyter.widget-view+json": {
       "model_id": "924f3a4043a64b7380a071570fb005eb",
       "version_major": 2,
       "version_minor": 0
      },
      "text/plain": [
       "mya_Mymr.parquet:   0%|          | 0.00/193k [00:00<?, ?B/s]"
      ]
     },
     "metadata": {},
     "output_type": "display_data"
    },
    {
     "data": {
      "application/vnd.jupyter.widget-view+json": {
       "model_id": "e6d0149b5d1f4c72bc87012d2e0a273b",
       "version_major": 2,
       "version_minor": 0
      },
      "text/plain": [
       "nob_Latn.parquet:   0%|          | 0.00/117k [00:00<?, ?B/s]"
      ]
     },
     "metadata": {},
     "output_type": "display_data"
    },
    {
     "data": {
      "application/vnd.jupyter.widget-view+json": {
       "model_id": "5e3720bd2f524ee68d2e40996532b451",
       "version_major": 2,
       "version_minor": 0
      },
      "text/plain": [
       "npi_Deva.parquet:   0%|          | 0.00/169k [00:00<?, ?B/s]"
      ]
     },
     "metadata": {},
     "output_type": "display_data"
    },
    {
     "data": {
      "application/vnd.jupyter.widget-view+json": {
       "model_id": "1ed2c6e012174b7399191edc7774d42d",
       "version_major": 2,
       "version_minor": 0
      },
      "text/plain": [
       "nso_Latn.parquet:   0%|          | 0.00/124k [00:00<?, ?B/s]"
      ]
     },
     "metadata": {},
     "output_type": "display_data"
    },
    {
     "data": {
      "application/vnd.jupyter.widget-view+json": {
       "model_id": "80ebca798b07409f86cb6d3cfc5a9441",
       "version_major": 2,
       "version_minor": 0
      },
      "text/plain": [
       "myv_Cyrl.parquet:   0%|          | 0.00/154k [00:00<?, ?B/s]"
      ]
     },
     "metadata": {},
     "output_type": "display_data"
    },
    {
     "data": {
      "application/vnd.jupyter.widget-view+json": {
       "model_id": "68bae13afab24b10951f4fda7ff39cd5",
       "version_major": 2,
       "version_minor": 0
      },
      "text/plain": [
       "nqo_Nkoo.parquet:   0%|          | 0.00/168k [00:00<?, ?B/s]"
      ]
     },
     "metadata": {},
     "output_type": "display_data"
    },
    {
     "data": {
      "application/vnd.jupyter.widget-view+json": {
       "model_id": "d5db8b9c5c36475e8ddcf2e6b0e5bb7c",
       "version_major": 2,
       "version_minor": 0
      },
      "text/plain": [
       "nno_Latn.parquet:   0%|          | 0.00/120k [00:00<?, ?B/s]"
      ]
     },
     "metadata": {},
     "output_type": "display_data"
    },
    {
     "data": {
      "application/vnd.jupyter.widget-view+json": {
       "model_id": "1a2d74fb5c094e5eaf8eca5cfec9e680",
       "version_major": 2,
       "version_minor": 0
      },
      "text/plain": [
       "mri_Latn.parquet:   0%|          | 0.00/117k [00:00<?, ?B/s]"
      ]
     },
     "metadata": {},
     "output_type": "display_data"
    },
    {
     "data": {
      "application/vnd.jupyter.widget-view+json": {
       "model_id": "944cf3f26f7a4e4babcd8dac99da9cf4",
       "version_major": 2,
       "version_minor": 0
      },
      "text/plain": [
       "nya_Latn.parquet:   0%|          | 0.00/122k [00:00<?, ?B/s]"
      ]
     },
     "metadata": {},
     "output_type": "display_data"
    },
    {
     "data": {
      "application/vnd.jupyter.widget-view+json": {
       "model_id": "c05f703cc57147ffb4cc9399cd022ca8",
       "version_major": 2,
       "version_minor": 0
      },
      "text/plain": [
       "nus_Latn.parquet:   0%|          | 0.00/128k [00:00<?, ?B/s]"
      ]
     },
     "metadata": {},
     "output_type": "display_data"
    },
    {
     "data": {
      "application/vnd.jupyter.widget-view+json": {
       "model_id": "8c4b8524352d4c2f99db217429fdcfb0",
       "version_major": 2,
       "version_minor": 0
      },
      "text/plain": [
       "pag_Latn.parquet:   0%|          | 0.00/114k [00:00<?, ?B/s]"
      ]
     },
     "metadata": {},
     "output_type": "display_data"
    },
    {
     "data": {
      "application/vnd.jupyter.widget-view+json": {
       "model_id": "ec43c73514d042788159f98a02b83234",
       "version_major": 2,
       "version_minor": 0
      },
      "text/plain": [
       "ory_Orya.parquet:   0%|          | 0.00/177k [00:00<?, ?B/s]"
      ]
     },
     "metadata": {},
     "output_type": "display_data"
    },
    {
     "data": {
      "application/vnd.jupyter.widget-view+json": {
       "model_id": "59533fe7fd4d489eb654258a5cecd7e1",
       "version_major": 2,
       "version_minor": 0
      },
      "text/plain": [
       "oci_Latn_aran1260.parquet:   0%|          | 0.00/132k [00:00<?, ?B/s]"
      ]
     },
     "metadata": {},
     "output_type": "display_data"
    },
    {
     "data": {
      "application/vnd.jupyter.widget-view+json": {
       "model_id": "d6ff04eea2ca42cea01cd2cdaa490dcc",
       "version_major": 2,
       "version_minor": 0
      },
      "text/plain": [
       "pan_Guru.parquet:   0%|          | 0.00/172k [00:00<?, ?B/s]"
      ]
     },
     "metadata": {},
     "output_type": "display_data"
    },
    {
     "data": {
      "application/vnd.jupyter.widget-view+json": {
       "model_id": "f4c8f718a3d24c0194cca78429338320",
       "version_major": 2,
       "version_minor": 0
      },
      "text/plain": [
       "pap_Latn.parquet:   0%|          | 0.00/121k [00:00<?, ?B/s]"
      ]
     },
     "metadata": {},
     "output_type": "display_data"
    },
    {
     "data": {
      "application/vnd.jupyter.widget-view+json": {
       "model_id": "3a73a8d58d7d4742886f9de2ffc32d05",
       "version_major": 2,
       "version_minor": 0
      },
      "text/plain": [
       "pbt_Arab.parquet:   0%|          | 0.00/145k [00:00<?, ?B/s]"
      ]
     },
     "metadata": {},
     "output_type": "display_data"
    },
    {
     "data": {
      "application/vnd.jupyter.widget-view+json": {
       "model_id": "791cdbfb871945668f6e99083c26fe6f",
       "version_major": 2,
       "version_minor": 0
      },
      "text/plain": [
       "pol_Latn.parquet:   0%|          | 0.00/134k [00:00<?, ?B/s]"
      ]
     },
     "metadata": {},
     "output_type": "display_data"
    },
    {
     "data": {
      "application/vnd.jupyter.widget-view+json": {
       "model_id": "c62397f7712840e2a0751f2ff1841e8d",
       "version_major": 2,
       "version_minor": 0
      },
      "text/plain": [
       "shn_Mymr.parquet:   0%|          | 0.00/223k [00:00<?, ?B/s]"
      ]
     },
     "metadata": {},
     "output_type": "display_data"
    },
    {
     "data": {
      "application/vnd.jupyter.widget-view+json": {
       "model_id": "ba61df32e1194bb7a1d55d8a63d34446",
       "version_major": 2,
       "version_minor": 0
      },
      "text/plain": [
       "run_Latn.parquet:   0%|          | 0.00/126k [00:00<?, ?B/s]"
      ]
     },
     "metadata": {},
     "output_type": "display_data"
    },
    {
     "data": {
      "application/vnd.jupyter.widget-view+json": {
       "model_id": "7a628d8d3304444fbcce12ec417931d4",
       "version_major": 2,
       "version_minor": 0
      },
      "text/plain": [
       "sat_Olck.parquet:   0%|          | 0.00/170k [00:00<?, ?B/s]"
      ]
     },
     "metadata": {},
     "output_type": "display_data"
    },
    {
     "data": {
      "application/vnd.jupyter.widget-view+json": {
       "model_id": "47499b33c3da4ae4a38add46c95dc20a",
       "version_major": 2,
       "version_minor": 0
      },
      "text/plain": [
       "plt_Latn.parquet:   0%|          | 0.00/124k [00:00<?, ?B/s]"
      ]
     },
     "metadata": {},
     "output_type": "display_data"
    },
    {
     "data": {
      "application/vnd.jupyter.widget-view+json": {
       "model_id": "8f8c70ba3eb24faa8d927db8f78d54fc",
       "version_major": 2,
       "version_minor": 0
      },
      "text/plain": [
       "scn_Latn.parquet:   0%|          | 0.00/126k [00:00<?, ?B/s]"
      ]
     },
     "metadata": {},
     "output_type": "display_data"
    },
    {
     "data": {
      "application/vnd.jupyter.widget-view+json": {
       "model_id": "2e5af9e3bac1483c893c9965fe0beda1",
       "version_major": 2,
       "version_minor": 0
      },
      "text/plain": [
       "pes_Arab.parquet:   0%|          | 0.00/145k [00:00<?, ?B/s]"
      ]
     },
     "metadata": {},
     "output_type": "display_data"
    },
    {
     "data": {
      "application/vnd.jupyter.widget-view+json": {
       "model_id": "597498c67a7e402d9673fea229fa0d02",
       "version_major": 2,
       "version_minor": 0
      },
      "text/plain": [
       "rus_Cyrl.parquet:   0%|          | 0.00/167k [00:00<?, ?B/s]"
      ]
     },
     "metadata": {},
     "output_type": "display_data"
    },
    {
     "data": {
      "application/vnd.jupyter.widget-view+json": {
       "model_id": "37018bc9d6444ae38e64e6f0c1d0125f",
       "version_major": 2,
       "version_minor": 0
      },
      "text/plain": [
       "por_Latn.parquet:   0%|          | 0.00/127k [00:00<?, ?B/s]"
      ]
     },
     "metadata": {},
     "output_type": "display_data"
    },
    {
     "data": {
      "application/vnd.jupyter.widget-view+json": {
       "model_id": "00a52f8e883c461ca47127092ec1b23b",
       "version_major": 2,
       "version_minor": 0
      },
      "text/plain": [
       "quy_Latn.parquet:   0%|          | 0.00/118k [00:00<?, ?B/s]"
      ]
     },
     "metadata": {},
     "output_type": "display_data"
    },
    {
     "data": {
      "application/vnd.jupyter.widget-view+json": {
       "model_id": "0234773731e746da9e41a94acf601e62",
       "version_major": 2,
       "version_minor": 0
      },
      "text/plain": [
       "ron_Latn.parquet:   0%|          | 0.00/133k [00:00<?, ?B/s]"
      ]
     },
     "metadata": {},
     "output_type": "display_data"
    },
    {
     "data": {
      "application/vnd.jupyter.widget-view+json": {
       "model_id": "728baa65bf0940439a2b432174e15632",
       "version_major": 2,
       "version_minor": 0
      },
      "text/plain": [
       "sag_Latn.parquet:   0%|          | 0.00/111k [00:00<?, ?B/s]"
      ]
     },
     "metadata": {},
     "output_type": "display_data"
    },
    {
     "data": {
      "application/vnd.jupyter.widget-view+json": {
       "model_id": "bae2293a92a14db4a7b34ec5a3e6e3bb",
       "version_major": 2,
       "version_minor": 0
      },
      "text/plain": [
       "prs_Arab.parquet:   0%|          | 0.00/140k [00:00<?, ?B/s]"
      ]
     },
     "metadata": {},
     "output_type": "display_data"
    },
    {
     "data": {
      "application/vnd.jupyter.widget-view+json": {
       "model_id": "4570f34b1a10485c959d44cb983fd129",
       "version_major": 2,
       "version_minor": 0
      },
      "text/plain": [
       "san_Deva.parquet:   0%|          | 0.00/171k [00:00<?, ?B/s]"
      ]
     },
     "metadata": {},
     "output_type": "display_data"
    },
    {
     "data": {
      "application/vnd.jupyter.widget-view+json": {
       "model_id": "481ce14e1d74432196c3a486e47f17c7",
       "version_major": 2,
       "version_minor": 0
      },
      "text/plain": [
       "sin_Sinh.parquet:   0%|          | 0.00/180k [00:00<?, ?B/s]"
      ]
     },
     "metadata": {},
     "output_type": "display_data"
    },
    {
     "data": {
      "application/vnd.jupyter.widget-view+json": {
       "model_id": "5bbc621956bc476f9258e632c90e88cc",
       "version_major": 2,
       "version_minor": 0
      },
      "text/plain": [
       "snd_Arab.parquet:   0%|          | 0.00/141k [00:00<?, ?B/s]"
      ]
     },
     "metadata": {},
     "output_type": "display_data"
    },
    {
     "data": {
      "application/vnd.jupyter.widget-view+json": {
       "model_id": "3815bb5a96e545659a664dd11db23ecb",
       "version_major": 2,
       "version_minor": 0
      },
      "text/plain": [
       "tam_Taml.parquet:   0%|          | 0.00/187k [00:00<?, ?B/s]"
      ]
     },
     "metadata": {},
     "output_type": "display_data"
    },
    {
     "data": {
      "application/vnd.jupyter.widget-view+json": {
       "model_id": "effa66ee2fd7417594b3c90968d5f81a",
       "version_major": 2,
       "version_minor": 0
      },
      "text/plain": [
       "sna_Latn.parquet:   0%|          | 0.00/124k [00:00<?, ?B/s]"
      ]
     },
     "metadata": {},
     "output_type": "display_data"
    },
    {
     "data": {
      "application/vnd.jupyter.widget-view+json": {
       "model_id": "92fb1e6682284291aac4a611595c42bf",
       "version_major": 2,
       "version_minor": 0
      },
      "text/plain": [
       "slv_Latn.parquet:   0%|          | 0.00/124k [00:00<?, ?B/s]"
      ]
     },
     "metadata": {},
     "output_type": "display_data"
    },
    {
     "data": {
      "application/vnd.jupyter.widget-view+json": {
       "model_id": "3d986a6050fb4e5296a813ad6e427c9f",
       "version_major": 2,
       "version_minor": 0
      },
      "text/plain": [
       "ssw_Latn.parquet:   0%|          | 0.00/126k [00:00<?, ?B/s]"
      ]
     },
     "metadata": {},
     "output_type": "display_data"
    },
    {
     "data": {
      "application/vnd.jupyter.widget-view+json": {
       "model_id": "c45fcd8f4df24cbbbe41a6eddedb0121",
       "version_major": 2,
       "version_minor": 0
      },
      "text/plain": [
       "swe_Latn.parquet:   0%|          | 0.00/122k [00:00<?, ?B/s]"
      ]
     },
     "metadata": {},
     "output_type": "display_data"
    },
    {
     "data": {
      "application/vnd.jupyter.widget-view+json": {
       "model_id": "3fdd7c8ed69848e98b20830a8b941fcc",
       "version_major": 2,
       "version_minor": 0
      },
      "text/plain": [
       "smo_Latn.parquet:   0%|          | 0.00/121k [00:00<?, ?B/s]"
      ]
     },
     "metadata": {},
     "output_type": "display_data"
    },
    {
     "data": {
      "application/vnd.jupyter.widget-view+json": {
       "model_id": "542d2255cd3c47a9a18ac54db5a143fb",
       "version_major": 2,
       "version_minor": 0
      },
      "text/plain": [
       "som_Latn.parquet:   0%|          | 0.00/133k [00:00<?, ?B/s]"
      ]
     },
     "metadata": {},
     "output_type": "display_data"
    },
    {
     "data": {
      "application/vnd.jupyter.widget-view+json": {
       "model_id": "8d1dce4cd841474787d0548faa20d93f",
       "version_major": 2,
       "version_minor": 0
      },
      "text/plain": [
       "szl_Latn.parquet:   0%|          | 0.00/133k [00:00<?, ?B/s]"
      ]
     },
     "metadata": {},
     "output_type": "display_data"
    },
    {
     "data": {
      "application/vnd.jupyter.widget-view+json": {
       "model_id": "1ae0c3714e1442f5b5d95834005a9655",
       "version_major": 2,
       "version_minor": 0
      },
      "text/plain": [
       "srd_Latn.parquet:   0%|          | 0.00/128k [00:00<?, ?B/s]"
      ]
     },
     "metadata": {},
     "output_type": "display_data"
    },
    {
     "data": {
      "application/vnd.jupyter.widget-view+json": {
       "model_id": "c31218faa7644e4e980a02333f54b93f",
       "version_major": 2,
       "version_minor": 0
      },
      "text/plain": [
       "slk_Latn.parquet:   0%|          | 0.00/132k [00:00<?, ?B/s]"
      ]
     },
     "metadata": {},
     "output_type": "display_data"
    },
    {
     "data": {
      "application/vnd.jupyter.widget-view+json": {
       "model_id": "055d8ab3a53a4623becd0921b7e27e2d",
       "version_major": 2,
       "version_minor": 0
      },
      "text/plain": [
       "sun_Latn.parquet:   0%|          | 0.00/120k [00:00<?, ?B/s]"
      ]
     },
     "metadata": {},
     "output_type": "display_data"
    },
    {
     "data": {
      "application/vnd.jupyter.widget-view+json": {
       "model_id": "42b589440328471bbe431d20c78d0adb",
       "version_major": 2,
       "version_minor": 0
      },
      "text/plain": [
       "srp_Cyrl.parquet:   0%|          | 0.00/154k [00:00<?, ?B/s]"
      ]
     },
     "metadata": {},
     "output_type": "display_data"
    },
    {
     "data": {
      "application/vnd.jupyter.widget-view+json": {
       "model_id": "452ea0965b62434aad6d9784c1aade1a",
       "version_major": 2,
       "version_minor": 0
      },
      "text/plain": [
       "spa_Latn.parquet:   0%|          | 0.00/134k [00:00<?, ?B/s]"
      ]
     },
     "metadata": {},
     "output_type": "display_data"
    },
    {
     "data": {
      "application/vnd.jupyter.widget-view+json": {
       "model_id": "07d96d6afa7a4a1b965235a9350f4717",
       "version_major": 2,
       "version_minor": 0
      },
      "text/plain": [
       "sot_Latn.parquet:   0%|          | 0.00/126k [00:00<?, ?B/s]"
      ]
     },
     "metadata": {},
     "output_type": "display_data"
    },
    {
     "data": {
      "application/vnd.jupyter.widget-view+json": {
       "model_id": "afbebe3200464c599f399d0ad9035654",
       "version_major": 2,
       "version_minor": 0
      },
      "text/plain": [
       "swh_Latn.parquet:   0%|          | 0.00/117k [00:00<?, ?B/s]"
      ]
     },
     "metadata": {},
     "output_type": "display_data"
    },
    {
     "data": {
      "application/vnd.jupyter.widget-view+json": {
       "model_id": "3208a8d7362d4d298fa7acf851d60f53",
       "version_major": 2,
       "version_minor": 0
      },
      "text/plain": [
       "tir_Ethi.parquet:   0%|          | 0.00/155k [00:00<?, ?B/s]"
      ]
     },
     "metadata": {},
     "output_type": "display_data"
    },
    {
     "data": {
      "application/vnd.jupyter.widget-view+json": {
       "model_id": "f1d865316d194804b9e511e76fdd51be",
       "version_major": 2,
       "version_minor": 0
      },
      "text/plain": [
       "tat_Cyrl.parquet:   0%|          | 0.00/154k [00:00<?, ?B/s]"
      ]
     },
     "metadata": {},
     "output_type": "display_data"
    },
    {
     "data": {
      "application/vnd.jupyter.widget-view+json": {
       "model_id": "808e840c9a8745cea074419d032d4709",
       "version_major": 2,
       "version_minor": 0
      },
      "text/plain": [
       "tur_Latn.parquet:   0%|          | 0.00/126k [00:00<?, ?B/s]"
      ]
     },
     "metadata": {},
     "output_type": "display_data"
    },
    {
     "data": {
      "application/vnd.jupyter.widget-view+json": {
       "model_id": "d8d3f3b4b35f4d9db576177fcb59b609",
       "version_major": 2,
       "version_minor": 0
      },
      "text/plain": [
       "tso_Latn.parquet:   0%|          | 0.00/124k [00:00<?, ?B/s]"
      ]
     },
     "metadata": {},
     "output_type": "display_data"
    },
    {
     "data": {
      "application/vnd.jupyter.widget-view+json": {
       "model_id": "8c54ceb8f30d4547bf039390b139cc79",
       "version_major": 2,
       "version_minor": 0
      },
      "text/plain": [
       "taq_Tfng.parquet:   0%|          | 0.00/158k [00:00<?, ?B/s]"
      ]
     },
     "metadata": {},
     "output_type": "display_data"
    },
    {
     "data": {
      "application/vnd.jupyter.widget-view+json": {
       "model_id": "0be2c215211749a1877f06f8cf4fc46a",
       "version_major": 2,
       "version_minor": 0
      },
      "text/plain": [
       "twi_Latn_akua1239.parquet:   0%|          | 0.00/116k [00:00<?, ?B/s]"
      ]
     },
     "metadata": {},
     "output_type": "display_data"
    },
    {
     "data": {
      "application/vnd.jupyter.widget-view+json": {
       "model_id": "a3137d4195104563a381711420144402",
       "version_major": 2,
       "version_minor": 0
      },
      "text/plain": [
       "tum_Latn.parquet:   0%|          | 0.00/130k [00:00<?, ?B/s]"
      ]
     },
     "metadata": {},
     "output_type": "display_data"
    },
    {
     "data": {
      "application/vnd.jupyter.widget-view+json": {
       "model_id": "8bff70909d634ce9b66591b2ae369dbb",
       "version_major": 2,
       "version_minor": 0
      },
      "text/plain": [
       "taq_Latn.parquet:   0%|          | 0.00/120k [00:00<?, ?B/s]"
      ]
     },
     "metadata": {},
     "output_type": "display_data"
    },
    {
     "data": {
      "application/vnd.jupyter.widget-view+json": {
       "model_id": "6213c0205d3649a88dcf7f61cb8fe62d",
       "version_major": 2,
       "version_minor": 0
      },
      "text/plain": [
       "tha_Thai.parquet:   0%|          | 0.00/180k [00:00<?, ?B/s]"
      ]
     },
     "metadata": {},
     "output_type": "display_data"
    },
    {
     "data": {
      "application/vnd.jupyter.widget-view+json": {
       "model_id": "9c88135753bd4da599d2e89d9d6156a6",
       "version_major": 2,
       "version_minor": 0
      },
      "text/plain": [
       "tel_Telu.parquet:   0%|          | 0.00/176k [00:00<?, ?B/s]"
      ]
     },
     "metadata": {},
     "output_type": "display_data"
    },
    {
     "data": {
      "application/vnd.jupyter.widget-view+json": {
       "model_id": "afcf03537bc94bf9940b09576f4e1a7e",
       "version_major": 2,
       "version_minor": 0
      },
      "text/plain": [
       "tgk_Cyrl.parquet:   0%|          | 0.00/163k [00:00<?, ?B/s]"
      ]
     },
     "metadata": {},
     "output_type": "display_data"
    },
    {
     "data": {
      "application/vnd.jupyter.widget-view+json": {
       "model_id": "3987f38ef2b04bd184acfb0d0de8d724",
       "version_major": 2,
       "version_minor": 0
      },
      "text/plain": [
       "twi_Latn_asan1239.parquet:   0%|          | 0.00/119k [00:00<?, ?B/s]"
      ]
     },
     "metadata": {},
     "output_type": "display_data"
    },
    {
     "data": {
      "application/vnd.jupyter.widget-view+json": {
       "model_id": "13f6a2b79459496aab0fd820097982ac",
       "version_major": 2,
       "version_minor": 0
      },
      "text/plain": [
       "tsn_Latn.parquet:   0%|          | 0.00/130k [00:00<?, ?B/s]"
      ]
     },
     "metadata": {},
     "output_type": "display_data"
    },
    {
     "data": {
      "application/vnd.jupyter.widget-view+json": {
       "model_id": "bb19598997ac467f8097c76e8be463d5",
       "version_major": 2,
       "version_minor": 0
      },
      "text/plain": [
       "tpi_Latn.parquet:   0%|          | 0.00/117k [00:00<?, ?B/s]"
      ]
     },
     "metadata": {},
     "output_type": "display_data"
    },
    {
     "data": {
      "application/vnd.jupyter.widget-view+json": {
       "model_id": "a7d15fd817b446e689333ba2365ef8ac",
       "version_major": 2,
       "version_minor": 0
      },
      "text/plain": [
       "tuk_Latn.parquet:   0%|          | 0.00/127k [00:00<?, ?B/s]"
      ]
     },
     "metadata": {},
     "output_type": "display_data"
    },
    {
     "data": {
      "application/vnd.jupyter.widget-view+json": {
       "model_id": "3950ce2e816f4be6ad1b0c982f2bba8b",
       "version_major": 2,
       "version_minor": 0
      },
      "text/plain": [
       "tyv_Cyrl.parquet:   0%|          | 0.00/163k [00:00<?, ?B/s]"
      ]
     },
     "metadata": {},
     "output_type": "display_data"
    },
    {
     "data": {
      "application/vnd.jupyter.widget-view+json": {
       "model_id": "623f15c1efe44da18eda553c7e495ed2",
       "version_major": 2,
       "version_minor": 0
      },
      "text/plain": [
       "vec_Latn.parquet:   0%|          | 0.00/123k [00:00<?, ?B/s]"
      ]
     },
     "metadata": {},
     "output_type": "display_data"
    },
    {
     "data": {
      "application/vnd.jupyter.widget-view+json": {
       "model_id": "bf85ccbfd55a491180f4a59b20e7cb63",
       "version_major": 2,
       "version_minor": 0
      },
      "text/plain": [
       "ydd_Hebr.parquet:   0%|          | 0.00/153k [00:00<?, ?B/s]"
      ]
     },
     "metadata": {},
     "output_type": "display_data"
    },
    {
     "data": {
      "application/vnd.jupyter.widget-view+json": {
       "model_id": "b00bd7309df742d5a1da4af6579c727f",
       "version_major": 2,
       "version_minor": 0
      },
      "text/plain": [
       "yor_Latn.parquet:   0%|          | 0.00/135k [00:00<?, ?B/s]"
      ]
     },
     "metadata": {},
     "output_type": "display_data"
    },
    {
     "data": {
      "application/vnd.jupyter.widget-view+json": {
       "model_id": "129bdbf2e10f4d4ca23947c9f372218d",
       "version_major": 2,
       "version_minor": 0
      },
      "text/plain": [
       "uzn_Latn.parquet:   0%|          | 0.00/125k [00:00<?, ?B/s]"
      ]
     },
     "metadata": {},
     "output_type": "display_data"
    },
    {
     "data": {
      "application/vnd.jupyter.widget-view+json": {
       "model_id": "1ea1e9f8b4c34d208c868a6793108146",
       "version_major": 2,
       "version_minor": 0
      },
      "text/plain": [
       "umb_Latn.parquet:   0%|          | 0.00/115k [00:00<?, ?B/s]"
      ]
     },
     "metadata": {},
     "output_type": "display_data"
    },
    {
     "data": {
      "application/vnd.jupyter.widget-view+json": {
       "model_id": "edf8f1a9fea54234ab1d77c076315917",
       "version_major": 2,
       "version_minor": 0
      },
      "text/plain": [
       "vmw_Latn.parquet:   0%|          | 0.00/129k [00:00<?, ?B/s]"
      ]
     },
     "metadata": {},
     "output_type": "display_data"
    },
    {
     "data": {
      "application/vnd.jupyter.widget-view+json": {
       "model_id": "f9c4b70898614fe5a077341557f1b5f4",
       "version_major": 2,
       "version_minor": 0
      },
      "text/plain": [
       "zsm_Latn.parquet:   0%|          | 0.00/119k [00:00<?, ?B/s]"
      ]
     },
     "metadata": {},
     "output_type": "display_data"
    },
    {
     "data": {
      "application/vnd.jupyter.widget-view+json": {
       "model_id": "45d1f57b0ef74fa68946d1b834480e52",
       "version_major": 2,
       "version_minor": 0
      },
      "text/plain": [
       "ukr_Cyrl.parquet:   0%|          | 0.00/162k [00:00<?, ?B/s]"
      ]
     },
     "metadata": {},
     "output_type": "display_data"
    },
    {
     "data": {
      "application/vnd.jupyter.widget-view+json": {
       "model_id": "46f698cda7244b84ad4eae6acb889c3f",
       "version_major": 2,
       "version_minor": 0
      },
      "text/plain": [
       "wol_Latn.parquet:   0%|          | 0.00/123k [00:00<?, ?B/s]"
      ]
     },
     "metadata": {},
     "output_type": "display_data"
    },
    {
     "data": {
      "application/vnd.jupyter.widget-view+json": {
       "model_id": "29be22e5251448b3a46aa4dbb4362cb2",
       "version_major": 2,
       "version_minor": 0
      },
      "text/plain": [
       "zgh_Tfng.parquet:   0%|          | 0.00/160k [00:00<?, ?B/s]"
      ]
     },
     "metadata": {},
     "output_type": "display_data"
    },
    {
     "data": {
      "application/vnd.jupyter.widget-view+json": {
       "model_id": "5a265fae0fc94f9e8cc64b3f02e97b9a",
       "version_major": 2,
       "version_minor": 0
      },
      "text/plain": [
       "uig_Arab.parquet:   0%|          | 0.00/157k [00:00<?, ?B/s]"
      ]
     },
     "metadata": {},
     "output_type": "display_data"
    },
    {
     "data": {
      "application/vnd.jupyter.widget-view+json": {
       "model_id": "10c861f2cb724a77bc0388c3a4e8ad6d",
       "version_major": 2,
       "version_minor": 0
      },
      "text/plain": [
       "yue_Hant.parquet:   0%|          | 0.00/115k [00:00<?, ?B/s]"
      ]
     },
     "metadata": {},
     "output_type": "display_data"
    },
    {
     "data": {
      "application/vnd.jupyter.widget-view+json": {
       "model_id": "46daabde149248f5bf0cc731e1acd020",
       "version_major": 2,
       "version_minor": 0
      },
      "text/plain": [
       "vie_Latn.parquet:   0%|          | 0.00/133k [00:00<?, ?B/s]"
      ]
     },
     "metadata": {},
     "output_type": "display_data"
    },
    {
     "data": {
      "application/vnd.jupyter.widget-view+json": {
       "model_id": "0d7daa3cb9944893a5c6f56662e95486",
       "version_major": 2,
       "version_minor": 0
      },
      "text/plain": [
       "xho_Latn.parquet:   0%|          | 0.00/125k [00:00<?, ?B/s]"
      ]
     },
     "metadata": {},
     "output_type": "display_data"
    },
    {
     "data": {
      "application/vnd.jupyter.widget-view+json": {
       "model_id": "06c1d86f5f4746639ca7d70796a9439c",
       "version_major": 2,
       "version_minor": 0
      },
      "text/plain": [
       "war_Latn.parquet:   0%|          | 0.00/128k [00:00<?, ?B/s]"
      ]
     },
     "metadata": {},
     "output_type": "display_data"
    },
    {
     "data": {
      "application/vnd.jupyter.widget-view+json": {
       "model_id": "48817507f7b34732ae7f026ac7edf9af",
       "version_major": 2,
       "version_minor": 0
      },
      "text/plain": [
       "urd_Arab.parquet:   0%|          | 0.00/151k [00:00<?, ?B/s]"
      ]
     },
     "metadata": {},
     "output_type": "display_data"
    },
    {
     "data": {
      "application/vnd.jupyter.widget-view+json": {
       "model_id": "9d9d2552df594880a9708fc4021c64b1",
       "version_major": 2,
       "version_minor": 0
      },
      "text/plain": [
       "zul_Latn.parquet:   0%|          | 0.00/126k [00:00<?, ?B/s]"
      ]
     },
     "metadata": {},
     "output_type": "display_data"
    },
    {
     "data": {
      "application/vnd.jupyter.widget-view+json": {
       "model_id": "ad1a1488975d4052916b23cec13771f8",
       "version_major": 2,
       "version_minor": 0
      },
      "text/plain": [
       "Generating dev split:   0%|          | 0/217346 [00:00<?, ? examples/s]"
      ]
     },
     "metadata": {},
     "output_type": "display_data"
    },
    {
     "data": {
      "application/vnd.jupyter.widget-view+json": {
       "model_id": "f560664eef98482eb4cdcb0ea00031bd",
       "version_major": 2,
       "version_minor": 0
      },
      "text/plain": [
       "Generating devtest split:   0%|          | 0/215556 [00:00<?, ? examples/s]"
      ]
     },
     "metadata": {},
     "output_type": "display_data"
    },
    {
     "name": "stdout",
     "output_type": "stream",
     "text": [
      "mhr ru\n",
      "997\n",
      "(997, 2)\n",
      "ru mhr\n",
      "997\n",
      "(997, 2)\n",
      "kaz ru\n",
      "997\n",
      "(997, 2)\n",
      "ru kaz\n",
      "997\n",
      "(997, 2)\n",
      "tat ru\n",
      "997\n",
      "(997, 2)\n",
      "ru tat\n",
      "997\n",
      "(997, 2)\n"
     ]
    }
   ],
   "source": [
    "from datasets import load_dataset\n",
    "\n",
    "def make_flores_dev_eval(directions: list[str]):\n",
    "    ds = load_dataset(\"openlanguagedata/flores_plus\")\n",
    "    df = ds['dev'].to_pandas()\n",
    "    dm = dataset_manager.DatasetManager()\n",
    "    for direction in directions:\n",
    "        direction = direction.replace('rus', 'ru')\n",
    "        os.makedirs(os.path.dirname(dm.get_path(direction, 'DELETE_ME')), exist_ok=True)\n",
    "        src_lang, dst_lang = direction.strip().split('-')\n",
    "        print(src_lang, dst_lang)\n",
    "        combined = []\n",
    "        for src, dst in zip(df[df['iso_639_3'] == src_lang.replace('ru', 'rus')].to_dict('records'), df[df['iso_639_3'] == dst_lang.replace('ru', 'rus')].to_dict('records')):\n",
    "            combined.append({\n",
    "                src_lang: src['text'],\n",
    "                dst_lang: dst['text'],\n",
    "            })\n",
    "        print(len(combined))\n",
    "        combined = pd.DataFrame(combined)\n",
    "        print(combined.shape)\n",
    "        combined.to_csv(os.path.join(os.path.dirname(dm.get_path(direction, 'DELETE_ME')), 'flores-dev.csv'))\n",
    "\n",
    "\n",
    "make_flores_dev_eval([\n",
    "    'mhr-rus', 'rus-mhr',\n",
    "    'kaz-rus', 'rus-kaz',\n",
    "    'tat-rus', 'rus-tat',\n",
    "])"
   ]
  },
  {
   "cell_type": "code",
   "execution_count": 9,
   "metadata": {
    "execution": {
     "iopub.execute_input": "2024-11-18T22:43:52.385233Z",
     "iopub.status.busy": "2024-11-18T22:43:52.384938Z",
     "iopub.status.idle": "2024-11-18T22:43:57.377764Z",
     "shell.execute_reply": "2024-11-18T22:43:57.376988Z",
     "shell.execute_reply.started": "2024-11-18T22:43:52.385205Z"
    }
   },
   "outputs": [
    {
     "name": "stderr",
     "output_type": "stream",
     "text": [
      "The cache for model files in Transformers v4.22.0 has been updated. Migrating your old cache. This is a one-time only operation. You can interrupt this and resume the migration later on by calling `transformers.utils.move_cache()`.\n"
     ]
    },
    {
     "data": {
      "application/vnd.jupyter.widget-view+json": {
       "model_id": "6bcf04f683ea40879debb70c3433b636",
       "version_major": 2,
       "version_minor": 0
      },
      "text/plain": [
       "0it [00:00, ?it/s]"
      ]
     },
     "metadata": {},
     "output_type": "display_data"
    }
   ],
   "source": [
    "from scripts.helpers.model_manager import Madlad400Model, BaseModel\n",
    "\n",
    "# model = Madlad400Model(device='cuda', convert_to_float16=False)  # we can ignore T5ForConditionalGeneration warning as it's not used\n",
    "\n",
    "# model.translate_batch(['Счастливые лисички прыгают прыг скок', 'раз два три!'], 'ru', 'en')"
   ]
  },
  {
   "cell_type": "code",
   "execution_count": 10,
   "metadata": {
    "execution": {
     "iopub.execute_input": "2024-11-18T22:43:57.460984Z",
     "iopub.status.busy": "2024-11-18T22:43:57.460698Z",
     "iopub.status.idle": "2024-11-18T22:44:47.018301Z",
     "shell.execute_reply": "2024-11-18T22:44:47.017310Z",
     "shell.execute_reply.started": "2024-11-18T22:43:57.460956Z"
    }
   },
   "outputs": [
    {
     "data": {
      "application/vnd.jupyter.widget-view+json": {
       "model_id": "37284dc1622b442f9720c5d5a78404a4",
       "version_major": 2,
       "version_minor": 0
      },
      "text/plain": [
       "tokenizer_config.json:   0%|          | 0.00/564 [00:00<?, ?B/s]"
      ]
     },
     "metadata": {},
     "output_type": "display_data"
    },
    {
     "data": {
      "application/vnd.jupyter.widget-view+json": {
       "model_id": "aecdc9e01d67454a8201df1dd124ec3e",
       "version_major": 2,
       "version_minor": 0
      },
      "text/plain": [
       "sentencepiece.bpe.model:   0%|          | 0.00/4.85M [00:00<?, ?B/s]"
      ]
     },
     "metadata": {},
     "output_type": "display_data"
    },
    {
     "data": {
      "application/vnd.jupyter.widget-view+json": {
       "model_id": "e588551ee60a41e692e2fece1c289c38",
       "version_major": 2,
       "version_minor": 0
      },
      "text/plain": [
       "tokenizer.json:   0%|          | 0.00/17.3M [00:00<?, ?B/s]"
      ]
     },
     "metadata": {},
     "output_type": "display_data"
    },
    {
     "data": {
      "application/vnd.jupyter.widget-view+json": {
       "model_id": "023442a03ab147beaa583d4d9618d89d",
       "version_major": 2,
       "version_minor": 0
      },
      "text/plain": [
       "special_tokens_map.json:   0%|          | 0.00/3.55k [00:00<?, ?B/s]"
      ]
     },
     "metadata": {},
     "output_type": "display_data"
    },
    {
     "name": "stderr",
     "output_type": "stream",
     "text": [
      "/opt/conda/lib/python3.10/site-packages/transformers/tokenization_utils_base.py:1617: FutureWarning: `clean_up_tokenization_spaces` was not set. It will be set to `True` by default. This behavior will be deprecated in transformers v4.45, and will be then set to `False` by default. For more details check this issue: https://github.com/huggingface/transformers/issues/31884\n",
      "  warnings.warn(\n"
     ]
    },
    {
     "data": {
      "application/vnd.jupyter.widget-view+json": {
       "model_id": "a00979cd8aae448fbeb4a35426209fbf",
       "version_major": 2,
       "version_minor": 0
      },
      "text/plain": [
       "config.json:   0%|          | 0.00/808 [00:00<?, ?B/s]"
      ]
     },
     "metadata": {},
     "output_type": "display_data"
    },
    {
     "data": {
      "application/vnd.jupyter.widget-view+json": {
       "model_id": "e7e5d1580e0b40179058b71d4b230458",
       "version_major": 2,
       "version_minor": 0
      },
      "text/plain": [
       "pytorch_model.bin:   0%|          | 0.00/5.48G [00:00<?, ?B/s]"
      ]
     },
     "metadata": {},
     "output_type": "display_data"
    },
    {
     "data": {
      "application/vnd.jupyter.widget-view+json": {
       "model_id": "0abca2c5dc224fa182866c0424cd48a4",
       "version_major": 2,
       "version_minor": 0
      },
      "text/plain": [
       "generation_config.json:   0%|          | 0.00/189 [00:00<?, ?B/s]"
      ]
     },
     "metadata": {},
     "output_type": "display_data"
    },
    {
     "data": {
      "text/plain": [
       "['Счастливые лисички прыгают прыгают скак Бақытты лисички секіріп секіріп секіреді',\n",
       " 'Бір, екі, үш рет!']"
      ]
     },
     "execution_count": 10,
     "metadata": {},
     "output_type": "execute_result"
    }
   ],
   "source": [
    "from scripts.helpers.model_manager import NLLB200Model\n",
    "\n",
    "model = NLLB200Model(device='cuda')\n",
    "\n",
    "model.translate_batch(['Счастливые лисички прыгают прыг скок', 'раз два три!'], 'ru', 'kaz')"
   ]
  },
  {
   "cell_type": "code",
   "execution_count": 11,
   "metadata": {
    "execution": {
     "iopub.execute_input": "2024-11-18T22:44:47.421079Z",
     "iopub.status.busy": "2024-11-18T22:44:47.420798Z",
     "iopub.status.idle": "2024-11-18T22:44:47.429136Z",
     "shell.execute_reply": "2024-11-18T22:44:47.428134Z",
     "shell.execute_reply.started": "2024-11-18T22:44:47.421050Z"
    }
   },
   "outputs": [],
   "source": [
    "from scripts.benchmark.flores_dev import benchmark"
   ]
  },
  {
   "cell_type": "code",
   "execution_count": 12,
   "metadata": {
    "execution": {
     "iopub.execute_input": "2024-11-18T22:44:48.425314Z",
     "iopub.status.busy": "2024-11-18T22:44:48.425053Z",
     "iopub.status.idle": "2024-11-18T22:44:48.457594Z",
     "shell.execute_reply": "2024-11-18T22:44:48.456673Z",
     "shell.execute_reply.started": "2024-11-18T22:44:48.425269Z"
    }
   },
   "outputs": [
    {
     "name": "stderr",
     "output_type": "stream",
     "text": [
      "100%|██████████| 125/125 [00:00<00:00, 85934.76it/s]"
     ]
    },
    {
     "name": "stdout",
     "output_type": "stream",
     "text": [
      "WARN: Failed to process batch 0. Failed with exception: Language `chm` not supported yet.\n",
      "WARN: Failed to process batch 1. Failed with exception: Language `chm` not supported yet.\n",
      "WARN: Failed to process batch 2. Failed with exception: Language `chm` not supported yet.\n",
      "WARN: Failed to process batch 3. Failed with exception: Language `chm` not supported yet.\n",
      "WARN: Failed to process batch 4. Failed with exception: Language `chm` not supported yet.\n",
      "WARN: Failed to process batch 5. Failed with exception: Language `chm` not supported yet.\n",
      "WARN: Failed to process batch 6. Failed with exception: Language `chm` not supported yet.\n",
      "WARN: Failed to process batch 7. Failed with exception: Language `chm` not supported yet.\n",
      "WARN: Failed to process batch 8. Failed with exception: Language `chm` not supported yet.\n",
      "WARN: Failed to process batch 9. Failed with exception: Language `chm` not supported yet.\n",
      "WARN: Failed to process batch 10. Failed with exception: Language `chm` not supported yet.\n",
      "WARN: Failed to process batch 11. Failed with exception: Language `chm` not supported yet.\n",
      "WARN: Failed to process batch 12. Failed with exception: Language `chm` not supported yet.\n",
      "WARN: Failed to process batch 13. Failed with exception: Language `chm` not supported yet.\n",
      "WARN: Failed to process batch 14. Failed with exception: Language `chm` not supported yet.\n",
      "WARN: Failed to process batch 15. Failed with exception: Language `chm` not supported yet.\n",
      "WARN: Failed to process batch 16. Failed with exception: Language `chm` not supported yet.\n",
      "WARN: Failed to process batch 17. Failed with exception: Language `chm` not supported yet.\n",
      "WARN: Failed to process batch 18. Failed with exception: Language `chm` not supported yet.\n",
      "WARN: Failed to process batch 19. Failed with exception: Language `chm` not supported yet.\n",
      "WARN: Failed to process batch 20. Failed with exception: Language `chm` not supported yet.\n",
      "WARN: Failed to process batch 21. Failed with exception: Language `chm` not supported yet.\n",
      "WARN: Failed to process batch 22. Failed with exception: Language `chm` not supported yet.\n",
      "WARN: Failed to process batch 23. Failed with exception: Language `chm` not supported yet.\n",
      "WARN: Failed to process batch 24. Failed with exception: Language `chm` not supported yet.\n",
      "WARN: Failed to process batch 25. Failed with exception: Language `chm` not supported yet.\n",
      "WARN: Failed to process batch 26. Failed with exception: Language `chm` not supported yet.\n",
      "WARN: Failed to process batch 27. Failed with exception: Language `chm` not supported yet.\n",
      "WARN: Failed to process batch 28. Failed with exception: Language `chm` not supported yet.\n",
      "WARN: Failed to process batch 29. Failed with exception: Language `chm` not supported yet.\n",
      "WARN: Failed to process batch 30. Failed with exception: Language `chm` not supported yet.\n",
      "WARN: Failed to process batch 31. Failed with exception: Language `chm` not supported yet.\n",
      "WARN: Failed to process batch 32. Failed with exception: Language `chm` not supported yet.\n",
      "WARN: Failed to process batch 33. Failed with exception: Language `chm` not supported yet.\n",
      "WARN: Failed to process batch 34. Failed with exception: Language `chm` not supported yet.\n",
      "WARN: Failed to process batch 35. Failed with exception: Language `chm` not supported yet.\n",
      "WARN: Failed to process batch 36. Failed with exception: Language `chm` not supported yet.\n",
      "WARN: Failed to process batch 37. Failed with exception: Language `chm` not supported yet.\n",
      "WARN: Failed to process batch 38. Failed with exception: Language `chm` not supported yet.\n",
      "WARN: Failed to process batch 39. Failed with exception: Language `chm` not supported yet.\n",
      "WARN: Failed to process batch 40. Failed with exception: Language `chm` not supported yet.\n",
      "WARN: Failed to process batch 41. Failed with exception: Language `chm` not supported yet.\n",
      "WARN: Failed to process batch 42. Failed with exception: Language `chm` not supported yet.\n",
      "WARN: Failed to process batch 43. Failed with exception: Language `chm` not supported yet.\n",
      "WARN: Failed to process batch 44. Failed with exception: Language `chm` not supported yet.\n",
      "WARN: Failed to process batch 45. Failed with exception: Language `chm` not supported yet.\n",
      "WARN: Failed to process batch 46. Failed with exception: Language `chm` not supported yet.\n",
      "WARN: Failed to process batch 47. Failed with exception: Language `chm` not supported yet.\n",
      "WARN: Failed to process batch 48. Failed with exception: Language `chm` not supported yet.\n",
      "WARN: Failed to process batch 49. Failed with exception: Language `chm` not supported yet.\n",
      "WARN: Failed to process batch 50. Failed with exception: Language `chm` not supported yet.\n",
      "WARN: Failed to process batch 51. Failed with exception: Language `chm` not supported yet.\n",
      "WARN: Failed to process batch 52. Failed with exception: Language `chm` not supported yet.\n",
      "WARN: Failed to process batch 53. Failed with exception: Language `chm` not supported yet.\n",
      "WARN: Failed to process batch 54. Failed with exception: Language `chm` not supported yet.\n",
      "WARN: Failed to process batch 55. Failed with exception: Language `chm` not supported yet.\n",
      "WARN: Failed to process batch 56. Failed with exception: Language `chm` not supported yet.\n",
      "WARN: Failed to process batch 57. Failed with exception: Language `chm` not supported yet.\n",
      "WARN: Failed to process batch 58. Failed with exception: Language `chm` not supported yet.\n",
      "WARN: Failed to process batch 59. Failed with exception: Language `chm` not supported yet.\n",
      "WARN: Failed to process batch 60. Failed with exception: Language `chm` not supported yet.\n",
      "WARN: Failed to process batch 61. Failed with exception: Language `chm` not supported yet.\n",
      "WARN: Failed to process batch 62. Failed with exception: Language `chm` not supported yet.\n",
      "WARN: Failed to process batch 63. Failed with exception: Language `chm` not supported yet.\n",
      "WARN: Failed to process batch 64. Failed with exception: Language `chm` not supported yet.\n",
      "WARN: Failed to process batch 65. Failed with exception: Language `chm` not supported yet.\n",
      "WARN: Failed to process batch 66. Failed with exception: Language `chm` not supported yet.\n",
      "WARN: Failed to process batch 67. Failed with exception: Language `chm` not supported yet.\n",
      "WARN: Failed to process batch 68. Failed with exception: Language `chm` not supported yet.\n",
      "WARN: Failed to process batch 69. Failed with exception: Language `chm` not supported yet.\n",
      "WARN: Failed to process batch 70. Failed with exception: Language `chm` not supported yet.\n",
      "WARN: Failed to process batch 71. Failed with exception: Language `chm` not supported yet.\n",
      "WARN: Failed to process batch 72. Failed with exception: Language `chm` not supported yet.\n",
      "WARN: Failed to process batch 73. Failed with exception: Language `chm` not supported yet.\n",
      "WARN: Failed to process batch 74. Failed with exception: Language `chm` not supported yet.\n",
      "WARN: Failed to process batch 75. Failed with exception: Language `chm` not supported yet.\n",
      "WARN: Failed to process batch 76. Failed with exception: Language `chm` not supported yet.\n",
      "WARN: Failed to process batch 77. Failed with exception: Language `chm` not supported yet.\n",
      "WARN: Failed to process batch 78. Failed with exception: Language `chm` not supported yet.\n",
      "WARN: Failed to process batch 79. Failed with exception: Language `chm` not supported yet.\n",
      "WARN: Failed to process batch 80. Failed with exception: Language `chm` not supported yet.\n",
      "WARN: Failed to process batch 81. Failed with exception: Language `chm` not supported yet.\n",
      "WARN: Failed to process batch 82. Failed with exception: Language `chm` not supported yet.\n",
      "WARN: Failed to process batch 83. Failed with exception: Language `chm` not supported yet.\n",
      "WARN: Failed to process batch 84. Failed with exception: Language `chm` not supported yet.\n",
      "WARN: Failed to process batch 85. Failed with exception: Language `chm` not supported yet.\n",
      "WARN: Failed to process batch 86. Failed with exception: Language `chm` not supported yet.\n",
      "WARN: Failed to process batch 87. Failed with exception: Language `chm` not supported yet.\n",
      "WARN: Failed to process batch 88. Failed with exception: Language `chm` not supported yet.\n",
      "WARN: Failed to process batch 89. Failed with exception: Language `chm` not supported yet.\n",
      "WARN: Failed to process batch 90. Failed with exception: Language `chm` not supported yet.\n",
      "WARN: Failed to process batch 91. Failed with exception: Language `chm` not supported yet.\n",
      "WARN: Failed to process batch 92. Failed with exception: Language `chm` not supported yet.\n",
      "WARN: Failed to process batch 93. Failed with exception: Language `chm` not supported yet.\n",
      "WARN: Failed to process batch 94. Failed with exception: Language `chm` not supported yet.\n",
      "WARN: Failed to process batch 95. Failed with exception: Language `chm` not supported yet.\n",
      "WARN: Failed to process batch 96. Failed with exception: Language `chm` not supported yet.\n",
      "WARN: Failed to process batch 97. Failed with exception: Language `chm` not supported yet.\n",
      "WARN: Failed to process batch 98. Failed with exception: Language `chm` not supported yet.\n",
      "WARN: Failed to process batch 99. Failed with exception: Language `chm` not supported yet.\n",
      "WARN: Failed to process batch 100. Failed with exception: Language `chm` not supported yet.\n",
      "WARN: Failed to process batch 101. Failed with exception: Language `chm` not supported yet.\n",
      "WARN: Failed to process batch 102. Failed with exception: Language `chm` not supported yet.\n",
      "WARN: Failed to process batch 103. Failed with exception: Language `chm` not supported yet.\n",
      "WARN: Failed to process batch 104. Failed with exception: Language `chm` not supported yet.\n",
      "WARN: Failed to process batch 105. Failed with exception: Language `chm` not supported yet.\n",
      "WARN: Failed to process batch 106. Failed with exception: Language `chm` not supported yet.\n",
      "WARN: Failed to process batch 107. Failed with exception: Language `chm` not supported yet.\n",
      "WARN: Failed to process batch 108. Failed with exception: Language `chm` not supported yet.\n",
      "WARN: Failed to process batch 109. Failed with exception: Language `chm` not supported yet.\n",
      "WARN: Failed to process batch 110. Failed with exception: Language `chm` not supported yet.\n",
      "WARN: Failed to process batch 111. Failed with exception: Language `chm` not supported yet.\n",
      "WARN: Failed to process batch 112. Failed with exception: Language `chm` not supported yet.\n",
      "WARN: Failed to process batch 113. Failed with exception: Language `chm` not supported yet.\n",
      "WARN: Failed to process batch 114. Failed with exception: Language `chm` not supported yet.\n",
      "WARN: Failed to process batch 115. Failed with exception: Language `chm` not supported yet.\n",
      "WARN: Failed to process batch 116. Failed with exception: Language `chm` not supported yet.\n",
      "WARN: Failed to process batch 117. Failed with exception: Language `chm` not supported yet.\n",
      "WARN: Failed to process batch 118. Failed with exception: Language `chm` not supported yet.\n",
      "WARN: Failed to process batch 119. Failed with exception: Language `chm` not supported yet.\n",
      "WARN: Failed to process batch 120. Failed with exception: Language `chm` not supported yet.\n",
      "WARN: Failed to process batch 121. Failed with exception: Language `chm` not supported yet.\n",
      "WARN: Failed to process batch 122. Failed with exception: Language `chm` not supported yet.\n",
      "WARN: Failed to process batch 123. Failed with exception: Language `chm` not supported yet.\n",
      "WARN: Failed to process batch 124. Failed with exception: Language `chm` not supported yet.\n"
     ]
    },
    {
     "name": "stderr",
     "output_type": "stream",
     "text": [
      "\n"
     ]
    }
   ],
   "source": [
    "benchmark(model, 'ru-mhr')"
   ]
  },
  {
   "cell_type": "code",
   "execution_count": 17,
   "metadata": {
    "execution": {
     "iopub.execute_input": "2024-11-18T23:07:36.950596Z",
     "iopub.status.busy": "2024-11-18T23:07:36.950172Z",
     "iopub.status.idle": "2024-11-18T23:13:55.713950Z",
     "shell.execute_reply": "2024-11-18T23:13:55.712917Z",
     "shell.execute_reply.started": "2024-11-18T23:07:36.950561Z"
    }
   },
   "outputs": [
    {
     "name": "stderr",
     "output_type": "stream",
     "text": [
      "100%|██████████| 125/125 [06:18<00:00,  3.03s/it]\n"
     ]
    }
   ],
   "source": [
    "benchmark(model, 'mhr-ru')"
   ]
  },
  {
   "cell_type": "code",
   "execution_count": 13,
   "metadata": {
    "execution": {
     "iopub.execute_input": "2024-11-18T22:44:48.911212Z",
     "iopub.status.busy": "2024-11-18T22:44:48.910969Z",
     "iopub.status.idle": "2024-11-18T22:48:55.920339Z",
     "shell.execute_reply": "2024-11-18T22:48:55.919278Z",
     "shell.execute_reply.started": "2024-11-18T22:44:48.911185Z"
    }
   },
   "outputs": [
    {
     "name": "stderr",
     "output_type": "stream",
     "text": [
      "100%|██████████| 125/125 [04:06<00:00,  1.98s/it]\n"
     ]
    }
   ],
   "source": [
    "benchmark(model, 'ru-kaz')"
   ]
  },
  {
   "cell_type": "code",
   "execution_count": 15,
   "metadata": {
    "execution": {
     "iopub.execute_input": "2024-11-18T22:56:48.910736Z",
     "iopub.status.busy": "2024-11-18T22:56:48.910502Z",
     "iopub.status.idle": "2024-11-18T23:01:05.700521Z",
     "shell.execute_reply": "2024-11-18T23:01:05.699674Z",
     "shell.execute_reply.started": "2024-11-18T22:56:48.910700Z"
    }
   },
   "outputs": [
    {
     "name": "stderr",
     "output_type": "stream",
     "text": [
      "100%|██████████| 125/125 [04:16<00:00,  2.05s/it]\n"
     ]
    }
   ],
   "source": [
    "benchmark(model, 'kaz-ru')"
   ]
  },
  {
   "cell_type": "code",
   "execution_count": 14,
   "metadata": {
    "execution": {
     "iopub.execute_input": "2024-11-18T22:48:56.769994Z",
     "iopub.status.busy": "2024-11-18T22:48:56.769712Z",
     "iopub.status.idle": "2024-11-18T22:56:43.957249Z",
     "shell.execute_reply": "2024-11-18T22:56:43.956234Z",
     "shell.execute_reply.started": "2024-11-18T22:48:56.769963Z"
    }
   },
   "outputs": [
    {
     "name": "stderr",
     "output_type": "stream",
     "text": [
      "100%|██████████| 125/125 [07:47<00:00,  3.74s/it]\n"
     ]
    }
   ],
   "source": [
    "benchmark(model, 'ru-tat')"
   ]
  },
  {
   "cell_type": "code",
   "execution_count": 16,
   "metadata": {
    "execution": {
     "iopub.execute_input": "2024-11-18T23:01:09.780451Z",
     "iopub.status.busy": "2024-11-18T23:01:09.780183Z",
     "iopub.status.idle": "2024-11-18T23:05:26.461459Z",
     "shell.execute_reply": "2024-11-18T23:05:26.460377Z",
     "shell.execute_reply.started": "2024-11-18T23:01:09.780421Z"
    }
   },
   "outputs": [
    {
     "name": "stderr",
     "output_type": "stream",
     "text": [
      "100%|██████████| 125/125 [04:16<00:00,  2.05s/it]\n"
     ]
    }
   ],
   "source": [
    "benchmark(model, 'tat-ru')"
   ]
  },
  {
   "cell_type": "code",
   "execution_count": null,
   "metadata": {},
   "outputs": [],
   "source": []
  },
  {
   "cell_type": "code",
   "execution_count": null,
   "metadata": {},
   "outputs": [],
   "source": []
  },
  {
   "cell_type": "code",
   "execution_count": null,
   "metadata": {},
   "outputs": [],
   "source": []
  }
 ],
 "metadata": {
  "kaggle": {
   "accelerator": "none",
   "dataSources": [],
   "dockerImageVersionId": 30787,
   "isGpuEnabled": false,
   "isInternetEnabled": true,
   "language": "python",
   "sourceType": "notebook"
  },
  "kernelspec": {
   "display_name": "Python 3 (ipykernel)",
   "language": "python",
   "name": "python3"
  },
  "language_info": {
   "codemirror_mode": {
    "name": "ipython",
    "version": 3
   },
   "file_extension": ".py",
   "mimetype": "text/x-python",
   "name": "python",
   "nbconvert_exporter": "python",
   "pygments_lexer": "ipython3",
   "version": "3.9.6"
  }
 },
 "nbformat": 4,
 "nbformat_minor": 4
}
