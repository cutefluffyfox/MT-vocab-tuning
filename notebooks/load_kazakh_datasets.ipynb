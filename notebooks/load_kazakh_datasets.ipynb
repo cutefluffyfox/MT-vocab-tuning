{
 "cells": [
  {
   "cell_type": "code",
   "execution_count": 1,
   "id": "51b28b7e",
   "metadata": {},
   "outputs": [],
   "source": [
    "import os\n",
    "import sys\n",
    "\n",
    "# change to upper dir to use all custom libs (won't be needed if run from main scripts)\n",
    "sys.path.insert(1, os.path.join(sys.path[0], '..'))"
   ]
  },
  {
   "cell_type": "code",
   "execution_count": 2,
   "id": "5b5e1088",
   "metadata": {},
   "outputs": [],
   "source": [
    "from scripts.helpers import dataset_manager"
   ]
  },
  {
   "cell_type": "markdown",
   "id": "439b3cc6",
   "metadata": {},
   "source": [
    "### Flores+ (dev)\n",
    "\n",
    "> Size: 997 \\\n",
    "> Direction: ru-kaz \\\n",
    "> Link: https://github.com/openlanguagedata/flores\n"
   ]
  },
  {
   "cell_type": "code",
   "execution_count": 3,
   "id": "f2ced1d3",
   "metadata": {},
   "outputs": [],
   "source": [
    "ds = dataset_manager.FloresDataset('kaz-ru', 'flores-dev')\n",
    "ds.download_from_github('dev', ['kaz_Cyrl', 'rus_Cyrl'])"
   ]
  },
  {
   "cell_type": "markdown",
   "id": "5915a9fc",
   "metadata": {},
   "source": [
    "### Flores+ (devtest)\n",
    "\n",
    "> Size: 1012 \\\n",
    "> Direction: ru-kaz \\\n",
    "> Link: https://github.com/openlanguagedata/flores\n"
   ]
  },
  {
   "cell_type": "code",
   "execution_count": 4,
   "id": "76b79f14",
   "metadata": {},
   "outputs": [],
   "source": [
    "ds = dataset_manager.FloresDataset('kaz-ru', 'flores-devtest')\n",
    "ds.download_from_github('devtest', ['kaz_Cyrl', 'rus_Cyrl'])"
   ]
  },
  {
   "cell_type": "markdown",
   "id": "5d9b1289",
   "metadata": {},
   "source": [
    "### ISSAI - kazparc \n",
    "\n",
    "> Size: 372_164 \\\n",
    "> Direction: kaz-ru \\\n",
    "> Link: https://huggingface.co/datasets/issai/kazparc\n",
    "\n",
    "**<span style=\"color:red\">This dataset is NON-PUBLIC. Authorize via `huggingface-cli login` first</span>**."
   ]
  },
  {
   "cell_type": "code",
   "execution_count": 5,
   "id": "0c8863fe",
   "metadata": {},
   "outputs": [],
   "source": [
    "ds = dataset_manager.HFDataset('kaz-ru', 'issai.kazparc-372k')\n",
    "ds.download_csv('hf://datasets/issai/kazparc/kazparc/01_kazparc_all_entries.csv')"
   ]
  },
  {
   "cell_type": "markdown",
   "id": "30483edf",
   "metadata": {},
   "source": [
    "### Nothingger - kaz-rus-eng literature parallel corpus \n",
    "\n",
    "> Size: 71_096 \\\n",
    "> Direction: kaz-ru \\\n",
    "> Link: https://huggingface.co/datasets/Nothingger/kaz-rus-eng-literature-parallel-corpus"
   ]
  },
  {
   "cell_type": "code",
   "execution_count": 6,
   "id": "b9e7c0eb",
   "metadata": {},
   "outputs": [],
   "source": [
    "ds = dataset_manager.HFDataset('kaz-ru', 'literature-parallel-71k')\n",
    "ds.download_parquet('hf://datasets/Nothingger/kaz-rus-eng-literature-parallel-corpus/data/train-00000-of-00001.parquet')"
   ]
  },
  {
   "cell_type": "markdown",
   "id": "4b92cd0f",
   "metadata": {},
   "source": [
    "###  Dauren-Nur - kaz_rus parallel corpora KAZNU\n",
    "\n",
    "> Size: 86_453 \\\n",
    "> Direction: kaz-ru \\\n",
    "> Link: https://huggingface.co/datasets/Dauren-Nur/kaz_rus_parallel_corpora_KAZNU"
   ]
  },
  {
   "cell_type": "code",
   "execution_count": 7,
   "id": "53661682",
   "metadata": {},
   "outputs": [],
   "source": [
    "splits = {'split1': 'data/train-00000-of-00001.parquet', 'split2': 'data/test-00000-of-00001.parquet'}\n",
    "\n",
    "for split in splits:\n",
    "    ds = dataset_manager.HFDataset('kaz-ru', f'KAZNU-{split}-86k')\n",
    "    ds.download_parquet(\"hf://datasets/Dauren-Nur/kaz_rus_parallel_corpora_KAZNU/\" + splits[split])"
   ]
  },
  {
   "cell_type": "markdown",
   "id": "81fb9778",
   "metadata": {},
   "source": [
    "###  nlp-team-issai - parallel kk-en-ru wiki\n",
    "\n",
    "> Size: 225_631 \\\n",
    "> Direction: kaz-ru \\\n",
    "> Link: https://huggingface.co/datasets/nlp-team-issai/part_data_kk_wiki_en_ru_kk"
   ]
  },
  {
   "cell_type": "code",
   "execution_count": 8,
   "id": "61621271",
   "metadata": {},
   "outputs": [],
   "source": [
    "tables = ['ru', 'kk']\n",
    "\n",
    "for lang in tables:\n",
    "    ds = dataset_manager.HFDataset('kaz-ru', f'parallel-wiki-{lang}-225k')\n",
    "    ds.download_datasets('nlp-team-issai/part_data_kk_wiki_en_ru_kk', table=lang)"
   ]
  },
  {
   "cell_type": "markdown",
   "id": "62f5faaa",
   "metadata": {},
   "source": [
    "###  kz-transformers - multidomain kazakh dataset\n",
    "\n",
    "> Size: 15_500_000 \\\n",
    "> Direction: kaz \\\n",
    "> Link: https://huggingface.co/datasets/kz-transformers/multidomain-kazakh-dataset"
   ]
  },
  {
   "cell_type": "code",
   "execution_count": 9,
   "id": "4fb937d4",
   "metadata": {},
   "outputs": [],
   "source": [
    "ds = dataset_manager.HFDataset('kaz', f'multidomain-15.5m')\n",
    "ds.download_datasets('kz-transformers/multidomain-kazakh-dataset', table='train')"
   ]
  },
  {
   "cell_type": "code",
   "execution_count": null,
   "id": "755e0ad3",
   "metadata": {},
   "outputs": [],
   "source": []
  },
  {
   "cell_type": "code",
   "execution_count": null,
   "id": "a63cc80a",
   "metadata": {},
   "outputs": [],
   "source": []
  },
  {
   "cell_type": "code",
   "execution_count": null,
   "id": "2a1f0e30",
   "metadata": {},
   "outputs": [],
   "source": []
  }
 ],
 "metadata": {
  "kernelspec": {
   "display_name": "Python 3 (ipykernel)",
   "language": "python",
   "name": "python3"
  },
  "language_info": {
   "codemirror_mode": {
    "name": "ipython",
    "version": 3
   },
   "file_extension": ".py",
   "mimetype": "text/x-python",
   "name": "python",
   "nbconvert_exporter": "python",
   "pygments_lexer": "ipython3",
   "version": "3.9.6"
  }
 },
 "nbformat": 4,
 "nbformat_minor": 5
}
